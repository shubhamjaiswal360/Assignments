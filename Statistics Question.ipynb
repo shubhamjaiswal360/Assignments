{
 "cells": [
  {
   "cell_type": "markdown",
   "id": "bc5e98e0-a26d-4281-a370-837f70fbb7d4",
   "metadata": {},
   "source": [
    "###  `Import Necessary Library`"
   ]
  },
  {
   "cell_type": "code",
   "execution_count": 100,
   "id": "d39a4c6e-bd75-472c-b188-844504852f9d",
   "metadata": {},
   "outputs": [],
   "source": [
    "import numpy as np\n",
    "import pandas as pd\n",
    "import scipy as stats\n",
    "import statistics\n",
    "import matplotlib.pyplot as plt\n",
    "import seaborn as sns\n",
    "import warnings\n",
    "warnings.filterwarnings(\"ignore\")"
   ]
  },
  {
   "cell_type": "markdown",
   "id": "7206787e-36fe-444f-9dc7-d68c5f697242",
   "metadata": {},
   "source": [
    "### `Q1 = Generate a list of 100 integers containing values between 90 to 130 and store it in the variable `int_list`. A>ter generating the list, >ind the >ollowing`:\n",
    "\n",
    "  \n",
    "\n",
    "  (i) Write a Python function to calculate the mean of a given list of numbers.\n",
    "\n",
    "Create a function to find the median of a list of numbers.\n",
    "\n",
    "  \n",
    "\n",
    "  (ii) Develop a program to compute the mode of a list of integers.\n",
    "\n",
    "  \n",
    "\n",
    "  (iii) Implement a function to calculate the weighted mean of a list of values and their corresponding weights.\n",
    "\n",
    "  \n",
    "\n",
    "  (iv) Write a Python function to find the geometric mean of a list of positive numbers.\n",
    "\n",
    "  \n",
    "\n",
    "  (v) Create a program to calculate the harmonic mean of a list of values.\n",
    "\n",
    "  \n",
    "\n",
    "  (vi) Build a function to determine the midrange of a list of numbers (average of the minimum and maximum).\n",
    "\n",
    "  \n",
    "\n",
    "  (vii) Implement a Python program to find the trimmed mean of a list, excluding a certain percentage of \n",
    "outliers"
   ]
  },
  {
   "cell_type": "code",
   "execution_count": 101,
   "id": "e85923d6-e2b4-478a-9472-283e23e8b4d4",
   "metadata": {},
   "outputs": [
    {
     "data": {
      "text/plain": [
       "array([125, 101, 118, 124,  90,  90, 126,  95, 128, 107, 105,  94, 121,\n",
       "        91,  91, 129, 125, 128, 101, 108, 117,  90, 104, 125, 102, 110,\n",
       "       101,  94,  96,  94,  93, 102, 126, 104, 105, 110, 125, 113, 105,\n",
       "       103, 111,  95, 125,  90, 121,  95, 120,  90, 126, 124, 119,  93,\n",
       "       124, 103, 129, 111,  99,  90, 100, 113,  92, 124, 125, 120,  93,\n",
       "       108, 125, 110, 107, 117, 104,  91, 126, 100, 112, 101,  92, 106,\n",
       "       122,  90, 128, 109, 103, 120, 114,  92,  93, 120, 124, 103,  98,\n",
       "       109, 121,  98, 116,  92,  93, 104, 122,  94])"
      ]
     },
     "execution_count": 101,
     "metadata": {},
     "output_type": "execute_result"
    }
   ],
   "source": [
    "int_list =np.random.randint(90,130,100)\n",
    "int_list"
   ]
  },
  {
   "cell_type": "markdown",
   "id": "3435912e-c19b-4ea4-9e6d-6188cc9b32da",
   "metadata": {
    "tags": []
   },
   "source": [
    "#### (i) `Write a Python function to calculate the mean of a given list of numbers.Create a function to find the median of a list of numbers.`"
   ]
  },
  {
   "cell_type": "code",
   "execution_count": 102,
   "id": "4b1ffcde-9112-4135-a10e-e16c298d3b31",
   "metadata": {},
   "outputs": [
    {
     "data": {
      "text/plain": [
       "108.12"
      ]
     },
     "execution_count": 102,
     "metadata": {},
     "output_type": "execute_result"
    }
   ],
   "source": [
    "#Mean of Given List\n",
    "int_list_mean =np.mean(int_list)\n",
    "int_list_mean"
   ]
  },
  {
   "cell_type": "code",
   "execution_count": 103,
   "id": "ba812a5c-e9cc-41fe-92ce-ffe707c028de",
   "metadata": {},
   "outputs": [
    {
     "data": {
      "text/plain": [
       "106.5"
      ]
     },
     "execution_count": 103,
     "metadata": {},
     "output_type": "execute_result"
    }
   ],
   "source": [
    "#Median Of given list\n",
    "int_list_median =np.median(int_list)\n",
    "int_list_median"
   ]
  },
  {
   "cell_type": "markdown",
   "id": "d2c99565-9e66-407f-9920-03e5402033a5",
   "metadata": {},
   "source": [
    "#### (ii) `Develop a program to compute the mode of a list of integers.`"
   ]
  },
  {
   "cell_type": "code",
   "execution_count": 104,
   "id": "601e958d-b511-4e70-bc7a-402401edbf7f",
   "metadata": {},
   "outputs": [
    {
     "data": {
      "text/plain": [
       "125"
      ]
     },
     "execution_count": 104,
     "metadata": {},
     "output_type": "execute_result"
    }
   ],
   "source": [
    "int_list_mode =statistics.mode(int_list)\n",
    "int_list_mode"
   ]
  },
  {
   "cell_type": "markdown",
   "id": "da1a80da-977e-4cf1-8878-e7da88b53024",
   "metadata": {},
   "source": [
    "#### (iii) `Implement a function to calculate the weighted mean of a list of values and their corresponding weights.`"
   ]
  },
  {
   "cell_type": "code",
   "execution_count": 105,
   "id": "04f6cd03-6e77-49c2-aae8-f51d29ef7278",
   "metadata": {},
   "outputs": [
    {
     "data": {
      "text/plain": [
       "array([125, 101, 118, 124,  90,  90, 126,  95, 128, 107, 105,  94, 121,\n",
       "        91,  91, 129, 125, 128, 101, 108, 117,  90, 104, 125, 102, 110,\n",
       "       101,  94,  96,  94,  93, 102, 126, 104, 105, 110, 125, 113, 105,\n",
       "       103, 111,  95, 125,  90, 121,  95, 120,  90, 126, 124, 119,  93,\n",
       "       124, 103, 129, 111,  99,  90, 100, 113,  92, 124, 125, 120,  93,\n",
       "       108, 125, 110, 107, 117, 104,  91, 126, 100, 112, 101,  92, 106,\n",
       "       122,  90, 128, 109, 103, 120, 114,  92,  93, 120, 124, 103,  98,\n",
       "       109, 121,  98, 116,  92,  93, 104, 122,  94])"
      ]
     },
     "execution_count": 105,
     "metadata": {},
     "output_type": "execute_result"
    }
   ],
   "source": [
    "int_list"
   ]
  },
  {
   "cell_type": "code",
   "execution_count": 106,
   "id": "7205daf0-8ec3-4583-b60f-e261b4e945c6",
   "metadata": {},
   "outputs": [],
   "source": [
    "weight_values =np.arange(1,100+1)"
   ]
  },
  {
   "cell_type": "code",
   "execution_count": 107,
   "id": "7eff3633-8274-4e20-a5ed-4812d483ac34",
   "metadata": {},
   "outputs": [
    {
     "data": {
      "text/plain": [
       "107.82811881188118"
      ]
     },
     "execution_count": 107,
     "metadata": {},
     "output_type": "execute_result"
    }
   ],
   "source": [
    "# Calculated weighted mean \n",
    "weighted_mean =np.average(int_list ,weights=weight_values)\n",
    "weighted_mean"
   ]
  },
  {
   "cell_type": "markdown",
   "id": "68ee3ac9-c189-42d9-b45c-8a28a4f0da6d",
   "metadata": {},
   "source": [
    "#### avg =sum(a *weight)/sum(weight)"
   ]
  },
  {
   "cell_type": "code",
   "execution_count": 108,
   "id": "4415ab13-d4c5-4cac-b4a9-9a0896de2a13",
   "metadata": {},
   "outputs": [
    {
     "data": {
      "text/plain": [
       "107.82811881188118"
      ]
     },
     "execution_count": 108,
     "metadata": {},
     "output_type": "execute_result"
    }
   ],
   "source": [
    "Weighted_mean_value =sum(int_list*weight_values)/sum(weight_values)\n",
    "Weighted_mean_value"
   ]
  },
  {
   "cell_type": "markdown",
   "id": "c192e2ec-2c86-4776-bc71-37da4cbc442d",
   "metadata": {},
   "source": [
    "#### (iv) `Write a Python function to find the geometric mean of a list of positive numbers.`"
   ]
  },
  {
   "cell_type": "code",
   "execution_count": 109,
   "id": "d79382b8-7cb2-4f3d-835d-3ec153db42c6",
   "metadata": {},
   "outputs": [
    {
     "data": {
      "text/plain": [
       "1.0973345677541964"
      ]
     },
     "execution_count": 109,
     "metadata": {},
     "output_type": "execute_result"
    }
   ],
   "source": [
    "# Geometric mean = (x1 * x2 * x3 * . . . * xn)1/n \n",
    "\n",
    "geometric_mean =sum(int_list)**(1/len(int_list))\n",
    "geometric_mean"
   ]
  },
  {
   "cell_type": "code",
   "execution_count": 110,
   "id": "830797a1-6b91-4bd9-b8d0-997a76dfee98",
   "metadata": {},
   "outputs": [
    {
     "data": {
      "text/plain": [
       "107.3659861998952"
      ]
     },
     "execution_count": 110,
     "metadata": {},
     "output_type": "execute_result"
    }
   ],
   "source": [
    "from statistics import geometric_mean\n",
    "geometric_mean(int_list)"
   ]
  },
  {
   "cell_type": "code",
   "execution_count": 111,
   "id": "6432e89e-5936-4da0-8545-dee7b6e8595e",
   "metadata": {},
   "outputs": [
    {
     "name": "stdout",
     "output_type": "stream",
     "text": [
      "107.3659861998952\n"
     ]
    }
   ],
   "source": [
    "from scipy import stats\n",
    "print(stats.gmean(int_list))"
   ]
  },
  {
   "cell_type": "markdown",
   "id": "e670806b-189e-4907-a553-d4ae92b78117",
   "metadata": {
    "tags": []
   },
   "source": [
    "#### (v) `Create a program to calculate the harmonic mean of a list of values`"
   ]
  },
  {
   "cell_type": "code",
   "execution_count": 112,
   "id": "29e61cc5-c96e-420a-b965-eaad5eedac29",
   "metadata": {},
   "outputs": [],
   "source": [
    "# Formula = n / (1/a +1/b +1/c +....1/c)"
   ]
  },
  {
   "cell_type": "code",
   "execution_count": 113,
   "id": "f0b93607-7387-4bda-8051-49c0a5676c63",
   "metadata": {},
   "outputs": [
    {
     "data": {
      "text/plain": [
       "106.61775720541134"
      ]
     },
     "execution_count": 113,
     "metadata": {},
     "output_type": "execute_result"
    }
   ],
   "source": [
    "import statistics\n",
    "harmonic_mean =statistics.harmonic_mean(int_list)\n",
    "harmonic_mean"
   ]
  },
  {
   "cell_type": "markdown",
   "id": "cec69915-f26c-4c52-9e4d-d7cd204ba229",
   "metadata": {},
   "source": [
    "#### (vi)` Build a function to determine the midrange of a list of numbers (average of the minimum and maximum).`"
   ]
  },
  {
   "cell_type": "code",
   "execution_count": 114,
   "id": "52250417-eab1-4f8e-8d90-093df44a6eb2",
   "metadata": {},
   "outputs": [
    {
     "name": "stdout",
     "output_type": "stream",
     "text": [
      "109.5\n"
     ]
    }
   ],
   "source": [
    "def MinMax_value(lst):\n",
    "    # Find min and max values \n",
    "    min_value =min(lst)\n",
    "    max_value =max(lst)\n",
    "    avarage =(min_value +max_value)/2\n",
    "    \n",
    "    return avarage\n",
    "\n",
    "print(MinMax_value(int_list))"
   ]
  },
  {
   "cell_type": "markdown",
   "id": "1ad7f4a7-4e29-4efb-9a53-f8ad55d5a806",
   "metadata": {},
   "source": [
    "#### (vii) `Implement a Python program to find the trimmed mean of a list, excluding a certain percentage of outliers`"
   ]
  },
  {
   "cell_type": "code",
   "execution_count": 115,
   "id": "1010edfe-e0ae-4a03-8c74-bd0599f897ba",
   "metadata": {},
   "outputs": [
    {
     "data": {
      "text/plain": [
       "107.975"
      ]
     },
     "execution_count": 115,
     "metadata": {},
     "output_type": "execute_result"
    }
   ],
   "source": [
    "from scipy import stats\n",
    "\n",
    "trim_mean =stats.trim_mean(int_list,proportiontocut=0.1)\n",
    "trim_mean"
   ]
  },
  {
   "cell_type": "markdown",
   "id": "c2ce3cfe-fbc3-4706-b6ce-9750f5e02da0",
   "metadata": {},
   "source": [
    "### `Q2. Generate a list of 500 integers containing values between 200 to 300 and store it in the variable `int_list2`. After generating the list, find the following:`"
   ]
  },
  {
   "cell_type": "code",
   "execution_count": 116,
   "id": "9f0f32ed-da72-4177-a7be-b471838509a1",
   "metadata": {},
   "outputs": [
    {
     "data": {
      "text/plain": [
       "array([267, 211, 286, 277, 275, 256, 216, 224, 229, 221, 225, 280, 260,\n",
       "       261, 283, 233, 232, 270, 285, 231, 213, 271, 256, 224, 279, 241,\n",
       "       218, 240, 254, 279, 211, 238, 293, 201, 295, 244, 288, 224, 267,\n",
       "       282, 203, 276, 235, 286, 261, 269, 287, 243, 232, 211, 284, 210,\n",
       "       254, 237, 228, 202, 227, 283, 289, 223, 253, 251, 246, 220, 253,\n",
       "       229, 267, 235, 239, 209, 273, 241, 223, 203, 246, 290, 250, 203,\n",
       "       231, 209, 210, 227, 245, 271, 239, 261, 285, 297, 244, 234, 234,\n",
       "       288, 233, 205, 236, 200, 275, 234, 269, 253, 280, 262, 208, 261,\n",
       "       201, 281, 235, 291, 240, 236, 248, 225, 267, 235, 230, 229, 233,\n",
       "       218, 217, 293, 284, 202, 269, 212, 244, 266, 291, 285, 239, 239,\n",
       "       275, 222, 230, 217, 270, 271, 218, 292, 243, 283, 249, 241, 293,\n",
       "       246, 221, 273, 289, 296, 291, 273, 228, 281, 258, 200, 286, 263,\n",
       "       216, 236, 294, 224, 263, 267, 251, 208, 256, 291, 293, 287, 232,\n",
       "       219, 272, 271, 287, 213, 258, 281, 255, 264, 275, 292, 236, 225,\n",
       "       232, 242, 214, 286, 228, 220, 282, 268, 222, 299, 283, 207, 272,\n",
       "       261, 213, 205, 200, 208, 279, 279, 253, 211, 204, 239, 292, 245,\n",
       "       226, 274, 252, 249, 291, 251, 299, 218, 234, 251, 230, 253, 258,\n",
       "       243, 255, 218, 245, 287, 265, 270, 253, 248, 294, 259, 280, 226,\n",
       "       235, 258, 249, 273, 244, 213, 270, 238, 239, 208, 213, 207, 280,\n",
       "       222, 279, 289, 208, 299, 206, 281, 271, 284, 289, 266, 260, 216,\n",
       "       256, 223, 224, 204, 249, 287, 230, 254, 225, 220, 297, 257, 223,\n",
       "       227, 229, 233, 253, 251, 286, 207, 209, 254, 200, 283, 236, 281,\n",
       "       220, 203, 242, 265, 220, 236, 268, 280, 247, 210, 294, 291, 243,\n",
       "       263, 231, 220, 270, 209, 260, 291, 235, 283, 276, 218, 274, 298,\n",
       "       297, 243, 203, 212, 258, 201, 200, 239, 224, 258, 236, 299, 269,\n",
       "       206, 203, 298, 240, 260, 233, 228, 268, 226, 296, 251, 273, 253,\n",
       "       269, 233, 207, 294, 272, 284, 207, 267, 285, 291, 267, 284, 271,\n",
       "       283, 295, 200, 205, 291, 230, 273, 283, 207, 221, 292, 208, 243,\n",
       "       246, 200, 251, 238, 289, 274, 298, 287, 296, 283, 226, 278, 232,\n",
       "       270, 297, 244, 259, 257, 250, 245, 204, 257, 293, 291, 217, 235,\n",
       "       266, 220, 245, 257, 279, 236, 262, 204, 277, 230, 287, 298, 235,\n",
       "       273, 290, 255, 226, 222, 276, 279, 298, 290, 251, 246, 280, 261,\n",
       "       260, 247, 200, 210, 275, 213, 271, 294, 206, 245, 230, 215, 241,\n",
       "       238, 253, 243, 282, 207, 292, 265, 241, 266, 292, 278, 291, 231,\n",
       "       293, 250, 246, 293, 233, 212, 296, 280, 266, 272, 210, 290, 227,\n",
       "       256, 265, 264, 269, 288, 234, 279, 203, 260, 237, 243, 283, 288,\n",
       "       270, 220, 206, 228, 206, 266, 292, 292, 269, 273, 254, 277, 221,\n",
       "       231, 281, 235, 208, 225, 221, 245, 286, 216, 225, 237, 201, 205,\n",
       "       270, 212, 290, 274, 254, 278])"
      ]
     },
     "execution_count": 116,
     "metadata": {},
     "output_type": "execute_result"
    }
   ],
   "source": [
    "int_list2 =np.random.randint(200,300,size=500)\n",
    "int_list2"
   ]
  },
  {
   "cell_type": "markdown",
   "id": "c2870e4a-beac-4f1b-82c1-329af2e2fec5",
   "metadata": {},
   "source": [
    "#### `(i) Compare the given list of visualization for the given data:`\n",
    "\n",
    "    \n",
    "\n",
    "    1. Frequency & Gaussian distribution\n",
    "\n",
    "    2. Frequency smoothened KDE plot\n",
    "\n",
    "    3. Gaussian distribution & smoothened KDE plot"
   ]
  },
  {
   "cell_type": "markdown",
   "id": "0f57ec80-7c8b-4061-be41-321abb0ed5e9",
   "metadata": {},
   "source": [
    "#### `1. Frequency & Gaussian distribution`"
   ]
  },
  {
   "cell_type": "code",
   "execution_count": 117,
   "id": "b80e9991-b644-4c65-b60b-e0bf63e034d8",
   "metadata": {},
   "outputs": [],
   "source": [
    "mean_list =statistics.mean(int_list2)\n",
    "std_dev =statistics.stdev(int_list2)\n",
    "\n",
    "\n",
    "g =np.random.normal(mean_list ,std_dev ,size=1000)"
   ]
  },
  {
   "cell_type": "code",
   "execution_count": 118,
   "id": "1abe0f9e-014b-4121-8dbe-c120336b71c1",
   "metadata": {},
   "outputs": [
    {
     "data": {
      "image/png": "[encoded data removed]",
      "text/plain": [
       "<Figure size 640x480 with 1 Axes>"
      ]
     },
     "metadata": {},
     "output_type": "display_data"
    }
   ],
   "source": [
    "sns.histplot(g,stat=\"frequency\",kde=True)\n",
    "plt.show()"
   ]
  },
  {
   "cell_type": "markdown",
   "id": "47ae569a-aea5-4495-84e1-aefffe4074d9",
   "metadata": {},
   "source": [
    "#### `2. Frequency smoothened KDE plot`"
   ]
  },
  {
   "cell_type": "code",
   "execution_count": 119,
   "id": "f115ee05-fc4b-475c-8ce9-734ff760f381",
   "metadata": {},
   "outputs": [
    {
     "data": {
      "image/png": "[encoded data removed]",
      "text/plain": [
       "<Figure size 640x480 with 1 Axes>"
      ]
     },
     "metadata": {},
     "output_type": "display_data"
    }
   ],
   "source": [
    "sns.kdeplot(int_list2)\n",
    "plt.show()"
   ]
  },
  {
   "cell_type": "markdown",
   "id": "afa8e767-9835-4dda-bb99-d5db6d9eb738",
   "metadata": {},
   "source": [
    "#### `3. Gaussian distribution & smoothened KDE plot`"
   ]
  },
  {
   "cell_type": "code",
   "execution_count": 120,
   "id": "1ea3067b-28fa-41f2-929c-0a62e3ac775f",
   "metadata": {},
   "outputs": [
    {
     "data": {
      "image/png": "[encoded data removed]",
      "text/plain": [
       "<Figure size 640x480 with 1 Axes>"
      ]
     },
     "metadata": {},
     "output_type": "display_data"
    }
   ],
   "source": [
    "sns.kdeplot(g)\n",
    "plt.show()"
   ]
  },
  {
   "cell_type": "markdown",
   "id": "707b49ba-efeb-46f1-8ccd-72de7886d589",
   "metadata": {},
   "source": [
    "#### `(ii) Write a Python function to calculate the range of a given list of numbers.`"
   ]
  },
  {
   "cell_type": "code",
   "execution_count": 121,
   "id": "5e7cd5f6-8bae-4c31-8cab-422f736c3a1b",
   "metadata": {},
   "outputs": [
    {
     "name": "stdout",
     "output_type": "stream",
     "text": [
      "99\n"
     ]
    }
   ],
   "source": [
    "def RangeOfList(n):\n",
    "    max_list =max(n)\n",
    "    min_list =min(n)\n",
    "    \n",
    "    rangelist =(max_list -min_list)\n",
    "    return rangelist\n",
    "\n",
    "print(RangeOfList(int_list2))"
   ]
  },
  {
   "cell_type": "markdown",
   "id": "478fe2d0-9210-4d3a-9149-b20f47d21285",
   "metadata": {},
   "source": [
    "#### `(iii) Create a program to find the variance and standard deviation of a list of numbers`"
   ]
  },
  {
   "cell_type": "code",
   "execution_count": 122,
   "id": "5b2fd371-71d7-4fc0-b796-9f3812b92d5f",
   "metadata": {},
   "outputs": [
    {
     "data": {
      "text/plain": [
       "842"
      ]
     },
     "execution_count": 122,
     "metadata": {},
     "output_type": "execute_result"
    }
   ],
   "source": [
    "# Variance \n",
    "import statistics\n",
    "variance =statistics.variance(int_list2)\n",
    "variance"
   ]
  },
  {
   "cell_type": "code",
   "execution_count": 123,
   "id": "cbc27002-6ca0-47fd-a96d-cbc2c741cbf9",
   "metadata": {},
   "outputs": [
    {
     "data": {
      "text/plain": [
       "29.017236257093817"
      ]
     },
     "execution_count": 123,
     "metadata": {},
     "output_type": "execute_result"
    }
   ],
   "source": [
    "# standard deviation\n",
    "std_dev =statistics.stdev(int_list2)\n",
    "std_dev"
   ]
  },
  {
   "cell_type": "markdown",
   "id": "436e85fd-94b3-4042-94ab-6aa579b2ebe6",
   "metadata": {},
   "source": [
    "#### `(iv) Implement a function to compute the interquartile range (IQR) of a list of values`"
   ]
  },
  {
   "cell_type": "code",
   "execution_count": 124,
   "id": "403e0d0d-df48-4021-9dc5-3be1fb20be91",
   "metadata": {},
   "outputs": [
    {
     "name": "stdout",
     "output_type": "stream",
     "text": [
      "226.75  ,  277.0\n"
     ]
    }
   ],
   "source": [
    "q1 = np.percentile(int_list2,25)\n",
    "q3 =np.percentile(int_list2,75)\n",
    "print(q1,\" , \",q3)"
   ]
  },
  {
   "cell_type": "code",
   "execution_count": 125,
   "id": "74d66251-8444-44a0-832b-9db0fe76ae5d",
   "metadata": {},
   "outputs": [
    {
     "data": {
      "text/plain": [
       "50.25"
      ]
     },
     "execution_count": 125,
     "metadata": {},
     "output_type": "execute_result"
    }
   ],
   "source": [
    "IQR = q3-q1\n",
    "IQR"
   ]
  },
  {
   "cell_type": "markdown",
   "id": "258fa370-5cfa-4a04-8195-022237800e5d",
   "metadata": {},
   "source": [
    "#### `(v) Build a program to calculate the coefficient of variation for a dataset`"
   ]
  },
  {
   "cell_type": "code",
   "execution_count": 126,
   "id": "61e85ad3-d796-4a3c-bc04-240ff5eb86cd",
   "metadata": {},
   "outputs": [
    {
     "name": "stdout",
     "output_type": "stream",
     "text": [
      "11.562725113736914\n"
     ]
    }
   ],
   "source": [
    "def CoeffVar(n):\n",
    "    \n",
    "    mean =np.mean(n)\n",
    "    std_dev =np.std(n)\n",
    "    \n",
    "    coeficient_ofVaritions = std_dev /mean*100\n",
    "    return coeficient_ofVaritions\n",
    "\n",
    "print(CoeffVar(int_list2))"
   ]
  },
  {
   "cell_type": "markdown",
   "id": "16be7c94-dffc-4b7b-a487-95189a354c39",
   "metadata": {},
   "source": [
    "#### `(vi) Write a Python function to find the mean absolute deviation (MAD) of a list of numbers`"
   ]
  },
  {
   "cell_type": "code",
   "execution_count": 127,
   "id": "739b3444-5afe-4678-9b29-ead29c49ff9d",
   "metadata": {},
   "outputs": [],
   "source": [
    "Mean_absolute_dev =pd.DataFrame(int_list2)"
   ]
  },
  {
   "cell_type": "code",
   "execution_count": 128,
   "id": "fa840b36-fe62-477d-877e-8dd87b5f8e7e",
   "metadata": {},
   "outputs": [
    {
     "data": {
      "text/plain": [
       "0    25.26244\n",
       "dtype: float64"
      ]
     },
     "execution_count": 128,
     "metadata": {},
     "output_type": "execute_result"
    }
   ],
   "source": [
    "Mean_absolute_dev.mad()"
   ]
  },
  {
   "cell_type": "markdown",
   "id": "ecce8059-0e8c-4c54-a64a-2ff3d4949b03",
   "metadata": {},
   "source": [
    "#### `(vii) Create a program to calculate the quartile deviation of a list of values.`"
   ]
  },
  {
   "cell_type": "code",
   "execution_count": 129,
   "id": "8544b4f4-2112-4430-8f96-f298b5286d28",
   "metadata": {},
   "outputs": [
    {
     "data": {
      "text/plain": [
       "25.125"
      ]
     },
     "execution_count": 129,
     "metadata": {},
     "output_type": "execute_result"
    }
   ],
   "source": [
    "def Quartile_dev(value):\n",
    "    value.sort()\n",
    "    \n",
    "    q1 =np.percentile(value ,25)\n",
    "    q3 =np.percentile(value ,75)\n",
    "    \n",
    "    qd =(q3-q1)/2\n",
    "    \n",
    "    return qd\n",
    "\n",
    "Quartile_dev(int_list2)"
   ]
  },
  {
   "cell_type": "markdown",
   "id": "bfd03eb6-723f-4586-8f76-38d49831b442",
   "metadata": {},
   "source": [
    "#### `(viii) Implement a function to find the range-based coefficient of dispersion for a dataset`"
   ]
  },
  {
   "cell_type": "code",
   "execution_count": 130,
   "id": "25695a58-6ba8-456b-8277-e84f6d2fcfc5",
   "metadata": {},
   "outputs": [
    {
     "data": {
      "text/plain": [
       "0.3947714711816826"
      ]
     },
     "execution_count": 130,
     "metadata": {},
     "output_type": "execute_result"
    }
   ],
   "source": [
    "def coefficient_of_dispersion(data):\n",
    "    if len(data) == 0:\n",
    "        raise ValueError(\"Dataset is empty\")\n",
    "\n",
    "    range_value = max(data) - min(data)\n",
    "    mean_value = sum(data) / len(data)\n",
    "\n",
    "    return range_value / mean_value\n",
    "\n",
    "coefficient_of_dispersion(int_list2)"
   ]
  },
  {
   "cell_type": "markdown",
   "id": "479b1f62-7aa7-4525-a0e4-54cee83cb1e2",
   "metadata": {},
   "source": [
    "### `Q3  Write a Python class representing a discrete random variable with methods to calculate its expected value and variance.`"
   ]
  },
  {
   "cell_type": "code",
   "execution_count": 131,
   "id": "5286ce86-02b2-4675-b7b6-ed3e47cac44b",
   "metadata": {},
   "outputs": [],
   "source": [
    "class DiscreateRandomVariable :\n",
    "    \n",
    "    def __init__(self,outcomes,probabilities):\n",
    "        self.outcomes =outcomes\n",
    "        self.probabilities =probabilities\n",
    "        if(len(outcomes) != len(probabilities)):\n",
    "            print(\"No of outcomes and probabilties are not equal\")\n",
    "            \n",
    "    def Expected_value(self):\n",
    "        return sum(outcome * prob for outcome,prob in zip(self.outcomes ,self.probabilities))\n",
    "    \n",
    "    def Variance(self):\n",
    "        Expected_value =self.Expected_value()\n",
    "        return sum(prob *(outcome -Expected_value)**2 for outcome ,prob in zip(self.outcomes,self.probabilities))"
   ]
  },
  {
   "cell_type": "code",
   "execution_count": 132,
   "id": "36521428-e944-4902-9641-d076ba587a47",
   "metadata": {},
   "outputs": [
    {
     "name": "stdout",
     "output_type": "stream",
     "text": [
      "Expected Values is==> 3.0\n",
      "Variance is ==> 2.0\n"
     ]
    }
   ],
   "source": [
    "outcomes =[1,2,3,4,5]\n",
    "probabilities =[1/5,1/5,1/5,1/5,1/5]\n",
    "\n",
    "RandomVar =DiscreateRandomVariable(outcomes,probabilities)\n",
    "\n",
    "print(\"Expected Values is==>\",RandomVar.Expected_value())\n",
    "print(\"Variance is ==>\",RandomVar.Variance())"
   ]
  },
  {
   "cell_type": "markdown",
   "id": "839e61a0-8632-4a54-b2bd-337b4a3a41d3",
   "metadata": {},
   "source": [
    "### `Q4. Implement a program to simulate the rolling of a fair six-sided die and calculate the expected value and variance o6 the outcomes`"
   ]
  },
  {
   "cell_type": "code",
   "execution_count": 133,
   "id": "fc356cb4-40f0-4c94-add5-d154a100c8d7",
   "metadata": {},
   "outputs": [],
   "source": [
    "import random\n",
    "\n",
    "def roll_die():\n",
    "    return random.randint(1,6)\n",
    "\n",
    "def simulate_rolls(num_roll):\n",
    "    rolls =[roll_die() for i in range(num_roll)]\n",
    "    return rolls\n",
    "\n",
    "def calculate_expected_value(rolls):\n",
    "    return sum(rolls)/len(rolls)\n",
    "\n",
    "def calculate_variance(rolls,expected_value):\n",
    "    return sum((x- expected_value)**2 for x in rolls)/len(rolls)"
   ]
  },
  {
   "cell_type": "code",
   "execution_count": 134,
   "id": "a4c0f707-a06e-4823-bddc-83349c10cae6",
   "metadata": {},
   "outputs": [
    {
     "name": "stdout",
     "output_type": "stream",
     "text": [
      "expected value is :--> 3.4835\n",
      "Variance is :--> 2.950127749999993\n"
     ]
    }
   ],
   "source": [
    "num_rolls = 10000\n",
    "rolls = simulate_rolls(num_rolls)\n",
    "# print(rolls)\n",
    "\n",
    "\n",
    "expected_value =calculate_expected_value(rolls)\n",
    "print(\"expected value is :-->\",expected_value)\n",
    "\n",
    "\n",
    "Variance =calculate_variance(rolls,expected_value)\n",
    "print(\"Variance is :-->\",Variance)"
   ]
  },
  {
   "cell_type": "markdown",
   "id": "c9ab8502-7e93-41c9-8bfe-6765faa614c7",
   "metadata": {},
   "source": [
    "### `Q5 Create a Python function to generate random samples from a given probabilit\u001e",
    " distribution (e.g., binomial, Poisson) and calculate their mean and variance`"
   ]
  },
  {
   "cell_type": "code",
   "execution_count": 135,
   "id": "a1851b20-d8b9-4060-b6f3-b50cc1888f20",
   "metadata": {},
   "outputs": [
    {
     "data": {
      "image/png": "[encoded data removed]",
      "text/plain": [
       "<Figure size 640x480 with 1 Axes>"
      ]
     },
     "metadata": {},
     "output_type": "display_data"
    }
   ],
   "source": [
    "ProbDist_binomial =np.random.binomial(n=1, p=0.5, size=1000)\n",
    "plt.hist(ProbDist_binomial)\n",
    "plt.show()"
   ]
  },
  {
   "cell_type": "code",
   "execution_count": 136,
   "id": "ac124a94-c866-4c98-8681-827659832716",
   "metadata": {},
   "outputs": [
    {
     "data": {
      "image/png": "[encoded data removed]",
      "text/plain": [
       "<Figure size 640x480 with 1 Axes>"
      ]
     },
     "metadata": {},
     "output_type": "display_data"
    }
   ],
   "source": [
    "ProbDist_poisson =np.random.poisson(lam=1.0, size=1000)\n",
    "plt.hist(ProbDist_poisson)\n",
    "plt.show()"
   ]
  },
  {
   "cell_type": "code",
   "execution_count": 137,
   "id": "d2c328ba-9766-4217-b03e-501619b53081",
   "metadata": {},
   "outputs": [
    {
     "name": "stdout",
     "output_type": "stream",
     "text": [
      "Mean ==> 0.504\n"
     ]
    }
   ],
   "source": [
    "Mean_of_Binonial =np.mean(ProbDist_binomial)\n",
    "print(\"Mean ==>\",Mean_of_Binonial)"
   ]
  },
  {
   "cell_type": "code",
   "execution_count": 138,
   "id": "bfb32bad-a77f-4e96-92e8-e6918112ac1a",
   "metadata": {},
   "outputs": [
    {
     "name": "stdout",
     "output_type": "stream",
     "text": [
      "Variance ==> 0.24998400000000004\n"
     ]
    }
   ],
   "source": [
    "Variance_of_Binonial =np.var(ProbDist_binomial)\n",
    "print(\"Variance ==>\",Variance_of_Binonial)"
   ]
  },
  {
   "cell_type": "markdown",
   "id": "c89c5a7b-22bb-4348-9466-ae23a30e96c1",
   "metadata": {},
   "source": [
    "### `Q6 Write a Python script to generate random numbers from a Gaussian (normal) distribution and compute the mean, variance, and standard deviation of the samples`"
   ]
  },
  {
   "cell_type": "code",
   "execution_count": 139,
   "id": "e1c1ca51-14ac-497d-90a9-99b513070007",
   "metadata": {},
   "outputs": [
    {
     "data": {
      "image/png": "[encoded data removed]",
      "text/plain": [
       "<Figure size 640x480 with 1 Axes>"
      ]
     },
     "metadata": {},
     "output_type": "display_data"
    }
   ],
   "source": [
    "normal_distrubution=np.random.normal(loc=0.0, scale=0.1, size=1000)\n",
    "plt.hist(normal_distrubution)\n",
    "plt.show()"
   ]
  },
  {
   "cell_type": "code",
   "execution_count": 140,
   "id": "ebfc45ad-1de9-48b8-a74b-7613cd73d3db",
   "metadata": {},
   "outputs": [
    {
     "name": "stdout",
     "output_type": "stream",
     "text": [
      "Mean ==> 0.0029829194855389807\n"
     ]
    }
   ],
   "source": [
    "mean_normalDist =np.mean(normal_distrubution)\n",
    "print(\"Mean ==>\",mean_normalDist)"
   ]
  },
  {
   "cell_type": "code",
   "execution_count": 141,
   "id": "442e5c67-b32e-458f-8b39-b085fafbffcd",
   "metadata": {},
   "outputs": [
    {
     "name": "stdout",
     "output_type": "stream",
     "text": [
      "Variance ==> 0.0029829194855389807\n"
     ]
    }
   ],
   "source": [
    "Variance_normalDist =np.mean(normal_distrubution)\n",
    "print(\"Variance ==>\",Variance_normalDist)"
   ]
  },
  {
   "cell_type": "code",
   "execution_count": 142,
   "id": "0aeb11fb-5a15-4704-bf34-9ace2a560b28",
   "metadata": {},
   "outputs": [
    {
     "name": "stdout",
     "output_type": "stream",
     "text": [
      "std dev ==> 0.09704853285956558\n"
     ]
    }
   ],
   "source": [
    "stdev_normalDist =np.std(normal_distrubution)\n",
    "print(\"std dev ==>\",stdev_normalDist)"
   ]
  },
  {
   "cell_type": "markdown",
   "id": "dc22936b-d880-4c6d-b9bc-ff02a09265f6",
   "metadata": {},
   "source": [
    "### `Q7 Use seaborn library to load tips dataset. Find the following from the dataset 6or the columns total_bill and tip`"
   ]
  },
  {
   "cell_type": "code",
   "execution_count": 143,
   "id": "8f1e0a38-f657-478a-aed5-fbff94200b2a",
   "metadata": {},
   "outputs": [
    {
     "data": {
      "text/html": [
       "<div>\n",
       "<style scoped>\n",
       "    .dataframe tbody tr th:only-of-type {\n",
       "        vertical-align: middle;\n",
       "    }\n",
       "\n",
       "    .dataframe tbody tr th {\n",
       "        vertical-align: top;\n",
       "    }\n",
       "\n",
       "    .dataframe thead th {\n",
       "        text-align: right;\n",
       "    }\n",
       "</style>\n",
       "<table border=\"1\" class=\"dataframe\">\n",
       "  <thead>\n",
       "    <tr style=\"text-align: right;\">\n",
       "      <th></th>\n",
       "      <th>total_bill</th>\n",
       "      <th>tip</th>\n",
       "      <th>sex</th>\n",
       "      <th>smoker</th>\n",
       "      <th>day</th>\n",
       "      <th>time</th>\n",
       "      <th>size</th>\n",
       "    </tr>\n",
       "  </thead>\n",
       "  <tbody>\n",
       "    <tr>\n",
       "      <th>0</th>\n",
       "      <td>16.99</td>\n",
       "      <td>1.01</td>\n",
       "      <td>Female</td>\n",
       "      <td>No</td>\n",
       "      <td>Sun</td>\n",
       "      <td>Dinner</td>\n",
       "      <td>2</td>\n",
       "    </tr>\n",
       "    <tr>\n",
       "      <th>1</th>\n",
       "      <td>10.34</td>\n",
       "      <td>1.66</td>\n",
       "      <td>Male</td>\n",
       "      <td>No</td>\n",
       "      <td>Sun</td>\n",
       "      <td>Dinner</td>\n",
       "      <td>3</td>\n",
       "    </tr>\n",
       "    <tr>\n",
       "      <th>2</th>\n",
       "      <td>21.01</td>\n",
       "      <td>3.50</td>\n",
       "      <td>Male</td>\n",
       "      <td>No</td>\n",
       "      <td>Sun</td>\n",
       "      <td>Dinner</td>\n",
       "      <td>3</td>\n",
       "    </tr>\n",
       "    <tr>\n",
       "      <th>3</th>\n",
       "      <td>23.68</td>\n",
       "      <td>3.31</td>\n",
       "      <td>Male</td>\n",
       "      <td>No</td>\n",
       "      <td>Sun</td>\n",
       "      <td>Dinner</td>\n",
       "      <td>2</td>\n",
       "    </tr>\n",
       "    <tr>\n",
       "      <th>4</th>\n",
       "      <td>24.59</td>\n",
       "      <td>3.61</td>\n",
       "      <td>Female</td>\n",
       "      <td>No</td>\n",
       "      <td>Sun</td>\n",
       "      <td>Dinner</td>\n",
       "      <td>4</td>\n",
       "    </tr>\n",
       "  </tbody>\n",
       "</table>\n",
       "</div>"
      ],
      "text/plain": [
       "   total_bill   tip     sex smoker  day    time  size\n",
       "0       16.99  1.01  Female     No  Sun  Dinner     2\n",
       "1       10.34  1.66    Male     No  Sun  Dinner     3\n",
       "2       21.01  3.50    Male     No  Sun  Dinner     3\n",
       "3       23.68  3.31    Male     No  Sun  Dinner     2\n",
       "4       24.59  3.61  Female     No  Sun  Dinner     4"
      ]
     },
     "execution_count": 143,
     "metadata": {},
     "output_type": "execute_result"
    }
   ],
   "source": [
    "df =sns.load_dataset(\"tips\")\n",
    "df.head()"
   ]
  },
  {
   "cell_type": "markdown",
   "id": "b725c706-241c-4e70-ae50-dd08690ee6cb",
   "metadata": {},
   "source": [
    "#### `(i) Write a Python function that calculates their skewness`"
   ]
  },
  {
   "cell_type": "code",
   "execution_count": 144,
   "id": "1f27e201-767b-4f50-841d-812f15f4394a",
   "metadata": {},
   "outputs": [
    {
     "name": "stdout",
     "output_type": "stream",
     "text": [
      "total_bill skewness is :>>  1.1262346334818638\n",
      "tip skewness is :>>  1.4564266884221506\n"
     ]
    }
   ],
   "source": [
    "two_columns =df[[\"total_bill\",\"tip\"]]\n",
    "\n",
    "for sk in two_columns :\n",
    "    skewness =stats.skew(df[sk])\n",
    "    print(f\"{sk} skewness is :>>  {skewness}\")"
   ]
  },
  {
   "cell_type": "markdown",
   "id": "202ff885-9568-49a5-9f45-936b6d8fe716",
   "metadata": {},
   "source": [
    "#### `(ii) Create a program that determines whether the columns exhibit positive skewness, negative skewness, or is approximately symmetric.`"
   ]
  },
  {
   "cell_type": "code",
   "execution_count": 145,
   "id": "36e40111-cd01-4d4c-b22a-2a9117c8f71e",
   "metadata": {},
   "outputs": [
    {
     "data": {
      "image/png": "[encoded data removed]",
      "text/plain": [
       "<Figure size 500x500 with 1 Axes>"
      ]
     },
     "metadata": {},
     "output_type": "display_data"
    }
   ],
   "source": [
    "sns.displot(df[\"total_bill\"],kind=\"kde\")\n",
    "plt.show()"
   ]
  },
  {
   "cell_type": "markdown",
   "id": "db514b2f-2dd4-45e6-ac07-92b882d6fc2d",
   "metadata": {},
   "source": [
    "#### `Observation and Insight`\n",
    "\n",
    "1. Total bill columns data has right skewed it means these belong to positive skew ness\n",
    "2. it is approximately symmetric."
   ]
  },
  {
   "cell_type": "code",
   "execution_count": 146,
   "id": "ed75003e-5ac4-40d2-b319-2ed9486f6277",
   "metadata": {},
   "outputs": [
    {
     "data": {
      "image/png": "[encoded data removed]",
      "text/plain": [
       "<Figure size 500x500 with 1 Axes>"
      ]
     },
     "metadata": {},
     "output_type": "display_data"
    }
   ],
   "source": [
    "sns.displot(df[\"tip\"],kind=\"kde\")\n",
    "plt.show()"
   ]
  },
  {
   "cell_type": "markdown",
   "id": "5c2967cb-36a3-488f-a4ba-08a5b2fe2e17",
   "metadata": {},
   "source": [
    "#### `Observation and Insight`\n",
    "\n",
    "1. Tip columns data has right skewed it means these belong to positive skew ness.\n",
    "2. it is approximately symmetric."
   ]
  },
  {
   "cell_type": "markdown",
   "id": "697df859-9709-4da4-9b44-80aaa07f2e10",
   "metadata": {},
   "source": [
    "#### `(iii) Write a function that calculates the covariance between two columns`"
   ]
  },
  {
   "cell_type": "code",
   "execution_count": 147,
   "id": "c658c2ec-3201-4a21-844c-7fa65029c300",
   "metadata": {},
   "outputs": [
    {
     "data": {
      "text/html": [
       "<div>\n",
       "<style scoped>\n",
       "    .dataframe tbody tr th:only-of-type {\n",
       "        vertical-align: middle;\n",
       "    }\n",
       "\n",
       "    .dataframe tbody tr th {\n",
       "        vertical-align: top;\n",
       "    }\n",
       "\n",
       "    .dataframe thead th {\n",
       "        text-align: right;\n",
       "    }\n",
       "</style>\n",
       "<table border=\"1\" class=\"dataframe\">\n",
       "  <thead>\n",
       "    <tr style=\"text-align: right;\">\n",
       "      <th></th>\n",
       "      <th>total_bill</th>\n",
       "      <th>tip</th>\n",
       "    </tr>\n",
       "  </thead>\n",
       "  <tbody>\n",
       "    <tr>\n",
       "      <th>total_bill</th>\n",
       "      <td>79.252939</td>\n",
       "      <td>8.323502</td>\n",
       "    </tr>\n",
       "    <tr>\n",
       "      <th>tip</th>\n",
       "      <td>8.323502</td>\n",
       "      <td>1.914455</td>\n",
       "    </tr>\n",
       "  </tbody>\n",
       "</table>\n",
       "</div>"
      ],
      "text/plain": [
       "            total_bill       tip\n",
       "total_bill   79.252939  8.323502\n",
       "tip           8.323502  1.914455"
      ]
     },
     "execution_count": 147,
     "metadata": {},
     "output_type": "execute_result"
    }
   ],
   "source": [
    "df[[\"total_bill\",\"tip\"]].cov()"
   ]
  },
  {
   "cell_type": "code",
   "execution_count": 148,
   "id": "2da69dc9-bf47-4481-a2da-ab178aaa4763",
   "metadata": {},
   "outputs": [
    {
     "data": {
      "text/plain": [
       "8.323501629224854"
      ]
     },
     "execution_count": 148,
     "metadata": {},
     "output_type": "execute_result"
    }
   ],
   "source": [
    "df[\"total_bill\"].cov(df[\"tip\"])"
   ]
  },
  {
   "cell_type": "code",
   "execution_count": 149,
   "id": "9dfe991f-c016-407a-abf8-1d48f640f93f",
   "metadata": {},
   "outputs": [
    {
     "data": {
      "text/plain": [
       "8.323501629224854"
      ]
     },
     "execution_count": 149,
     "metadata": {},
     "output_type": "execute_result"
    }
   ],
   "source": [
    "df[\"tip\"].cov(df[\"total_bill\"])"
   ]
  },
  {
   "cell_type": "markdown",
   "id": "25398ee9-3957-4eab-93f7-10289aba4387",
   "metadata": {},
   "source": [
    "#### `Observation and Insight`\n",
    "\n",
    "1. As per observation if total bill is increase tip tends to move in positive direction."
   ]
  },
  {
   "cell_type": "markdown",
   "id": "eb5eb9b7-6edd-4465-906c-0efa9a242dfb",
   "metadata": {},
   "source": [
    "#### `(iv) Implement a Python program that calculates the Pearson correlation coefficient between two columns.`"
   ]
  },
  {
   "cell_type": "code",
   "execution_count": 150,
   "id": "19ca34f4-7c62-4af6-abab-9eaf7cc654ee",
   "metadata": {},
   "outputs": [
    {
     "data": {
      "text/html": [
       "<div>\n",
       "<style scoped>\n",
       "    .dataframe tbody tr th:only-of-type {\n",
       "        vertical-align: middle;\n",
       "    }\n",
       "\n",
       "    .dataframe tbody tr th {\n",
       "        vertical-align: top;\n",
       "    }\n",
       "\n",
       "    .dataframe thead th {\n",
       "        text-align: right;\n",
       "    }\n",
       "</style>\n",
       "<table border=\"1\" class=\"dataframe\">\n",
       "  <thead>\n",
       "    <tr style=\"text-align: right;\">\n",
       "      <th></th>\n",
       "      <th>total_bill</th>\n",
       "      <th>tip</th>\n",
       "    </tr>\n",
       "  </thead>\n",
       "  <tbody>\n",
       "    <tr>\n",
       "      <th>total_bill</th>\n",
       "      <td>1.000000</td>\n",
       "      <td>0.675734</td>\n",
       "    </tr>\n",
       "    <tr>\n",
       "      <th>tip</th>\n",
       "      <td>0.675734</td>\n",
       "      <td>1.000000</td>\n",
       "    </tr>\n",
       "  </tbody>\n",
       "</table>\n",
       "</div>"
      ],
      "text/plain": [
       "            total_bill       tip\n",
       "total_bill    1.000000  0.675734\n",
       "tip           0.675734  1.000000"
      ]
     },
     "execution_count": 150,
     "metadata": {},
     "output_type": "execute_result"
    }
   ],
   "source": [
    "two_columns.corr()"
   ]
  },
  {
   "cell_type": "markdown",
   "id": "243e0f07-0556-4374-9613-4c8c003dc011",
   "metadata": {},
   "source": [
    "#### `Observation And Insight`\n",
    "\n",
    "1. if there is change in total bill so there is 67% chance to increase in tip. "
   ]
  },
  {
   "cell_type": "markdown",
   "id": "39a8e70c-24ba-4604-b10c-1ea4027fec78",
   "metadata": {},
   "source": [
    "#### `(v) Write a script to visualize the correlation between two specific columns in a Pandas DataFrame using scatter plots.`"
   ]
  },
  {
   "cell_type": "code",
   "execution_count": 151,
   "id": "47e766f0-d398-4f34-9cd5-5d0624dbfcf1",
   "metadata": {},
   "outputs": [
    {
     "data": {
      "image/png": "[encoded data removed]",
      "text/plain": [
       "<Figure size 640x480 with 1 Axes>"
      ]
     },
     "metadata": {},
     "output_type": "display_data"
    }
   ],
   "source": [
    "sns.scatterplot(x=\"total_bill\",y=\"tip\",data=df,c=\"red\")\n",
    "plt.xlabel(\"Total bill\")\n",
    "plt.ylabel(\"tip\")\n",
    "plt.show()"
   ]
  },
  {
   "cell_type": "markdown",
   "id": "568ca2e2-3df4-4c3f-892e-fbe978ca3a07",
   "metadata": {},
   "source": [
    "#### `Observation And Insight`\n",
    "\n",
    "1. if there is change in total bill so there is much chance to increase in tip. "
   ]
  },
  {
   "cell_type": "markdown",
   "id": "c64e7310-aa46-4032-9a64-8a146a71cfb3",
   "metadata": {},
   "source": [
    "### `Q8 Write a Python function to calculate the probability density function (PDF) of a continuous random variable for a given normal distribution.`"
   ]
  },
  {
   "cell_type": "code",
   "execution_count": 152,
   "id": "8154267f-bda9-40f2-b782-42275e250d58",
   "metadata": {},
   "outputs": [],
   "source": [
    "import scipy.stats as stats\n",
    "def Pdf(x ,mu,sigma):\n",
    "    return stats.norm(mu,sigma).pdf(x)"
   ]
  },
  {
   "cell_type": "code",
   "execution_count": 153,
   "id": "feedc5e0-787b-4554-af85-735e0c260b0c",
   "metadata": {},
   "outputs": [
    {
     "name": "stdout",
     "output_type": "stream",
     "text": [
      "Pdf at i=-2: 0.05399096651318806\n",
      "Pdf at i=-1: 0.24197072451914337\n",
      "Pdf at i=0: 0.3989422804014327\n",
      "Pdf at i=1: 0.24197072451914337\n",
      "Pdf at i=2: 0.05399096651318806\n"
     ]
    }
   ],
   "source": [
    "mu =0\n",
    "sigma =1\n",
    "x_values = [-2, -1, 0, 1, 2]\n",
    "\n",
    "for i in x_values :\n",
    "    pdf_values =Pdf(i,mu ,sigma)\n",
    "    print(f\"Pdf at i={i}: {pdf_values}\")"
   ]
  },
  {
   "cell_type": "markdown",
   "id": "563c9f2e-a5d7-4216-8e88-4369a4a3a796",
   "metadata": {
    "tags": []
   },
   "source": [
    "### `Q9  Create a program to calculate the cumulative distribution function (CDF) of exponential distribution.`"
   ]
  },
  {
   "cell_type": "code",
   "execution_count": 154,
   "id": "d867704d-6363-40c0-84b4-b18c0c6597c7",
   "metadata": {},
   "outputs": [
    {
     "name": "stdout",
     "output_type": "stream",
     "text": [
      "CDF at x=1: 0.3934693402873666\n",
      "CDF at x=2: 0.6321205588285577\n",
      "CDF at x=3: 0.7768698398515702\n",
      "CDF at x=4: 0.8646647167633873\n",
      "CDF at x=5: 0.9179150013761012\n"
     ]
    }
   ],
   "source": [
    "import math\n",
    "\n",
    "def exponential_cdf(x, rate_parameter):\n",
    "    return 1 - math.exp(-rate_parameter * x)\n",
    "\n",
    "# Example usage\n",
    "rate_parameter = 0.5  # lambda\n",
    "x_values = [1, 2, 3, 4, 5]\n",
    "\n",
    "for x in x_values:\n",
    "    cdf_value = exponential_cdf(x, rate_parameter)\n",
    "    print(f\"CDF at x={x}: {cdf_value}\")"
   ]
  },
  {
   "cell_type": "markdown",
   "id": "1f7e1463-7784-43c7-bbe5-9cfafc771982",
   "metadata": {},
   "source": [
    "### `Q10 Write a Python function to calculate the probability mass function (PMF) of Poisson distribution`"
   ]
  },
  {
   "cell_type": "code",
   "execution_count": 155,
   "id": "a6171e1a-d2b0-4420-8fba-b393ea05da9a",
   "metadata": {},
   "outputs": [
    {
     "name": "stdout",
     "output_type": "stream",
     "text": [
      "PMF at k=0: 0.0820849986238988\n",
      "PMF at k=1: 0.205212496559747\n",
      "PMF at k=2: 0.25651562069968376\n",
      "PMF at k=3: 0.21376301724973645\n",
      "PMF at k=4: 0.13360188578108528\n"
     ]
    }
   ],
   "source": [
    "import math\n",
    "\n",
    "def poisson_pmf(k, rate_parameter):\n",
    "    return math.exp(-rate_parameter) * (rate_parameter ** k) / math.factorial(k)\n",
    "\n",
    "# Example usage\n",
    "rate_parameter = 2.5  # lambda\n",
    "k_values = [0, 1, 2, 3, 4]\n",
    "\n",
    "for k in k_values:\n",
    "    pmf_value = poisson_pmf(k, rate_parameter)\n",
    "    print(f\"PMF at k={k}: {pmf_value}\")"
   ]
  },
  {
   "cell_type": "markdown",
   "id": "338af1ae-5e51-4a80-bbf1-f68cd32ef64d",
   "metadata": {},
   "source": [
    "### `Q11 A company wants to test iN a new website layout leads to a higher conversion rate (percentage oN visitors who make a purchase). They collect data Nrom the old and new layouts to compare.`"
   ]
  },
  {
   "cell_type": "markdown",
   "id": "6e67821a-a8cc-4e65-b7d5-61338515b93e",
   "metadata": {},
   "source": [
    "To generate the data use the following comma<d:\n",
    "\n",
    "```python\n",
    "\n",
    "import numpy as np\n",
    "\n",
    "# 50 purchases out of 1000 visitors\n",
    "\n",
    "old_layout = np.array([1] * 50 + [0] * 950)\n",
    "\n",
    "# 70 purchases out of 1000 visitors  \n",
    "\n",
    "new_layout = np.array([1] * 70 + [0] * 930)\n",
    "\n",
    "  ```\n",
    "\n",
    "Apply z-test to find which layout is successful."
   ]
  },
  {
   "cell_type": "code",
   "execution_count": 156,
   "id": "7ad5abe3-fc41-4764-bc89-2fc891d5a8b4",
   "metadata": {},
   "outputs": [
    {
     "name": "stdout",
     "output_type": "stream",
     "text": [
      "zstats -1.883108942886774 and pval 0.059685605532426224\n",
      "There is no significant difference in conversion rates between the old and new layouts.\n"
     ]
    }
   ],
   "source": [
    "from statsmodels.stats.proportion import proportions_ztest\n",
    "\n",
    "# 50 Purchase out of 1000\n",
    "old_layout = np.array([1] * 50 + [0] * 950)\n",
    "# 70 Purchase out of 1000\n",
    "new_layout = np.array([1] * 70 + [0] * 930)\n",
    "\n",
    "## Success and Trial is \n",
    "sucess =np.array([sum(old_layout),sum(new_layout)])\n",
    "trail  =np.array([len(old_layout),len(new_layout)])\n",
    "\n",
    "## Apply ztest for differance in praportion\n",
    "zstat ,pvalue =proportions_ztest(sucess ,trail,alternative=\"two-sided\")\n",
    "print(\"zstats {} and pval {}\".format(zstat,pvalue))\n",
    "# print(zstat, pvalue)\n",
    "alpha =0.05\n",
    "if pvalue < alpha :\n",
    "    print(\"The new layout leads to a significantly higher conversion rate.\")\n",
    "    \n",
    "else:\n",
    "    print(\"There is no significant difference in conversion rates between the old and new layouts.\")"
   ]
  },
  {
   "cell_type": "markdown",
   "id": "f0ae39d8-50ab-44fa-99b2-029a94395847",
   "metadata": {},
   "source": [
    "### `Q12. A tutoring service claims that its program improves students' exam scores. A sample oN students who participated in the program was taken, and their scores beNore and aNter the program were recorded.`"
   ]
  },
  {
   "cell_type": "markdown",
   "id": "161ce73d-7478-459d-955a-b10171d549b5",
   "metadata": {},
   "source": [
    "Use the below code to genrate samples of respective arrays of marks:\n",
    "\n",
    "```python\n",
    "\n",
    "before_program = np.array([75, 80, 85, 70, 90, 78, 92, 88, 82, 87])\n",
    "\n",
    "after_program = np.array([80, 85, 90, 80, 92, 80, 95, 90, 85, 88])\n",
    "\n",
    "\n",
    "Use z-test to find if the claims made by tutor are true or false"
   ]
  },
  {
   "cell_type": "code",
   "execution_count": 157,
   "id": "c8d6a7a8-bbc1-41e1-b122-3a1e2c1ef16e",
   "metadata": {},
   "outputs": [
    {
     "name": "stdout",
     "output_type": "stream",
     "text": [
      "z-score -1.3600371723457605 and p value 0.17381816101827674\n",
      "==========================================\n",
      "Tuter has claimed False ==>Failed to reject H0\n"
     ]
    }
   ],
   "source": [
    "from statsmodels.stats.weightstats import ztest\n",
    "# Sample score before and after program\n",
    "before_program =np.array([75, 80, 85, 70, 90, 78, 92, 88, 82, 87])\n",
    "after_program = np.array([80, 85, 90, 80, 92, 80, 95, 90, 85, 88])\n",
    "alpha =0.05 \n",
    "\n",
    "z_score ,pvalue =ztest(before_program,after_program)\n",
    "\n",
    "print(\"z-score {} and p value {}\".format(z_score,pvalue))\n",
    "print(\"==========================================\")\n",
    "\n",
    "if(pvalue < alpha):\n",
    "    print(\"Tuter has claimed True ==> Reject H0\")\n",
    "    \n",
    "else:\n",
    "    print(\"Tuter has claimed False ==>Failed to reject H0\")"
   ]
  },
  {
   "cell_type": "markdown",
   "id": "c1d8ee99-2487-45d4-86d7-92c2728a80b1",
   "metadata": {},
   "source": [
    "### `Q13. A pharmaceutical company wants to determine if a new drug is effective in reducing blood pressure. They conduct a study and record blood pressure measurements before and after administering the drug.`"
   ]
  },
  {
   "cell_type": "markdown",
   "id": "b277439e-cc22-42ca-a33f-00ea0bcbcf22",
   "metadata": {},
   "source": [
    "Use the below code to generate samples of respective arrays of blood pressure:\n",
    "\n",
    "\n",
    "```python\n",
    "\n",
    "before_drug = np.array([145, 150, 140, 135, 155, 160, 152, 148, 130, 138])\n",
    "\n",
    "after_drug = np.array([130, 140, 132, 128, 145, 148, 138, 136, 125, 130])\n",
    "\n",
    "  ```\n",
    "\n",
    "\n",
    "Implement z-test to find if the drug really works or not."
   ]
  },
  {
   "cell_type": "code",
   "execution_count": 158,
   "id": "bd505e7f-779d-4538-8e2a-effc47ead10c",
   "metadata": {},
   "outputs": [
    {
     "name": "stdout",
     "output_type": "stream",
     "text": [
      "2.639577121919447 0.008300953387191556\n",
      "=====================================\n",
      "Drugs are really work reject H0\n"
     ]
    }
   ],
   "source": [
    "from statsmodels.stats.weightstats import ztest\n",
    "\n",
    "## Before drug and after drug data\n",
    "before_drug = np.array([145, 150, 140, 135, 155, 160, 152, 148, 130, 138])\n",
    "\n",
    "after_drug = np.array([130, 140, 132, 128, 145, 148, 138, 136, 125, 130])\n",
    "\n",
    "## two sample calculation\n",
    "zstats, pvalue = ztest(before_drug,after_drug)\n",
    "print(zstats ,pvalue)\n",
    "print(\"=====================================\")\n",
    "\n",
    "if(pvalue < 0.05) :\n",
    "    print(\"Drugs are really work reject H0\")\n",
    "else:\n",
    "    print(\"Drugs are not really work fail to reject H0\")"
   ]
  },
  {
   "cell_type": "markdown",
   "id": "92869d2d-7530-477c-83e2-c000dc0e91fc",
   "metadata": {},
   "source": [
    "### `Q14 A customer service department claims that their average response time is less than 5 minutes.A sample of recent customer interactions was taken, and the response times were recorded.`\n",
    "\n",
    "\n",
    "Implement the below code to generate the array of response time:\n",
    "\n",
    "```python\n",
    "\n",
    "response_times = np.array([4.3, 3.8, 5.1, 4.9, 4.7, 4.2, 5.2, 4.5, 4.6, 4.4])\n",
    "\n",
    "```\n",
    "\n",
    "Implement z-test to fnnd the claims made by customer service department are true or false."
   ]
  },
  {
   "cell_type": "code",
   "execution_count": 159,
   "id": "e8792f25-0691-467d-b2e1-75fd99551f03",
   "metadata": {
    "tags": []
   },
   "outputs": [
    {
     "name": "stdout",
     "output_type": "stream",
     "text": [
      "zscore is 33.47382944584698 and pvalue is 1.0\n",
      "====================================================\n",
      "The claim made by customer service dept is False ==>Fail to reject H0\n"
     ]
    }
   ],
   "source": [
    "from statsmodels.stats.weightstats import ztest\n",
    "## Response time \n",
    "response_times = np.array([4.3, 3.8, 5.1, 4.9, 4.7, 4.2, 5.2, 4.5, 4.6, 4.4])\n",
    "# H0 < \n",
    "zscore,pval =ztest(response_times ,value=0.05,alternative=\"smaller\")\n",
    "print(\"zscore is {} and pvalue is {}\".format(zscore,pval))\n",
    "print(\"====================================================\")\n",
    "\n",
    "if(pval <0.05):\n",
    "    print(\"The claim made by customer service dept is True ==>Reject H0 hypo\")\n",
    "else:\n",
    "    print(\"The claim made by customer service dept is False ==>Fail to reject H0\")"
   ]
  },
  {
   "cell_type": "markdown",
   "id": "6f770ec2-d245-4282-8789-fe0686f516af",
   "metadata": {},
   "source": [
    "### `Q15. A company is testing two different website layouts to see which one leads to higher click-through rates Write a Python function to perform an A/B test analysis, including calculating the t-statistic, degrees of freedom, and p-value`.\n",
    "\n",
    "\n",
    "Use the following data:\n",
    "\n",
    "```python\n",
    "\n",
    "layout_a_clicks = [28, 32, 33, 29, 31, 34, 30, 35, 36, 37]\n",
    "\n",
    "layout_b_clicks = [40, 41, 38, 42, 39, 44, 43, 41, 45, 47]"
   ]
  },
  {
   "cell_type": "code",
   "execution_count": 160,
   "id": "32676bfc-6d11-4e4c-b2dd-031475e60bc3",
   "metadata": {},
   "outputs": [
    {
     "data": {
      "text/plain": [
       "(32.5, 42.0)"
      ]
     },
     "execution_count": 160,
     "metadata": {},
     "output_type": "execute_result"
    }
   ],
   "source": [
    "# Layout Data are giving to calcualte tstats ,pvalue, dof\n",
    "layout_a_clicks = [28, 32, 33, 29, 31, 34, 30, 35, 36, 37]\n",
    "layout_b_clicks = [40, 41, 38, 42, 39, 44, 43, 41, 45, 47]\n",
    "np.mean(layout_a_clicks) ,np.mean(layout_b_clicks)"
   ]
  },
  {
   "cell_type": "code",
   "execution_count": 161,
   "id": "aafb16bd-dd35-42a7-bbf0-ab5834d8c24b",
   "metadata": {
    "tags": []
   },
   "outputs": [],
   "source": [
    "# We will decide to use t test_ind\n",
    "# Import scipy library\n",
    "from scipy import stats\n",
    "t_stats,p_value=stats.ttest_ind(layout_a_clicks ,layout_b_clicks)"
   ]
  },
  {
   "cell_type": "code",
   "execution_count": 162,
   "id": "953d71bb-f0b3-42b9-a05b-3f657e00bd88",
   "metadata": {},
   "outputs": [
    {
     "data": {
      "text/plain": [
       "-7.298102156175071"
      ]
     },
     "execution_count": 162,
     "metadata": {},
     "output_type": "execute_result"
    }
   ],
   "source": [
    "t_stats"
   ]
  },
  {
   "cell_type": "code",
   "execution_count": 163,
   "id": "c9292175-4e7a-4d21-a555-c9f05a8f69b5",
   "metadata": {},
   "outputs": [
    {
     "data": {
      "text/plain": [
       "8.833437608301987e-07"
      ]
     },
     "execution_count": 163,
     "metadata": {},
     "output_type": "execute_result"
    }
   ],
   "source": [
    "p_value"
   ]
  },
  {
   "cell_type": "code",
   "execution_count": 164,
   "id": "3f710b97-218f-4deb-9672-95af984ccfeb",
   "metadata": {},
   "outputs": [
    {
     "name": "stdout",
     "output_type": "stream",
     "text": [
      "9\n"
     ]
    }
   ],
   "source": [
    "dof =len(layout_b_clicks)-1\n",
    "print(dof)"
   ]
  },
  {
   "cell_type": "code",
   "execution_count": 165,
   "id": "136dedfc-e4c9-4e0d-99e8-1baaa33683b3",
   "metadata": {},
   "outputs": [
    {
     "name": "stdout",
     "output_type": "stream",
     "text": [
      "Reject H0\n"
     ]
    }
   ],
   "source": [
    "if(p_value < 0.05):\n",
    "    print(\"Reject H0\")\n",
    "else:\n",
    "    print(\"Fail to Reject H0 \")"
   ]
  },
  {
   "cell_type": "markdown",
   "id": "29dc7010-1e31-49bf-837c-e99d7f854caf",
   "metadata": {},
   "source": [
    "### `Q16 .A pharmaceutical company wants to determine if a new drug is more effective than an existing drug in reducing cholesterol levels Create a program to analyze the clinical trial data and calculate the t-statistic and p-value for the treatment effect`"
   ]
  },
  {
   "cell_type": "markdown",
   "id": "690bf4e0-5b0c-4f77-85d8-e6b7109253c7",
   "metadata": {},
   "source": [
    "Use the following data of cholestrol level:\n",
    "\n",
    "```python\n",
    "\n",
    "existing_drug_levels = [180, 182, 175, 185, 178, 176, 172, 184, 179, 183]\n",
    "\n",
    "new_drug_levels = [170, 172, 165, 168, 175, 173, 170, 178, 172, 176]"
   ]
  },
  {
   "cell_type": "code",
   "execution_count": 166,
   "id": "2c1c6149-7318-4492-9444-16fd1efb7771",
   "metadata": {},
   "outputs": [],
   "source": [
    "#  Existing Drug Level sample\n",
    "existing_drug_levels = [180, 182, 175, 185, 178, 176, 172, 184, 179, 183]\n",
    "#  New Drug Level sample\n",
    "new_drug_levels = [170, 172, 165, 168, 175, 173, 170, 178, 172, 176]"
   ]
  },
  {
   "cell_type": "code",
   "execution_count": 167,
   "id": "fc6afd27-c4c5-47ef-b6b6-246fc2fe4f70",
   "metadata": {},
   "outputs": [
    {
     "name": "stdout",
     "output_type": "stream",
     "text": [
      "T statistics :==>5.266851623825876\n",
      "Pvalue :==>0.0005160202180080982\n"
     ]
    }
   ],
   "source": [
    "# We have decided to use ttest_rel \n",
    "# thise data comes from same population had two sample\n",
    "from scipy import stats\n",
    "t_statistics ,pValue =stats.ttest_rel(existing_drug_levels ,new_drug_levels)\n",
    "print(\"T statistics :==>{}\\nPvalue :==>{}\".format(t_statistics,pValue))"
   ]
  },
  {
   "cell_type": "code",
   "execution_count": 168,
   "id": "5504546a-5b6b-4499-9cdd-4ba436059dab",
   "metadata": {},
   "outputs": [
    {
     "name": "stdout",
     "output_type": "stream",
     "text": [
      "A new drug is more effective ==> Reject H0\n"
     ]
    }
   ],
   "source": [
    "if(pValue < 0.05):\n",
    "    print(\"A new drug is more effective ==> Reject H0\")\n",
    "else:\n",
    "    print(\"A new drug is not more effective ==> Fail to Reject H0 \")"
   ]
  },
  {
   "cell_type": "markdown",
   "id": "fd2e0db9-fb99-4638-b920-31cdb0113a49",
   "metadata": {},
   "source": [
    "### `Q17. A school district introduces an educational intervention program to improve math scores Write a Python function to analyze pre- and post-intervention test scores, calculating the t-statistic and p-value to determine if the intervention had a significant impact.`"
   ]
  },
  {
   "cell_type": "markdown",
   "id": "9cf8031f-1d71-427b-922f-45e51d91453d",
   "metadata": {},
   "source": [
    "Use the following data of test score:\n",
    "\n",
    "\n",
    "  ```python\n",
    "\n",
    "  pre_intervention_scores = [80, 85, 90, 75, 88, 82, 92, 78, 85, 87]\n",
    "\n",
    "  post_intervention_scores = [90, 92, 88, 92, 95, 91, 96, 93, 89, 93]"
   ]
  },
  {
   "cell_type": "code",
   "execution_count": 169,
   "id": "9ebf6c3f-2ca8-4d76-baea-4ef34347dac3",
   "metadata": {},
   "outputs": [],
   "source": [
    "# Pre and Post intervention score\n",
    "pre_intervention_scores = [80, 85, 90, 75, 88, 82, 92, 78, 85, 87]\n",
    "\n",
    "post_intervention_scores = [90, 92, 88, 92, 95, 91, 96, 93, 89, 93]"
   ]
  },
  {
   "cell_type": "code",
   "execution_count": 170,
   "id": "4f0c22fd-2507-49b3-a2c8-60cb368e2a64",
   "metadata": {},
   "outputs": [
    {
     "name": "stdout",
     "output_type": "stream",
     "text": [
      "T statistics :==>-4.42840883965761\n",
      "Pvalue :==>0.0016509548165795493\n"
     ]
    }
   ],
   "source": [
    "## Thise two sample comes from same population thats why we have decide to use ttest_rel\n",
    "from scipy import stats\n",
    "t_stats ,Pvalue =stats.ttest_rel(pre_intervention_scores ,post_intervention_scores)\n",
    "print(f\"T statistics :==>{t_stats}\\nPvalue :==>{Pvalue}\")"
   ]
  },
  {
   "cell_type": "code",
   "execution_count": 171,
   "id": "c2d6aaa1-2187-4218-8a0b-fad3a6c9bbf1",
   "metadata": {},
   "outputs": [
    {
     "name": "stdout",
     "output_type": "stream",
     "text": [
      "Intervention had significant impact ==> Reject H0\n"
     ]
    }
   ],
   "source": [
    "if(Pvalue < 0.05):\n",
    "    print(\"Intervention had significant impact ==> Reject H0\")\n",
    "else:\n",
    "    print(\"Intervention had not significant impact ==> Fail to Reject H0\")"
   ]
  },
  {
   "cell_type": "markdown",
   "id": "52a76743-c619-4cbb-96b6-47e43c7318aa",
   "metadata": {},
   "source": [
    "### `Q18. An HR department wants to investigate if there's a gender-based salary gap within the company. Develop a program to analyze salary data, calculate the t-statistic, and determine if there's a statistically significant difference between the average salaries of male and female employees.`"
   ]
  },
  {
   "cell_type": "markdown",
   "id": "f84f8071-8ad0-4f98-8a57-c09d76443b74",
   "metadata": {},
   "source": [
    "Use the below code to generate synthetic data\n",
    "```python\n",
    "\n",
    "Generate synthetic salary data for male and female employees\n",
    "\n",
    "np.random.seed(0)  # For reproducibility\n",
    "\n",
    "male_salaries = np.random.normal(loc=50000, scale=10000, size=20)\n",
    "\n",
    "female_salaries = np.random.normal(loc=55000, scale=9000, size=20)"
   ]
  },
  {
   "cell_type": "code",
   "execution_count": 172,
   "id": "254ff0fb-244d-49f8-b2bf-1061440af454",
   "metadata": {},
   "outputs": [],
   "source": [
    "np.random.seed(0)\n",
    "male_salaries =np.random.normal(loc =50000 ,scale =10000,size=20)\n",
    "female_salaries =np.random.normal(loc =55000 ,scale =9000,size=20)"
   ]
  },
  {
   "cell_type": "code",
   "execution_count": 173,
   "id": "78abe2f0-2a40-447c-aec4-5304d42f0044",
   "metadata": {},
   "outputs": [
    {
     "data": {
      "text/plain": [
       "array([67640.52345968, 54001.57208367, 59787.37984106, 72408.93199201,\n",
       "       68675.5799015 , 40227.22120124, 59500.88417526, 48486.42791702,\n",
       "       48967.81148206, 54105.98501938, 51440.43571161, 64542.73506963,\n",
       "       57610.37725147, 51216.75016493, 54438.63232745, 53336.74327374,\n",
       "       64940.79073158, 47948.41736234, 53130.67701651, 41459.04260698])"
      ]
     },
     "execution_count": 173,
     "metadata": {},
     "output_type": "execute_result"
    }
   ],
   "source": [
    "male_salaries"
   ]
  },
  {
   "cell_type": "code",
   "execution_count": 174,
   "id": "a6633e9a-994a-4261-af46-0cf6b80f6177",
   "metadata": {},
   "outputs": [
    {
     "data": {
      "text/plain": [
       "array([32023.09165749, 60882.56735896, 62779.92578974, 48320.51481634,\n",
       "       75427.79161589, 41910.70892861, 55411.82665571, 53315.34534977,\n",
       "       68795.01292923, 68224.2289291 , 56394.52683127, 58403.46267642,\n",
       "       47009.92827133, 37172.83178598, 51868.79065606, 56407.14072194,\n",
       "       66072.61612655, 65821.41863906, 51514.05864333, 52279.27524482])"
      ]
     },
     "execution_count": 174,
     "metadata": {},
     "output_type": "execute_result"
    }
   ],
   "source": [
    "female_salaries"
   ]
  },
  {
   "cell_type": "code",
   "execution_count": 175,
   "id": "773cc735-36e2-4fa1-b8a9-5c5af5abf101",
   "metadata": {},
   "outputs": [
    {
     "name": "stdout",
     "output_type": "stream",
     "text": [
      "T statistics is 0.06392396780224036\n",
      "P values is 0.949698517843135\n"
     ]
    }
   ],
   "source": [
    "## thise data comes from same population sample so use ttest_rel\n",
    "from scipy import stats\n",
    "\n",
    "t_statistics,Pvalue = stats.ttest_rel(male_salaries ,female_salaries)\n",
    "print(f\"T statistics is {t_statistics}\\nP values is {Pvalue}\")"
   ]
  },
  {
   "cell_type": "code",
   "execution_count": 176,
   "id": "5db1fed9-981e-4e85-b28c-2fdaa2009315",
   "metadata": {},
   "outputs": [
    {
     "name": "stdout",
     "output_type": "stream",
     "text": [
      "there is not a statistically significant between male & female salary ==>Failed to reject H0\n"
     ]
    }
   ],
   "source": [
    "if(Pvalue < 0.05 ):\n",
    "    print(\"there is a statistically significant between male & female salary ==>Reject H0\")\n",
    "    \n",
    "else:\n",
    "    print(\"there is not a statistically significant between male & female salary ==>Failed to reject H0\")"
   ]
  },
  {
   "cell_type": "markdown",
   "id": "da719ae6-1dfe-4862-b52e-d58a8b384b69",
   "metadata": {},
   "source": [
    "### `Q19 A manufacturer produces two different versions of a product and wants to compare their quality scores. Create a Python function to analyze quality assessment data, calculate the t-statistic, and decide whether there's a significant difference in quality between the two versions`"
   ]
  },
  {
   "cell_type": "markdown",
   "id": "3996231f-8e71-437c-8a02-ff8af3e0904b",
   "metadata": {},
   "source": [
    "Use the following dataY\n",
    "```python\n",
    "\n",
    "version1_scores = [85, 88, 82, 89, 87, 84, 90, 88, 85, 86, 91, 83, 87, 84, 89, 86, 84, 88, 85, 86, 89, 90, 87, 88, 85]\n",
    "\n",
    "version2_scores = [80, 78, 83, 81, 79, 82, 76, 80, 78, 81, 77, 82, 80, 79, 82, 79, 80, 81, 79, 82, 79, 78, 80, 81, 82]"
   ]
  },
  {
   "cell_type": "code",
   "execution_count": 177,
   "id": "170e4b92-0d86-42d8-88d9-9c84cbf8eb7d",
   "metadata": {},
   "outputs": [],
   "source": [
    "# There are two differant version gruop data \n",
    "version1_scores = [85, 88, 82, 89, 87, 84, 90, 88, 85, 86, 91, 83, 87, 84, 89, 86, 84, 88, 85, 86, 89, 90, 87, 88, 85]\n",
    "\n",
    "version2_scores = [80, 78, 83, 81, 79, 82, 76, 80, 78, 81, 77, 82, 80, 79, 82, 79, 80, 81, 79, 82, 79, 78, 80, 81, 82]"
   ]
  },
  {
   "cell_type": "code",
   "execution_count": 178,
   "id": "28b75e1b-b3a0-4e5d-af8d-e328ce9bb197",
   "metadata": {},
   "outputs": [
    {
     "name": "stdout",
     "output_type": "stream",
     "text": [
      "11.325830417646698 3.6824250702873965e-15\n"
     ]
    }
   ],
   "source": [
    "## Here we have got two differant sample data use ttest_ind\n",
    "from scipy import stats\n",
    "\n",
    "t_stats ,Pvalue =stats.ttest_ind(version1_scores,version2_scores)\n",
    "print(t_stats,Pvalue)"
   ]
  },
  {
   "cell_type": "code",
   "execution_count": 179,
   "id": "fcea2331-ef18-4f4f-a2ea-07bbd9f46d6b",
   "metadata": {},
   "outputs": [
    {
     "name": "stdout",
     "output_type": "stream",
     "text": [
      "there is a significant difference in quality between the two versions ==> Reject H0\n"
     ]
    }
   ],
   "source": [
    "if(Pvalue < 0.05 ):\n",
    "    print(\"there is a significant difference in quality between the two versions ==> Reject H0\")\n",
    "    \n",
    "else:\n",
    "    print(\"there is not a significant difference in quality between the two versions9Failed to reject H0\")"
   ]
  },
  {
   "cell_type": "markdown",
   "id": "23f8856b-2749-40a4-8d51-529a0fb6817d",
   "metadata": {},
   "source": [
    "### `Q20. A restaurant chain collects customer satisfaction scores for two different branches. Write a program to analyze the scores, calculate the t-statistic, and determine if there's a statistically significant difference in customer satisfaction between the branches.`"
   ]
  },
  {
   "cell_type": "markdown",
   "id": "8564faff-2619-4fc3-b6d3-dfe39ec57f1d",
   "metadata": {},
   "source": [
    "Use the below data of scores:\n",
    "\n",
    "  ```python\n",
    "\n",
    "branch_a_scores = [4, 5, 3, 4, 5, 4, 5, 3, 4, 4, 5, 4, 4, 3, 4, 5, 5, 4, 3, 4, 5, 4, 3, 5, 4, 4, 5, 3, 4, 5, 4]\n",
    "\n",
    "branch_b_scores = [3, 4, 2, 3, 4, 3, 4, 2, 3, 3, 4, 3, 3, 2, 3, 4, 4, 3, 2, 3, 4, 3, 2, 4, 3, 3, 4, 2, 3, 4, 3]"
   ]
  },
  {
   "cell_type": "code",
   "execution_count": 180,
   "id": "22cc86eb-892d-477b-85b9-397d087434fc",
   "metadata": {},
   "outputs": [],
   "source": [
    "# Data is from differant branch and its scores\n",
    "branch_a_scores = [4, 5, 3, 4, 5, 4, 5, 3, 4, 4, 5, 4, 4, 3, 4, 5, 5, 4, 3, 4, 5, 4, 3, 5, 4, 4, 5, 3, 4, 5, 4]\n",
    "\n",
    "branch_b_scores = [3, 4, 2, 3, 4, 3, 4, 2, 3, 3, 4, 3, 3, 2, 3, 4, 4, 3, 2, 3, 4, 3, 2, 4, 3, 3, 4, 2, 3, 4, 3]"
   ]
  },
  {
   "cell_type": "code",
   "execution_count": 181,
   "id": "616d15d8-66a8-489f-bebc-ecab8d311f72",
   "metadata": {},
   "outputs": [
    {
     "name": "stdout",
     "output_type": "stream",
     "text": [
      "5.480077554195743 8.895290509945655e-07\n",
      "========================================================\n",
      "there is statistically significant difference in customer satisfaction between the branches ==>Reject H0\n"
     ]
    }
   ],
   "source": [
    "## Here we will use ttest_ind\n",
    "from scipy import stats\n",
    "T_stats ,Pvalue =stats.ttest_ind(branch_a_scores,branch_b_scores)\n",
    "print(T_stats,Pvalue)\n",
    "print(\"========================================================\")\n",
    "\n",
    "if(Pvalue < 0.05):\n",
    "    print(\"there is statistically significant difference in customer satisfaction between the branches ==>Reject H0\")\n",
    "    \n",
    "else:\n",
    "    print(\"there's not a statistically significant difference in customer satisfaction between the branches ==>Failed to Reject H0\")"
   ]
  },
  {
   "cell_type": "markdown",
   "id": "59804d05-6966-401a-a67f-dcd3a17f1c96",
   "metadata": {},
   "source": [
    "### `Q21. A political analyst wants to determine if there is a significant association between age groups and voter preferences (Candidate A or Candidate B). They collect data from a sample of 500 voters and classify them into different age groups and candidate preferences. Perform a Chi-Square test to determine if there is a significant association between age groups and voter preferences`"
   ]
  },
  {
   "cell_type": "markdown",
   "id": "3555546a-bac6-4077-9783-8f515df0863f",
   "metadata": {},
   "source": [
    "Use the below code to generate data:\n",
    "\n",
    "```python\n",
    "\n",
    "np.random.seed(0)\n",
    "\n",
    "age_groups = np.random.choice([ 18 30 , 31 50 , 51+', 51+'], size=30)\n",
    "\n",
    "voter_preferences = np.random.choice(['Candidate A', 'Candidate B'], size=30)"
   ]
  },
  {
   "cell_type": "code",
   "execution_count": 182,
   "id": "60256b3f-312d-4110-8d3c-5810665b4eb2",
   "metadata": {},
   "outputs": [
    {
     "data": {
      "text/html": [
       "<div>\n",
       "<style scoped>\n",
       "    .dataframe tbody tr th:only-of-type {\n",
       "        vertical-align: middle;\n",
       "    }\n",
       "\n",
       "    .dataframe tbody tr th {\n",
       "        vertical-align: top;\n",
       "    }\n",
       "\n",
       "    .dataframe thead th {\n",
       "        text-align: right;\n",
       "    }\n",
       "</style>\n",
       "<table border=\"1\" class=\"dataframe\">\n",
       "  <thead>\n",
       "    <tr style=\"text-align: right;\">\n",
       "      <th></th>\n",
       "      <th>Age Group</th>\n",
       "      <th>Voter Preference</th>\n",
       "    </tr>\n",
       "  </thead>\n",
       "  <tbody>\n",
       "    <tr>\n",
       "      <th>0</th>\n",
       "      <td>18-30</td>\n",
       "      <td>Candidate B</td>\n",
       "    </tr>\n",
       "    <tr>\n",
       "      <th>1</th>\n",
       "      <td>51+</td>\n",
       "      <td>Candidate A</td>\n",
       "    </tr>\n",
       "    <tr>\n",
       "      <th>2</th>\n",
       "      <td>31-50</td>\n",
       "      <td>Candidate B</td>\n",
       "    </tr>\n",
       "    <tr>\n",
       "      <th>3</th>\n",
       "      <td>18-30</td>\n",
       "      <td>Candidate A</td>\n",
       "    </tr>\n",
       "    <tr>\n",
       "      <th>4</th>\n",
       "      <td>51+</td>\n",
       "      <td>Candidate B</td>\n",
       "    </tr>\n",
       "  </tbody>\n",
       "</table>\n",
       "</div>"
      ],
      "text/plain": [
       "  Age Group Voter Preference\n",
       "0     18-30      Candidate B\n",
       "1       51+      Candidate A\n",
       "2     31-50      Candidate B\n",
       "3     18-30      Candidate A\n",
       "4       51+      Candidate B"
      ]
     },
     "execution_count": 182,
     "metadata": {},
     "output_type": "execute_result"
    }
   ],
   "source": [
    "np.random.seed(0)\n",
    "\n",
    "age_groups = np.random.choice(['18-30' , '31-50' , '51+', '51+'], size=30)\n",
    "\n",
    "voter_preferences = np.random.choice(['Candidate A', 'Candidate B'], size=30)\n",
    "\n",
    "data =pd.DataFrame({'Age Group': age_groups, 'Voter Preference': voter_preferences})\n",
    "data.head()"
   ]
  },
  {
   "cell_type": "code",
   "execution_count": 183,
   "id": "f64cd556-c7b8-4f28-89b5-7db5529b5328",
   "metadata": {},
   "outputs": [],
   "source": [
    "data_table  =pd.crosstab(data[\"Age Group\"],data[\"Voter Preference\"])\n",
    "Observed_values=data_table.values"
   ]
  },
  {
   "cell_type": "code",
   "execution_count": 184,
   "id": "69a6fc98-30cb-4132-a173-865a3237ab3f",
   "metadata": {},
   "outputs": [
    {
     "name": "stdout",
     "output_type": "stream",
     "text": [
      "Chi2 square 1.086807928913192\n",
      "Pvalue is 0.5807679703526951\n",
      "deegree of freedom 2\n",
      "expected values [[2.93333333 5.06666667]\n",
      " [2.93333333 5.06666667]\n",
      " [5.13333333 8.86666667]]\n"
     ]
    }
   ],
   "source": [
    "from scipy.stats import chi2_contingency\n",
    "chi2, p, dof, expected =chi2_contingency(Observed_values)\n",
    "print(\"Chi2 square\",chi2)\n",
    "print(\"Pvalue is\",p)\n",
    "print(\"deegree of freedom\",dof)\n",
    "print(\"expected values\",expected)"
   ]
  },
  {
   "cell_type": "code",
   "execution_count": 185,
   "id": "a331f112-2ea7-4682-861a-21305ffe7016",
   "metadata": {},
   "outputs": [
    {
     "data": {
      "text/plain": [
       "array([[2.93333333, 5.06666667],\n",
       "       [2.93333333, 5.06666667],\n",
       "       [5.13333333, 8.86666667]])"
      ]
     },
     "execution_count": 185,
     "metadata": {},
     "output_type": "execute_result"
    }
   ],
   "source": [
    "expected"
   ]
  },
  {
   "cell_type": "code",
   "execution_count": 186,
   "id": "37dfc0ca-27eb-43bb-886c-d40a266efde8",
   "metadata": {},
   "outputs": [
    {
     "name": "stdout",
     "output_type": "stream",
     "text": [
      "(array([2, 6]), array([2.93333333, 5.06666667]))\n",
      "(array([4, 4]), array([2.93333333, 5.06666667]))\n",
      "(array([5, 9]), array([5.13333333, 8.86666667]))\n"
     ]
    }
   ],
   "source": [
    "for i in zip(Observed_values ,expected):\n",
    "    print(i)"
   ]
  },
  {
   "cell_type": "code",
   "execution_count": 187,
   "id": "4e0652fc-b3b1-4761-a39a-46c2ca7830b2",
   "metadata": {},
   "outputs": [],
   "source": [
    "chi2_test =sum([(o-e)**2/e for o,e in zip(Observed_values ,expected)])"
   ]
  },
  {
   "cell_type": "code",
   "execution_count": 188,
   "id": "d1f1efad-2ecf-4169-b0d0-fd1dd56da5b2",
   "metadata": {},
   "outputs": [
    {
     "data": {
      "text/plain": [
       "1.0868079289131922"
      ]
     },
     "execution_count": 188,
     "metadata": {},
     "output_type": "execute_result"
    }
   ],
   "source": [
    "chi2_stat =chi2_test[0] +chi2_test[1]\n",
    "chi2_stat"
   ]
  },
  {
   "cell_type": "code",
   "execution_count": 189,
   "id": "f65eaef0-4c3d-4e05-a460-7714d567c9cc",
   "metadata": {},
   "outputs": [
    {
     "data": {
      "text/plain": [
       "2"
      ]
     },
     "execution_count": 189,
     "metadata": {},
     "output_type": "execute_result"
    }
   ],
   "source": [
    "apha =0.05\n",
    "dof"
   ]
  },
  {
   "cell_type": "code",
   "execution_count": 190,
   "id": "5535930f-0895-4204-a4f5-5575a022a4f7",
   "metadata": {},
   "outputs": [
    {
     "data": {
      "text/plain": [
       "5.991464547107979"
      ]
     },
     "execution_count": 190,
     "metadata": {},
     "output_type": "execute_result"
    }
   ],
   "source": [
    "chi2_critical =stats.chi2.ppf(1-apha,df =dof)\n",
    "chi2_critical"
   ]
  },
  {
   "cell_type": "code",
   "execution_count": 191,
   "id": "4807c657-7fe1-4af1-9410-8b3f9a0ad475",
   "metadata": {},
   "outputs": [
    {
     "name": "stdout",
     "output_type": "stream",
     "text": [
      "Failed to reject H0\n"
     ]
    }
   ],
   "source": [
    "if chi2_stat >chi2_critical :\n",
    "    print(\"Reject the H0\")\n",
    "    \n",
    "else:\n",
    "    print(\"Failed to reject H0\")"
   ]
  },
  {
   "cell_type": "markdown",
   "id": "e2158250-ea88-4488-af51-820fc92d9bc1",
   "metadata": {},
   "source": [
    "### `Q22. A company conducted a customer satisfaction survey to determine if there is a significant relationship between product satisfaction levels (Satisfied, Neutral, Dissatisfied) and the region where customers are located (East, West, North, South). The survey data is summarized in a contingency table. Conduct a Chi-Square test to determine if there is a significant relationship between product satisfaction levels and customer regions`"
   ]
  },
  {
   "cell_type": "markdown",
   "id": "5cf04a47-a9bf-470e-9c69-dd55ed0d118a",
   "metadata": {},
   "source": [
    "Sample data:\n",
    "\n",
    "```python\n",
    "\n",
    "#Sample data: Product satisfaction levels (rows) vs. Customer regions (columns)\n",
    "\n",
    "data = np.array([[50, 30, 40, 20], [30, 40, 30, 50], [20, 30, 40, 30]])"
   ]
  },
  {
   "cell_type": "code",
   "execution_count": 192,
   "id": "b8fdee62-0cc4-45d3-9364-f0f70b8e5e39",
   "metadata": {},
   "outputs": [],
   "source": [
    "data = np.array([[50, 30, 40, 20], [30, 40, 30, 50], [20, 30, 40, 30]])\n",
    "data_value =pd.DataFrame(data,index=['Satisfied', 'Neutral', 'Dissatisfied'],columns= ['East', 'West', 'North', 'South'])"
   ]
  },
  {
   "cell_type": "code",
   "execution_count": 193,
   "id": "c87dacbf-7b52-43cb-8be4-2df9282090a8",
   "metadata": {},
   "outputs": [
    {
     "data": {
      "text/html": [
       "<div>\n",
       "<style scoped>\n",
       "    .dataframe tbody tr th:only-of-type {\n",
       "        vertical-align: middle;\n",
       "    }\n",
       "\n",
       "    .dataframe tbody tr th {\n",
       "        vertical-align: top;\n",
       "    }\n",
       "\n",
       "    .dataframe thead th {\n",
       "        text-align: right;\n",
       "    }\n",
       "</style>\n",
       "<table border=\"1\" class=\"dataframe\">\n",
       "  <thead>\n",
       "    <tr style=\"text-align: right;\">\n",
       "      <th></th>\n",
       "      <th>East</th>\n",
       "      <th>West</th>\n",
       "      <th>North</th>\n",
       "      <th>South</th>\n",
       "    </tr>\n",
       "  </thead>\n",
       "  <tbody>\n",
       "    <tr>\n",
       "      <th>Satisfied</th>\n",
       "      <td>50</td>\n",
       "      <td>30</td>\n",
       "      <td>40</td>\n",
       "      <td>20</td>\n",
       "    </tr>\n",
       "    <tr>\n",
       "      <th>Neutral</th>\n",
       "      <td>30</td>\n",
       "      <td>40</td>\n",
       "      <td>30</td>\n",
       "      <td>50</td>\n",
       "    </tr>\n",
       "    <tr>\n",
       "      <th>Dissatisfied</th>\n",
       "      <td>20</td>\n",
       "      <td>30</td>\n",
       "      <td>40</td>\n",
       "      <td>30</td>\n",
       "    </tr>\n",
       "  </tbody>\n",
       "</table>\n",
       "</div>"
      ],
      "text/plain": [
       "              East  West  North  South\n",
       "Satisfied       50    30     40     20\n",
       "Neutral         30    40     30     50\n",
       "Dissatisfied    20    30     40     30"
      ]
     },
     "execution_count": 193,
     "metadata": {},
     "output_type": "execute_result"
    }
   ],
   "source": [
    "data_value"
   ]
  },
  {
   "cell_type": "code",
   "execution_count": 194,
   "id": "bf4e7863-cb05-4827-b4d8-3c43dc983456",
   "metadata": {},
   "outputs": [
    {
     "name": "stdout",
     "output_type": "stream",
     "text": [
      "chi2 Statistics ==>27.777056277056275\n",
      "Pvalue ==>0.00010349448486004387\n",
      "Deegree of freedom ==>6\n",
      "Expected value ==>[[34.14634146 34.14634146 37.56097561 34.14634146]\n",
      " [36.58536585 36.58536585 40.24390244 36.58536585]\n",
      " [29.26829268 29.26829268 32.19512195 29.26829268]]\n"
     ]
    }
   ],
   "source": [
    "chi2, pval, degrees_of_freedom, expected_counts =stats.chi2_contingency(data)\n",
    "\n",
    "print(f\"chi2 Statistics ==>{chi2}\\nPvalue ==>{pval}\\nDeegree of freedom ==>{degrees_of_freedom}\\nExpected value ==>{expected_counts}\")"
   ]
  },
  {
   "cell_type": "code",
   "execution_count": 195,
   "id": "daea60fd-67d8-4e2c-85f6-1880e603160f",
   "metadata": {},
   "outputs": [
    {
     "name": "stdout",
     "output_type": "stream",
     "text": [
      "There is a statistically significant relationship between product satisfaction levels and customer regions.\n"
     ]
    }
   ],
   "source": [
    "if(pval <0.05):\n",
    "    print(\"There is a statistically significant relationship between product satisfaction levels and customer regions.\")\n",
    "else:\n",
    "    print(\"There is not enough evidence to conclude a statistically significant relationship between product satisfaction levels and customer regions.\")"
   ]
  },
  {
   "cell_type": "markdown",
   "id": "4cfd13ee-0b0a-4606-a1c8-46ee27d927c6",
   "metadata": {},
   "source": [
    "### `Q23. A company implemented an employee training program to improve job performance (Effective, Neutral, Ineffective). After the training, they collected data from a sample of employees and classified them based on their job performance before and after the training. Perform a Chi-Square test to determine if there is a significant difference between job performance levels before and after the training.`\n",
    "\n",
    "\n",
    "Sample data:\n",
    "\n",
    "```python\n",
    "\n",
    "Sample data: Job performance levels before (rows) and after (columns) training\n",
    "\n",
    "data = np.array([[50, 30, 20], [30, 40, 30], [20, 30, 40]])"
   ]
  },
  {
   "cell_type": "code",
   "execution_count": 196,
   "id": "a09e5495-8a12-4112-bb0a-1b2ab9e7e320",
   "metadata": {},
   "outputs": [
    {
     "data": {
      "text/plain": [
       "array([[50, 30, 20],\n",
       "       [30, 40, 30],\n",
       "       [20, 30, 40]])"
      ]
     },
     "execution_count": 196,
     "metadata": {},
     "output_type": "execute_result"
    }
   ],
   "source": [
    "data =np.array([[50, 30, 20], [30, 40, 30], [20, 30, 40]])\n",
    "data"
   ]
  },
  {
   "cell_type": "code",
   "execution_count": 197,
   "id": "183a5b2c-c242-4efb-93b9-d0a35b4fc669",
   "metadata": {},
   "outputs": [
    {
     "name": "stdout",
     "output_type": "stream",
     "text": [
      "chi2 stats 22.161728395061726\n",
      "P-value 0.00018609719479882557\n",
      "deegree of freedom 4\n",
      "expected value [[34.48275862 34.48275862 31.03448276]\n",
      " [34.48275862 34.48275862 31.03448276]\n",
      " [31.03448276 31.03448276 27.93103448]]\n"
     ]
    }
   ],
   "source": [
    "chi2 ,pval ,dof ,expected =stats.chi2_contingency(data)\n",
    "print(f\"chi2 stats {chi2}\\nP-value {pval}\\ndeegree of freedom {dof}\\nexpected value {expected}\")"
   ]
  },
  {
   "cell_type": "code",
   "execution_count": 201,
   "id": "32555af3-2109-4b65-9065-4beccaabde24",
   "metadata": {},
   "outputs": [
    {
     "name": "stdout",
     "output_type": "stream",
     "text": [
      "if there is a significant difference between job performance levels before and after the training\n",
      "==> Reject H0\n"
     ]
    }
   ],
   "source": [
    "try :\n",
    "    \n",
    "    if(pval < 0.05):\n",
    "        print(\"if there is a significant difference between job performance levels before and after the training\\n==> Reject H0\")\n",
    "    else:\n",
    "        print(\"if there is not a significant difference between job performance levels before and after the training\\n==>Failed to reject H0\")\n",
    "except :\n",
    "    print(\"Some internal Error\")"
   ]
  },
  {
   "cell_type": "markdown",
   "id": "893fdb91-3021-43ed-9fdc-a264b1c52d86",
   "metadata": {},
   "source": [
    "### `Q24. A company produces three different versions of a product: Standard, Premium, and Deluxe. The company wants to determine if there is a significant difference in customer satisfaction scores among the three product versions. They conducted a survey and collected customer satisfaction scores for each version from a random sample of customers. Perform an ANOVA test to determine if there is a significant difference in customer satisfaction scores.`\n",
    "\n",
    "\n",
    "  Use the following data:\n",
    "\n",
    "  ```python\n",
    "\n",
    "    Sample data: Customer satisfaction scores for each product version\n",
    "\n",
    "  standard_scores = [80, 85, 90, 78, 88, 82, 92, 78, 85, 87]\n",
    "\n",
    "  premium_scores = [90, 92, 88, 92, 95, 91, 96, 93, 89, 93]\n",
    "\n",
    "  deluxe_scores = [95, 98, 92, 97, 96, 94, 98, 97, 92, 99"
   ]
  },
  {
   "cell_type": "code",
   "execution_count": 205,
   "id": "26a9414d-5593-4ee3-a636-8adb8e6f3de4",
   "metadata": {},
   "outputs": [
    {
     "name": "stdout",
     "output_type": "stream",
     "text": [
      "F_statistics is 27.03556231003039\n",
      "P-value is 3.5786328857349003e-07\n"
     ]
    }
   ],
   "source": [
    "from scipy.stats import f_oneway\n",
    "# Sample data == customer satisfication score of each product version\n",
    "standard_scores = [80, 85, 90, 78, 88, 82, 92, 78, 85, 87]\n",
    "premium_scores = [90, 92, 88, 92, 95, 91, 96, 93, 89, 93]\n",
    "deluxe_scores = [95, 98, 92, 97, 96, 94, 98, 97, 92, 99]\n",
    "\n",
    "# Perform Anova Test\n",
    "F_statistics ,p_value =f_oneway(standard_scores,premium_scores,deluxe_scores)\n",
    "print(f\"F_statistics is {F_statistics}\\nP-value is {p_value}\")"
   ]
  },
  {
   "cell_type": "code",
   "execution_count": 208,
   "id": "9feebf4d-9c5e-48ed-845f-25d8d9093727",
   "metadata": {},
   "outputs": [
    {
     "name": "stdout",
     "output_type": "stream",
     "text": [
      "Reject the null hypothesis: There is a significant difference in customer satisfaction scores among the three product versions.\n"
     ]
    }
   ],
   "source": [
    "alpha =0.05\n",
    "if(p_value <= alpha):\n",
    "    print(\"Reject the null hypothesis: There is a significant difference in customer satisfaction scores among the three product versions.\")\n",
    "else:\n",
    "    print(\"Fail to reject the null hypothesis: There is no significant difference in customer satisfaction scores among the three product versions.\")"
   ]
  },
  {
   "cell_type": "code",
   "execution_count": null,
   "id": "1e16a028-4fc1-493d-91a7-4c2c796ef981",
   "metadata": {},
   "outputs": [],
   "source": []
  }
 ],
 "metadata": {
  "kernelspec": {
   "display_name": "Python 3 (ipykernel)",
   "language": "python",
   "name": "python3"
  },
  "language_info": {
   "codemirror_mode": {
    "name": "ipython",
    "version": 3
   },
   "file_extension": ".py",
   "mimetype": "text/x-python",
   "name": "python",
   "nbconvert_exporter": "python",
   "pygments_lexer": "ipython3",
   "version": "3.9.13"
  }
 },
 "nbformat": 4,
 "nbformat_minor": 5
}
