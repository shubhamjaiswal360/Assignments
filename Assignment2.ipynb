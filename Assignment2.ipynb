{
 "cells": [
  {
   "cell_type": "markdown",
   "id": "02e3230b-e1fe-4d73-8bd2-14ec289b306e",
   "metadata": {},
   "source": [
    "# string based problems"
   ]
  },
  {
   "cell_type": "markdown",
   "id": "d8106d3d-f94b-443f-aa86-f934ab9246ad",
   "metadata": {},
   "source": [
    "Q-1 write a program to reverse a string"
   ]
  },
  {
   "cell_type": "code",
   "execution_count": 1,
   "id": "1fa00c37-2d58-40e4-aa1f-001e808062ca",
   "metadata": {},
   "outputs": [
    {
     "name": "stdout",
     "output_type": "stream",
     "text": [
      "llikswp\n"
     ]
    }
   ],
   "source": [
    "# create a string\n",
    "str='pwskill'\n",
    "# reverse the string using string slicing\n",
    "rev_str=str[::-1] \n",
    "\n",
    "#print the result\n",
    "print(rev_str)"
   ]
  },
  {
   "cell_type": "markdown",
   "id": "3e7e6690-bb2f-47c1-a045-3802c22280f3",
   "metadata": {},
   "source": [
    "Q-2 check if string is a palindrom"
   ]
  },
  {
   "cell_type": "code",
   "execution_count": 3,
   "id": "60db8f0f-8f01-434e-acee-373fc4d9f7a2",
   "metadata": {},
   "outputs": [
    {
     "name": "stdout",
     "output_type": "stream",
     "text": [
      "original string : madam\n",
      "string is palindrom\n"
     ]
    }
   ],
   "source": [
    "# create a string\n",
    "str='madam'\n",
    "print('original string :',str)\n",
    "# reverse the string using string slicing\n",
    "rev=str[::-1]\n",
    "\n",
    "# check if oringinal string and reverse string are same then it is palindrom\n",
    "if str==rev:\n",
    "    print('string is palindrom')\n",
    "else:\n",
    "    print('string is not palindrom')"
   ]
  },
  {
   "cell_type": "markdown",
   "id": "0c8d4f3c-9016-42b6-9df3-47b95e4ab214",
   "metadata": {},
   "source": [
    "Q-3 convert a string to uppercase"
   ]
  },
  {
   "cell_type": "code",
   "execution_count": 5,
   "id": "e5c0e592-1f17-45b2-8fdb-ddaf69780ff8",
   "metadata": {},
   "outputs": [
    {
     "name": "stdout",
     "output_type": "stream",
     "text": [
      "original string: Pwskill\n",
      "uppercase string : PWSKILL\n"
     ]
    }
   ],
   "source": [
    "# create a string\n",
    "str='Pwskill'\n",
    "print('original string:',str)\n",
    "#convert oringinal string in uppercase letters by using upper() method\n",
    "str1=str.upper()\n",
    "\n",
    "#print the result\n",
    "print('uppercase string :',str1)"
   ]
  },
  {
   "cell_type": "markdown",
   "id": "167c7e04-3ab6-4a03-a26b-05e464a1a93f",
   "metadata": {},
   "source": [
    "Q-4 convert a string to lowercase"
   ]
  },
  {
   "cell_type": "code",
   "execution_count": 6,
   "id": "7437d6e9-b3b7-4497-a2b8-4de2d4e2d9cb",
   "metadata": {},
   "outputs": [
    {
     "name": "stdout",
     "output_type": "stream",
     "text": [
      "original string: PwskiLL\n",
      "losercase string:  pwskill\n"
     ]
    }
   ],
   "source": [
    "# create a string\n",
    "str='PwskiLL'\n",
    "print('original string:',str)\n",
    "#convert oringinal string in lowercase letters by using lower() method\n",
    "str1=str.lower()\n",
    "\n",
    "#print teh result\n",
    "print('losercase string: ',str1)"
   ]
  },
  {
   "cell_type": "markdown",
   "id": "a3451d4f-1eac-4814-818a-b1a58e9806a8",
   "metadata": {},
   "source": [
    "Q-5 count the number of vowels in a string"
   ]
  },
  {
   "cell_type": "code",
   "execution_count": 8,
   "id": "7335f42a-7674-4580-9378-b9a9c9b9539f",
   "metadata": {},
   "outputs": [
    {
     "name": "stdout",
     "output_type": "stream",
     "text": [
      "string : this is good\n",
      "there are  4  vowel\n"
     ]
    }
   ],
   "source": [
    "# create a string \n",
    "sen='this is good'\n",
    "print('string :',sen)\n",
    "# count variable counts the number of vowels in a string\n",
    "count=0\n",
    "# count the vowels\n",
    "for s in sen:\n",
    "        if (s=='a' or s=='i' or s=='e' or s=='o' or s=='u'or s=='A' or s=='E' or s=='I' or s=='O'or s=='U'):\n",
    "            count=count+1\n",
    "\n",
    "# print the result            \n",
    "print(\"there are \",count,\" vowel\")    "
   ]
  },
  {
   "cell_type": "markdown",
   "id": "f7917cc2-c4ad-4968-baf2-86b08db13a35",
   "metadata": {},
   "source": [
    "Q-6 count the number of consonants in a string"
   ]
  },
  {
   "cell_type": "code",
   "execution_count": 14,
   "id": "3b7bf0f1-8ae0-4ba0-8f17-0adb83af0a07",
   "metadata": {},
   "outputs": [
    {
     "name": "stdout",
     "output_type": "stream",
     "text": [
      "there are  8  consonants\n"
     ]
    }
   ],
   "source": [
    "# create a string \n",
    "sen='this is good'\n",
    "# count variable counts the number of conosonants in a string\n",
    "count=0\n",
    "for s in sen:\n",
    "        if (s=='a' or s=='i' or s=='e' or s=='o' or s=='u'or s=='A' or s=='E' or s=='I' or s=='O'or s=='U'):\n",
    "            count=count+0\n",
    "        else:\n",
    "            count=count+1\n",
    "print(\"there are \",count,\" consonants\")    "
   ]
  },
  {
   "cell_type": "markdown",
   "id": "aff000d4-1989-479c-97af-60505680a32f",
   "metadata": {},
   "source": [
    "Q-7 remove all whitespaces from a string"
   ]
  },
  {
   "cell_type": "code",
   "execution_count": 9,
   "id": "0f0b80ed-8918-4153-aa6e-c612599b478f",
   "metadata": {},
   "outputs": [
    {
     "name": "stdout",
     "output_type": "stream",
     "text": [
      "original string : this is pen\n",
      "modified string: thisispen\n"
     ]
    }
   ],
   "source": [
    "# create a string\n",
    "str='this is pen'\n",
    "print('original string :',str)\n",
    "# repalce space with ''\n",
    "rem=str.replace(' ','')\n",
    "\n",
    "#print the result\n",
    "print('modified string:',rem)"
   ]
  },
  {
   "cell_type": "markdown",
   "id": "4461dec7-b8f6-4a85-8e32-9f64be46207f",
   "metadata": {},
   "source": [
    "Q-8 find the length of a string without using the len() function"
   ]
  },
  {
   "cell_type": "code",
   "execution_count": 11,
   "id": "16bc2df3-17f3-4122-8bbd-16fb9f16dee7",
   "metadata": {},
   "outputs": [
    {
     "name": "stdout",
     "output_type": "stream",
     "text": [
      "length of the string =  7\n"
     ]
    }
   ],
   "source": [
    "# create a string\n",
    "str='pwskill'\n",
    "\n",
    "# count counts the length of string\n",
    "count=0\n",
    "\n",
    "# count the length\n",
    "for s in str:\n",
    "    count=count+1\n",
    "\n",
    "# print the result    \n",
    "print('length of the string = ',count)    "
   ]
  },
  {
   "cell_type": "markdown",
   "id": "ced79991-b102-4661-b472-11486da4cc46",
   "metadata": {},
   "source": [
    "Q-9 check if a string contains a specific word"
   ]
  },
  {
   "cell_type": "code",
   "execution_count": 2,
   "id": "9d2fe530-f181-40a4-8216-699eaa6d5abf",
   "metadata": {},
   "outputs": [
    {
     "name": "stdout",
     "output_type": "stream",
     "text": [
      "this is present\n"
     ]
    }
   ],
   "source": [
    "# create a string\n",
    "str='this is my home'\n",
    "# a word which is check as substring of string\n",
    "substr='my'\n",
    "\n",
    "# check if str contains substr or not\n",
    "if substr in str:\n",
    "    print('this is present')\n",
    "else:\n",
    "    print('this is not present')\n",
    "    "
   ]
  },
  {
   "cell_type": "markdown",
   "id": "d5e4e5ab-2a35-4992-aa52-427017c6133e",
   "metadata": {},
   "source": [
    "Q-10 replace a word in a string wuth another word"
   ]
  },
  {
   "cell_type": "code",
   "execution_count": 12,
   "id": "b044456f-6fcd-426e-9f07-77150daca5da",
   "metadata": {},
   "outputs": [
    {
     "name": "stdout",
     "output_type": "stream",
     "text": [
      "original string : this is table\n",
      "modified str-  that is table\n"
     ]
    }
   ],
   "source": [
    "# create a string\n",
    "str='this is table'\n",
    "print('original string :',str)\n",
    "\n",
    "# replace any word with specific word by using replace()\n",
    "str1=str.replace('this','that')\n",
    "\n",
    "# print the result\n",
    "print('modified str- ',str1)"
   ]
  },
  {
   "cell_type": "markdown",
   "id": "b87c2ff4-4c25-4b4b-9542-59eefb2a967a",
   "metadata": {},
   "source": [
    "Q-11 count the occurance of word in a string"
   ]
  },
  {
   "cell_type": "code",
   "execution_count": 13,
   "id": "4541ea28-baa8-4020-a561-617c4b5d550f",
   "metadata": {},
   "outputs": [
    {
     "name": "stdin",
     "output_type": "stream",
     "text": [
      "enter a string 'this is my car and this is blue'\n",
      "enter a word- this\n"
     ]
    },
    {
     "name": "stdout",
     "output_type": "stream",
     "text": [
      "2  times \n"
     ]
    }
   ],
   "source": [
    "# input any string\n",
    "str=input('enter a string')\n",
    "\n",
    "# the word  whose count the occurance \n",
    "word=input('enter a word-')\n",
    "\n",
    "#count the occurance\n",
    "times=str.count(word)\n",
    "\n",
    "#print the result\n",
    "print(times,' times ')"
   ]
  },
  {
   "cell_type": "markdown",
   "id": "fa312c5a-828b-4e37-b13e-949d137d96a6",
   "metadata": {},
   "source": [
    "Q-12 find the first occurance of a word in a string "
   ]
  },
  {
   "cell_type": "code",
   "execution_count": 17,
   "id": "f879d5c3-0aff-483e-8668-cebcaa56e0cd",
   "metadata": {},
   "outputs": [
    {
     "name": "stdin",
     "output_type": "stream",
     "text": [
      "enter any string : this is my car and this is blue\n",
      "enter a word- this\n"
     ]
    },
    {
     "name": "stdout",
     "output_type": "stream",
     "text": [
      "0\n"
     ]
    }
   ],
   "source": [
    "# input any string\n",
    "str=input('enter any string :')\n",
    "# the word  whose count the occurance \n",
    "word=input('enter a word-')\n",
    "# find the first index of occurance\n",
    "index=str.find(word)\n",
    "\n",
    "if index==-1:\n",
    "    print('this is not present')\n",
    "\n",
    "#print the result\n",
    "print(index)"
   ]
  },
  {
   "cell_type": "markdown",
   "id": "d4dfd7b1-6a82-4edd-ac2f-59b1c26fd5e4",
   "metadata": {},
   "source": [
    "Q-13 find the last occurrence of a word in a string"
   ]
  },
  {
   "cell_type": "code",
   "execution_count": 18,
   "id": "b42aa888-2c87-4034-b921-646f0616e6e8",
   "metadata": {},
   "outputs": [
    {
     "name": "stdin",
     "output_type": "stream",
     "text": [
      "enter any string : this is my car and this is blue\n",
      "enter a word- blue\n"
     ]
    },
    {
     "name": "stdout",
     "output_type": "stream",
     "text": [
      "27\n"
     ]
    }
   ],
   "source": [
    "# input any string\n",
    "str=input('enter any string :')\n",
    "\n",
    "# the word  whose count the occurance \n",
    "word=input('enter a word-')\n",
    "# find the last index of occurance\n",
    "index=str.rfind(word)\n",
    "\n",
    "if index==-1:\n",
    "       print('this is not present')\n",
    "print(index)"
   ]
  },
  {
   "cell_type": "markdown",
   "id": "beada466-791a-4e6c-a63e-1d7e15de5a8d",
   "metadata": {},
   "source": [
    "Q-14 split a string into a list of words"
   ]
  },
  {
   "cell_type": "code",
   "execution_count": 19,
   "id": "639071bb-f90f-41cf-b866-83265e9e63ba",
   "metadata": {},
   "outputs": [
    {
     "name": "stdout",
     "output_type": "stream",
     "text": [
      "['this', 'is', 'book']\n"
     ]
    }
   ],
   "source": [
    "str='this is book'\n",
    "#  split a string into a list using split() method\n",
    "splt=str.split(' ')\n",
    "\n",
    "# print the result\n",
    "print(splt)"
   ]
  },
  {
   "cell_type": "markdown",
   "id": "e973914b-2b73-4a89-b426-d15cdb96eb7b",
   "metadata": {},
   "source": [
    "Q-15 join a list of words into a string"
   ]
  },
  {
   "cell_type": "code",
   "execution_count": 20,
   "id": "fc80ffde-23a1-4fde-957c-9f3f5567c7ce",
   "metadata": {},
   "outputs": [
    {
     "name": "stdout",
     "output_type": "stream",
     "text": [
      " mango apple banana \n"
     ]
    }
   ],
   "source": [
    "# create a list\n",
    "li=['mango','apple','banana']\n",
    "# create a empty string\n",
    "str=' '\n",
    "\n",
    "# add list elements into string\n",
    "for i in li:\n",
    "    str=str+i+' '\n",
    "#print the result    \n",
    "print(str)   "
   ]
  },
  {
   "cell_type": "markdown",
   "id": "893ab480-e85e-4155-b9a8-ae92d3eee391",
   "metadata": {},
   "source": [
    "Q-16 convert a string where words are separated by spaces to one where words\n",
    "     are separated by underscore"
   ]
  },
  {
   "cell_type": "code",
   "execution_count": 23,
   "id": "577f6f8d-5af3-488f-bc12-f92801cc202a",
   "metadata": {},
   "outputs": [
    {
     "name": "stdout",
     "output_type": "stream",
     "text": [
      "this_is_pen\n"
     ]
    }
   ],
   "source": [
    "str='this is pen'\n",
    "# replace space with underscore\n",
    "underscore_separated = str.replace(\" \", \"_\")\n",
    "\n",
    "# print the result\n",
    "print(underscore_separated)"
   ]
  },
  {
   "cell_type": "markdown",
   "id": "753e7dc3-87df-432e-a2ca-e84c0a148bcb",
   "metadata": {},
   "source": [
    "Q-17 check if a string starts with a specific word or phase"
   ]
  },
  {
   "cell_type": "code",
   "execution_count": 24,
   "id": "1b6ba542-f472-4e48-9d08-f8df71b776a2",
   "metadata": {},
   "outputs": [
    {
     "name": "stdin",
     "output_type": "stream",
     "text": [
      "enter a word to check this\n"
     ]
    },
    {
     "name": "stdout",
     "output_type": "stream",
     "text": [
      "True\n"
     ]
    }
   ],
   "source": [
    "str='this is pen'\n",
    "word=input('enter a word to check')\n",
    "# check string start with this word\n",
    "x=str.startswith(word)\n",
    "#print the result\n",
    "print(x)"
   ]
  },
  {
   "cell_type": "markdown",
   "id": "17e78097-a3b2-4458-9d63-68275ccc83d7",
   "metadata": {},
   "source": [
    "Q-18 check if a string ends with a specific word or phase"
   ]
  },
  {
   "cell_type": "code",
   "execution_count": 25,
   "id": "188369f7-ec9b-4b2e-b1a5-283647479766",
   "metadata": {},
   "outputs": [
    {
     "name": "stdin",
     "output_type": "stream",
     "text": [
      "enter a word to check pen\n"
     ]
    },
    {
     "name": "stdout",
     "output_type": "stream",
     "text": [
      "True\n"
     ]
    }
   ],
   "source": [
    "str='this is pen'\n",
    "\n",
    "word=input('enter a word to check')\n",
    "# check string ends with this word\n",
    "x=str.endswith(word)\n",
    "\n",
    "#print the result\n",
    "print(x)"
   ]
  },
  {
   "cell_type": "markdown",
   "id": "cd7f6fab-2092-417a-b599-7502595db360",
   "metadata": {},
   "source": [
    "Q-19  Convert a string to title case (e.g., \"hello world\" to \"Hello World\")."
   ]
  },
  {
   "cell_type": "code",
   "execution_count": 27,
   "id": "947ba305-cb8b-4027-860e-ac6db3d6743f",
   "metadata": {},
   "outputs": [
    {
     "name": "stdout",
     "output_type": "stream",
     "text": [
      "titlecase string:  Hello World\n"
     ]
    }
   ],
   "source": [
    "str='hello world'\n",
    "\n",
    "# by using title method convert the string \n",
    "str1=str.title()\n",
    "\n",
    "print('titlecase string: ',str1)"
   ]
  },
  {
   "cell_type": "markdown",
   "id": "1a2a86c7-08f8-457e-9329-2a3ec3f8eb9f",
   "metadata": {},
   "source": [
    "Q-20 find the longest word in a string"
   ]
  },
  {
   "cell_type": "code",
   "execution_count": 8,
   "id": "f448e0da-131c-433a-9907-99ee7403e787",
   "metadata": {},
   "outputs": [
    {
     "name": "stdin",
     "output_type": "stream",
     "text": [
      "Enter a sentence:   this is apple , this is banana\n"
     ]
    },
    {
     "name": "stdout",
     "output_type": "stream",
     "text": [
      "the longest word in the sentence is : banana\n"
     ]
    }
   ],
   "source": [
    "def find_longest_word(sentence):\n",
    "    words=sentence.split() #split the sentence into words\n",
    "    longest_word=''\n",
    "    for word in words:\n",
    "        if len(word)>len( longest_word):\n",
    "             longest_word=word\n",
    "        \n",
    "    return  longest_word\n",
    " # get input from the user\n",
    "sentence=input('Enter a sentence: ')\n",
    "\n",
    "#call the function to find largest word\n",
    "longest_word=find_longest_word(sentence)\n",
    "\n",
    "#print the result\n",
    "print('the longest word in the sentence is :',longest_word)"
   ]
  },
  {
   "cell_type": "markdown",
   "id": "f884cd67-982e-4d50-87fd-defa58623324",
   "metadata": {},
   "source": [
    "Q-21 find the shortest word in a string "
   ]
  },
  {
   "cell_type": "code",
   "execution_count": 14,
   "id": "b901d724-c209-4484-84db-95d60aa62bb3",
   "metadata": {},
   "outputs": [
    {
     "name": "stdin",
     "output_type": "stream",
     "text": [
      "Enter a sentence:  this is my car\n"
     ]
    },
    {
     "name": "stdout",
     "output_type": "stream",
     "text": [
      "the shortest word in the sentence is : is\n"
     ]
    }
   ],
   "source": [
    "def find_shortest_word(sentence):\n",
    "    words=sentence.split() #split the sentence into words\n",
    "    shortest_word=words[0]\n",
    "    for word in words:\n",
    "        if len(word)<len(shortest_word):\n",
    "             shortest_word=word\n",
    "        \n",
    "    return  shortest_word\n",
    " # get input from the user\n",
    "sentence=input('Enter a sentence: ')\n",
    "\n",
    "#call the function to find shortest word\n",
    "shortest_word=find_shortest_word(sentence)\n",
    "\n",
    "#print the result\n",
    "print('the shortest word in the sentence is :',shortest_word)"
   ]
  },
  {
   "cell_type": "markdown",
   "id": "d152244a-98e1-415c-ba78-a06ffd0081e8",
   "metadata": {},
   "source": [
    "Q-22 Reverse the order of words in a string"
   ]
  },
  {
   "cell_type": "code",
   "execution_count": 29,
   "id": "af39cbb4-b194-4fda-a983-684fca40dfd8",
   "metadata": {},
   "outputs": [
    {
     "name": "stdout",
     "output_type": "stream",
     "text": [
      "original string : hello world\n",
      "reverse order of string : dlrow olleh\n"
     ]
    }
   ],
   "source": [
    "str='hello world'\n",
    "print('original string :',str)\n",
    "# reverse the order of words\n",
    "rev=str[::-1]\n",
    "\n",
    "#print the result\n",
    "print('reverse order of string :',rev)\n"
   ]
  },
  {
   "cell_type": "markdown",
   "id": "fc590870-84d7-4697-9528-932c328e8450",
   "metadata": {},
   "source": [
    "Q-23 check if a string is alphanumeric"
   ]
  },
  {
   "cell_type": "code",
   "execution_count": 30,
   "id": "e5b8fbf1-126e-4ed2-9f3f-987c14e82811",
   "metadata": {},
   "outputs": [
    {
     "name": "stdout",
     "output_type": "stream",
     "text": [
      "True\n"
     ]
    }
   ],
   "source": [
    "str='pwskill10'\n",
    "\n",
    "# check if string contains only alphanumeric character\n",
    "is_digit=str.isalnum()\n",
    "\n",
    "#print the result\n",
    "print(is_digit)"
   ]
  },
  {
   "cell_type": "markdown",
   "id": "a85701b7-cee0-4666-b142-c3e916d31427",
   "metadata": {},
   "source": [
    "Q-24 Extract all digits from a string"
   ]
  },
  {
   "cell_type": "code",
   "execution_count": 18,
   "id": "398e538b-f1ea-4719-91e8-9093ccd43aa5",
   "metadata": {},
   "outputs": [
    {
     "name": "stdin",
     "output_type": "stream",
     "text": [
      "Enter a string:   there are 2 apple for 4 people\n"
     ]
    },
    {
     "name": "stdout",
     "output_type": "stream",
     "text": [
      "Extracted digits:  ['2', '4']\n"
     ]
    }
   ],
   "source": [
    "def extract_digit(input_string):\n",
    "  digits=[]\n",
    "  for char in input_string:\n",
    "     if char.isdigit():\n",
    "        digits.append(char)\n",
    "  return digits\n",
    "\n",
    "#get the input from user\n",
    "input_string=input('Enter a string: ')\n",
    "\n",
    "#call the function to extract digits\n",
    "\n",
    "digit_list=extract_digit(input_string)\n",
    "\n",
    "print('Extracted digits: ',str(digit_list))\n",
    "      "
   ]
  },
  {
   "cell_type": "markdown",
   "id": "780e930a-e2d1-476d-90a5-0284a2e71f33",
   "metadata": {},
   "source": [
    "Q-25 Extract all alphabets from a string"
   ]
  },
  {
   "cell_type": "code",
   "execution_count": 3,
   "id": "a3ae42d0-ebc4-494a-b395-86e8938a91e4",
   "metadata": {},
   "outputs": [
    {
     "name": "stdin",
     "output_type": "stream",
     "text": [
      "Enter a string:   there are 2 apple for 4 people\n"
     ]
    },
    {
     "name": "stdout",
     "output_type": "stream",
     "text": [
      "Extracted digits:  ['t', 'h', 'e', 'r', 'e', 'a', 'r', 'e', 'a', 'p', 'p', 'l', 'e', 'f', 'o', 'r', 'p', 'e', 'o', 'p', 'l', 'e']\n"
     ]
    }
   ],
   "source": [
    "def extract_digit(input_string):\n",
    "  digits=[]\n",
    "  for char in input_string:\n",
    "     if char.isalpha():\n",
    "        digits.append(char)\n",
    "  return digits\n",
    "\n",
    "#get the input from user\n",
    "input_string=input('Enter a string: ')\n",
    "\n",
    "#call the function to extract \n",
    "\n",
    "digit_list=extract_digit(input_string)\n",
    "print('Extracted digits: ',str(digit_list))\n",
    "      "
   ]
  },
  {
   "cell_type": "markdown",
   "id": "77bc75e5-d35f-44b7-b05f-83614af3aa77",
   "metadata": {},
   "source": [
    "Q-26 count the number of uppercase letters in a string"
   ]
  },
  {
   "cell_type": "code",
   "execution_count": 4,
   "id": "eb4a9260-c1ad-4326-84d3-73c83f9ca7e5",
   "metadata": {},
   "outputs": [
    {
     "name": "stdin",
     "output_type": "stream",
     "text": [
      "Enter a sentence 'This is Good and This is Bad'\n"
     ]
    },
    {
     "name": "stdout",
     "output_type": "stream",
     "text": [
      "there are total  4  uppercase\n"
     ]
    }
   ],
   "source": [
    "str=input('Enter a sentence')\n",
    "# store the count of uppercase letter\n",
    "count=0\n",
    "\n",
    "#count the uppercase letters\n",
    "for i in str:\n",
    "    if i.isupper():\n",
    "        count+=1\n",
    "# print the count        \n",
    "print('there are total ',count,' uppercase')\n"
   ]
  },
  {
   "cell_type": "markdown",
   "id": "6c208722-e9f8-4bdd-975c-615d1c7c7692",
   "metadata": {},
   "source": [
    "Q-27 count the number of lowercase letters in a string"
   ]
  },
  {
   "cell_type": "code",
   "execution_count": 6,
   "id": "5248c84f-984d-4848-aa63-b6d35717d55e",
   "metadata": {},
   "outputs": [
    {
     "name": "stdin",
     "output_type": "stream",
     "text": [
      "Enter a sentence:  This is Good and This is Bad\n"
     ]
    },
    {
     "name": "stdout",
     "output_type": "stream",
     "text": [
      "there are total  18  lowercase\n"
     ]
    }
   ],
   "source": [
    "str=input('Enter a sentence: ')\n",
    "count=0\n",
    "# count the lowercase letter\n",
    "for i in str:\n",
    "    if i.islower():\n",
    "        count+=1\n",
    "# print the count        \n",
    "print('there are total ',count,' lowercase')\n"
   ]
  },
  {
   "cell_type": "markdown",
   "id": "d91663ba-5ab7-4e6e-b5d1-95c7ba86530c",
   "metadata": {},
   "source": [
    "Q-28 swap the case of each character in a string"
   ]
  },
  {
   "cell_type": "code",
   "execution_count": 2,
   "id": "3746fdb0-1f5b-4474-9e0e-1d066df64a57",
   "metadata": {},
   "outputs": [
    {
     "name": "stdin",
     "output_type": "stream",
     "text": [
      "input any string heLloWorld\n"
     ]
    },
    {
     "name": "stdout",
     "output_type": "stream",
     "text": [
      "HElLOwORLD\n"
     ]
    }
   ],
   "source": [
    "def swap_string(input_str):\n",
    "        str2=input_str.swapcase()\n",
    "        return str2\n",
    "input_str=input('input any string')  \n",
    "\n",
    "result=swap_string(input_str)\n",
    "print(result)"
   ]
  },
  {
   "cell_type": "markdown",
   "id": "1d512f86-2b0a-4950-81e2-8ab15db56c31",
   "metadata": {},
   "source": [
    "Q-29 Remove a specific word from string"
   ]
  },
  {
   "cell_type": "code",
   "execution_count": 9,
   "id": "b70569ff-2838-41d9-9b3e-bed1347b65e1",
   "metadata": {},
   "outputs": [
    {
     "name": "stdin",
     "output_type": "stream",
     "text": [
      "Enter a sentence: my name is srishti\n",
      "Enter a word that you want to remove: name\n"
     ]
    },
    {
     "name": "stdout",
     "output_type": "stream",
     "text": [
      "after remove a word:  my  is srishti\n"
     ]
    }
   ],
   "source": [
    "str=input('Enter a sentence:')\n",
    "word=input('Enter a word that you want to remove:')\n",
    "\n",
    "# repalce word to no space\n",
    "str1=str.replace(word,'')\n",
    "print('after remove a word: ',str1)"
   ]
  },
  {
   "cell_type": "markdown",
   "id": "8cc0b91d-3f75-4168-9421-cdae72e6d51a",
   "metadata": {},
   "source": [
    "Q-30 check if a string is a valid email address"
   ]
  },
  {
   "cell_type": "code",
   "execution_count": 3,
   "id": "c8089bfe-416b-4cc3-9063-392095fcbab1",
   "metadata": {},
   "outputs": [
    {
     "name": "stdout",
     "output_type": "stream",
     "text": [
      "True\n",
      "False\n"
     ]
    }
   ],
   "source": [
    "import re  # Import the regular expression module\n",
    "\n",
    "def is_valid_email(email):\n",
    "    pattern = r'^[\\w\\.-]+@[\\w\\.-]+\\.\\w+$'  # Regular expression pattern for a basic email validation\n",
    "    if re.match(pattern, email):\n",
    "        return True\n",
    "    else:\n",
    "        return False\n",
    "\n",
    "# Example email addresses\n",
    "email1 = \"example@email.com\"\n",
    "email2 = \"invalid-email\"\n",
    "result1 = is_valid_email(email1)\n",
    "result2 = is_valid_email(email2)\n",
    "print(result1)\n",
    "print(result2)"
   ]
  },
  {
   "cell_type": "markdown",
   "id": "c0f2d7e5-5801-4c21-b48f-75b5abc08221",
   "metadata": {},
   "source": [
    "Q-31 Extract the username from an email addess string"
   ]
  },
  {
   "cell_type": "code",
   "execution_count": 5,
   "id": "cd62e692-6cbc-4804-8eeb-81cf7d5d54dc",
   "metadata": {},
   "outputs": [
    {
     "name": "stdout",
     "output_type": "stream",
     "text": [
      "example\n"
     ]
    }
   ],
   "source": [
    "def extract_username(email):\n",
    "    username = email.split('@')[0] # Split the email address at \"@\" and take the first part\n",
    "    return username\n",
    "\n",
    "# Example email address\n",
    "email = \"example@email.com\"\n",
    "result = extract_username(email)\n",
    "print(result)"
   ]
  },
  {
   "cell_type": "markdown",
   "id": "2e30ed3c-71de-4b0b-abf2-d3c108309d69",
   "metadata": {},
   "source": [
    "Q-32 Extract the domain name from an email addess string"
   ]
  },
  {
   "cell_type": "code",
   "execution_count": 1,
   "id": "83d3dc9d-6689-4a28-9a5c-73a4c56cf839",
   "metadata": {},
   "outputs": [
    {
     "name": "stdout",
     "output_type": "stream",
     "text": [
      "email.com\n"
     ]
    }
   ],
   "source": [
    "def extract_domain(email):\n",
    "    domain = email.split('@')[1]  # Split the email address at \"@\" and take the second part\n",
    "    return domain\n",
    "\n",
    "# Example email address\n",
    "email = \"example@email.com\"\n",
    "result = extract_domain(email)\n",
    "print(result)"
   ]
  },
  {
   "cell_type": "markdown",
   "id": "a15a944d-7444-49c5-98c8-c53eba4948c2",
   "metadata": {},
   "source": [
    "Q-33 Replace multiple spaces in a string with single space"
   ]
  },
  {
   "cell_type": "code",
   "execution_count": 12,
   "id": "4e90d9bc-8355-4278-83f0-52515e414398",
   "metadata": {},
   "outputs": [
    {
     "data": {
      "text/plain": [
       "'Hello world! How are you?'"
      ]
     },
     "execution_count": 12,
     "metadata": {},
     "output_type": "execute_result"
    }
   ],
   "source": [
    "def replace_multiple_spaces(input_string):\n",
    "    cleaned_string = ' '.join(input_string.split())  # Split the string at spaces and then join using a single space\n",
    "    return cleaned_string\n",
    "\n",
    "# Example input string with multiple spaces\n",
    "input_string = \"Hello     world!   How   are   you?\"\n",
    "result = replace_multiple_spaces(input_string)\n",
    "print(result)"
   ]
  },
  {
   "cell_type": "markdown",
   "id": "9ea60210-1ca0-452f-8e58-336b10cd810c",
   "metadata": {},
   "source": [
    "Q-34 check if a string is a valid URL"
   ]
  },
  {
   "cell_type": "code",
   "execution_count": 13,
   "id": "c05ce079-fe6a-409b-9716-6df4bb0cac1d",
   "metadata": {},
   "outputs": [
    {
     "name": "stdout",
     "output_type": "stream",
     "text": [
      "True\n",
      "False\n"
     ]
    }
   ],
   "source": [
    "from urllib.parse import urlparse\n",
    "\n",
    "def is_valid_url(url):\n",
    "    try:\n",
    "        result = urlparse(url)\n",
    "        return all([result.scheme, result.netloc])  # Check if both scheme and netloc are present\n",
    "    except ValueError:\n",
    "        return False\n",
    "\n",
    "# Example URLs\n",
    "url1 = \"https://www.example.com\"\n",
    "url2 = \"invalid-url\"\n",
    "result1 = is_valid_url(url1)\n",
    "result2 = is_valid_url(url2)\n",
    "print(result1)  # Should print True\n",
    "print(result2)  # Should print False"
   ]
  },
  {
   "cell_type": "markdown",
   "id": "539ec18c-059e-44c9-acf2-c5e448a45312",
   "metadata": {},
   "source": [
    "Q-35 Extract the protocol from a URL string"
   ]
  },
  {
   "cell_type": "code",
   "execution_count": 32,
   "id": "14acfcd4-7fc9-4a08-bb7a-375edf697e55",
   "metadata": {},
   "outputs": [
    {
     "name": "stdout",
     "output_type": "stream",
     "text": [
      "https\n",
      "http\n"
     ]
    }
   ],
   "source": [
    "def extract_protocol(url):\n",
    "    # Find the index of the first occurrence of \"://\"\n",
    "    protocol_end = url.find(\"://\")\n",
    "\n",
    "    if protocol_end != -1:\n",
    "        # Extract the protocol from the URL\n",
    "        protocol = url[:protocol_end]\n",
    "        return protocol\n",
    "    else:\n",
    "        return None\n",
    "\n",
    "# Example URL strings\n",
    "url1 = \"https://www.example.com\"\n",
    "url2 = \"http://google.com\"\n",
    "# Extract protocols\n",
    "protocol1 = extract_protocol(url1)\n",
    "protocol2 = extract_protocol(url2)     \n",
    "\n",
    "print(protocol1)\n",
    "print(protocol2)"
   ]
  },
  {
   "cell_type": "markdown",
   "id": "0b521b80-8569-4c7f-9121-c900ba1d7e37",
   "metadata": {},
   "source": [
    "Q-36 find the frequency of each character in a string"
   ]
  },
  {
   "cell_type": "code",
   "execution_count": 25,
   "id": "ea03cb8f-10f5-4d3f-9f5a-11a9ff348c1b",
   "metadata": {},
   "outputs": [
    {
     "name": "stdout",
     "output_type": "stream",
     "text": [
      "charcter h   frequency  1\n",
      "charcter e   frequency  1\n",
      "charcter l   frequency  3\n",
      "charcter o   frequency  2\n",
      "charcter     frequency  1\n",
      "charcter w   frequency  1\n",
      "charcter r   frequency  1\n",
      "charcter d   frequency  1\n"
     ]
    }
   ],
   "source": [
    "def count_freq(input_str):\n",
    "    frequency={} # create a empty dictionary\n",
    "          \n",
    "    for i in input_str:\n",
    "        if i in frequency:\n",
    "              frequency[i]+=1 # Increment the frequency count if the character is already in the dictionary\n",
    "        else:\n",
    "            frequency[i] = 1 # Initialize the frequency count to 1 if the character is not in the dictionary\n",
    "\n",
    "    return  frequency          \n",
    "#create a string\n",
    "input_str = \"hello world\"\n",
    "\n",
    "#call the function\n",
    "char_freq =count_freq(input_str)\n",
    "\n",
    "# print the result\n",
    "for i,count in char_freq.items() :\n",
    "                       print('charcter',i,' ','frequency ',count)\n"
   ]
  },
  {
   "cell_type": "markdown",
   "id": "6233018b-a40d-48f7-a379-5fe844e43c8f",
   "metadata": {},
   "source": [
    "Q-37 Remove all punctuation from a string"
   ]
  },
  {
   "cell_type": "code",
   "execution_count": 39,
   "id": "655d9ea8-54aa-4fd8-8f2e-3cb6c4596a65",
   "metadata": {},
   "outputs": [
    {
     "name": "stdout",
     "output_type": "stream",
     "text": [
      "original string:  Hello, world! How's it going?\n",
      "modified string:  Hello world Hows it going\n"
     ]
    }
   ],
   "source": [
    "import string\n",
    "\n",
    "def remove_punc(input_str):\n",
    "            # Create a translation table to remove punctuation\n",
    "                translator=str.maketrans(\"\",\"\",string.punctuation)\n",
    "            \n",
    "             # Use the translation table to remove punctuation from the input string\n",
    "                clean_str=input_str.translate(translator)\n",
    "                return clean_str\n",
    "\n",
    "# create a string\n",
    "input_str= \"Hello, world! How's it going?\"\n",
    "\n",
    "#call the function\n",
    "cleaned_str=remove_punc(input_str)\n",
    "\n",
    "#print the result\n",
    "print('original string: ',input_str)\n",
    "print('modified string: ',cleaned_str)\n"
   ]
  },
  {
   "cell_type": "markdown",
   "id": "24ee1a01-6559-4172-821e-279e2b57331a",
   "metadata": {},
   "source": [
    "Q-38 check if a string contains only digits"
   ]
  },
  {
   "cell_type": "code",
   "execution_count": 4,
   "id": "5198f0a2-185c-4991-b813-9b2b52abc77c",
   "metadata": {},
   "outputs": [
    {
     "name": "stdin",
     "output_type": "stream",
     "text": [
      "Enter a sentence: 1234\n"
     ]
    },
    {
     "name": "stdout",
     "output_type": "stream",
     "text": [
      "the string contains only digit\n"
     ]
    }
   ],
   "source": [
    "#input a string\n",
    "str=input('Enter a sentence:')\n",
    "\n",
    "# check if string contains only digit\n",
    "if str.isdigit():\n",
    "    print('the string contains only digit')\n",
    "else:\n",
    "    print('not only digit')"
   ]
  },
  {
   "cell_type": "markdown",
   "id": "d2920f72-fecd-41b0-ba1c-bf1508ac29a4",
   "metadata": {},
   "source": [
    "Q-39 check if a string contains only alphabets"
   ]
  },
  {
   "cell_type": "code",
   "execution_count": 6,
   "id": "f4f0a909-1bb7-43c9-a997-9564733e8a7e",
   "metadata": {},
   "outputs": [
    {
     "name": "stdin",
     "output_type": "stream",
     "text": [
      "Enter a sentence: pwskill12\n"
     ]
    },
    {
     "name": "stdout",
     "output_type": "stream",
     "text": [
      "not only alphabet\n"
     ]
    }
   ],
   "source": [
    "#input a string\n",
    "str=input('Enter a sentence:')\n",
    "\n",
    "# check if string contains only alphabets\n",
    "if str.isalpha():\n",
    "    print('the string contains only alphabet')\n",
    "else:\n",
    "    print('not only alphabet')"
   ]
  },
  {
   "cell_type": "markdown",
   "id": "43c4993b-d960-4198-bad6-d60e717d29ad",
   "metadata": {},
   "source": [
    "Q-40 convert a string to a list of character"
   ]
  },
  {
   "cell_type": "code",
   "execution_count": 8,
   "id": "8265f69b-abb2-4da9-a4a6-8a675cdb54c3",
   "metadata": {},
   "outputs": [
    {
     "name": "stdin",
     "output_type": "stream",
     "text": [
      "Enter a sentence: pwskill\n"
     ]
    },
    {
     "name": "stdout",
     "output_type": "stream",
     "text": [
      "string to list:  ['p', 'w', 's', 'k', 'i', 'l', 'l']\n"
     ]
    }
   ],
   "source": [
    "str=input('Enter a sentence:')\n",
    "#create a list\n",
    "li=[]\n",
    "#convert string to list\n",
    "for i in str:\n",
    "    li.append(i)\n",
    "print('string to list: ',li)"
   ]
  },
  {
   "cell_type": "markdown",
   "id": "33aed3b8-8941-4a0a-b9e1-cea47b29a0e2",
   "metadata": {},
   "source": [
    "Q-41 check if two strings are anagrams"
   ]
  },
  {
   "cell_type": "code",
   "execution_count": 35,
   "id": "0f0df946-8ea3-4312-8d8a-c3a96f0188ba",
   "metadata": {},
   "outputs": [
    {
     "name": "stdin",
     "output_type": "stream",
     "text": [
      "enter 1string: mango\n",
      "enter 2string: goman\n"
     ]
    },
    {
     "name": "stdout",
     "output_type": "stream",
     "text": [
      "strings are anagram\n"
     ]
    }
   ],
   "source": [
    "#enter input strings\n",
    "str1=input('enter 1string:')\n",
    "str2=input('enter 2string:')\n",
    "\n",
    "#convert into lowercase and sort\n",
    "str1=sorted(str1.lower())\n",
    "str2=sorted(str2.lower())\n",
    "#strings are anagram or not\n",
    "if(str1==str2):\n",
    "    print('strings are anagram')\n",
    "else:\n",
    "    print('not anagram')"
   ]
  },
  {
   "cell_type": "markdown",
   "id": "73172c74-40b1-4e45-b823-df84bbdddd9a",
   "metadata": {},
   "source": [
    "Q-42 Encode a string using caser cipher "
   ]
  },
  {
   "cell_type": "code",
   "execution_count": 29,
   "id": "22bd8245-2c15-446a-82ba-dfe545d92e99",
   "metadata": {},
   "outputs": [
    {
     "ename": "SyntaxError",
     "evalue": "invalid non-printable character U+00A0 (662694739.py, line 20)",
     "output_type": "error",
     "traceback": [
      "\u001b[0;36m  Cell \u001b[0;32mIn[29], line 20\u001b[0;36m\u001b[0m\n\u001b[0;31m    print \"Cipher: \" + encrypt(text,s)\u001b[0m\n\u001b[0m                      ^\u001b[0m\n\u001b[0;31mSyntaxError\u001b[0m\u001b[0;31m:\u001b[0m invalid non-printable character U+00A0\n"
     ]
    }
   ],
   "source": [
    "def encrypt(inputText,s):\n",
    "    result = \"\"\n",
    " \n",
    "    # traverse text\n",
    "    for i in range(len(inputText)):\n",
    "        char = inputText[i]\n",
    " \n",
    "        # Encrypt uppercase characters\n",
    "        if (char.isupper()):\n",
    "            result += chr((ord(char) + s-65) % 26 + 65)\n",
    " \n",
    "        # Encrypt lowercase characters\n",
    "        else:\n",
    "            result += chr((ord(char) + s - 97) % 26 + 97)\n",
    " \n",
    "    return result\n",
    " \n",
    "#check the above function\n",
    "text = \"CELESTY\"\n",
    "s = 4\n",
    "print (\"Text  : \" + inputText)\n",
    "print (\"Shift : \" + str(s))\n",
    "print (\"Cipher: \" + encrypt(text,s))\n",
    "\n"
   ]
  },
  {
   "cell_type": "markdown",
   "id": "13f5f7dd-d531-4712-9353-204e67ecd792",
   "metadata": {},
   "source": [
    "Q-43 Decode a caesar cipher encoded string"
   ]
  },
  {
   "cell_type": "code",
   "execution_count": 14,
   "id": "82a0197c-e32c-46dd-b519-a601c389a0e4",
   "metadata": {},
   "outputs": [
    {
     "name": "stdout",
     "output_type": "stream",
     "text": [
      "Decoded text: ilmm, world!\n"
     ]
    }
   ],
   "source": [
    "def caesar_cipher_decoder(text, shift):\n",
    "\n",
    "    # Initialize an empty string to store the decoded text\n",
    "    decoded_text = \"\"\n",
    "\n",
    "    # Loop through each character in the input text\n",
    "    for char in text:\n",
    "        # Check if the character is an alphabetic character\n",
    "        if char.isalpha():\n",
    "            # Calculate the decoded character using the shift value\n",
    "            decoded_char = chr((ord(char) - shift - ord('a')) % 26 + ord('a'))\n",
    "        else:\n",
    "            # If the character is not alphabetic, keep it unchanged\n",
    "            decoded_char = char\n",
    "\n",
    "        # Add the decoded character to the decoded text\n",
    "        decoded_text += decoded_char\n",
    "\n",
    "    # Return the fully decoded text\n",
    "    return decoded_text\n",
    "\n",
    "# Example input\n",
    "text = \"lopp, zruog!\"\n",
    "shift = 3\n",
    "\n",
    "# Call the caesar_cipher_decoder function to decode the input text\n",
    "decoded_text = caesar_cipher_decoder(text, shift)\n",
    "\n",
    "# Print the decoded text\n",
    "print(\"Decoded text:\", decoded_text)            "
   ]
  },
  {
   "cell_type": "markdown",
   "id": "d5caefc5-db84-46aa-8422-05438e35ec2c",
   "metadata": {},
   "source": [
    "Q-44 find the most frequent word in a string"
   ]
  },
  {
   "cell_type": "code",
   "execution_count": 34,
   "id": "a95eb284-fcac-4474-a875-1cec08b310ef",
   "metadata": {},
   "outputs": [
    {
     "name": "stdout",
     "output_type": "stream",
     "text": [
      "Most frequent word: hello\n"
     ]
    }
   ],
   "source": [
    "import re\n",
    "from collections import Counter\n",
    "\n",
    "def most_frequent_word(input_string):\n",
    "    # Remove punctuation and convert to lowercase\n",
    "    clean_string = re.sub(r'[^\\w\\s]', '', input_string).lower()\n",
    "\n",
    "    # Split the string into words\n",
    "    words = clean_string.split()\n",
    "\n",
    "    # Use Counter to count word frequencies\n",
    "    word_counter = Counter(words)\n",
    "\n",
    "    # Find the most common word\n",
    "    most_common_word = word_counter.most_common(1)[0][0]\n",
    "\n",
    "    return most_common_word\n",
    "\n",
    "# Example string\n",
    "input_str = \"Hello world, hello there! How's the world?\"\n",
    "\n",
    "# Find the most frequent word\n",
    "most_common = most_frequent_word(input_str)\n",
    "\n",
    "# Print the result\n",
    "print(\"Most frequent word:\", most_common)"
   ]
  },
  {
   "cell_type": "markdown",
   "id": "f7f5e46e-78d6-4398-97c8-8d817f0ad238",
   "metadata": {},
   "source": [
    "Q-45 find all unique words in a string"
   ]
  },
  {
   "cell_type": "code",
   "execution_count": 35,
   "id": "6d02c0ab-6a6e-4b4a-bb22-8f30109a9c39",
   "metadata": {},
   "outputs": [
    {
     "name": "stdout",
     "output_type": "stream",
     "text": [
      "Unique words: {'world', 'the', 'hello', 'hows', 'there'}\n"
     ]
    }
   ],
   "source": [
    "import re\n",
    "\n",
    "def unique_words(input_string):\n",
    "    # Remove punctuation and convert to lowercase\n",
    "    clean_string = re.sub(r'[^\\w\\s]', '', input_string).lower()\n",
    "\n",
    "    # Split the string into words and convert to a set for uniqueness\n",
    "    words = set(clean_string.split())\n",
    "\n",
    "    return words\n",
    "\n",
    "# Example string\n",
    "input_str = \"Hello world, hello there! How's the world?\"\n",
    "\n",
    "# Find unique words\n",
    "unique_word_set = unique_words(input_str)\n",
    "\n",
    "# Print the result\n",
    "print(\"Unique words:\", unique_word_set)"
   ]
  },
  {
   "cell_type": "markdown",
   "id": "23854b82-fd70-4a85-a358-5c1f8eb63c40",
   "metadata": {},
   "source": [
    "Q-46 connt the number of syllables in a strings"
   ]
  },
  {
   "cell_type": "code",
   "execution_count": 36,
   "id": "f2345728-d3c8-4ab6-a749-997a18475df3",
   "metadata": {},
   "outputs": [
    {
     "name": "stdout",
     "output_type": "stream",
     "text": [
      "'hello' has 2 syllables.\n",
      "'banana' has 3 syllables.\n",
      "'syllable' has 3 syllables.\n"
     ]
    }
   ],
   "source": [
    "import re\n",
    "\n",
    "def count_syllables(word):\n",
    "    # Count vowel groups using regular expression\n",
    "    vowel_groups = re.findall(r'[aeiouy]+', word, re.IGNORECASE)\n",
    "\n",
    "    return len(vowel_groups)\n",
    "\n",
    "# Example words\n",
    "word1 = \"hello\"\n",
    "word2 = \"banana\"\n",
    "word3 = \"syllable\"\n",
    "\n",
    "# Count syllables\n",
    "syllables1 = count_syllables(word1)\n",
    "syllables2 = count_syllables(word2)\n",
    "syllables3 = count_syllables(word3)\n",
    "\n",
    "# Print the results\n",
    "print(f\"'{word1}' has {syllables1} syllables.\")\n",
    "print(f\"'{word2}' has {syllables2} syllables.\")\n",
    "print(f\"'{word3}' has {syllables3} syllables.\")"
   ]
  },
  {
   "cell_type": "markdown",
   "id": "e0be8f1a-9099-483d-872b-d4a22f7d5a40",
   "metadata": {},
   "source": [
    "Q-47 check if a string contains any special character"
   ]
  },
  {
   "cell_type": "code",
   "execution_count": 37,
   "id": "391a1d28-c961-477f-bf84-76cb6083b581",
   "metadata": {},
   "outputs": [
    {
     "name": "stdout",
     "output_type": "stream",
     "text": [
      "'Hello, world!' contains special characters: True\n",
      "'This is a test.' contains special characters: True\n",
      "'Special@Characters' contains special characters: True\n"
     ]
    }
   ],
   "source": [
    "import re\n",
    "\n",
    "def contains_special_characters(input_string):\n",
    "    # Define a regular expression pattern to match special characters\n",
    "    pattern = re.compile(r'[!@#$%^&*()_+{}\\[\\]:;<>,.?~\\\\/]')\n",
    "\n",
    "    # Use the search() method to find a match\n",
    "    match = pattern.search(input_string)\n",
    "\n",
    "    # Return True if a match is found, False otherwise\n",
    "    return bool(match)\n",
    "\n",
    "# Example strings\n",
    "string1 = \"Hello, world!\"\n",
    "string2 = \"This is a test.\"\n",
    "string3 = \"Special@Characters\"\n",
    "\n",
    "# Check if strings contain special characters\n",
    "result1 = contains_special_characters(string1)\n",
    "result2 = contains_special_characters(string2)\n",
    "result3 = contains_special_characters(string3)\n",
    "\n",
    "# Print the results\n",
    "print(f\"'{string1}' contains special characters:\", result1)\n",
    "print(f\"'{string2}' contains special characters:\", result2)\n",
    "print(f\"'{string3}' contains special characters:\", result3)"
   ]
  },
  {
   "cell_type": "markdown",
   "id": "838aa43b-c251-4535-b4de-f6e274c80367",
   "metadata": {},
   "source": [
    "Q-48 Remove the nth word from a string"
   ]
  },
  {
   "cell_type": "code",
   "execution_count": 38,
   "id": "00ac779e-0201-4d05-b3e9-80a30f24ccc1",
   "metadata": {},
   "outputs": [
    {
     "name": "stdout",
     "output_type": "stream",
     "text": [
      "Original string: This is an example sentence to test the function.\n",
      "Modified string: This is an sentence to test the function.\n",
      "Removed word: example\n"
     ]
    }
   ],
   "source": [
    "def remove_nth_word(input_string, n):\n",
    "    # Split the input string into words\n",
    "    words = input_string.split()\n",
    "\n",
    "    # Check if n is within a valid range\n",
    "    if n >= 1 and n <= len(words):\n",
    "        # Remove the nth word by excluding it from the words list\n",
    "        removed_word = words.pop(n - 1)\n",
    "\n",
    "        # Join the remaining words to form the modified string\n",
    "        modified_string = ' '.join(words)\n",
    "\n",
    "        return modified_string, removed_word\n",
    "    else:\n",
    "        return None, None\n",
    "\n",
    "# Example string and n value\n",
    "input_str = \"This is an example sentence to test the function.\"\n",
    "n_value = 4\n",
    "# Remove the nth word\n",
    "modified_str, removed_word = remove_nth_word(input_str, n_value)\n",
    "\n",
    "# Print the results\n",
    "print(\"Original string:\", input_str)\n",
    "if modified_str is not None:\n",
    "    print(\"Modified string:\", modified_str)\n",
    "    print(\"Removed word:\", removed_word)\n",
    "else:\n",
    "    print(\"Invalid n value.\")"
   ]
  },
  {
   "cell_type": "markdown",
   "id": "51f91c98-44bb-4b30-aad9-9a25e185db03",
   "metadata": {},
   "source": [
    "Q-49 insert a word at the nth position in a string"
   ]
  },
  {
   "cell_type": "code",
   "execution_count": 39,
   "id": "e667676f-bf14-4a77-b250-c0a6ffd07ed3",
   "metadata": {},
   "outputs": [
    {
     "name": "stdout",
     "output_type": "stream",
     "text": [
      "Original string: This is an example sentence to test the function.\n",
      "Modified string: This is an sentence to test the function.\n",
      "Removed word: example\n"
     ]
    }
   ],
   "source": [
    "def remove_nth_word(input_string, n):\n",
    "    # Split the input string into words\n",
    "    words = input_string.split()\n",
    "\n",
    "    # Check if n is within a valid range\n",
    "    if n >= 1 and n <= len(words):\n",
    "        # Remove the nth word by excluding it from the words list\n",
    "        removed_word = words.pop(n - 1)\n",
    "\n",
    "        # Join the remaining words to form the modified string\n",
    "        modified_string = ' '.join(words)\n",
    "\n",
    "        return modified_string, removed_word\n",
    "    else:\n",
    "        return None, None\n",
    "\n",
    "# Example string and n value\n",
    "input_str = \"This is an example sentence to test the function.\"\n",
    "n_value = 4\n",
    "# Remove the nth word\n",
    "modified_str, removed_word = remove_nth_word(input_str, n_value)\n",
    "\n",
    "# Print the results\n",
    "print(\"Original string:\", input_str)\n",
    "if modified_str is not None:\n",
    "    print(\"Modified string:\", modified_str)\n",
    "    print(\"Removed word:\", removed_word)\n",
    "else:\n",
    "    print(\"Invalid n value.\")"
   ]
  },
  {
   "cell_type": "markdown",
   "id": "a5225d7a-5e8c-4475-8696-a6d8f35cf0e6",
   "metadata": {},
   "source": [
    "Q-50 convert a a csv string to a list of lists"
   ]
  },
  {
   "cell_type": "code",
   "execution_count": 40,
   "id": "e627ff63-8e18-4280-95dc-00d6593b369a",
   "metadata": {},
   "outputs": [
    {
     "name": "stdout",
     "output_type": "stream",
     "text": [
      "['Name', ' Age', ' Country']\n",
      "['John', ' 25', ' USA']\n",
      "['Alice', ' 30', ' Canada']\n",
      "['Bob', ' 22', ' UK']\n"
     ]
    }
   ],
   "source": [
    "def csv_string_to_list(csv_string):\n",
    "    # Split the CSV string into lines\n",
    "    lines = csv_string.split('\\n')\n",
    "\n",
    "    # Initialize an empty list to store the result\n",
    "    result = []\n",
    "\n",
    "    for line in lines:\n",
    "        # Split each line into fields using comma as the delimiter\n",
    "        fields = line.split(',')\n",
    "\n",
    "        # Append the fields to the result list as a row\n",
    "        result.append(fields)\n",
    "\n",
    "    return result\n",
    "\n",
    "# Example CSV string\n",
    "csv_data = \"Name, Age, Country\\nJohn, 25, USA\\nAlice, 30, Canada\\nBob, 22, UK\"\n",
    "\n",
    "# Convert CSV string to a list of lists\n",
    "list_of_lists = csv_string_to_list(csv_data)\n",
    "\n",
    "# Print the result\n",
    "for row in list_of_lists:\n",
    "    print(row)"
   ]
  },
  {
   "cell_type": "markdown",
   "id": "ee587ece-c5a4-48be-873b-e1badeb7e071",
   "metadata": {},
   "source": [
    "# List based practice problem"
   ]
  },
  {
   "cell_type": "markdown",
   "id": "096d9f1a-8bd8-492b-a2ae-3e92b7bd6c20",
   "metadata": {},
   "source": [
    "Q-1 create a list with integers from 1 to 10"
   ]
  },
  {
   "cell_type": "code",
   "execution_count": 41,
   "id": "25cfc99f-9755-4d51-a80d-a96c5e8b2abf",
   "metadata": {},
   "outputs": [
    {
     "name": "stdout",
     "output_type": "stream",
     "text": [
      "list:  [1, 2, 3, 4, 5, 6, 7, 8, 9, 10]\n"
     ]
    }
   ],
   "source": [
    "#create a list from 1 to 10\n",
    "li=[]\n",
    "\n",
    "# add elements into list\n",
    "for i in range(1,11):\n",
    "        li.append(i)\n",
    "        \n",
    "#print the list        \n",
    "print('list: ',li)"
   ]
  },
  {
   "cell_type": "markdown",
   "id": "b1f75ea1-09d9-44a1-9179-4a3a5567e5ce",
   "metadata": {},
   "source": [
    "Q-2 find the length of a list without using len() function"
   ]
  },
  {
   "cell_type": "code",
   "execution_count": 19,
   "id": "ed019325-905d-4845-bd6b-03f4d4d40dcb",
   "metadata": {},
   "outputs": [
    {
     "name": "stdout",
     "output_type": "stream",
     "text": [
      "length of the list:  8\n"
     ]
    }
   ],
   "source": [
    "#create a list\n",
    "li=[1,2,3,4,5,6,9,10]\n",
    "count=0\n",
    "#find the length of string\n",
    "for i in li:\n",
    "    count+=1\n",
    "\n",
    "# print the result    \n",
    "print('length of the list: ',count)"
   ]
  },
  {
   "cell_type": "markdown",
   "id": "4d5cffdb-33a1-413c-b40a-e8d7313b7715",
   "metadata": {},
   "source": [
    "Q-3 Append an element to the end of a list"
   ]
  },
  {
   "cell_type": "code",
   "execution_count": 42,
   "id": "c23797c1-7146-426f-a13d-42ca1e0704ab",
   "metadata": {},
   "outputs": [
    {
     "name": "stdin",
     "output_type": "stream",
     "text": [
      "enter a element:  good\n"
     ]
    },
    {
     "name": "stdout",
     "output_type": "stream",
     "text": [
      "list : [20, 'pwskill', True, 'good']\n"
     ]
    }
   ],
   "source": [
    "# create a list\n",
    "li=[20,'pwskill',True]\n",
    "\n",
    "#input a element to add\n",
    "element=input('enter a element: ')\n",
    "\n",
    "# append a element to end of a list\n",
    "li.append(element)\n",
    "print('list :',li)"
   ]
  },
  {
   "cell_type": "markdown",
   "id": "ddf35827-5964-4b58-835c-42972e2376a0",
   "metadata": {},
   "source": [
    "Q-4 insert an element at a specific index by its value"
   ]
  },
  {
   "cell_type": "code",
   "execution_count": 43,
   "id": "8b578a10-dc0a-4bf9-9c50-974befed701c",
   "metadata": {},
   "outputs": [
    {
     "name": "stdout",
     "output_type": "stream",
     "text": [
      "[10, 'mango', 'pwskill', 20.9]\n"
     ]
    }
   ],
   "source": [
    "#create a list\n",
    "li=[10,'mango',20.90]\n",
    "\n",
    "# insert at specific index\n",
    "li.insert(2,'pwskill')\n",
    "#print the result\n",
    "print(li)"
   ]
  },
  {
   "cell_type": "markdown",
   "id": "35871b84-bf21-4d41-8217-5611d83894ca",
   "metadata": {},
   "source": [
    "Q-5 Remove an element from a list by its value"
   ]
  },
  {
   "cell_type": "code",
   "execution_count": 44,
   "id": "22ad80fe-e61f-46c8-9a03-91918180b7a8",
   "metadata": {},
   "outputs": [
    {
     "name": "stdout",
     "output_type": "stream",
     "text": [
      "[10, 'pwskill', 20.9]\n"
     ]
    }
   ],
   "source": [
    "#create a list\n",
    "li=[10, 'mango', 'pwskill', 20.9]\n",
    "# delete an element from list  by its value\n",
    "li.remove('mango')\n",
    "\n",
    "#print the result \n",
    "print(li)"
   ]
  },
  {
   "cell_type": "markdown",
   "id": "786f057a-fbb3-4646-9653-d9a3f238a9c4",
   "metadata": {},
   "source": [
    "Q-6Remove an element from a list by its index"
   ]
  },
  {
   "cell_type": "code",
   "execution_count": 1,
   "id": "87d18d6a-d334-4a05-bbee-0cbf131b1f7e",
   "metadata": {},
   "outputs": [
    {
     "data": {
      "text/plain": [
       "[10, 'mango', 'pwskill']"
      ]
     },
     "execution_count": 1,
     "metadata": {},
     "output_type": "execute_result"
    }
   ],
   "source": [
    "#create a list\n",
    "li=[10, 'mango', 'pwskill', 20.9]\n",
    " \n",
    "# remove an element from a list by its index\n",
    "li.pop(3)\n",
    "\n",
    "#print the result\n",
    "print(li)"
   ]
  },
  {
   "cell_type": "markdown",
   "id": "cf7a8f03-9b6f-48aa-a395-95bdcc8342dc",
   "metadata": {},
   "source": [
    "Q-7 check if an element exists in a list"
   ]
  },
  {
   "cell_type": "code",
   "execution_count": 4,
   "id": "cf538173-d60c-4f3a-8e4b-bbd1e7e74d00",
   "metadata": {},
   "outputs": [
    {
     "name": "stdin",
     "output_type": "stream",
     "text": [
      "input element that would be check 8\n"
     ]
    },
    {
     "name": "stdout",
     "output_type": "stream",
     "text": [
      "exits\n"
     ]
    }
   ],
   "source": [
    "#crate a list\n",
    "li=[1,2,3,4,6,7,8]\n",
    "\n",
    "# the element that check\n",
    "i=int(input('input element that would be check'))\n",
    "# check if element exits or not\n",
    "if i in li:\n",
    "    print('exits')\n",
    "else:\n",
    "    print('not exits')"
   ]
  },
  {
   "cell_type": "markdown",
   "id": "b071754f-92cc-4aea-b30a-cdbba0f9b343",
   "metadata": {},
   "source": [
    "Q-8 find the index of the first occurrence of in a list"
   ]
  },
  {
   "cell_type": "code",
   "execution_count": 12,
   "id": "db011185-28e6-430c-83d4-e495dc1c82bc",
   "metadata": {},
   "outputs": [
    {
     "name": "stdin",
     "output_type": "stream",
     "text": [
      "enter the element 7\n"
     ]
    },
    {
     "name": "stdout",
     "output_type": "stream",
     "text": [
      "the occurance of this index : 5\n"
     ]
    }
   ],
   "source": [
    "#create a list\n",
    "li=[1,2,3,4,6,7,8,7,7]\n",
    "\n",
    "num=int(input('enter the element'))\n",
    "# find the index of first occurance of element\n",
    "a=li.index(num)\n",
    "print('the occurance of this index :',a)"
   ]
  },
  {
   "cell_type": "markdown",
   "id": "12810dad-06cd-4a29-bc65-6060c1308951",
   "metadata": {},
   "source": [
    "Q-9 count the occurrences of an element in a list"
   ]
  },
  {
   "cell_type": "code",
   "execution_count": 30,
   "id": "607697ab-32d2-4e43-9672-cd618b79809a",
   "metadata": {},
   "outputs": [
    {
     "name": "stdin",
     "output_type": "stream",
     "text": [
      "enter the element 8\n"
     ]
    },
    {
     "name": "stdout",
     "output_type": "stream",
     "text": [
      "the occurance of  8 is  2\n"
     ]
    }
   ],
   "source": [
    "li=[1,2,3,8,6,7,8,7,7]\n",
    "# the element for which count the occurance\n",
    "num=int(input('enter the element'))\n",
    "occ=li.count(num)\n",
    "\n",
    "print('the occurance of ',num,'is ',occ)"
   ]
  },
  {
   "cell_type": "markdown",
   "id": "d3193e7c-92b7-491e-b739-24a35b3f671f",
   "metadata": {},
   "source": [
    "Q-10 Reverse the order of an element in a list"
   ]
  },
  {
   "cell_type": "code",
   "execution_count": 31,
   "id": "038c1776-aafd-4179-ba3d-0b8246040088",
   "metadata": {},
   "outputs": [
    {
     "data": {
      "text/plain": [
       "[9, 8, 7, True, 'name', 2, 1]"
      ]
     },
     "execution_count": 31,
     "metadata": {},
     "output_type": "execute_result"
    }
   ],
   "source": [
    "#create a list\n",
    "li=[1,2,'name',True,7,8,9]\n",
    "\n",
    "# reverse the list by using reverse function\n",
    "li.reverse()\n",
    "#print the result\n",
    "print(li)"
   ]
  },
  {
   "cell_type": "markdown",
   "id": "ce6e8e05-d4fb-44b7-a7e4-568e1eca7b82",
   "metadata": {},
   "source": [
    "Q-11 sort a list in ascending order"
   ]
  },
  {
   "cell_type": "code",
   "execution_count": 45,
   "id": "0bf7b397-1ce6-4e77-b259-3963dd3bb5d7",
   "metadata": {},
   "outputs": [
    {
     "name": "stdout",
     "output_type": "stream",
     "text": [
      "[1, 2, 3, 5, 6, 7, 8, 9]\n"
     ]
    }
   ],
   "source": [
    "li=[2,1,3,9,8,7,5,6]\n",
    " # sort the list in ascending order\n",
    "li.sort()\n",
    "\n",
    "print(li)"
   ]
  },
  {
   "cell_type": "markdown",
   "id": "690310c7-01d6-4259-91e5-8797e81b1c48",
   "metadata": {},
   "source": [
    "Q-12 sort a list in descending order"
   ]
  },
  {
   "cell_type": "code",
   "execution_count": 34,
   "id": "1ad4092b-1dfa-43a0-8c68-960399d52050",
   "metadata": {},
   "outputs": [
    {
     "data": {
      "text/plain": [
       "[9, 8, 7, 6, 5, 3, 2, 1]"
      ]
     },
     "execution_count": 34,
     "metadata": {},
     "output_type": "execute_result"
    }
   ],
   "source": [
    "li=[2,1,3,9,8,7,5,6]\n",
    " \n",
    "# sort the list in descending order\n",
    "li.sort(reverse=True)\n",
    "\n",
    "print(li)"
   ]
  },
  {
   "cell_type": "markdown",
   "id": "34771f07-a62a-4a0c-8e56-f6799f261fc1",
   "metadata": {},
   "source": [
    "Q-13 create a list of even numbers from 1 to 20"
   ]
  },
  {
   "cell_type": "code",
   "execution_count": 46,
   "id": "3dd9ec93-568d-4b93-b1fb-571cae017927",
   "metadata": {},
   "outputs": [
    {
     "name": "stdout",
     "output_type": "stream",
     "text": [
      "list of even numbers [2, 4, 6, 8, 10, 12, 14, 16, 18, 20]\n"
     ]
    }
   ],
   "source": [
    "#create a empty list\n",
    "li=[]\n",
    "i=2\n",
    "# add even numbers is list\n",
    "while i<=20:\n",
    "    li.append(i)\n",
    "    i=i+2 # move forword by two steps\n",
    "\n",
    "print('list of even numbers',li)    "
   ]
  },
  {
   "cell_type": "markdown",
   "id": "63c76dc2-832a-43ae-b2a2-a6eb8b1b02f2",
   "metadata": {},
   "source": [
    "Q-14 create a list of even numbers from 1 to 20"
   ]
  },
  {
   "cell_type": "code",
   "execution_count": 48,
   "id": "9a4a189a-46c4-459f-a668-692586029cdc",
   "metadata": {},
   "outputs": [
    {
     "name": "stdout",
     "output_type": "stream",
     "text": [
      "list of odd numbers: [1, 3, 5, 7, 9, 11, 13, 15, 17, 19]\n"
     ]
    }
   ],
   "source": [
    "#create a empty list\n",
    "li=[]\n",
    "i=1\n",
    "# add odd numbers is list\n",
    "while i<=20:\n",
    "    li.append(i)\n",
    "    i=i+2 # move forword by two steps\n",
    "print('list of odd numbers:',li)    "
   ]
  },
  {
   "cell_type": "markdown",
   "id": "10d05c8b-0616-4ec2-b063-a4489c9b2d87",
   "metadata": {},
   "source": [
    "Q-15 find the sum of all elements in a list"
   ]
  },
  {
   "cell_type": "code",
   "execution_count": 41,
   "id": "a7750ad2-6a1b-442b-8567-1384876bc15f",
   "metadata": {},
   "outputs": [
    {
     "name": "stdout",
     "output_type": "stream",
     "text": [
      "the sum of element: 110\n"
     ]
    }
   ],
   "source": [
    "li=[2, 4, 6, 8, 10, 12, 14, 16, 18, 20]\n",
    "# find sum all the element in list\n",
    "sum=0\n",
    "for i in li:\n",
    "    sum+=i\n",
    "#print the result    \n",
    "print('the sum of element:',sum)    \n",
    "    "
   ]
  },
  {
   "cell_type": "markdown",
   "id": "f2d3719e-d00c-4a96-9de8-d550206e1d6a",
   "metadata": {},
   "source": [
    "Q-16 find the maximum value in a list"
   ]
  },
  {
   "cell_type": "code",
   "execution_count": 49,
   "id": "9a63c8d4-6c82-4620-b6f9-2a26295c8b68",
   "metadata": {},
   "outputs": [
    {
     "name": "stdout",
     "output_type": "stream",
     "text": [
      "the max element : 9\n"
     ]
    }
   ],
   "source": [
    "li=[6,7,8,9,4,3,2,1]\n",
    "# initilize max with first index of list\n",
    "max=li[0]\n",
    "\n",
    "# find max element in list\n",
    "for i in li:\n",
    "    if i>max:\n",
    "        max=i\n",
    "print('the max element :',max)"
   ]
  },
  {
   "cell_type": "markdown",
   "id": "cc13d7e3-c2cd-4d19-a779-95e5a0686729",
   "metadata": {},
   "source": [
    "Q-17 find the minimum value in a list"
   ]
  },
  {
   "cell_type": "code",
   "execution_count": 50,
   "id": "e07508a1-0112-4c3b-bd65-d96c0ab63d9e",
   "metadata": {},
   "outputs": [
    {
     "name": "stdout",
     "output_type": "stream",
     "text": [
      "the minimun element : 1\n"
     ]
    }
   ],
   "source": [
    "li=[6,7,8,9,4,3,2,1]\n",
    "# find min element in list\n",
    "min=li[0]\n",
    "for i in li:\n",
    "    if i<min:\n",
    "        min=i\n",
    "print('the minimun element :',min)"
   ]
  },
  {
   "cell_type": "markdown",
   "id": "29f57868-03b0-4078-9dd4-04dd95c2d712",
   "metadata": {},
   "source": [
    "Q-18 create a square of numbers from 1 to 10"
   ]
  },
  {
   "cell_type": "code",
   "execution_count": 1,
   "id": "88a6ab99-8ee2-449d-a111-4f5ac949ce2b",
   "metadata": {},
   "outputs": [
    {
     "name": "stdout",
     "output_type": "stream",
     "text": [
      "[1, 4, 9, 16, 25, 36, 49, 64, 81, 100]\n"
     ]
    }
   ],
   "source": [
    "#create a empty list\n",
    "li=[]\n",
    "i=1\n",
    "# list of square of num 1 to 10\n",
    "while i<=10:\n",
    "    li.append(i*i)\n",
    "    i+=1\n",
    "print(li)    "
   ]
  },
  {
   "cell_type": "markdown",
   "id": "dfb9fc10-1d27-48ab-81fa-7e8e9ada9645",
   "metadata": {},
   "source": [
    "Q-19 create a list of random numbers"
   ]
  },
  {
   "cell_type": "code",
   "execution_count": 56,
   "id": "7b027747-48d9-480d-b8b0-72d2f81d1136",
   "metadata": {},
   "outputs": [
    {
     "name": "stdout",
     "output_type": "stream",
     "text": [
      "[20, 31, 25, 7, 66, 78, 66, 1, 52, 92]\n"
     ]
    }
   ],
   "source": [
    "import random\n",
    "\n",
    "#create a empty list\n",
    "li=[]\n",
    "# add random numbers to list\n",
    "for i in range(10):\n",
    "      li.append(random.randint(1,100))\n",
    "        \n",
    "print(li)"
   ]
  },
  {
   "cell_type": "markdown",
   "id": "b48ac67c-3ad0-4658-9b42-c77f7c6d932a",
   "metadata": {},
   "source": [
    "Q-20 Remove duplicates from a list"
   ]
  },
  {
   "cell_type": "code",
   "execution_count": 37,
   "id": "04178377-0f76-44f6-b595-7c06d58ac8a5",
   "metadata": {},
   "outputs": [
    {
     "name": "stdout",
     "output_type": "stream",
     "text": [
      "['a', 'b', 'c', 'd']\n"
     ]
    }
   ],
   "source": [
    "li=['a','b','c','d','a','b']\n",
    "\n",
    "# remove duplicates from list\n",
    "mylist=list(dict.fromkeys(li))\n",
    "\n",
    "print(mylist)"
   ]
  },
  {
   "cell_type": "markdown",
   "id": "df6a1845-1da0-4aae-8f58-ccb340dfa8b1",
   "metadata": {},
   "source": [
    "Q-21 Find the common elements between two lists."
   ]
  },
  {
   "cell_type": "code",
   "execution_count": 39,
   "id": "1d957930-121e-41ed-a012-7637fa2f13ab",
   "metadata": {},
   "outputs": [
    {
     "name": "stdout",
     "output_type": "stream",
     "text": [
      "common element in l1 & l2 : \n",
      "b 4 c "
     ]
    }
   ],
   "source": [
    "l1=['a',2,'b',3,4,'c']\n",
    "l2=['b',4,'d','c',7,8]\n",
    " \n",
    "# common element between two list    \n",
    "print('common element in l1 & l2 : ')\n",
    "for i in l1:\n",
    "    if i in l2:\n",
    "            print(i,end=' ')\n",
    "            "
   ]
  },
  {
   "cell_type": "markdown",
   "id": "33f5d4fb-f7a6-476c-a805-a602f8e2666b",
   "metadata": {},
   "source": [
    "Q-22 Find the difference between two lists."
   ]
  },
  {
   "cell_type": "code",
   "execution_count": 48,
   "id": "fa95d135-df3d-42fe-aebd-47ee0b6e8e0b",
   "metadata": {},
   "outputs": [
    {
     "name": "stdout",
     "output_type": "stream",
     "text": [
      "[10, 20]\n"
     ]
    }
   ],
   "source": [
    "# Example lists\n",
    "list1 = [10, 20, 30, 40, 50]\n",
    "list2 = [30, 40, 50, 60, 70]\n",
    "\n",
    "# Find the difference between lists using the difference() method\n",
    "difference = list(set(list1).difference(set(list2)))\n",
    "\n",
    "print(difference)\n"
   ]
  },
  {
   "cell_type": "markdown",
   "id": "01d5df24-702d-496c-b23b-39b1117bf4b2",
   "metadata": {},
   "source": [
    "Q-23 Merge two list"
   ]
  },
  {
   "cell_type": "code",
   "execution_count": 50,
   "id": "7a2845bc-dd1b-4749-88bb-4c567665f081",
   "metadata": {},
   "outputs": [
    {
     "name": "stdout",
     "output_type": "stream",
     "text": [
      "['a', 2, 'b', 3, 4, 'c', 'b', 4, 'd', 'c', 7, 8]\n"
     ]
    }
   ],
   "source": [
    "l1=['a',2,'b',3,4,'c']\n",
    "l2=['b',4,'d','c',7,8]\n",
    "\n",
    "# merge two list\n",
    "\n",
    "merged_list=l1+l2\n",
    "# merge two list\n",
    "print(merged_list)\n"
   ]
  },
  {
   "cell_type": "markdown",
   "id": "51b0195e-412f-4db1-a662-57693e148f6f",
   "metadata": {},
   "source": [
    "Q-24. Multiply all elements in a list by 2."
   ]
  },
  {
   "cell_type": "code",
   "execution_count": 2,
   "id": "0730aae7-0b50-4d66-9529-5873eb377f46",
   "metadata": {},
   "outputs": [
    {
     "name": "stdout",
     "output_type": "stream",
     "text": [
      "['aa', 2, 'bb', 8, 'cc']\n"
     ]
    }
   ],
   "source": [
    "li=['a',1,'b',4,'c']\n",
    "\n",
    "# mutiply list by 2\n",
    "multiplied_list = [x * 2 for x in li]\n",
    "\n",
    "#print the result\n",
    "print(multiplied_list)"
   ]
  },
  {
   "cell_type": "markdown",
   "id": "f967c906-5b9a-45da-8052-d1ce13798844",
   "metadata": {},
   "source": [
    "Q-25 filter out all even numbers from a list"
   ]
  },
  {
   "cell_type": "code",
   "execution_count": 22,
   "id": "695d3027-0c4d-4681-ba16-f2dfe8b7fdd7",
   "metadata": {},
   "outputs": [
    {
     "name": "stdout",
     "output_type": "stream",
     "text": [
      "even numbers are :  [2, 4, 8, 4, 24, 78]\n"
     ]
    }
   ],
   "source": [
    "li=[1,2,4,5,7,8,9,4,21,24,78]\n",
    "l2=[]\n",
    "# find the even num\n",
    "for i in li:\n",
    "    if i%2==0:\n",
    "        l2.append(i)\n",
    "print('even numbers are : ',l2)        "
   ]
  },
  {
   "cell_type": "markdown",
   "id": "9bd9a2de-a034-4ce7-a3a3-7c6712df68ad",
   "metadata": {},
   "source": [
    "Q-26 convert a list of strings to a list of integer"
   ]
  },
  {
   "cell_type": "code",
   "execution_count": 3,
   "id": "8c3c891b-7aa2-4f1c-b15e-6fe106eab35e",
   "metadata": {},
   "outputs": [
    {
     "name": "stdout",
     "output_type": "stream",
     "text": [
      "[1, 2, 3, 4, 6, 7]\n"
     ]
    }
   ],
   "source": [
    "list_str=['1','2','3','4','6','7']\n",
    "list_int=[]\n",
    "\n",
    "#covert all elements in list to int\n",
    "for i in list_str:\n",
    "    list_int.append(int(i))\n",
    "\n",
    "print(list_int)    "
   ]
  },
  {
   "cell_type": "markdown",
   "id": "170f3718-84fd-4fdb-9ca6-1e853c38c40d",
   "metadata": {},
   "source": [
    "Q-27 convert a list of integer to a list of strings"
   ]
  },
  {
   "cell_type": "code",
   "execution_count": 4,
   "id": "5d2d8412-a125-474f-b51c-1e94282b63ed",
   "metadata": {},
   "outputs": [
    {
     "name": "stdout",
     "output_type": "stream",
     "text": [
      "['1', '2', '3', '4', '6', '7']\n"
     ]
    }
   ],
   "source": [
    "list_int=[1, 2, 3, 4, 6, 7]\n",
    "list_str=[]\n",
    "\n",
    "#covert all elements in list to str\n",
    "for i in list_int:\n",
    "    list_str.append(str(i))\n",
    "print(list_str) "
   ]
  },
  {
   "cell_type": "markdown",
   "id": "649367cc-1632-406b-ac34-7e685d779258",
   "metadata": {},
   "source": [
    "Q-28 flatten a nested list"
   ]
  },
  {
   "cell_type": "code",
   "execution_count": 5,
   "id": "0611af79-37b5-472e-abc7-8a205bc01182",
   "metadata": {},
   "outputs": [
    {
     "name": "stdout",
     "output_type": "stream",
     "text": [
      "Flattened list: [1, 2, 3, 4, 5, 6, 7, 8, 9]\n"
     ]
    }
   ],
   "source": [
    "# Example nested list\n",
    "nested_list = [[1, 2, 3], [4, 5], [6, 7, 8, 9]]\n",
    "\n",
    "# Function to flatten a nested list\n",
    "def flatten_list(nested):\n",
    "    flattened = []\n",
    "    for sublist in nested:\n",
    "        if isinstance(sublist, list):\n",
    "            flattened.extend(flatten_list(sublist))\n",
    "        else:\n",
    "            flattened.append(sublist)\n",
    "    return flattened\n",
    "\n",
    "# Flatten the nested list\n",
    "flattened_list = flatten_list(nested_list)\n",
    "\n",
    "# Print the flattened list\n",
    "print(\"Flattened list:\", flattened_list)"
   ]
  },
  {
   "cell_type": "markdown",
   "id": "4eb3a885-256b-4371-993b-72e1331562d9",
   "metadata": {},
   "source": [
    "Q-29 create a list of the first 10 fibonacci numbers"
   ]
  },
  {
   "cell_type": "code",
   "execution_count": 6,
   "id": "e4dffabf-ef2b-440f-b014-ee486cb1a91e",
   "metadata": {},
   "outputs": [
    {
     "name": "stdout",
     "output_type": "stream",
     "text": [
      "fibonacci num:  [0, 1, 1, 2, 3, 5, 8, 13, 21, 34, 55]\n"
     ]
    }
   ],
   "source": [
    "# create a empty list\n",
    "sum=[]\n",
    "n=0\n",
    "#find the 10 fibonacci no\n",
    "while n<=10 :\n",
    "      if (n==0 or n==1):\n",
    "        sum.append(n)\n",
    "        n=n+1\n",
    "      else:\n",
    "         sum.append(sum[n-1]+sum[n-2])\n",
    "         n=n+1    \n",
    "        \n",
    "#print the result         \n",
    "print('fibonacci num: ',sum)       \n"
   ]
  },
  {
   "cell_type": "markdown",
   "id": "8fbd0890-0e6e-4e44-b85d-04f0517216cb",
   "metadata": {},
   "source": [
    "Q-30 check if a list is sorted"
   ]
  },
  {
   "cell_type": "code",
   "execution_count": 24,
   "id": "78dc043c-be58-4e1b-9aff-475cf8204555",
   "metadata": {},
   "outputs": [
    {
     "name": "stdout",
     "output_type": "stream",
     "text": [
      "not sorted\n"
     ]
    }
   ],
   "source": [
    "l1=[1,2,8,4,5,6,7]\n",
    "# find the length of list\n",
    "ran=len(l1)-1\n",
    "for i in range(ran):\n",
    "    if l1[i]<=l1[i+1]:\n",
    "        n=0\n",
    "    else:\n",
    "        n=1\n",
    "        break\n",
    "# check it is sorted or not        \n",
    "if n==1:\n",
    "    print('not sorted')\n",
    "else:\n",
    "    print('sorted')"
   ]
  },
  {
   "cell_type": "markdown",
   "id": "514bf745-c4f5-4d94-b085-eeae8455e751",
   "metadata": {},
   "source": [
    "Q-31 Rotate a list to the left by 'n' positions"
   ]
  },
  {
   "cell_type": "code",
   "execution_count": 6,
   "id": "3526e262-4c94-499a-9265-25a2cf810699",
   "metadata": {},
   "outputs": [
    {
     "name": "stdin",
     "output_type": "stream",
     "text": [
      "how much left rotation:  2\n"
     ]
    },
    {
     "name": "stdout",
     "output_type": "stream",
     "text": [
      "after rotation: [3, 4, 6, 7, 6, 7, 8, 1, 2]\n"
     ]
    }
   ],
   "source": [
    "li=[1,2,3,4,6,7,8]\n",
    "# enter how much  left rotation \n",
    "n=int(input('how much left rotation: '))\n",
    "\n",
    "#create a empty list\n",
    "arr=[]\n",
    "# rotate the list by n position\n",
    "for i in range(n):\n",
    "     arr.append(li[i])\n",
    "for i in range(n,len(li)-1):\n",
    "      li[i-n]=li[i]\n",
    "for i in range(n):\n",
    "    li.append(arr[i])\n",
    "    \n",
    "print('after rotation:',li)        "
   ]
  },
  {
   "cell_type": "markdown",
   "id": "5f0b47c9-a1b1-4a27-93ba-1355d813856f",
   "metadata": {},
   "source": [
    "Q-32 Rotate a list to the right by 'n' positions"
   ]
  },
  {
   "cell_type": "code",
   "execution_count": 7,
   "id": "704a5cbb-f3b0-4d59-a98c-42e5d6957843",
   "metadata": {},
   "outputs": [
    {
     "name": "stdin",
     "output_type": "stream",
     "text": [
      "how much right rotation:  2\n"
     ]
    },
    {
     "name": "stdout",
     "output_type": "stream",
     "text": [
      "after rotation: [6, 7, 1, 2, 1, 2, 1, 2, 8]\n"
     ]
    }
   ],
   "source": [
    "li=[1,2,3,4,6,7,8]\n",
    "# enter how much right rotation \n",
    "n=int(input('how much right rotation: '))\n",
    "l=len(li)-n-1\n",
    "\n",
    "#create a empty list\n",
    "arr=[]\n",
    "# rotate the list by 'n' right position\n",
    "for i in range(l,len(li)):\n",
    "     arr.append(li[i])\n",
    "for i in range(n,len(li)-1):\n",
    "      li[i]=li[i-n]\n",
    "for i in range(n):\n",
    "    li.insert(i,arr[i])\n",
    "    \n",
    "print('after rotation:',li)   "
   ]
  },
  {
   "cell_type": "markdown",
   "id": "e1bb48f1-7322-46a1-be85-cc57567f516a",
   "metadata": {},
   "source": [
    "Q-33 create a list of prime numbers upto 50"
   ]
  },
  {
   "cell_type": "code",
   "execution_count": 9,
   "id": "5fb83999-7463-47b7-99aa-adb743847a8d",
   "metadata": {},
   "outputs": [
    {
     "name": "stdout",
     "output_type": "stream",
     "text": [
      "prime no:  [0, 1, 2, 3, 5, 7, 11, 13, 17, 19, 23, 29, 31, 37, 41, 43, 47]\n"
     ]
    }
   ],
   "source": [
    "# create a empty list\n",
    "li=[]\n",
    "\n",
    "# find the prime no upto 50\n",
    "for n in range(50):\n",
    "    l=1\n",
    "    if n>1:\n",
    "        for i in range(2,int(n/2)+1):\n",
    "            if( n%i)==0:\n",
    "                l=0\n",
    "                break\n",
    "            \n",
    "    if l==1:\n",
    "        li.append(n)\n",
    "print('prime no: ',li)      "
   ]
  },
  {
   "cell_type": "markdown",
   "id": "ae7ae9e1-6e11-4846-9cff-3a88f451c937",
   "metadata": {},
   "source": [
    "Q-34 split a list into chunks of size 'n'"
   ]
  },
  {
   "cell_type": "code",
   "execution_count": 10,
   "id": "0d0e6cb1-18c1-4a47-a7ea-5728591339ad",
   "metadata": {},
   "outputs": [
    {
     "name": "stdout",
     "output_type": "stream",
     "text": [
      "List of prime numbers up to 50: [2, 3, 5, 7, 11, 13, 17, 19, 23, 29, 31, 37, 41, 43, 47]\n"
     ]
    }
   ],
   "source": [
    "# Create a list of prime numbers up to 50 using Sieve of Eratosthenes algorithm\n",
    "def sieve_of_eratosthenes(limit):\n",
    "    primes = []\n",
    "    is_prime = [True] * (limit + 1)\n",
    "    is_prime[0] = is_prime[1] = False\n",
    "\n",
    "    for num in range(2, int(limit ** 0.5) + 1):\n",
    "        if is_prime[num]:\n",
    "            primes.append(num)\n",
    "            for multiple in range(num * num, limit + 1, num):\n",
    "                is_prime[multiple] = False\n",
    "\n",
    "    for num in range(int(limit ** 0.5) + 1, limit + 1):\n",
    "        if is_prime[num]:\n",
    "            primes.append(num)\n",
    "\n",
    "    return primes\n",
    "\n",
    "# Create a list of prime numbers up to 50\n",
    "prime_numbers = sieve_of_eratosthenes(50)\n",
    "\n",
    "# Print the list of prime numbers\n",
    "print(\"List of prime numbers up to 50:\", prime_numbers)"
   ]
  },
  {
   "cell_type": "markdown",
   "id": "a51d46c0-2969-4d59-8eca-9fc6d5a99ec5",
   "metadata": {},
   "source": [
    "Q-35 find the second largest number in a list"
   ]
  },
  {
   "cell_type": "code",
   "execution_count": 54,
   "id": "669c222f-2540-4adb-a9ea-3265ddfe9ec0",
   "metadata": {},
   "outputs": [
    {
     "name": "stdout",
     "output_type": "stream",
     "text": [
      "the second largest no : 29\n"
     ]
    }
   ],
   "source": [
    "l1=[6,7,8,29,2,14,26,30]\n",
    "# sort the list\n",
    "l1.sort()\n",
    "# greatest element at last index  and so second largest just before that \n",
    "sec_largest=l1[len(l1)-2]\n",
    "print('the second largest no :',sec_largest)"
   ]
  },
  {
   "cell_type": "markdown",
   "id": "509c0e25-c1c2-4db0-ba31-4d1e15d2ff42",
   "metadata": {},
   "source": [
    "Q-36 Replace every element in a list with its square"
   ]
  },
  {
   "cell_type": "code",
   "execution_count": 69,
   "id": "a784cfc7-cf9d-4d76-ae40-388cdc028e72",
   "metadata": {},
   "outputs": [
    {
     "name": "stdout",
     "output_type": "stream",
     "text": [
      "modified list:  [36, 49, 64, 81, 4, 9, 16]\n"
     ]
    }
   ],
   "source": [
    "l1=[6,7,8,9,2,3,4]\n",
    "#length of list l1\n",
    "l2=len(l1)\n",
    "# replace the element with its square\n",
    "for i in range(l2):\n",
    "        a=l1.pop(i)\n",
    "        l1.insert(i,a*a)\n",
    "print('modified list: ',l1) \n"
   ]
  },
  {
   "cell_type": "markdown",
   "id": "4395f84a-777b-42ff-9dfe-2b83387de174",
   "metadata": {},
   "source": [
    "Q-37 convert a list to a dictionary where list elements becomes keys and\n",
    "their indices becomes values"
   ]
  },
  {
   "cell_type": "code",
   "execution_count": 17,
   "id": "868a69aa-67e2-4cf3-8d88-891a1a693af0",
   "metadata": {},
   "outputs": [
    {
     "name": "stdout",
     "output_type": "stream",
     "text": [
      "dict_items([(6, 0), (7, 1), (8, 2), (9, 3)])\n"
     ]
    }
   ],
   "source": [
    "#create a empty dictionary\n",
    "dic={}\n",
    "#create a list\n",
    "li=[6,7,8,9]\n",
    "\n",
    "#find the length of list\n",
    "l=len(li)\n",
    "\n",
    "#add elements in dict\n",
    "for i in range(l):\n",
    "      dic[li[i]]=i\n",
    "#print the result        \n",
    "print(dic.items())"
   ]
  },
  {
   "cell_type": "markdown",
   "id": "d4336597-62e8-4cef-9dbe-ca6f00c265c9",
   "metadata": {},
   "source": [
    "Q-38 shuffle the elements of a list randomly"
   ]
  },
  {
   "cell_type": "code",
   "execution_count": 19,
   "id": "6965168b-0fb3-461b-9489-424e79c08ed2",
   "metadata": {},
   "outputs": [
    {
     "name": "stdout",
     "output_type": "stream",
     "text": [
      "[8, 3, 2, 7, 6, 1, 4]\n"
     ]
    }
   ],
   "source": [
    "import random\n",
    "li=[1,2,3,4,6,7,8]\n",
    "\n",
    "#shuffle the list randomly\n",
    "random.shuffle(li)\n",
    "\n",
    "#print the result\n",
    "print(li)\n"
   ]
  },
  {
   "cell_type": "markdown",
   "id": "fabe06c8-5b52-48d9-8c16-d9d8e209bc76",
   "metadata": {},
   "source": [
    "Q-39 create a list of the first 10 factorial numbers"
   ]
  },
  {
   "cell_type": "code",
   "execution_count": 5,
   "id": "7075ab5c-e001-4c5f-ba41-d82a91a7b314",
   "metadata": {},
   "outputs": [
    {
     "name": "stdout",
     "output_type": "stream",
     "text": [
      "List of the first 10 factorial numbers: [1, 1, 2, 6, 24, 120, 720, 5040, 40320, 362880]\n"
     ]
    }
   ],
   "source": [
    "# Function to calculate factorial\n",
    "def factorial(n):\n",
    "    if n == 0 or n == 1:\n",
    "        return 1\n",
    "    else:\n",
    "        return n * factorial(n - 1)\n",
    "\n",
    "# Create a list of the first 10 factorial numbers\n",
    "factorial_numbers = [factorial(i) for i in range(10)]\n",
    "\n",
    "# Print the list of factorial numbers\n",
    "print(\"List of the first 10 factorial numbers:\", factorial_numbers)"
   ]
  },
  {
   "cell_type": "markdown",
   "id": "b885f9f8-8f87-437b-a349-10d224ffbdcc",
   "metadata": {},
   "source": [
    "Q-40 check if two lists have at least one element in common "
   ]
  },
  {
   "cell_type": "code",
   "execution_count": 14,
   "id": "be89673a-5552-4256-8f86-67a8f9793119",
   "metadata": {},
   "outputs": [
    {
     "name": "stdout",
     "output_type": "stream",
     "text": [
      "yes there is a common element\n"
     ]
    }
   ],
   "source": [
    "l1=[2,3,4,6,7,8]\n",
    "l2=[1,2,7,8,9,10]\n",
    "n=0\n",
    "# check there is at least one common element\n",
    "for i in l1:\n",
    "        if i in l2:\n",
    "            n=1\n",
    "            break\n",
    "if n==1:\n",
    "    print('yes there is a common element')  \n",
    "else:\n",
    "    print('yes there is a common element')"
   ]
  },
  {
   "cell_type": "markdown",
   "id": "74e488fc-9cdb-4d84-9a66-013dcb8c42ee",
   "metadata": {},
   "source": [
    "Q-41 Remove all elements from a list"
   ]
  },
  {
   "cell_type": "code",
   "execution_count": 15,
   "id": "70dbf97a-2a83-4a37-b528-6f35bb34131a",
   "metadata": {},
   "outputs": [
    {
     "name": "stdout",
     "output_type": "stream",
     "text": [
      "[]\n"
     ]
    }
   ],
   "source": [
    "l1=[2,3,4,6,7,8]\n",
    "# remove all the element from the list\n",
    "l1.clear()\n",
    "#print the result\n",
    "print(l1)"
   ]
  },
  {
   "cell_type": "markdown",
   "id": "881b7e43-b32f-4687-9eb6-5f4740183d6f",
   "metadata": {},
   "source": [
    "Q-42 Replace negative number in a list with 0"
   ]
  },
  {
   "cell_type": "code",
   "execution_count": 24,
   "id": "8620e340-9432-4934-ae46-c5127cbf74e5",
   "metadata": {},
   "outputs": [
    {
     "name": "stdout",
     "output_type": "stream",
     "text": [
      "[2, 3, 0, 6, 7, 0, 0]\n"
     ]
    }
   ],
   "source": [
    "# create a list\n",
    "l1=[2,3,-4,6,7,-1,-9]\n",
    "#find the length of list l1\n",
    "l2=len(l1)\n",
    "\n",
    "#repalce the negative num with 0\n",
    "for i in range(l2):\n",
    "       if l1[i]<0:\n",
    "            l1.pop(i)\n",
    "            l1.insert(i,0)\n",
    "\n",
    "#print the result            \n",
    "print(l1)  "
   ]
  },
  {
   "cell_type": "markdown",
   "id": "c868e894-3c68-42ef-a9ca-9a99c9428b5e",
   "metadata": {},
   "source": [
    "Q-43 convert a string into a list of words"
   ]
  },
  {
   "cell_type": "code",
   "execution_count": 25,
   "id": "de2aeb64-5fef-47e9-944d-60df6b02cd53",
   "metadata": {},
   "outputs": [
    {
     "name": "stdout",
     "output_type": "stream",
     "text": [
      "list : ['p', 'w', 's', 'k', 'i', 'l', 'l']\n"
     ]
    }
   ],
   "source": [
    "str='pwskill'\n",
    "#create a empty list\n",
    "li=[]\n",
    "#convert string into list of words\n",
    "for i in str:\n",
    "    li.append(i)\n",
    "#print the result    \n",
    "print('list :',li)"
   ]
  },
  {
   "cell_type": "markdown",
   "id": "259afaa8-8cb9-4c21-bc28-a3e2c4f99f68",
   "metadata": {},
   "source": [
    "Q-44 convert a list of words into a string"
   ]
  },
  {
   "cell_type": "code",
   "execution_count": 27,
   "id": "a223d230-c2e7-4637-b723-da44a72268b7",
   "metadata": {},
   "outputs": [
    {
     "name": "stdout",
     "output_type": "stream",
     "text": [
      "my name is ritik \n"
     ]
    }
   ],
   "source": [
    "li=['my','name','is','ritik']\n",
    "str=''\n",
    "#convert list into string\n",
    "for i in li:\n",
    "    str=str+i+' '\n",
    "    \n",
    "#print the result\n",
    "print(str)"
   ]
  },
  {
   "cell_type": "markdown",
   "id": "55e53195-af16-4828-b006-7aa5841073fb",
   "metadata": {},
   "source": [
    "Q-45 create a list of the 'n' powers of 2"
   ]
  },
  {
   "cell_type": "code",
   "execution_count": null,
   "id": "f3ed1a6c-a1bb-464c-ab88-5dc343bb7501",
   "metadata": {},
   "outputs": [],
   "source": [
    "# Specify the value of n\n",
    "n = 5\n",
    "\n",
    "# Create a list of the first n powers of 2 using a loop\n",
    "power_list = [2 ** i for i in range(n)]\n",
    "\n",
    "# Print the list of powers of 2\n",
    "print(\"List of the first\", n, \"powers of 2:\", power_list)"
   ]
  },
  {
   "cell_type": "markdown",
   "id": "025c6815-e7fc-465b-ac78-880bd8acc7b4",
   "metadata": {},
   "source": [
    "Q-46 find the longest string in a list of string"
   ]
  },
  {
   "cell_type": "code",
   "execution_count": 42,
   "id": "9ac5cfd8-39f3-4d2f-8100-a7b62f92542b",
   "metadata": {},
   "outputs": [
    {
     "name": "stdout",
     "output_type": "stream",
     "text": [
      "longest word in list:  gaurav\n"
     ]
    }
   ],
   "source": [
    "# create a list\n",
    "li=['my','name','is','gaurav']\n",
    "# find the longest string in a list of string\n",
    "l=len(li[0])\n",
    "#initilize longest to first index\n",
    "longest=li[0]\n",
    "for i in li:\n",
    "        a=len(i)\n",
    "        if l<a:\n",
    "            longest=i    # length of i greater than longest so add i to longest\n",
    "        \n",
    "#print the result        \n",
    "print('longest word in list: ',longest)        "
   ]
  },
  {
   "cell_type": "markdown",
   "id": "d076b5b7-320c-4dca-ac28-88dd359d5dfd",
   "metadata": {},
   "source": [
    "Q-47 find the shortest string in a list of string"
   ]
  },
  {
   "cell_type": "code",
   "execution_count": 43,
   "id": "beee69dc-bb61-477d-86aa-c47bfc83bca2",
   "metadata": {},
   "outputs": [
    {
     "name": "stdout",
     "output_type": "stream",
     "text": [
      "shortes word in list:  my\n"
     ]
    }
   ],
   "source": [
    "# create a list\n",
    "li=['my','name','is','gaurav']\n",
    "# find the shortest string in a list of string\n",
    "l=len(li[0])\n",
    "#initilize shortest to first index\n",
    "shortest=li[0]\n",
    "for i in li:\n",
    "        a=len(i)\n",
    "        if l>a:\n",
    "            shortest=i    # length of i greater than shortest so add i to shortest\n",
    "        \n",
    "#print the result        \n",
    "print('shortes word in list: ',shortest)        "
   ]
  },
  {
   "cell_type": "markdown",
   "id": "a96e7f60-1c4a-4dcc-a27c-1f76673dd054",
   "metadata": {},
   "source": [
    "Q-48 create a list of the first 'n' triangular numbers"
   ]
  },
  {
   "cell_type": "code",
   "execution_count": 44,
   "id": "1d268cc7-6ed5-4660-b0da-85006703bff5",
   "metadata": {},
   "outputs": [
    {
     "name": "stdout",
     "output_type": "stream",
     "text": [
      "List of the first 5 triangular numbers: [1, 3, 6, 10, 15]\n"
     ]
    }
   ],
   "source": [
    "# Function to calculate triangular numbers\n",
    "def triangular_numbers(n):\n",
    "    return [i * (i + 1) // 2 for i in range(1, n + 1)]\n",
    "\n",
    "# Specify the value of n\n",
    "n = 5\n",
    "\n",
    "# Create a list of the first n triangular numbers\n",
    "triangular_list = triangular_numbers(n)\n",
    "\n",
    "# Print the list of triangular numbers\n",
    "print(\"List of the first\", n, \"triangular numbers:\", triangular_list)"
   ]
  },
  {
   "cell_type": "markdown",
   "id": "e16fd3a3-ea13-415e-999a-2c3089cd7442",
   "metadata": {},
   "source": [
    "Q-49 check if a list contains another list as a subsequence"
   ]
  },
  {
   "cell_type": "code",
   "execution_count": 50,
   "id": "381e6a3a-6467-460c-9737-93773d6c3265",
   "metadata": {},
   "outputs": [
    {
     "name": "stdout",
     "output_type": "stream",
     "text": [
      "Main list contains the subsequence\n"
     ]
    }
   ],
   "source": [
    "# Example main list and subsequence\n",
    "main_list = [1, 2, 3, 4, 5, 6, 7, 8, 9, 10]\n",
    "subsequence = [3, 5,8]\n",
    "\n",
    "# length of subsequence\n",
    "a=len(subsequence)\n",
    "\n",
    "#this index store the no of element common in both list\n",
    "index=0\n",
    "#find the no of element common in both list\n",
    "for i in subsequence:\n",
    "     if i in main_list:\n",
    "            index+=1\n",
    "# check if  subsequence length is equal to  no of element common in both list it means Main list contains the subsequence \n",
    "if index==a:     \n",
    "       print('Main list contains the subsequence')\n",
    "else:\n",
    "       print('Main list does not contains the subsequence')"
   ]
  },
  {
   "cell_type": "markdown",
   "id": "a3a6fd37-e991-4df1-a274-0fea2803fdf9",
   "metadata": {},
   "source": [
    "Q-50 swap two elements in a list by their indices"
   ]
  },
  {
   "cell_type": "code",
   "execution_count": 51,
   "id": "f7f9c29a-d293-4a9d-8590-30178d77423a",
   "metadata": {},
   "outputs": [
    {
     "name": "stdin",
     "output_type": "stream",
     "text": [
      "enter 1 index 2\n",
      "enter 2 index 6\n"
     ]
    },
    {
     "name": "stdout",
     "output_type": "stream",
     "text": [
      "[1, 2, 8, 4, 6, 7, 3]\n"
     ]
    }
   ],
   "source": [
    "# create a list\n",
    "li=[1,2,3,4,6,7,8]\n",
    "\n",
    "# swap the element of that indices\n",
    "i=int(input('enter 1 index'))\n",
    "j=int(input('enter 2 index'))\n",
    "\n",
    "#swap the element in given indices\n",
    "temp=li[i]\n",
    "li[i]=li[j]\n",
    "li[j]=temp\n",
    "\n",
    "#print the result\n",
    "print(li)"
   ]
  },
  {
   "cell_type": "markdown",
   "id": "3e96bff6-c287-4f98-8b17-5e074b82a562",
   "metadata": {},
   "source": [
    "# Tuple based practice problem:"
   ]
  },
  {
   "cell_type": "code",
   "execution_count": 1,
   "id": "31f5bff1-ac17-4f33-8035-26ff931067e0",
   "metadata": {},
   "outputs": [
    {
     "name": "stdout",
     "output_type": "stream",
     "text": [
      "(1, 2, 3, 4, 5)\n"
     ]
    }
   ],
   "source": [
    "# Q-1 create a tuple with integer from 1 to 5\n",
    "\n",
    "#create a tuple\n",
    "tup=(1,2,3,4,5)\n",
    "\n",
    "#print the tuple\n",
    "print(tup)"
   ]
  },
  {
   "cell_type": "code",
   "execution_count": 2,
   "id": "6e301644-606b-4ac3-aa6e-abe593def509",
   "metadata": {},
   "outputs": [
    {
     "name": "stdout",
     "output_type": "stream",
     "text": [
      "3\n"
     ]
    }
   ],
   "source": [
    "# Q-2 Access the third element of tuple\n",
    "\n",
    "#create a tuple\n",
    "tup=(1,2,3,4,5)\n",
    "# third element of tuple\n",
    "tup[2]\n",
    "\n",
    "#print the result\n",
    "print(tup[2])\n"
   ]
  },
  {
   "cell_type": "code",
   "execution_count": 7,
   "id": "9feac3f3-8c12-4294-b2a3-785a4ef48fd6",
   "metadata": {},
   "outputs": [
    {
     "name": "stdout",
     "output_type": "stream",
     "text": [
      "length of tuple : 7\n"
     ]
    }
   ],
   "source": [
    "# Q-3 Find the length of a tuple without using the `len()` function.\n",
    "\n",
    "tup=(1,2,3,4,5,'pw','skill')\n",
    "\n",
    "# stores the length of tuple\n",
    "count=0\n",
    "\n",
    "#find the length of tuple\n",
    "for i in tup:\n",
    "       count+=1\n",
    "#print the result        \n",
    "print('length of tuple :',count)       "
   ]
  },
  {
   "cell_type": "code",
   "execution_count": 14,
   "id": "a30f3f52-060d-4efb-ba49-3ca3019db1e0",
   "metadata": {},
   "outputs": [
    {
     "name": "stdout",
     "output_type": "stream",
     "text": [
      " the occurrences of an element in a tuple  2\n"
     ]
    }
   ],
   "source": [
    "#Q-4 Count the occurrences of an element in a tuple.\n",
    "tup=(1,2,3,4,5,'pw','skill',3,4)\n",
    "\n",
    "elem_to_count=4\n",
    "# count the occurance of 4\n",
    "a=tup.count(elem_to_count)\n",
    "\n",
    "print(' the occurrences of an element in a tuple ',a)"
   ]
  },
  {
   "cell_type": "code",
   "execution_count": 21,
   "id": "157f1268-b051-4320-b415-5ab4053d4821",
   "metadata": {},
   "outputs": [
    {
     "name": "stdout",
     "output_type": "stream",
     "text": [
      "the first index is  3\n"
     ]
    }
   ],
   "source": [
    "# Q-5 Find the index of the first occurrence of an element in a tuple.\n",
    "tup=(1,2,3,4,5,'pw','skill',3,4)\n",
    "elm_to_find=4\n",
    "# first occurance of 4\n",
    "a=tup.index(elm_to_find)\n",
    " \n",
    "#print the result\n",
    "print('the first index is ',a)"
   ]
  },
  {
   "cell_type": "code",
   "execution_count": 22,
   "id": "91a72af1-5a4a-4f86-8360-b7204d15da74",
   "metadata": {},
   "outputs": [
    {
     "name": "stdout",
     "output_type": "stream",
     "text": [
      "30 exists in the tuple.\n"
     ]
    }
   ],
   "source": [
    "# Q-6 Check if an element exists in a tuple.\n",
    "\n",
    "# Step 1: Create a tuple\n",
    "my_tuple = (10, 20, 30, 40, 50)\n",
    "\n",
    "# Step 2: Choose the element to check for existence\n",
    "element_to_check = 30\n",
    "\n",
    "# Step 3: Check if the element exists in the tuple using the 'in' operator\n",
    "if element_to_check in my_tuple:\n",
    "    print(f\"{element_to_check} exists in the tuple.\")\n",
    "else:\n",
    "    print(f\"{element_to_check} does not exist in the tuple.\")"
   ]
  },
  {
   "cell_type": "code",
   "execution_count": 1,
   "id": "d7bbe9ba-0a72-41a2-adc1-9ec991da6ddb",
   "metadata": {},
   "outputs": [
    {
     "name": "stdout",
     "output_type": "stream",
     "text": [
      "[1, 2, 3, 4, 5, 'pw', 'skill', 3, 4]\n"
     ]
    }
   ],
   "source": [
    "# Q-7 convert tuple to list\n",
    "tup=(1,2,3,4,5,'pw','skill',3,4)\n",
    "\n",
    "# convert tuple to list \n",
    "li=list(tup)\n",
    "# print the result\n",
    "print(li)"
   ]
  },
  {
   "cell_type": "code",
   "execution_count": 2,
   "id": "1df403d0-3047-4078-a100-64226e7c3fee",
   "metadata": {},
   "outputs": [
    {
     "name": "stdout",
     "output_type": "stream",
     "text": [
      "(1, 2, 3, 4, 5, 'pw', 'skill', 3, 4)\n"
     ]
    }
   ],
   "source": [
    "# Q-8 convert list to tuple\n",
    "li =[1, 2, 3, 4, 5, 'pw', 'skill', 3, 4]\n",
    "\n",
    "# convert list to tuple\n",
    "tup=tuple(li)\n",
    "\n",
    "#print the result\n",
    "print(tup)"
   ]
  },
  {
   "cell_type": "code",
   "execution_count": 4,
   "id": "4048c4f8-0bad-44a1-9b87-87d1f807e97a",
   "metadata": {},
   "outputs": [
    {
     "name": "stdout",
     "output_type": "stream",
     "text": [
      "var1: 10\n",
      "var2: 20\n",
      "var3: 30\n"
     ]
    }
   ],
   "source": [
    "# Q-9 unpack the elements of a tuple into variables\n",
    "\n",
    "# Step 1: Create a tuple\n",
    "my_tuple = (10, 20, 30)\n",
    "\n",
    "# Step 2: Unpack the elements of the tuple into variables\n",
    "var1, var2, var3 = my_tuple\n",
    "\n",
    "# Step 3: Print the variables\n",
    "print(\"var1:\", var1)\n",
    "print(\"var2:\", var2)\n",
    "print(\"var3:\", var3)"
   ]
  },
  {
   "cell_type": "code",
   "execution_count": 3,
   "id": "0dc0c8b2-91f4-41af-b005-3b11775478a7",
   "metadata": {},
   "outputs": [
    {
     "name": "stdout",
     "output_type": "stream",
     "text": [
      "(2, 4, 6, 8, 10)\n"
     ]
    }
   ],
   "source": [
    "# Q-10 create a tuple of even num from 1 to 10\n",
    "#create a empty list\n",
    "l=[]\n",
    "\n",
    "# add even num in list\n",
    "for i in range(1,11):\n",
    "       if (i%2==0):\n",
    "             l.append(i)\n",
    "# convert list into tuple                                \n",
    "t=tuple(l)   \n",
    "print(t)"
   ]
  },
  {
   "cell_type": "code",
   "execution_count": 5,
   "id": "68483cc2-c895-478d-98de-9b994b8a1b33",
   "metadata": {},
   "outputs": [
    {
     "name": "stdout",
     "output_type": "stream",
     "text": [
      "(1, 3, 5, 7, 9)\n"
     ]
    }
   ],
   "source": [
    "# Q-11 create a tuple of odd num from 1 to 10\n",
    "# create a empty list\n",
    "l=[]\n",
    "\n",
    "#add odd num in list\n",
    "for i in range(1,11):\n",
    "       if (i%2!=0):\n",
    "             l.append(i)\n",
    "# convert list into tuple                                \n",
    "t=tuple(l)   \n",
    "print(t)"
   ]
  },
  {
   "cell_type": "code",
   "execution_count": 6,
   "id": "5195ea36-b967-4459-b4bb-1025d1ea4a89",
   "metadata": {},
   "outputs": [
    {
     "name": "stdout",
     "output_type": "stream",
     "text": [
      "(1, 2, 3, 4, 6, 7, 8, 9, 10, 11)\n"
     ]
    }
   ],
   "source": [
    "# Q-12 concatenate two tuples\n",
    "# create a two tuple\n",
    "t1=(1,2,3,4,6,7)\n",
    "t2=(8,9,10,11)\n",
    "#concatenate this tuples\n",
    "print(t1 + t2)"
   ]
  },
  {
   "cell_type": "code",
   "execution_count": 7,
   "id": "8d70d5b2-3523-4614-b781-333a2b3febe6",
   "metadata": {},
   "outputs": [
    {
     "name": "stdout",
     "output_type": "stream",
     "text": [
      "(1, 2, 3, 4, 6, 7, 1, 2, 3, 4, 6, 7, 1, 2, 3, 4, 6, 7)\n"
     ]
    }
   ],
   "source": [
    "# Q-13 repeat a tuple three times\n",
    "t1=(1,2,3,4,6,7)\n",
    "# mutiply tuple by 3\n",
    "a=t1*3\n",
    "#print the result\n",
    "print(a)"
   ]
  },
  {
   "cell_type": "code",
   "execution_count": 11,
   "id": "66affbb2-a265-41ec-a4fc-5788f8fe75fc",
   "metadata": {},
   "outputs": [
    {
     "name": "stdout",
     "output_type": "stream",
     "text": [
      "list is empty\n"
     ]
    }
   ],
   "source": [
    "# Q-14 check if a tuple is empty\n",
    "#create an empty tuple\n",
    "my_tuple=()\n",
    "\n",
    "# using len() fun\n",
    "len_tuple=len(my_tuple)\n",
    "\n",
    "if len_tuple==0:\n",
    "    print('list is empty')\n",
    "else:\n",
    "     print('list is not empty')\n",
    "    \n"
   ]
  },
  {
   "cell_type": "code",
   "execution_count": 12,
   "id": "994414d3-24a5-4133-ab07-103490440eaf",
   "metadata": {},
   "outputs": [
    {
     "name": "stdout",
     "output_type": "stream",
     "text": [
      "nested tuple:  (1, 2, 3, 4, 6, 7, (8, 9))\n"
     ]
    }
   ],
   "source": [
    "# Q-15 create a nested tuple\n",
    "# create a nested tuple\n",
    "t=(1,2,3,4,6,7,(8,9))\n",
    "\n",
    "#print the result\n",
    "print('nested tuple: ',t)\n"
   ]
  },
  {
   "cell_type": "code",
   "execution_count": 13,
   "id": "fdf5a478-5593-4ea0-8dc5-71c49b20df2f",
   "metadata": {},
   "outputs": [
    {
     "name": "stdout",
     "output_type": "stream",
     "text": [
      "First element of the nested tuple: (1, 2, 3)\n"
     ]
    }
   ],
   "source": [
    "# Q-16 access the first element of nested tuple\n",
    "# Step 1: Create a nested tuple\n",
    "nested_tuple = ((1, 2, 3), ('a', 'b', 'c'), (True, False))\n",
    "\n",
    "# Step 2: Access the first element of the nested tuple\n",
    "first_element = nested_tuple[0]\n",
    "\n",
    "# Step 3: Print the first element\n",
    "print(\"First element of the nested tuple:\", first_element)"
   ]
  },
  {
   "cell_type": "code",
   "execution_count": 14,
   "id": "8f6b856d-ae67-467d-8dd8-4760c08cdabb",
   "metadata": {},
   "outputs": [
    {
     "name": "stdout",
     "output_type": "stream",
     "text": [
      "('pwskill',)\n"
     ]
    }
   ],
   "source": [
    "# Q-17 create a tuple with a single element\n",
    "\n",
    "t=('pwskill',)\n",
    "# print the tuple\n",
    "print(t)\n"
   ]
  },
  {
   "cell_type": "code",
   "execution_count": 15,
   "id": "a35a6e37-effb-4f1e-ab72-b9bac570d6c3",
   "metadata": {},
   "outputs": [
    {
     "name": "stdout",
     "output_type": "stream",
     "text": [
      "tuple1 == tuple2: False\n",
      "tuple1 != tuple2: True\n",
      "tuple1 < tuple2: True\n",
      "tuple1 <= tuple2: True\n",
      "tuple1 > tuple2: False\n",
      "tuple1 >= tuple2: False\n"
     ]
    }
   ],
   "source": [
    "# Q-18 compare two tuples\n",
    "\n",
    "# Step 1: Create two tuples\n",
    "tuple1 = (1, 2, 3)\n",
    "tuple2 = (1, 2, 4)\n",
    "\n",
    "# Step 2: Compare the two tuples using comparison operators\n",
    "print(\"tuple1 == tuple2:\", tuple1 == tuple2)  # Equality check\n",
    "print(\"tuple1 != tuple2:\", tuple1 != tuple2)  # Inequality check\n",
    "print(\"tuple1 < tuple2:\", tuple1 < tuple2)    # Less than check\n",
    "print(\"tuple1 <= tuple2:\", tuple1 <= tuple2)  # Less than or equal to check\n",
    "print(\"tuple1 > tuple2:\", tuple1 > tuple2)    # Greater than check\n",
    "print(\"tuple1 >= tuple2:\", tuple1 >= tuple2)  # Greater than or equal to check"
   ]
  },
  {
   "cell_type": "code",
   "execution_count": 16,
   "id": "866ee87b-3524-450e-9413-95db5e0e18fe",
   "metadata": {},
   "outputs": [
    {
     "ename": "NameError",
     "evalue": "name 't1' is not defined",
     "output_type": "error",
     "traceback": [
      "\u001b[0;31m---------------------------------------------------------------------------\u001b[0m",
      "\u001b[0;31mNameError\u001b[0m                                 Traceback (most recent call last)",
      "Cell \u001b[0;32mIn[16], line 7\u001b[0m\n\u001b[1;32m      4\u001b[0m \u001b[38;5;66;03m# del operator delete entire tuple\u001b[39;00m\n\u001b[1;32m      5\u001b[0m \u001b[38;5;28;01mdel\u001b[39;00m t1\n\u001b[0;32m----> 7\u001b[0m \u001b[38;5;28mprint\u001b[39m(\u001b[43mt1\u001b[49m)\n",
      "\u001b[0;31mNameError\u001b[0m: name 't1' is not defined"
     ]
    }
   ],
   "source": [
    "# Q-19 delete a tuple\n",
    "\n",
    "t1=(1,2,3,4,6,7)\n",
    "# del operator delete entire tuple\n",
    "del t1\n",
    "\n",
    "print(t1)"
   ]
  },
  {
   "cell_type": "code",
   "execution_count": 17,
   "id": "7e875438-bcd6-44da-bccc-d1cd5862a606",
   "metadata": {},
   "outputs": [
    {
     "name": "stdout",
     "output_type": "stream",
     "text": [
      "(1, 2, 3, 4, 5, 'pw')\n"
     ]
    }
   ],
   "source": [
    "# Q-20 slice a tuple\n",
    "\n",
    "tuple1=(1,2,3,4,5,'pw','skill',3,4)\n",
    "# slice from 0 to 6 indices\n",
    "sliced_tuple=tuple1[0:6]\n",
    "\n",
    "#print the result\n",
    "print(sliced_tuple)"
   ]
  },
  {
   "cell_type": "code",
   "execution_count": 4,
   "id": "41711ab9-f988-489d-a226-164ada6949f3",
   "metadata": {},
   "outputs": [
    {
     "name": "stdout",
     "output_type": "stream",
     "text": [
      "maximum value in tuple:  9\n"
     ]
    }
   ],
   "source": [
    "# Q-21 find the maximun value in tuple\n",
    "t=(1,2,3,4,5,7,9,4)\n",
    "\n",
    "#find the maximun value by max funtion \n",
    "m=max(t)\n",
    "\n",
    "#print the result\n",
    "print('maximum value in tuple: ',m)"
   ]
  },
  {
   "cell_type": "code",
   "execution_count": 6,
   "id": "391e655b-e138-444a-ac05-088c12de2d62",
   "metadata": {},
   "outputs": [
    {
     "name": "stdout",
     "output_type": "stream",
     "text": [
      "minimum value in tuple:  1\n"
     ]
    }
   ],
   "source": [
    "# Q-22 find the minimum value in tuple\n",
    "t=(1,2,3,4,5,7,9,4)\n",
    "#  find the minimum value by min funtion \n",
    "m=min(t)\n",
    "\n",
    "#print the result\n",
    "print('minimum value in tuple: ',m)"
   ]
  },
  {
   "cell_type": "code",
   "execution_count": 9,
   "id": "964d662a-76be-4344-a44a-eaef897bc0ba",
   "metadata": {},
   "outputs": [
    {
     "name": "stdin",
     "output_type": "stream",
     "text": [
      "enter any string pwskill\n"
     ]
    },
    {
     "name": "stdout",
     "output_type": "stream",
     "text": [
      "tuple: ('p', 'w', 's', 'k', 'i', 'l', 'l')\n"
     ]
    }
   ],
   "source": [
    "# Q-23 convert a string to a tuple of characters\n",
    "#input a string\n",
    "str=input('enter any string')\n",
    "\n",
    "#convert string to tuple\n",
    "t=tuple(str)\n",
    "\n",
    "#print the result\n",
    "print('tuple:',t)"
   ]
  },
  {
   "cell_type": "code",
   "execution_count": 20,
   "id": "c1055ae0-f2a2-498a-ade6-93e69dd4f4e7",
   "metadata": {},
   "outputs": [
    {
     "name": "stdout",
     "output_type": "stream",
     "text": [
      "pwskill\n"
     ]
    }
   ],
   "source": [
    "# Q-24  convert a tuple of characters into string\n",
    "t=('p', 'w', 's', 'k', 'i', 'l', 'l')\n",
    "\n",
    "#add tuple element into str1\n",
    "str1=''.join(t)\n",
    "\n",
    "#print the result\n",
    "print(str1)\n"
   ]
  },
  {
   "cell_type": "code",
   "execution_count": 14,
   "id": "78d6af08-a01f-4d75-bda9-55ed1d7586dc",
   "metadata": {},
   "outputs": [
    {
     "name": "stdout",
     "output_type": "stream",
     "text": [
      "(2, 'pwskill', True, 20.3)\n"
     ]
    }
   ],
   "source": [
    "# Q-25 create a tuple from multiple data types\n",
    "#create a tuple\n",
    "t=(2,'pwskill',True,20.3)\n",
    "\n",
    "#print the result\n",
    "print(t)"
   ]
  },
  {
   "cell_type": "code",
   "execution_count": 18,
   "id": "3296d5ab-75df-4de7-bbca-1d8ec3aeaf69",
   "metadata": {},
   "outputs": [
    {
     "name": "stdout",
     "output_type": "stream",
     "text": [
      "tuples are not identical\n"
     ]
    }
   ],
   "source": [
    "# Q-26 check if two tuples are identical\n",
    "t1=(1,2,3,4,6,7,8)\n",
    "t2=(1,2,3,4,7,9,8)\n",
    "\n",
    "# check identical\n",
    "if t1==t2:\n",
    "    print('tuples are identical')\n",
    "else:\n",
    "     print('tuples are not identical')\n",
    "    \n",
    "    "
   ]
  },
  {
   "cell_type": "code",
   "execution_count": 24,
   "id": "6d9d094f-44b2-443d-b093-dcdad34b998d",
   "metadata": {},
   "outputs": [
    {
     "name": "stdout",
     "output_type": "stream",
     "text": [
      "sorted element : (1, 2, 3, 4, 6, 7, 8)\n"
     ]
    }
   ],
   "source": [
    "# Q-27 sort the element of tuple\n",
    "t1=(1,2,3,4,6,7,8)\n",
    "\n",
    "# sorted the tuple\n",
    "sorted_tuple=tuple(sorted(t1))\n",
    "print('sorted element :',sorted_tuple)\n"
   ]
  },
  {
   "cell_type": "code",
   "execution_count": 3,
   "id": "e75d66df-82b0-47cf-b57e-3c3f18067b08",
   "metadata": {},
   "outputs": [
    {
     "name": "stdout",
     "output_type": "stream",
     "text": [
      "('1', '2', '3', '4', '6', '7')\n"
     ]
    }
   ],
   "source": [
    "# Q-28 convert a tuple of integers to a tuple of strings\n",
    "\n",
    "t1=(1,2,3,4,6,7)\n",
    "#create a empty list\n",
    "l=[]\n",
    "#add elements to list from tuple by converting integer to string\n",
    "for i in t1:\n",
    "      l.append(str(i))\n",
    "\n",
    "#convert list to tuple\n",
    "t2=tuple(l)\n",
    "        \n",
    "print(t2)      "
   ]
  },
  {
   "cell_type": "code",
   "execution_count": 4,
   "id": "eb546129-b617-468a-b619-f72fa1c1f8f7",
   "metadata": {},
   "outputs": [
    {
     "name": "stdout",
     "output_type": "stream",
     "text": [
      "(1, 2, 3, 4, 6, 7)\n"
     ]
    }
   ],
   "source": [
    "# Q-29 convert a tuple of strings to a tuple of integer\n",
    "\n",
    "t1=('1', '2', '3', '4', '6', '7')\n",
    "#create a empty list\n",
    "l=[]\n",
    "#add elements to list from tuple by converting integer to string\n",
    "for i in t1:\n",
    "      l.append(int(i))\n",
    "\n",
    "#convert list to tuple\n",
    "t2=tuple(l)\n",
    "        \n",
    "print(t2)      "
   ]
  },
  {
   "cell_type": "code",
   "execution_count": 11,
   "id": "8b86f63a-c696-4ab5-bb65-8da0ad14506c",
   "metadata": {},
   "outputs": [
    {
     "name": "stdout",
     "output_type": "stream",
     "text": [
      "Merged tuple: (1, 2, 3, 4, 5, 6)\n"
     ]
    }
   ],
   "source": [
    "#Q-30 merge to list\n",
    "\n",
    "# Step 1: Create two tuples\n",
    "tuple1 = (1, 2, 3)\n",
    "tuple2 = (4, 5, 6)\n",
    "\n",
    "# Step 2: Merge the two tuples using the '+' operator\n",
    "merged_tuple = tuple1 + tuple2\n",
    "\n",
    "# Step 3: Print the merged tuple\n",
    "print(\"Merged tuple:\", merged_tuple)"
   ]
  },
  {
   "cell_type": "code",
   "execution_count": 12,
   "id": "43f17271-5779-44dc-b3ac-fe9a49173a33",
   "metadata": {},
   "outputs": [
    {
     "name": "stdout",
     "output_type": "stream",
     "text": [
      "Flattened tuple: (1, 2, 3, 4, 5, 6, 7, 8)\n"
     ]
    }
   ],
   "source": [
    "# Q-31 flatten a nested list\n",
    "\n",
    "# Recursive function to flatten a nested tuple\n",
    "def flatten_tuple(nested_tuple):\n",
    "    flattened = []\n",
    "    for item in nested_tuple:\n",
    "        if isinstance(item, tuple):\n",
    "            flattened.extend(flatten_tuple(item))\n",
    "        else:\n",
    "            flattened.append(item)\n",
    "    return flattened\n",
    "\n",
    "# Step 1: Create a nested tuple\n",
    "nested_tuple = ((1, 2), (3, 4, 5), (6, (7, 8)))\n",
    "\n",
    "# Step 2: Flatten the nested tuple\n",
    "flattened_tuple = tuple(flatten_tuple(nested_tuple))\n",
    "\n",
    "# Step 3: Print the flattened tuple\n",
    "print(\"Flattened tuple:\", flattened_tuple)"
   ]
  },
  {
   "cell_type": "code",
   "execution_count": 1,
   "id": "453a6ec0-b75c-4ae8-a613-c5010cc60381",
   "metadata": {},
   "outputs": [
    {
     "name": "stdout",
     "output_type": "stream",
     "text": [
      "Tuple of the first 5 prime numbers: (2, 3, 5, 7, 11)\n"
     ]
    }
   ],
   "source": [
    "# Q-32 create a tuple of the first 5 prime numbers\n",
    "\n",
    "# Function to check if a number is prime\n",
    "def is_prime(num):\n",
    "    if num <= 1:\n",
    "        return False\n",
    "    for i in range(2, int(num ** 0.5) + 1):\n",
    "        if num % i == 0:\n",
    "            return False\n",
    "    return True\n",
    "\n",
    "# Generate the first 5 prime numbers\n",
    "prime_numbers_list = [num for num in range(2, 100) if is_prime(num)][:5]\n",
    "\n",
    "# Convert the list to a tuple\n",
    "prime_numbers_tuple = tuple(prime_numbers_list)\n",
    "\n",
    "# Print the tuple of prime numbers\n",
    "print(\"Tuple of the first 5 prime numbers:\", prime_numbers_tuple)\n",
    "        "
   ]
  },
  {
   "cell_type": "code",
   "execution_count": 44,
   "id": "15e4b2d6-df4a-4787-b905-848b3f82a242",
   "metadata": {},
   "outputs": [
    {
     "name": "stdout",
     "output_type": "stream",
     "text": [
      "tuple t1 is palindrom\n"
     ]
    }
   ],
   "source": [
    "# Q-33 check if a tuples is a palindrom\n",
    "\n",
    "#create a tuple\n",
    "t1=(1,2,3,4,3,2,1)\n",
    "n=0\n",
    "i=0\n",
    "j=len(t1)-1\n",
    "\n",
    "#check palindrom\n",
    "while i<=j:\n",
    "    if t1[i]!=t1[j]:\n",
    "        n=1\n",
    "        print('tuple t1 is not palindrom')\n",
    "        break\n",
    "    i=i+1\n",
    "    j=j-1\n",
    "    \n",
    "if n==0:\n",
    "    print('tuple t1 is palindrom')"
   ]
  },
  {
   "cell_type": "code",
   "execution_count": 48,
   "id": "58189356-c89c-4042-921a-6b0da2f0aebb",
   "metadata": {},
   "outputs": [
    {
     "data": {
      "text/plain": [
       "(1, 4, 9, 16, 25)"
      ]
     },
     "execution_count": 48,
     "metadata": {},
     "output_type": "execute_result"
    }
   ],
   "source": [
    "# Q-34 create a tuple of squares of num from 1 to 5\n",
    "\n",
    "# first create a list and add into values and then convert into tuple\n",
    "#create a empty list\n",
    "l1=[]\n",
    "\n",
    "#add values in list\n",
    "for i in range(1,6):\n",
    "       l1.append(i*i)\n",
    "         \n",
    "#convert list into tuple\n",
    "tuple_1=tuple(l1)\n",
    "print(tuple_1)"
   ]
  },
  {
   "cell_type": "code",
   "execution_count": 50,
   "id": "10f6647c-2fca-4f52-881b-c0fc4c0797c2",
   "metadata": {},
   "outputs": [
    {
     "name": "stdout",
     "output_type": "stream",
     "text": [
      "2 4 6 8 "
     ]
    }
   ],
   "source": [
    "# Q-35 filter out all even num from a tuple\n",
    "# create a tuple\n",
    "tuple_1=(1,2,3,4,6,7,8,9)\n",
    "\n",
    "# find even num in tuple\n",
    "for i in tuple_1:\n",
    "    # even number\n",
    "    if i%2==0:\n",
    "        print(i,end=' ')"
   ]
  },
  {
   "cell_type": "code",
   "execution_count": 2,
   "id": "dbb0bf58-b625-404a-bab5-5fb850c40739",
   "metadata": {},
   "outputs": [
    {
     "name": "stdout",
     "output_type": "stream",
     "text": [
      "(2, 4, 6, 8, 10)\n"
     ]
    }
   ],
   "source": [
    "# Q-36 mutiply all elements in a tuple by 2\n",
    "\n",
    "original_tuple = (1, 2, 3, 4, 5)\n",
    "\n",
    "# Multiply all elements by 2 using a list comprehension and convert to a tuple\n",
    "doubled_tuple=tuple(i*2 for i in original_tuple)\n",
    "             \n",
    "print(doubled_tuple)       "
   ]
  },
  {
   "cell_type": "code",
   "execution_count": 4,
   "id": "ae4facda-03e7-46c1-889e-774c08ed3436",
   "metadata": {},
   "outputs": [
    {
     "name": "stdout",
     "output_type": "stream",
     "text": [
      "(62, 21, 18, 53, 46, 37, 3, 90, 79, 46)\n"
     ]
    }
   ],
   "source": [
    "# Q-37 create a tuple of random num\n",
    "\n",
    "import random\n",
    "\n",
    "# Create a tuple of random numbers using a list comprehension\n",
    "doubled_tuple=tuple(random.randint(1,100) for i in range(10))\n",
    "\n",
    "print(doubled_tuple)    "
   ]
  },
  {
   "cell_type": "code",
   "execution_count": 58,
   "id": "55bfc39c-1f19-48e2-b299-4df9d5d1132a",
   "metadata": {},
   "outputs": [
    {
     "name": "stdout",
     "output_type": "stream",
     "text": [
      "tuple_1 is not sorted\n"
     ]
    }
   ],
   "source": [
    "# Q-38 check if tuple is sorted\n",
    "# create a tuple\n",
    "tuple_1=(1,2,3,4,6,7,8,9)\n",
    "\n",
    "#sort the tuple\n",
    "tuple_2=sorted(tuple_1)\n",
    "\n",
    "# if tuple_1 and tuple_2 is same it means tuple_1 is sorted\n",
    "if tuple_1==tuple_2:\n",
    "    print('tuple_1 is sorted')\n",
    "else:\n",
    "    print('tuple_1 is not sorted')\n"
   ]
  },
  {
   "cell_type": "code",
   "execution_count": 5,
   "id": "e8675943-9803-46a1-a0d3-4c5d0c8abbb6",
   "metadata": {},
   "outputs": [
    {
     "name": "stdout",
     "output_type": "stream",
     "text": [
      "(3, 4, 5, 1, 2)\n"
     ]
    }
   ],
   "source": [
    "# Q-39 Rotate a tuple to the left by 'n' positions\n",
    "\n",
    "def rotate_tuple_left(tup, n):\n",
    "    n = n % len(tup)  # Ensure n is within the range of tuple length\n",
    "    rotated_tuple = tup[n:] + tup[:n]  # Rotate the tuple\n",
    "    return rotated_tuple\n",
    "\n",
    "# Example tuple\n",
    "my_tuple = (1, 2, 3, 4, 5)\n",
    "n_positions = 2\n",
    "result = rotate_tuple_left(my_tuple, n_positions)\n",
    "print(result)"
   ]
  },
  {
   "cell_type": "code",
   "execution_count": 7,
   "id": "fa7952c6-9edf-4595-8c86-31390ba2aea8",
   "metadata": {},
   "outputs": [
    {
     "name": "stdout",
     "output_type": "stream",
     "text": [
      "(4, 5, 1, 2, 3)\n"
     ]
    }
   ],
   "source": [
    "# Q-40 Rotate a tuple to the right by 'n' positions\n",
    "\n",
    "def rotate_tuple_left(tup, n):\n",
    "    n = n % len(tup)  # Ensure n is within the range of tuple length\n",
    "    len1=len(tup)\n",
    "    rotated_tuple = tup[len1-n:] + tup[:len1-n]  # Rotate the tuple\n",
    "    return rotated_tuple\n",
    "\n",
    "# Example tuple\n",
    "my_tuple = (1, 2, 3, 4, 5)\n",
    "n_positions = 2\n",
    "result = rotate_tuple_left(my_tuple, n_positions)\n",
    "print(result)"
   ]
  },
  {
   "cell_type": "code",
   "execution_count": 8,
   "id": "c868b31a-b871-4a1e-9c7e-fe2c95b23f09",
   "metadata": {},
   "outputs": [
    {
     "name": "stdout",
     "output_type": "stream",
     "text": [
      "fibonacci num:  [0, 1, 1, 2, 3]\n"
     ]
    },
    {
     "data": {
      "text/plain": [
       "(0, 1, 1, 2, 3)"
      ]
     },
     "execution_count": 8,
     "metadata": {},
     "output_type": "execute_result"
    }
   ],
   "source": [
    "# 41 create a tuple of the first 5 fibonacci numbers\n",
    "\n",
    "n=0\n",
    "#create a empty list\n",
    "sum=[]\n",
    "# first add fibonacci no in list and then convert list to tuple\n",
    "while n<5 :\n",
    "      if (n==0 or n==1):\n",
    "        sum.append(n)\n",
    "        n=n+1\n",
    "      else:\n",
    "         sum.append(sum[n-1]+sum[n-2])\n",
    "         n=n+1\n",
    "         \n",
    "print('fibonacci num: ',sum)   \n",
    " # convert list into tuple\n",
    "    \n",
    "t=tuple(sum)\n",
    "t"
   ]
  },
  {
   "cell_type": "code",
   "execution_count": 13,
   "id": "67fa0589-ec09-4ce9-b0c7-39a36317654f",
   "metadata": {},
   "outputs": [
    {
     "name": "stdin",
     "output_type": "stream",
     "text": [
      "enter space-separated words:  pwskill\n"
     ]
    },
    {
     "name": "stdout",
     "output_type": "stream",
     "text": [
      "('p', 'w', 's', 'k', 'i', 'l', 'l')\n"
     ]
    }
   ],
   "source": [
    "# 42 create a tuple from user input\n",
    "# input the user input\n",
    "str1=input('enter space-separated words: ')\n",
    "\n",
    "#convert string into tuple\n",
    "tup=tuple(str1)\n",
    "\n",
    "#print the tuple\n",
    "print(tup)"
   ]
  },
  {
   "cell_type": "code",
   "execution_count": 22,
   "id": "3a07fb8e-b529-4a9e-a911-a6fba35fcdd0",
   "metadata": {},
   "outputs": [
    {
     "name": "stdin",
     "output_type": "stream",
     "text": [
      "enter the first index 2\n",
      "enter the second index 4\n"
     ]
    },
    {
     "name": "stdout",
     "output_type": "stream",
     "text": [
      "(1, 2, 5, 4, 3, 6)\n"
     ]
    }
   ],
   "source": [
    "# Q-43 swap two elements in tuple\n",
    "\n",
    "#create a tuple\n",
    "tup=(1,2,3,4,5,6)\n",
    "\n",
    "#convert list to tuple\n",
    "li=list(tup)\n",
    "# enter the swap index\n",
    "index1=int(input('enter the first index'))\n",
    "index2=int(input('enter the second index'))\n",
    "\n",
    "# swap the elements\n",
    "temp=li[index1]\n",
    "li[index1]=li[index2]\n",
    "li[index2]=temp\n",
    "\n",
    "#convert list to tuple\n",
    "tup2=tuple(li)\n",
    "#print the result\n",
    "print(tup2)"
   ]
  },
  {
   "cell_type": "code",
   "execution_count": 23,
   "id": "cfbc9dc6-a322-4ff2-afe7-cd83284f2f72",
   "metadata": {},
   "outputs": [
    {
     "name": "stdout",
     "output_type": "stream",
     "text": [
      "Reversed tuple: (5, 4, 3, 2, 1)\n"
     ]
    }
   ],
   "source": [
    "# Q-44 Reverse the element of tuple\n",
    "\n",
    "# Create a tuple\n",
    "my_tuple = (1, 2, 3, 4, 5)\n",
    "\n",
    "# Reverse the elements using slicing\n",
    "reversed_tuple = my_tuple[::-1]\n",
    "\n",
    "# Print the reversed tuple\n",
    "print(\"Reversed tuple:\", reversed_tuple)"
   ]
  },
  {
   "cell_type": "code",
   "execution_count": 26,
   "id": "5c2705ac-6d27-433f-a484-4cb53af553d7",
   "metadata": {},
   "outputs": [
    {
     "name": "stdin",
     "output_type": "stream",
     "text": [
      " 4\n"
     ]
    },
    {
     "name": "stdout",
     "output_type": "stream",
     "text": [
      "Tuple of the first 4 powers of 2: (1, 2, 4, 8, 16)\n"
     ]
    }
   ],
   "source": [
    "# Q-45 find the tuple of the first 'n' powers of 2\n",
    "\n",
    "# enter the value of n\n",
    "n=int(input())\n",
    "\n",
    "# Create a tuple of the first n powers of 2 using a list comprehension\n",
    "my_tuple=tuple( 2**i for i in range(n+1))\n",
    "\n",
    "print(\"Tuple of the first\", n, \"powers of 2:\", my_tuple)"
   ]
  },
  {
   "cell_type": "code",
   "execution_count": 27,
   "id": "6916f152-e22b-4eee-b67a-c244a1d7d94f",
   "metadata": {},
   "outputs": [
    {
     "name": "stdout",
     "output_type": "stream",
     "text": [
      "Longest string: watermelon\n"
     ]
    }
   ],
   "source": [
    "# Q-46 find the longest string in a tuple of strings\n",
    " \n",
    "# Create a tuple of strings\n",
    "string_tuple = (\"apple\", \"banana\", \"grape\", \"kiwi\", \"watermelon\")\n",
    "\n",
    "# Find the longest string in the tuple\n",
    "longest_string = max(string_tuple, key=len)\n",
    "\n",
    "# Print the longest string\n",
    "print(\"Longest string:\", longest_string)\n",
    "    "
   ]
  },
  {
   "cell_type": "code",
   "execution_count": 30,
   "id": "60f374ec-47b5-4e5f-a753-13fb979ad83a",
   "metadata": {},
   "outputs": [
    {
     "name": "stdout",
     "output_type": "stream",
     "text": [
      "shortest string: kiwi\n"
     ]
    }
   ],
   "source": [
    "# Q-47 find the shortest string in a tuple of strings\n",
    " \n",
    "# Create a tuple of strings\n",
    "string_tuple = (\"apple\", \"banana\", \"grape\", \"kiwi\", \"watermelon\")\n",
    "\n",
    "# Find the shortest string in the tuple\n",
    "shortest_string = min(string_tuple, key=len)\n",
    "\n",
    "# Print the longest string\n",
    "print(\"shortest string:\", shortest_string)"
   ]
  },
  {
   "cell_type": "code",
   "execution_count": 31,
   "id": "11266ebc-478e-4a9f-bec0-20e219b8be04",
   "metadata": {},
   "outputs": [
    {
     "name": "stdout",
     "output_type": "stream",
     "text": [
      "Tuple of the first 5 triangular numbers: (1, 3, 6, 10, 15)\n"
     ]
    }
   ],
   "source": [
    "# Q-48 create a tuple of the first 'n' triangular numbers\n",
    "\n",
    "# Define the value of n\n",
    "n = 5\n",
    "\n",
    "# Create a tuple of the first n triangular numbers using a list comprehension\n",
    "triangular_numbers_tuple = tuple((i * (i + 1)) // 2 for i in range(1, n + 1))\n",
    "\n",
    "# Print the tuple of triangular numbers\n",
    "print(\"Tuple of the first\", n, \"triangular numbers:\", triangular_numbers_tuple)\n"
   ]
  },
  {
   "cell_type": "code",
   "execution_count": 33,
   "id": "24760b77-616c-435f-ab85-3ec37fe0a854",
   "metadata": {},
   "outputs": [
    {
     "name": "stdout",
     "output_type": "stream",
     "text": [
      "Main tuple contains subsequence tuple: True\n"
     ]
    }
   ],
   "source": [
    "# Q-49 check if a tuple contains another tuple as a subseqences\n",
    "\n",
    "# Function to check if a tuple contains another tuple as a subsequence\n",
    "def contains_subsequence(main_tuple, sub_tuple):\n",
    "    sub_length = len(sub_tuple)\n",
    "    for i in range(len(main_tuple) - sub_length + 1):\n",
    "        if main_tuple[i:i+sub_length] == sub_tuple:\n",
    "            return True\n",
    "    return False\n",
    "\n",
    "# Main tuple\n",
    "main_tuple = (1, 2, 3, 4, 5, 6, 7, 8, 9)\n",
    "\n",
    "# Subsequence tuple\n",
    "sub_tuple = (3, 4, 5)\n",
    "\n",
    "# Check if the main tuple contains the subsequence tuple\n",
    "contains_subseq = contains_subsequence(main_tuple, sub_tuple)\n",
    "\n",
    "# Print the result\n",
    "print(\"Main tuple contains subsequence tuple:\", contains_subseq)"
   ]
  },
  {
   "cell_type": "code",
   "execution_count": 32,
   "id": "6b017bc7-6077-4657-937d-a346a21791a6",
   "metadata": {},
   "outputs": [
    {
     "name": "stdout",
     "output_type": "stream",
     "text": [
      "Tuple of alternating 1s and 0s: (0, 1, 0, 1, 0, 1, 0, 1, 0, 1)\n"
     ]
    }
   ],
   "source": [
    "# Q-50 create a tuple of alternating 1s and 0s of length 'n'\n",
    "\n",
    "# Define the value of n\n",
    "n = 10\n",
    "\n",
    "# Create a tuple of alternating 1s and 0s using a list comprehension\n",
    "alternating_tuple = tuple(i % 2 for i in range(n))\n",
    "\n",
    "# Print the tuple of alternating 1s and 0s\n",
    "print(\"Tuple of alternating 1s and 0s:\", alternating_tuple)"
   ]
  },
  {
   "cell_type": "markdown",
   "id": "63d434e3-9a12-4e7b-9f00-a3102491863e",
   "metadata": {},
   "source": [
    "#  Set based practice problem:"
   ]
  },
  {
   "cell_type": "code",
   "execution_count": 12,
   "id": "4810097d-e15e-4c58-80e8-6bd16c2a18a8",
   "metadata": {},
   "outputs": [
    {
     "data": {
      "text/plain": [
       "{1, 2, 3, 4, 5}"
      ]
     },
     "execution_count": 12,
     "metadata": {},
     "output_type": "execute_result"
    }
   ],
   "source": [
    "# Q-1 create a set with integer from 1 to 5\n",
    "\n",
    "#create a set\n",
    "set_1=set()\n",
    "# add the element to set\n",
    "for i in range(1,6):\n",
    "       set_1.add(i)\n",
    "\n",
    "print(set_1)\n"
   ]
  },
  {
   "cell_type": "code",
   "execution_count": 1,
   "id": "90298251-8e71-498b-9ca7-d84569fcf2ea",
   "metadata": {},
   "outputs": [
    {
     "name": "stdout",
     "output_type": "stream",
     "text": [
      "{1, 2, 3, 4, 5, 6}\n"
     ]
    }
   ],
   "source": [
    "# Q-2 add the element to set\n",
    "# craete a set\n",
    "set_1={1,2,3,4,5}\n",
    "#element to add\n",
    "add_to_elm=6\n",
    "#add the element\n",
    "set_1.add(add_to_elm)\n",
    "print(set_1)"
   ]
  },
  {
   "cell_type": "code",
   "execution_count": 15,
   "id": "b7907231-8b7f-4f8d-8500-671aff954c7b",
   "metadata": {},
   "outputs": [
    {
     "data": {
      "text/plain": [
       "{1, 3, 4, 5, 6}"
      ]
     },
     "execution_count": 15,
     "metadata": {},
     "output_type": "execute_result"
    }
   ],
   "source": [
    "# Q-3 Remove an element from set\n",
    "\n",
    "set_1={1, 2, 3, 4, 5, 6}\n",
    "\n",
    "# remove element\n",
    "set_1.remove(2)\n",
    "\n",
    "print(set_1)"
   ]
  },
  {
   "cell_type": "code",
   "execution_count": 2,
   "id": "c69fde53-6c7d-4e73-9e95-38cec19c5cb6",
   "metadata": {},
   "outputs": [
    {
     "name": "stdout",
     "output_type": "stream",
     "text": [
      "Yes\n"
     ]
    }
   ],
   "source": [
    "# Q-4 check if an element exists in a set\n",
    "\n",
    "set_1={'apple','bnana','orange','govava'}\n",
    "\n",
    "if 'apple' in set_1:\n",
    "    print('Yes')\n",
    "else:\n",
    "    print('no')\n"
   ]
  },
  {
   "cell_type": "code",
   "execution_count": 23,
   "id": "d5f500e4-1aad-4c87-a8ee-0328f6633aeb",
   "metadata": {},
   "outputs": [
    {
     "name": "stdout",
     "output_type": "stream",
     "text": [
      "length of string :  4\n"
     ]
    }
   ],
   "source": [
    "# Q-5 find the length of a set without using len() function\n",
    "\n",
    "set_1={'apple','bnana','orange','govava'}\n",
    "count=0\n",
    "for i in set_1:\n",
    "      count+=1\n",
    "print('length of string : ',count)   "
   ]
  },
  {
   "cell_type": "code",
   "execution_count": 24,
   "id": "99503af6-2a18-462b-ab4a-6e217df834e1",
   "metadata": {},
   "outputs": [
    {
     "data": {
      "text/plain": [
       "set()"
      ]
     },
     "execution_count": 24,
     "metadata": {},
     "output_type": "execute_result"
    }
   ],
   "source": [
    "# Q-6 clear all elements from a set\n",
    "\n",
    "set_1={'apple','bnana','orange','govava'}\n",
    "\n",
    "#clear all the element by using clear() \n",
    "set_1.clear()\n",
    "\n",
    "print(set_1)"
   ]
  },
  {
   "cell_type": "code",
   "execution_count": 26,
   "id": "8730a06f-7063-4e35-a5c5-637f5f9e0a1e",
   "metadata": {},
   "outputs": [
    {
     "name": "stdout",
     "output_type": "stream",
     "text": [
      "even no:  {2, 4, 6, 8, 10}\n"
     ]
    }
   ],
   "source": [
    "# Q-7 create a set of even numbers from 1 to 10\n",
    "\n",
    "#create a empty set\n",
    "set_1=set()\n",
    "\n",
    "#add the even elements in a set\n",
    "for i in range(1,11):\n",
    "       if (i%2==0):\n",
    "            set_1.add(i)\n",
    "            \n",
    "print('even no: ',set_1)           \n",
    "       "
   ]
  },
  {
   "cell_type": "code",
   "execution_count": 28,
   "id": "20196b4b-dbff-49d3-bb7a-18181b6c24dc",
   "metadata": {},
   "outputs": [
    {
     "name": "stdout",
     "output_type": "stream",
     "text": [
      "odd no:  {1, 3, 5, 7, 9}\n"
     ]
    }
   ],
   "source": [
    "# Q-8 create a set of odd numbers from 1 to 10\n",
    "\n",
    "#create a empty set\n",
    "set_1=set()\n",
    "\n",
    "# add the odd elements in set\n",
    "for i in range(1,11):\n",
    "       if (i%2!=0):\n",
    "            set_1.add(i)\n",
    "            \n",
    "print('odd no: ',set_1)           \n",
    "       "
   ]
  },
  {
   "cell_type": "code",
   "execution_count": 10,
   "id": "ce091ce6-4bb3-4892-b049-ec1fe74c8c96",
   "metadata": {},
   "outputs": [
    {
     "name": "stdout",
     "output_type": "stream",
     "text": [
      "set 1:  {1, 2, 3, 4}\n",
      "set 2:  {8, 9, 6, 7}\n",
      "union of two sets: {1, 2, 3, 4, 6, 7, 8, 9}\n"
     ]
    }
   ],
   "source": [
    "# Q-9 find the union of two sets\n",
    "\n",
    "# create two sets with some element\n",
    "set_1={1,2,3,4}\n",
    "set_2={6,7,8,9}\n",
    "# print the sets \n",
    "print('set 1: ',set_1) \n",
    "print('set 2: ',set_2) \n",
    "\n",
    "# find union by using union function\n",
    "\n",
    "find_union=set_1.union(set_2)\n",
    "\n",
    "# print the union set\n",
    "print('union of two sets:',find_union)"
   ]
  },
  {
   "cell_type": "code",
   "execution_count": 12,
   "id": "d2d6949c-75e9-4842-a919-8d32ae8b5cf1",
   "metadata": {},
   "outputs": [
    {
     "name": "stdout",
     "output_type": "stream",
     "text": [
      "set 1:  {1, 2, 3, 4, 6, 7}\n",
      "set 2:  {8, 9, 6, 7}\n",
      "intersection of two sets: {6, 7}\n"
     ]
    }
   ],
   "source": [
    "# Q-10 find the intersection of two sets\n",
    "\n",
    "# create two sets with some element\n",
    "set_1={1,2,3,4,6,7}\n",
    "set_2={6,7,8,9}\n",
    "# print the sets \n",
    "print('set 1: ',set_1) \n",
    "print('set 2: ',set_2) \n",
    "\n",
    "# find intersection by using intersection function\n",
    "\n",
    "find_intersection=set_1.intersection(set_2)\n",
    "\n",
    "# print the intersection set\n",
    "print('intersection of two sets:',find_intersection)"
   ]
  },
  {
   "cell_type": "code",
   "execution_count": 13,
   "id": "ec9c52cf-a9d7-496b-ae74-3d366db3b825",
   "metadata": {},
   "outputs": [
    {
     "name": "stdout",
     "output_type": "stream",
     "text": [
      "set 1:  {1, 2, 3, 4, 6, 7}\n",
      "set 2:  {8, 9, 6, 7}\n",
      " difference of two sets: {1, 2, 3, 4}\n"
     ]
    }
   ],
   "source": [
    "# Q-11 find the difference between two sets\n",
    "\n",
    "# create two sets with some element\n",
    "set_1={1,2,3,4,6,7}\n",
    "set_2={6,7,8,9}\n",
    "\n",
    "# print the sets \n",
    "print('set 1: ',set_1) \n",
    "print('set 2: ',set_2) \n",
    "\n",
    "# find  difference by using intersection function\n",
    "\n",
    "find_difference=set_1. difference(set_2)\n",
    "\n",
    "# print the intersection set\n",
    "print(' difference of two sets:',find_difference)"
   ]
  },
  {
   "cell_type": "code",
   "execution_count": 16,
   "id": "7829788e-2d6c-4f45-9efc-144b726d0821",
   "metadata": {},
   "outputs": [
    {
     "name": "stdout",
     "output_type": "stream",
     "text": [
      "Is set1 a subset of set2: True\n"
     ]
    }
   ],
   "source": [
    "# Q-12 check if a set is subset of another set\n",
    "\n",
    "set1 = {1, 2, 3}\n",
    "set2 = {1, 2, 3, 4, 5}\n",
    "\n",
    "# the \"subset()\" method to check if set1 is a subset of set2\n",
    "is_subset = set1.issubset(set2)\n",
    "\n",
    "# Print the result\n",
    "print(\"Is set1 a subset of set2:\", is_subset)"
   ]
  },
  {
   "cell_type": "code",
   "execution_count": 19,
   "id": "87a263bd-431f-483b-bcc1-e15994823e4c",
   "metadata": {},
   "outputs": [
    {
     "name": "stdout",
     "output_type": "stream",
     "text": [
      "Is set1 a superset of set2: True\n"
     ]
    }
   ],
   "source": [
    "# Q-13 check if a set is superset of another set\n",
    "\n",
    "set1 = {1, 2, 3}\n",
    "set2 = {1, 2, 3, 4, 5}\n",
    "\n",
    "# to check if set2 is superset of set1 using issuperset() method\n",
    "is_superset = set2.issuperset(set1)\n",
    "\n",
    "# Print the result\n",
    "print(\"Is set1 a superset of set2:\", is_superset)"
   ]
  },
  {
   "cell_type": "code",
   "execution_count": 21,
   "id": "a9cc8685-eded-4ffb-8037-f7893f264cc1",
   "metadata": {},
   "outputs": [
    {
     "name": "stdout",
     "output_type": "stream",
     "text": [
      "{1, 2, 3, 4, 6, 7}\n"
     ]
    }
   ],
   "source": [
    "# Q-14 create a set from a list\n",
    "\n",
    "# create a list of integer\n",
    "li=[1,2,3,4,6,7]\n",
    " # convert list to set by using set() method\n",
    "set1=set(li)\n",
    "\n",
    "# print the set\n",
    "print(set1)"
   ]
  },
  {
   "cell_type": "code",
   "execution_count": 22,
   "id": "0a7a21c7-b3db-466f-9161-34250c7980db",
   "metadata": {},
   "outputs": [
    {
     "name": "stdout",
     "output_type": "stream",
     "text": [
      "[1, 2, 3, 4]\n"
     ]
    }
   ],
   "source": [
    "# Q-15 convert a set to list\n",
    "\n",
    "# create a set of integer\n",
    "set1={1,2,3,4}\n",
    "\n",
    "# convert set to list by using list() method\n",
    "\n",
    "li=list(set1)\n",
    "\n",
    "#print the list\n",
    "print(li)"
   ]
  },
  {
   "cell_type": "code",
   "execution_count": 5,
   "id": "5f13da93-dfd3-4256-8fc4-d137977c4a62",
   "metadata": {},
   "outputs": [
    {
     "name": "stdout",
     "output_type": "stream",
     "text": [
      "{1, 3, 4, 6, 7}\n"
     ]
    }
   ],
   "source": [
    "# Q-16 Remove a random element from a set\n",
    "\n",
    "import random\n",
    "\n",
    "my_set={1,2,3,4,6,7}\n",
    "\n",
    "#choose element to remove randomly\n",
    "random_element = random.choice(list(my_set))\n",
    "# remove the element\n",
    "my_set.remove(random_element)\n",
    "\n",
    "# print the modified set\n",
    "print(my_set)"
   ]
  },
  {
   "cell_type": "code",
   "execution_count": 6,
   "id": "32f1a5d1-c4ef-40ae-9cfc-9ac056f9e88f",
   "metadata": {},
   "outputs": [
    {
     "name": "stdout",
     "output_type": "stream",
     "text": [
      "{2, 3, 4, 6, 7}\n"
     ]
    }
   ],
   "source": [
    "# Q-17 pop an element from a set\n",
    "\n",
    "# create a set of integer\n",
    "my_set={1,2,3,4,6,7}\n",
    "#pop element from a set\n",
    "my_set.pop()\n",
    "# print the elements of set\n",
    "print(my_set)"
   ]
  },
  {
   "cell_type": "code",
   "execution_count": 7,
   "id": "9a0c9333-2ef5-45d1-83a1-32e0a128f930",
   "metadata": {},
   "outputs": [
    {
     "name": "stdout",
     "output_type": "stream",
     "text": [
      "there is no any common element\n"
     ]
    }
   ],
   "source": [
    "# Q-18 check if two sets have no elements in common\n",
    "\n",
    "#create a set of integer\n",
    "set1={1,2,3,4,5,6}\n",
    "set2={10,7,8,9}\n",
    "\n",
    "# find common element is set\n",
    "com_elm=set1.intersection(set2)\n",
    "\n",
    "# check there is any common element in two sets\n",
    "if not com_elm:\n",
    "    print('there is no any common element')\n",
    "else:\n",
    "    print('there is common element')\n"
   ]
  },
  {
   "cell_type": "markdown",
   "id": "567f2e38-eafd-4b98-87b0-e57e645782ae",
   "metadata": {},
   "source": [
    "Q-19 find the symmetric difference between two sets"
   ]
  },
  {
   "cell_type": "code",
   "execution_count": 1,
   "id": "2f2d5e35-f88a-454e-a9b5-4eda6026e0b1",
   "metadata": {},
   "outputs": [
    {
     "name": "stdout",
     "output_type": "stream",
     "text": [
      "{1, 2, 3, 5, 7, 8, 9}\n"
     ]
    }
   ],
   "source": [
    "#create a set of integer\n",
    "set1={1,2,3,4,5,6}\n",
    "set2={4,6,7,8,9}\n",
    "\n",
    "#symmetric difference\n",
    "sym=set1^set2\n",
    "\n",
    "print(sym)"
   ]
  },
  {
   "cell_type": "markdown",
   "id": "676fc931-a524-4246-99f9-46e45e55d6dd",
   "metadata": {},
   "source": [
    "Q-20 upadate a set with elements from another set"
   ]
  },
  {
   "cell_type": "code",
   "execution_count": 3,
   "id": "737d27fe-92d8-4a84-b77a-01ae2ec3395e",
   "metadata": {},
   "outputs": [
    {
     "name": "stdout",
     "output_type": "stream",
     "text": [
      "updated set1  {1, 2, 3, 4, 6, 7}\n"
     ]
    }
   ],
   "source": [
    "set1={1,2,3,4}\n",
    "set2={3,4,6,7}\n",
    "\n",
    "#update set1 with set2\n",
    "set1.update(set2)\n",
    "\n",
    "#print the set1\n",
    "print('updated set1 ',set1)"
   ]
  },
  {
   "cell_type": "markdown",
   "id": "8d933d55-b816-4095-b961-83fe22974c92",
   "metadata": {},
   "source": [
    "Q-21 create a set of the first 5 prime numbers"
   ]
  },
  {
   "cell_type": "code",
   "execution_count": 8,
   "id": "11f250a2-3e42-4063-b259-eb7ff080ff38",
   "metadata": {},
   "outputs": [
    {
     "name": "stdout",
     "output_type": "stream",
     "text": [
      "Set of the first 5 prime numbers: {2, 3, 5, 7, 11}\n"
     ]
    }
   ],
   "source": [
    "# Function to check if a number is prime\n",
    "def is_prime(num):\n",
    "    if num <= 1:\n",
    "        return False\n",
    "    for i in range(2, int(num ** 0.5) + 1):\n",
    "        if num % i == 0:\n",
    "            return False\n",
    "    return True\n",
    "\n",
    "# Create an empty set to store the prime numbers\n",
    "prime_set = set()\n",
    "\n",
    "# Initialize the number to start checking for primes\n",
    "num = 2\n",
    "\n",
    "# Loop until we have found the first 5 prime numbers\n",
    "while len(prime_set) < 5:\n",
    "    # Check if the current number is prime using the is_prime function\n",
    "    if is_prime(num):\n",
    "        # If the number is prime, add it to the prime_set\n",
    "        prime_set.add(num)\n",
    "\n",
    "    # Move on to the next number for the next iteration\n",
    "    num += 1\n",
    "\n",
    "# Print the set of prime numbers\n",
    "print(\"Set of the first 5 prime numbers:\", prime_set) \n",
    "    "
   ]
  },
  {
   "cell_type": "markdown",
   "id": "35b39a61-1263-43e3-98db-360d14958296",
   "metadata": {},
   "source": [
    "Q-22 check if two sets are identical"
   ]
  },
  {
   "cell_type": "code",
   "execution_count": 4,
   "id": "b8db8e6b-63dc-4f79-94d6-a900ad68a895",
   "metadata": {},
   "outputs": [
    {
     "name": "stdout",
     "output_type": "stream",
     "text": [
      "The sets are identical.\n"
     ]
    }
   ],
   "source": [
    "# create teo sets of integer\n",
    "set1={1,2,3,4,5}\n",
    "set2={2,1,5,3,4} #order dose not matter in sets \n",
    "\n",
    "# check if sets are identical or not\n",
    "if set1 == set2:\n",
    "    print(\"The sets are identical.\")\n",
    "else:\n",
    "    print(\"The sets are not identical.\")"
   ]
  },
  {
   "cell_type": "markdown",
   "id": "810dd2c1-17ba-499f-a9f5-8fcb30b0bdda",
   "metadata": {},
   "source": [
    "Q-23 create a frozen set"
   ]
  },
  {
   "cell_type": "code",
   "execution_count": 5,
   "id": "17756191-435e-47a3-a72e-81382b48603d",
   "metadata": {},
   "outputs": [
    {
     "name": "stdout",
     "output_type": "stream",
     "text": [
      "frozenset({1, 2, 3, 6, 7, 8})\n"
     ]
    }
   ],
   "source": [
    "# create a list of elements that add to be frozenset\n",
    "\n",
    "list1=[1,2,3,6,7,8]\n",
    "\n",
    "#Create a frozen set using the 'frozenset' constructor and passing the list of elements\n",
    "frozen_set=frozenset(list1)\n",
    "\n",
    "print(frozen_set)"
   ]
  },
  {
   "cell_type": "markdown",
   "id": "1cf3ec64-896c-4112-85ed-8a05c01c9bb2",
   "metadata": {},
   "source": [
    "Q-24 check if a set is disjoint with another set"
   ]
  },
  {
   "cell_type": "code",
   "execution_count": 9,
   "id": "cb422085-9664-47c7-ba48-3ac7733630ba",
   "metadata": {},
   "outputs": [
    {
     "name": "stdout",
     "output_type": "stream",
     "text": [
      "True\n"
     ]
    }
   ],
   "source": [
    "# create two sets\n",
    "set1={1,2,6,7}\n",
    "set2={8,9,3,4}\n",
    "\n",
    "# check it have any common element or not if not any common element it returns true otherwise false\n",
    "dijoint=set1.isdisjoint(set2)\n",
    "\n",
    "#print the result\n",
    "print(dijoint)"
   ]
  },
  {
   "cell_type": "markdown",
   "id": "fb19fe12-6ee5-4d3b-9f66-d769515e7da4",
   "metadata": {},
   "source": [
    "Q-25 create a set of squares of numbers from 1 to 5"
   ]
  },
  {
   "cell_type": "code",
   "execution_count": 12,
   "id": "be7ca51a-14de-40d4-863b-0ec17b231e41",
   "metadata": {},
   "outputs": [
    {
     "name": "stdout",
     "output_type": "stream",
     "text": [
      "set:  {1, 4, 9, 16, 25}\n"
     ]
    }
   ],
   "source": [
    "# create an empty set\n",
    "set1=set()\n",
    "\n",
    "# add square of numbers 1 to 5\n",
    "for i in range(1,6):\n",
    "        set1.add(i*i)\n",
    "        \n",
    "print('set: ',set1)       "
   ]
  },
  {
   "cell_type": "markdown",
   "id": "357b81fe-e92b-45f3-b78d-40db9606c399",
   "metadata": {},
   "source": [
    "Q-26 filter out all even numbers from a set"
   ]
  },
  {
   "cell_type": "code",
   "execution_count": 17,
   "id": "444e8e63-7f72-4ffe-a14b-e94650b1002c",
   "metadata": {},
   "outputs": [
    {
     "name": "stdout",
     "output_type": "stream",
     "text": [
      "Even numbers in set:\n",
      "2 4 6 8 "
     ]
    }
   ],
   "source": [
    "#create a set of elements\n",
    "set1={1,2,3,4,6,8}\n",
    "\n",
    "# find even elements from set\n",
    "print('Even numbers in set:')\n",
    "for i in set1:\n",
    "     if i%2==0:\n",
    "            print(i,end=' ')"
   ]
  },
  {
   "cell_type": "markdown",
   "id": "fb3aed54-7c21-4025-abc2-f675aa65932f",
   "metadata": {},
   "source": [
    "Q-27 multiply all elements in a set by 2"
   ]
  },
  {
   "cell_type": "code",
   "execution_count": 19,
   "id": "511af682-619b-4728-938e-fb5e81ee727f",
   "metadata": {},
   "outputs": [
    {
     "name": "stdout",
     "output_type": "stream",
     "text": [
      "Original Set: {1, 2, 3, 4, 5}\n",
      "Multiplied Set: {2, 4, 6, 8, 10}\n"
     ]
    }
   ],
   "source": [
    "# Create a set with integers from 1 to 5\n",
    "original_set = {1, 2, 3, 4, 5}\n",
    "\n",
    "# Initialize an empty set to store the multiplied elements\n",
    "multiplied_set = set()\n",
    "\n",
    "for num in original_set:\n",
    "    # Multiply the current element by 2\n",
    "    multiplied_num = num * 2\n",
    "\n",
    "    # Add the multiplied element to the multiplied_set\n",
    "    multiplied_set.add(multiplied_num)\n",
    "\n",
    "# The original_set remains unchanged\n",
    "print(\"Original Set:\", original_set)\n",
    "\n",
    "# Display the set with elements multiplied by 2\n",
    "print(\"Multiplied Set:\", multiplied_set)"
   ]
  },
  {
   "cell_type": "markdown",
   "id": "f5e4854a-556e-41f9-a6ac-2e33d91168b2",
   "metadata": {},
   "source": [
    "Q-28 create a set of random numbers"
   ]
  },
  {
   "cell_type": "code",
   "execution_count": 1,
   "id": "18c0e300-da87-4c9a-882a-412af7235088",
   "metadata": {},
   "outputs": [
    {
     "name": "stdout",
     "output_type": "stream",
     "text": [
      "set of random numbers:  {9, 42, 11, 13, 52, 92}\n"
     ]
    }
   ],
   "source": [
    "import random\n",
    "\n",
    "#  Initialize an empty set to store the random numbers\n",
    "random_number_set = set()\n",
    "\n",
    "# Use a loop to generate random numbers and add them to the set\n",
    "for _ in range(6):\n",
    "    # Generate a random integer using the `randint` function from the `random` module\n",
    "    random_num = random.randint(1, 100)  # Generate a random number between 1 and 100\n",
    "    # Add the random number to the set\n",
    "    random_number_set.add(random_num)\n",
    "print('set of random numbers: ',random_number_set )   "
   ]
  },
  {
   "cell_type": "markdown",
   "id": "6e6fd089-5eab-4ff2-b953-bfbc77bb0e49",
   "metadata": {},
   "source": [
    "Q-29 check if a set empty"
   ]
  },
  {
   "cell_type": "code",
   "execution_count": 8,
   "id": "bf3034f6-454e-438c-98f2-bf245c917186",
   "metadata": {},
   "outputs": [
    {
     "name": "stdout",
     "output_type": "stream",
     "text": [
      "empty set\n"
     ]
    }
   ],
   "source": [
    "# create a empty set\n",
    "set1= set()\n",
    "\n",
    "#if length of set1 is 0 that means set1 is empty\n",
    "if len(set1)==0:\n",
    "    print('empty set')\n",
    "else:\n",
    "    print('not empty ')\n",
    "    "
   ]
  },
  {
   "cell_type": "markdown",
   "id": "41a4d600-a87f-4ab5-aaee-f0e1a6994a2d",
   "metadata": {},
   "source": [
    "Q-30 create a nested set"
   ]
  },
  {
   "cell_type": "code",
   "execution_count": 12,
   "id": "ef045d32-81dc-4534-bae1-d39da514a289",
   "metadata": {},
   "outputs": [
    {
     "name": "stdout",
     "output_type": "stream",
     "text": [
      "Nested Set: {frozenset({1, 2, 3, 4}), frozenset({8, 9, 6, 7})}\n"
     ]
    }
   ],
   "source": [
    "#  Create the inner sets\n",
    "set1 = {1, 2, 3, 4}\n",
    "set2 = {6, 7, 8, 9}\n",
    "\n",
    "#  Create frozensets from the inner sets\n",
    "frozen_set1 = frozenset(set1)\n",
    "frozen_set2 = frozenset(set2)\n",
    "\n",
    "# Create the nested set using the frozensets\n",
    "nested_set = {frozen_set1, frozen_set2}\n",
    "\n",
    "# Print the nested set\n",
    "print(\"Nested Set:\", nested_set)"
   ]
  },
  {
   "cell_type": "markdown",
   "id": "565cc603-2179-48ba-b080-5b027869e67b",
   "metadata": {},
   "source": [
    "Q-31 Remove an element from a set using the discard method"
   ]
  },
  {
   "cell_type": "code",
   "execution_count": 16,
   "id": "c5387424-a718-4abe-860d-2e5f90b63522",
   "metadata": {},
   "outputs": [
    {
     "name": "stdout",
     "output_type": "stream",
     "text": [
      "set:  {1, 2, 4, 6, 7, 8}\n"
     ]
    }
   ],
   "source": [
    "# create a set\n",
    "set1={1,2,3,4,6,7,8}\n",
    "\n",
    "# remove the element by discard method\n",
    "set1.discard(3)\n",
    "\n",
    "#print the modified set\n",
    "print('set: ',set1)"
   ]
  },
  {
   "cell_type": "markdown",
   "id": "6ec178a9-353f-4676-8b50-55fef632a889",
   "metadata": {},
   "source": [
    "Q-32 compare two sets"
   ]
  },
  {
   "cell_type": "code",
   "execution_count": 18,
   "id": "d8381b11-5a58-495a-b6b7-169b5b9ccd78",
   "metadata": {},
   "outputs": [
    {
     "name": "stdout",
     "output_type": "stream",
     "text": [
      "Set 1: {1, 2, 3, 6, 7, 8}\n",
      "Set 2: {1, 2, 6, 7, 8, 9}\n",
      "Is set1 a subset of set2? False\n",
      "Is set2 a subset of set1? False\n",
      "Intersection: {1, 2, 6, 7, 8}\n",
      "Union: {1, 2, 3, 6, 7, 8, 9}\n",
      "Elements in set1 but not in set2: {3}\n",
      "Elements in set2 but not in set1: {9}\n"
     ]
    }
   ],
   "source": [
    "# Define two sets\n",
    "set1 = {1, 2,3,6,7,8}\n",
    "set2 = {6,7,8,9,2,1}\n",
    "\n",
    "# Use set operations to compare the sets\n",
    "# Check if set1 is a subset of set2\n",
    "is_subset = set1.issubset(set2)\n",
    "\n",
    "# Check if set2 is a subset of set1\n",
    "is_superset = set1.issuperset(set2)\n",
    "\n",
    "# Find the intersection of the sets\n",
    "intersection = set1.intersection(set2)\n",
    "\n",
    "# Find the union of the sets\n",
    "union = set1.union(set2)\n",
    "\n",
    "# Find the elements that are in set1 but not in set2\n",
    "difference1 = set1.difference(set2)\n",
    "\n",
    "# Find the elements that are in set2 but not in set1\n",
    "difference2 = set2.difference(set1)\n",
    "\n",
    "# Print the results\n",
    "print(\"Set 1:\", set1)\n",
    "print(\"Set 2:\", set2)\n",
    "print(\"Is set1 a subset of set2?\", is_subset)\n",
    "print(\"Is set2 a subset of set1?\", is_superset)\n",
    "print(\"Intersection:\", intersection)\n",
    "print(\"Union:\", union)\n",
    "print(\"Elements in set1 but not in set2:\", difference1)\n",
    "print(\"Elements in set2 but not in set1:\", difference2)# Find the elements that are in set2 but not in set1\n",
    "difference2 = set2.difference(set1)"
   ]
  },
  {
   "cell_type": "markdown",
   "id": "5380fc33-7954-45fe-ac76-bc5706e71e14",
   "metadata": {},
   "source": [
    "Q-33 create a set from a string"
   ]
  },
  {
   "cell_type": "code",
   "execution_count": 31,
   "id": "ee58d7f2-cca4-44ce-ab21-e4e72eef2586",
   "metadata": {},
   "outputs": [
    {
     "name": "stdout",
     "output_type": "stream",
     "text": [
      "set:  {'p', 'r', 'f', ' ', 'i', 'a', 'm', 'l', 'o', 'n', 'e', 'g', 't'}\n"
     ]
    }
   ],
   "source": [
    "# create a string\n",
    "str='plateform of learning'\n",
    "\n",
    "# convert string to set\n",
    "set1=set(str)\n",
    "\n",
    "#print the set\n",
    "print('set: ',set1)"
   ]
  },
  {
   "cell_type": "markdown",
   "id": "a1305ce6-0fde-4baa-a864-1ed26803ada4",
   "metadata": {},
   "source": [
    "Q-34 convert a set of strings to a set of integers"
   ]
  },
  {
   "cell_type": "code",
   "execution_count": 24,
   "id": "747ec18d-329a-425a-83bc-6b024471e2ec",
   "metadata": {},
   "outputs": [
    {
     "name": "stdout",
     "output_type": "stream",
     "text": [
      "set of string:  {'4', '7', '2', '1', '6', '3'}\n",
      "set of integer:  {1, 2, 3, 4, 6, 7}\n"
     ]
    }
   ],
   "source": [
    "# create a set of string\n",
    "set1={'1','2','3','4','6','7'}\n",
    "print('set of string: ',set1)\n",
    "#create a empty set where add integer\n",
    "set2=set()\n",
    "\n",
    "# string convert into integer and add set2\n",
    "for i in set1:\n",
    "      set2.add(int(i))\n",
    "        \n",
    "#print set2        \n",
    "print('set of integer: ',set2)             "
   ]
  },
  {
   "cell_type": "markdown",
   "id": "c7170c3f-7ce6-464a-a5a8-e13258b2d391",
   "metadata": {},
   "source": [
    "Q-35 create a set of integers to a set of strings"
   ]
  },
  {
   "cell_type": "code",
   "execution_count": 11,
   "id": "0bbbc7d9-421a-431f-a27a-be54141cf66f",
   "metadata": {},
   "outputs": [
    {
     "data": {
      "text/plain": [
       "{'1', '2', '3', '4', '5'}"
      ]
     },
     "execution_count": 11,
     "metadata": {},
     "output_type": "execute_result"
    }
   ],
   "source": [
    "# create a set of integer\n",
    "# Step 1: Create a set of integers\n",
    "integers_set = {1, 2, 3, 4, 5}\n",
    "\n",
    "# Step 2: Initialize an empty set to store the strings\n",
    "strings_set = set()\n",
    "\n",
    "# Step 3: Iterate through each integer in the integers_set\n",
    "for num in integers_set:\n",
    "    # Step 4: Convert the integer to a string using the str() function\n",
    "        num_str = str(num)\n",
    "\n",
    "    # Step 5: Add the string representation to the strings_set\n",
    "        strings_set.add(num_str)\n",
    "print(strings_set)   "
   ]
  },
  {
   "cell_type": "markdown",
   "id": "1a4741d0-5090-4f44-8b73-b2f0509b115c",
   "metadata": {},
   "source": [
    "Q-36 convert a set of from a tuple"
   ]
  },
  {
   "cell_type": "code",
   "execution_count": 34,
   "id": "8fff2773-c53a-4bb1-9d22-ca8b21560a91",
   "metadata": {},
   "outputs": [
    {
     "name": "stdout",
     "output_type": "stream",
     "text": [
      "set:  {1, 2, 3, 4, 6, 7}\n"
     ]
    }
   ],
   "source": [
    "# create a tuple \n",
    "input_tup=(1,2,3,4,6,7)\n",
    "\n",
    "# convert tuple to set \n",
    "output_set=set(input_tup)\n",
    "\n",
    "# print the set\n",
    "print('set: ',output_set)"
   ]
  },
  {
   "cell_type": "markdown",
   "id": "8c6352a5-34e8-4b1f-a35d-f9368ffc972e",
   "metadata": {},
   "source": [
    "Q-37 convert a set to tuple"
   ]
  },
  {
   "cell_type": "code",
   "execution_count": 35,
   "id": "aa3be0d5-1bd0-4b82-bb8c-bc50e1f355a1",
   "metadata": {},
   "outputs": [
    {
     "name": "stdout",
     "output_type": "stream",
     "text": [
      "tuple:  (1, 2, 3, 4, 6, 7)\n"
     ]
    }
   ],
   "source": [
    "# create a set\n",
    "input_set= {1, 2, 3, 4, 6, 7}\n",
    "\n",
    "# convert set to tuple\n",
    "output_tup=tuple(input_set)\n",
    "\n",
    "# print the tuple\n",
    "print('tuple: ',output_tup)"
   ]
  },
  {
   "cell_type": "markdown",
   "id": "67751f21-baca-4eb3-b087-4744cf697a75",
   "metadata": {},
   "source": [
    "Q-38 find the maximum value in a set"
   ]
  },
  {
   "cell_type": "code",
   "execution_count": 37,
   "id": "b1ee9baa-ff35-4e42-af3f-a7ce6e5723b0",
   "metadata": {},
   "outputs": [
    {
     "name": "stdout",
     "output_type": "stream",
     "text": [
      "max value:  8\n"
     ]
    }
   ],
   "source": [
    "# create a set\n",
    "set1={7,8,1,2,3,4}\n",
    "\n",
    "# find maximun value by using max function\n",
    "max_value=max(set1)\n",
    "\n",
    "# print the max value\n",
    "print('max value: ',max_value)"
   ]
  },
  {
   "cell_type": "markdown",
   "id": "68126b9f-9624-436c-8538-fe9e9a0e2871",
   "metadata": {},
   "source": [
    "Q-39 find the minimun value in a set"
   ]
  },
  {
   "cell_type": "code",
   "execution_count": 38,
   "id": "ad18391b-94cb-445c-a09c-3a80fb7bb873",
   "metadata": {},
   "outputs": [
    {
     "name": "stdout",
     "output_type": "stream",
     "text": [
      "min value:  1\n"
     ]
    }
   ],
   "source": [
    "# create a set\n",
    "set1={7,8,1,2,3,4}\n",
    "\n",
    "# find minimun value by using min  function\n",
    "min_value=min(set1)\n",
    "\n",
    "# print the min value\n",
    "print('min value: ',min_value)"
   ]
  },
  {
   "cell_type": "markdown",
   "id": "862d58f6-fd37-4d94-a027-0210f353adf8",
   "metadata": {},
   "source": [
    "Q-40 create a set from user input"
   ]
  },
  {
   "cell_type": "code",
   "execution_count": 41,
   "id": "583bf57b-f7f7-4ab1-bb47-6542319eef6b",
   "metadata": {},
   "outputs": [
    {
     "name": "stdin",
     "output_type": "stream",
     "text": [
      " 4\n",
      " 6\n",
      " 7\n",
      " 8\n"
     ]
    },
    {
     "name": "stdout",
     "output_type": "stream",
     "text": [
      "set:  {'4', '8', '7', '6'}\n"
     ]
    }
   ],
   "source": [
    "# create a empty set\n",
    "set1=set()\n",
    "\n",
    "# taking input from user and add into set1\n",
    "for i in range(4):\n",
    "       set1.add(input())\n",
    "        \n",
    "#  print the set\n",
    "print('set: ',set1)"
   ]
  },
  {
   "cell_type": "markdown",
   "id": "cba8ac6d-8760-4e4a-b459-c21e5ba24297",
   "metadata": {},
   "source": [
    "Q-41 check if the intersection of two sets is empty"
   ]
  },
  {
   "cell_type": "code",
   "execution_count": 44,
   "id": "7e2a244c-f5e1-4482-a13b-c9cf3e9c4598",
   "metadata": {},
   "outputs": [
    {
     "name": "stdout",
     "output_type": "stream",
     "text": [
      " intersection of two sets is empty\n"
     ]
    }
   ],
   "source": [
    "# create two sets\n",
    "set1={1,2,3,4}\n",
    "set2={6,7,8,9}\n",
    "\n",
    "# find intersection bt set1 and set2\n",
    "is_intersection=set1.intersection(set2)\n",
    "\n",
    "# check it have any intersection or not\n",
    "if not is_intersection:\n",
    "          print(' intersection of two sets is empty')\n",
    "else:\n",
    "          print(' intersection of two sets is not empty')"
   ]
  },
  {
   "cell_type": "markdown",
   "id": "8281526a-e63a-4a52-b1d0-5a55d214b88b",
   "metadata": {},
   "source": [
    "Q-42 create a set of first 5 fibonacci no"
   ]
  },
  {
   "cell_type": "code",
   "execution_count": 46,
   "id": "550ed009-721a-41f1-9a8f-129bf461eb70",
   "metadata": {},
   "outputs": [
    {
     "name": "stdout",
     "output_type": "stream",
     "text": [
      "fibonacci num:  [0, 1, 1, 2, 3, 5]\n",
      "set:  {0, 1, 2, 3, 5}\n"
     ]
    }
   ],
   "source": [
    "# create a empty set\n",
    "s=set()\n",
    "n=0\n",
    "#create a empty list\n",
    "sum=[]\n",
    "# first add fibonacci no in list and then convert list to set\n",
    "while n<=5 :\n",
    "      if (n==0 or n==1):\n",
    "        sum.append(n)\n",
    "        n=n+1\n",
    "      else:\n",
    "         sum.append(sum[n-1]+sum[n-2])\n",
    "         n=n+1\n",
    "         \n",
    "print('fibonacci num: ',sum)       \n",
    "# add list element into set\n",
    "for i in sum:\n",
    "    s.add(i)\n",
    "    \n",
    "#print the set\n",
    "print('set: ',s)"
   ]
  },
  {
   "cell_type": "markdown",
   "id": "8f56e64b-6e09-4480-a98b-c737695343b9",
   "metadata": {},
   "source": [
    "Q-43 Remove duplicates from a list using sets"
   ]
  },
  {
   "cell_type": "code",
   "execution_count": 47,
   "id": "9b73d6b5-dd8f-4bc8-8a40-06be099c2b45",
   "metadata": {},
   "outputs": [
    {
     "name": "stdout",
     "output_type": "stream",
     "text": [
      "Original List: [2, 4, 6, 8, 4, 10, 6, 12, 14, 8]\n",
      "List with Duplicates Removed: [2, 4, 6, 8, 10, 12, 14]\n"
     ]
    }
   ],
   "source": [
    "\n",
    "# Define a list with duplicates\n",
    "original_list = [2, 4, 6, 8, 4, 10, 6, 12, 14, 8]\n",
    "\n",
    "# Convert the list to a set\n",
    "unique_set = set(original_list)\n",
    "# Now, 'unique_set' contains only unique elements from 'original_list'\n",
    "\n",
    "# Convert the set back to a list\n",
    "unique_list = list(unique_set)\n",
    "# Now, 'unique_list' is a list containing only unique elements\n",
    "\n",
    "# Print the original list and the list with duplicates removed\n",
    "print(\"Original List:\", original_list)\n",
    "print(\"List with Duplicates Removed:\", unique_list)\n"
   ]
  },
  {
   "cell_type": "markdown",
   "id": "96e0dc5f-7fd6-4e5e-b596-6439326f4bb1",
   "metadata": {},
   "source": [
    "Q-44 check if two sets have the same elements,regardless of thier count"
   ]
  },
  {
   "cell_type": "code",
   "execution_count": 53,
   "id": "0d1494e7-7f57-4649-acf6-56213ba86c18",
   "metadata": {},
   "outputs": [
    {
     "name": "stdout",
     "output_type": "stream",
     "text": [
      "they have same element\n"
     ]
    }
   ],
   "source": [
    "# create a set of integer\n",
    "set1={1,2,3}\n",
    "set2={1,3,2,1,2,3}\n",
    "\n",
    "# Convert the sets to lists and sort them\n",
    "sorted_list1 = sorted(list(set1))\n",
    "sorted_list2 = sorted(list(set2))\n",
    "\n",
    "# check if have same element or not\n",
    "if sorted_list1==sorted_list2:\n",
    "       print('they have same element')\n",
    "else:\n",
    "       print('they have not same element')"
   ]
  },
  {
   "cell_type": "markdown",
   "id": "dada47c9-6daa-4876-a52f-58dab91bc3cb",
   "metadata": {},
   "source": [
    "Q-45 create a set of the first 'n' powers of 2"
   ]
  },
  {
   "cell_type": "code",
   "execution_count": 15,
   "id": "842218e8-8724-488f-8718-8868d0d31e23",
   "metadata": {},
   "outputs": [
    {
     "name": "stdin",
     "output_type": "stream",
     "text": [
      "enter n power 4\n"
     ]
    },
    {
     "name": "stdout",
     "output_type": "stream",
     "text": [
      "set of power_2:  {1, 2, 4, 8, 16}\n"
     ]
    }
   ],
   "source": [
    "# enter how many power of two you want\n",
    "n=int(input('enter n power'))\n",
    "# create of empty set\n",
    "set_1=set()\n",
    "\n",
    "# add power of two from 1 to n\n",
    "for i in range(n+1):\n",
    "    power_2=2**i\n",
    "    set_1.add(power_2)\n",
    "    \n",
    "    \n",
    "# print the set       \n",
    "print('set of power_2: ',set_1)      "
   ]
  },
  {
   "cell_type": "markdown",
   "id": "fcab622e-aab9-48da-a83e-dbf20bb9a760",
   "metadata": {},
   "source": [
    "Q-46 find the common elements between a set and a list"
   ]
  },
  {
   "cell_type": "code",
   "execution_count": 32,
   "id": "1ae5c715-bdc8-4494-bacb-f0d704db0bce",
   "metadata": {},
   "outputs": [
    {
     "name": "stdout",
     "output_type": "stream",
     "text": [
      "common element in set and list is : {3, 4}\n"
     ]
    }
   ],
   "source": [
    "# create a set\n",
    "set1={1,2,3,4}\n",
    "\n",
    "#create a list\n",
    "list1={3,4,8,9}\n",
    "\n",
    "#convert list to set\n",
    "set2=set(list1)\n",
    "\n",
    "#find common element of two sets by using intersection method\n",
    "common_elm=set1.intersection(set2)\n",
    "\n",
    "# print the common elemnt in both sets\n",
    "print('common element in set and list is :',common_elm)"
   ]
  },
  {
   "cell_type": "markdown",
   "id": "633386cf-8eb2-4d0f-a70f-2c7b05808902",
   "metadata": {},
   "source": [
    "Q-47 create a set of the first 'n' triangular numbers"
   ]
  },
  {
   "cell_type": "code",
   "execution_count": 12,
   "id": "602798c5-c0aa-4069-979c-4ba86540f3ef",
   "metadata": {},
   "outputs": [
    {
     "name": "stdin",
     "output_type": "stream",
     "text": [
      "Enter the value of n:  8\n"
     ]
    },
    {
     "name": "stdout",
     "output_type": "stream",
     "text": [
      "The set of the first 8 triangular numbers is: {1, 3, 36, 6, 10, 15, 21, 28}\n"
     ]
    }
   ],
   "source": [
    "def generate_triangular_numbers(n):\n",
    "    triangular_numbers = set()  # Create an empty set to store the triangular numbers\n",
    "    for i in range(1, n + 1):\n",
    "        triangular_number = i * (i + 1) // 2  # Calculate the ith triangular number using the formula\n",
    "        triangular_numbers.add(triangular_number)  # Add the calculated triangular number to the set\n",
    "    return triangular_numbers\n",
    "\n",
    "# Input the value of 'n'\n",
    "n = int(input(\"Enter the value of n: \"))\n",
    "\n",
    "# Call the function to generate the set of first 'n' triangular numbers\n",
    "triangular_set = generate_triangular_numbers(n)\n",
    "\n",
    "# Display the set of triangular numbers\n",
    "print(f\"The set of the first {n} triangular numbers is:\", triangular_set)"
   ]
  },
  {
   "cell_type": "markdown",
   "id": "5efa60d2-6a68-4705-9b92-da88a32da85f",
   "metadata": {},
   "source": [
    "Q-48 check if a set contains another set as a subset"
   ]
  },
  {
   "cell_type": "code",
   "execution_count": 45,
   "id": "8338ea43-1397-40f2-9722-58f4d3fa4e24",
   "metadata": {},
   "outputs": [
    {
     "name": "stdout",
     "output_type": "stream",
     "text": [
      "set2 is subset is set1\n"
     ]
    }
   ],
   "source": [
    "# create a set1 and set2\n",
    "set1={1,2,3,4,5,6,7}\n",
    "set2={1,3,4,6}\n",
    "# check if set2 is subset of set1\n",
    "is_subset=set2.issubset(set1)\n",
    "\n",
    "# print the result\n",
    "if is_subset:\n",
    "      print('set2 is subset is set1')\n",
    "else:\n",
    "      print('set2 is subset is set1')"
   ]
  },
  {
   "cell_type": "markdown",
   "id": "4ce145d9-9200-49f8-ba62-e6648a850f56",
   "metadata": {},
   "source": [
    "Q-49 create a set of alternating 1s and 0s of length 'n'"
   ]
  },
  {
   "cell_type": "code",
   "execution_count": 58,
   "id": "35bc9e62-fde4-459e-8883-6727d774b05d",
   "metadata": {},
   "outputs": [
    {
     "name": "stdin",
     "output_type": "stream",
     "text": [
      "enter any number 6\n"
     ]
    },
    {
     "name": "stdout",
     "output_type": "stream",
     "text": [
      "set:  {0, 1}\n"
     ]
    }
   ],
   "source": [
    "# create a empty\n",
    "set1=set()\n",
    "\n",
    "#Define the desired length of the alternating set.\n",
    "n=int(input('enter any number'))\n",
    "\n",
    "# add elements to the set\n",
    "for i in range(n):\n",
    "            if i%2==0:    # Add 1 if i is even.\n",
    "                set1.add(1)\n",
    "            else:           # Add 0 if i is odd.\n",
    "                set1.add(0)\n",
    "\n",
    "# print the result                \n",
    "print('set: ',set1)          "
   ]
  },
  {
   "cell_type": "markdown",
   "id": "5d30d2e0-f1a0-470e-a0b1-a5009cc51252",
   "metadata": {},
   "source": [
    "Q-50 merge mutiple sets into one"
   ]
  },
  {
   "cell_type": "code",
   "execution_count": 59,
   "id": "46975fd6-eba4-4ef8-ba7b-a26486050538",
   "metadata": {},
   "outputs": [
    {
     "name": "stdout",
     "output_type": "stream",
     "text": [
      "Merged Set: {1, 2, 3, 4, 5, 6, 7}\n"
     ]
    }
   ],
   "source": [
    "# create a multiple sets\n",
    "set1 = {1, 2, 3}\n",
    "set2 = {3, 4, 5}\n",
    "set3 = {5, 6, 7}\n",
    "\n",
    "# Step 2: Use the union() method to merge sets\n",
    "merged_set = set1.union(set2, set3)\n",
    "\n",
    "# Step 3: Print the merged set\n",
    "print(\"Merged Set:\", merged_set)"
   ]
  }
 ],
 "metadata": {
  "kernelspec": {
   "display_name": "Python 3 (ipykernel)",
   "language": "python",
   "name": "python3"
  },
  "language_info": {
   "codemirror_mode": {
    "name": "ipython",
    "version": 3
   },
   "file_extension": ".py",
   "mimetype": "text/x-python",
   "name": "python",
   "nbconvert_exporter": "python",
   "pygments_lexer": "ipython3",
   "version": "3.10.8"
  }
 },
 "nbformat": 4,
 "nbformat_minor": 5
}
