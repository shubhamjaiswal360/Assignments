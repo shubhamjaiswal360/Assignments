{
 "cells": [
  {
   "cell_type": "markdown",
   "id": "52e53d05-9ec9-49d4-9b02-9e22548df099",
   "metadata": {},
   "source": [
    "## Find time complexity of below code blocks :"
   ]
  },
  {
   "cell_type": "code",
   "execution_count": null,
   "id": "89b64861-8811-4eb9-853b-9e1c4862aae7",
   "metadata": {},
   "outputs": [],
   "source": [
    "Problem 1 :\n",
    "def quicksort(arr):\n",
    "if len(arr) <= 1:\n",
    "return arr\n",
    "pivot = arr[len(arr) // 2]\n",
    "left = [x for x in arr if x < pivot]\n",
    "middle = [x for x in arr if x == pivot]\n",
    "right = [x for x in arr if x > pivot]\n",
    "return quicksort(left) + middle + quicksort(right)"
   ]
  },
  {
   "cell_type": "code",
   "execution_count": null,
   "id": "7f6ec75f-4041-489f-906d-e981df143fa9",
   "metadata": {},
   "outputs": [],
   "source": [
    "1.Best case-O(nlogn)\n",
    "2.Average Case-O(nlogn)\n",
    "3.Worst case-O(n2)"
   ]
  },
  {
   "cell_type": "code",
   "execution_count": null,
   "id": "6949308f-5df8-410f-94cb-18cca6c8b1a2",
   "metadata": {},
   "outputs": [],
   "source": [
    "Problem 2 :\n",
    "def nested_loop_example(matrix):\n",
    "rows, cols = len(matrix), len(matrix[0])\n",
    "total = 0\n",
    "for i in range(rows):\n",
    "for j in range(cols):\n",
    "total += matrix[i][j]\n",
    "return total"
   ]
  },
  {
   "cell_type": "code",
   "execution_count": null,
   "id": "7cfed20d-4ce5-4bc9-ae31-7c2e322b184f",
   "metadata": {},
   "outputs": [],
   "source": [
    "def nested_loop_example(matrix):\n",
    "    rows, cols = len(matrix), len(matrix[0])  # O(1)\n",
    "    total = 0  # O(1)\n",
    "    for i in range(rows):  # Outer loop, runs O(rows) times\n",
    "        for j in range(cols):  # Inner loop, runs O(cols) times\n",
    "            total += matrix[i][j]  # O(1)\n",
    "    return total  # O(1)\n",
    "\n",
    "The time complexity of the nested_loop_example(matrix) function is \n",
    "O(rows×cols), where rows is the number of rows in the matrix and cols is the number of columns."
   ]
  },
  {
   "cell_type": "code",
   "execution_count": null,
   "id": "92f43005-8be6-476c-ad29-f146d4ac33cb",
   "metadata": {},
   "outputs": [],
   "source": [
    "Problem 3 :\n",
    "def example_function(arr):\n",
    "result = 0\n",
    "for element in arr:\n",
    "result += element\n",
    "return result"
   ]
  },
  {
   "cell_type": "code",
   "execution_count": null,
   "id": "6ffa5f6e-4911-4a8b-9658-5f14bf1dc4de",
   "metadata": {},
   "outputs": [],
   "source": [
    "def example_function(arr):\n",
    "    result = 0           # O(1)\n",
    "    for element in arr:   # O(n), where n is the number of elements in arr\n",
    "        result += element # O(1)\n",
    "    return result         # O(1)\n",
    "\n",
    "The time complexity of the example_function(arr) function is \n",
    "O(n), where \n",
    "n is the number of elements in the array arr."
   ]
  },
  {
   "cell_type": "code",
   "execution_count": null,
   "id": "e0827ebf-bbd4-463c-9ce7-e7a77666bf6f",
   "metadata": {},
   "outputs": [],
   "source": [
    "Problem 4 :\n",
    "def longest_increasing_subsequence(nums):\n",
    "n = len(nums)\n",
    "lis = [1] * n\n",
    "for i in range(1, n):\n",
    "for j in range(0, i):\n",
    "if nums[i] > nums[j] and lis[i] < lis[j] + 1:\n",
    "lis[i] = lis[j] + 1\n",
    "return max(lis)\n"
   ]
  },
  {
   "cell_type": "code",
   "execution_count": null,
   "id": "72b09bd0-6fe9-4909-9868-567d3c49123d",
   "metadata": {},
   "outputs": [],
   "source": [
    "The time complexity of the example_function(arr) function is \n",
    "O(n), where \n",
    "n is the number of elements in the array arr."
   ]
  },
  {
   "cell_type": "code",
   "execution_count": null,
   "id": "0be882da-b2f9-4c60-bc23-3ba05aa0184b",
   "metadata": {},
   "outputs": [],
   "source": [
    "Problem 5 :\n",
    "def mysterious_function(arr):\n",
    "n = len(arr)\n",
    "result = 0\n",
    "for i in range(n):\n",
    "   for j in range(i, n):\n",
    "      result += arr[i] * arr[j]\n",
    "return result"
   ]
  },
  {
   "cell_type": "code",
   "execution_count": null,
   "id": "1bdfd731-096a-403e-9bb0-170bb07afbb7",
   "metadata": {},
   "outputs": [],
   "source": [
    "The time complexity of the function(arr) is \n",
    "O(n2), where \n",
    "n is the number of elements in the array arr."
   ]
  },
  {
   "cell_type": "markdown",
   "id": "44a6b9d2-145e-4eb2-83fb-68775540ff7b",
   "metadata": {},
   "source": [
    "## Solve the following problems on recursion"
   ]
  },
  {
   "cell_type": "code",
   "execution_count": null,
   "id": "72b401c0-9cc6-417c-88ca-4b3e36695fc8",
   "metadata": {},
   "outputs": [],
   "source": [
    "Problem 6 : Sum of Digits\n",
    "Write a recursive function to calculate the sum of digits of a given positive integer.\n",
    "sum_of_digits(123) -> 6"
   ]
  },
  {
   "cell_type": "code",
   "execution_count": 2,
   "id": "827354aa-7f5e-4634-9ea7-e998d49fa0ea",
   "metadata": {},
   "outputs": [
    {
     "name": "stdout",
     "output_type": "stream",
     "text": [
      "6\n"
     ]
    }
   ],
   "source": [
    "def sum_of_digits(n):\n",
    "    # Base case: if n is a single-digit number\n",
    "    if n < 10:\n",
    "        return n\n",
    "    else:\n",
    "        # Recursive case: sum the last digit with the sum of digits of the remaining number\n",
    "        return n % 10 + sum_of_digits(n // 10)\n",
    "result = sum_of_digits(123)\n",
    "print(result)  "
   ]
  },
  {
   "cell_type": "code",
   "execution_count": null,
   "id": "4d51338e-e3c7-4f7b-88f0-2dc4fb72f274",
   "metadata": {},
   "outputs": [],
   "source": [
    "Problem 7: Fibonacci Series\n",
    "Write a recursive function to generate the first n numbers of the Fibonacci series.\n",
    "fibonacci_series(6) -> [0, 1, 1, 2, 3, 5]"
   ]
  },
  {
   "cell_type": "code",
   "execution_count": 3,
   "id": "f11d90e0-799e-41e0-93d7-50f3b38c079e",
   "metadata": {},
   "outputs": [
    {
     "name": "stdout",
     "output_type": "stream",
     "text": [
      "[0, 1, 1, 2, 3, 5]\n"
     ]
    }
   ],
   "source": [
    "def fibonacci_series(n):\n",
    "    # Base case: first Fibonacci number is 0, second is 1\n",
    "    if n == 1:\n",
    "        return [0]\n",
    "    elif n == 2:\n",
    "        return [0, 1]\n",
    "    else:\n",
    "        # Get the Fibonacci series up to n-1\n",
    "        series = fibonacci_series(n - 1)\n",
    "        # Append the next Fibonacci number\n",
    "        series.append(series[-1] + series[-2])\n",
    "        return series\n",
    "\n",
    "# Example usage:\n",
    "result = fibonacci_series(6)\n",
    "print(result)  # Output: [0, 1, 1, 2, 3, 5]\n"
   ]
  },
  {
   "cell_type": "code",
   "execution_count": null,
   "id": "60d22d0a-dc6d-416c-a0f9-f7f94ec9bc9a",
   "metadata": {},
   "outputs": [],
   "source": [
    "Problem 8 : Subset Sum\n",
    "Given a set of positive integers and a target sum, write a recursive function to determine if there exists a subset\n",
    "of the integers that adds up to the target sum.\n",
    "subset_sum([3, 34, 4, 12, 5, 2], 9) -> True"
   ]
  },
  {
   "cell_type": "code",
   "execution_count": 4,
   "id": "38d0e1f5-a5bf-4d84-90c8-1ffe18eba364",
   "metadata": {},
   "outputs": [
    {
     "name": "stdout",
     "output_type": "stream",
     "text": [
      "True\n"
     ]
    }
   ],
   "source": [
    "def subset_sum(numbers, target):\n",
    "    # Base case 1: If target sum is 0, return True (empty subset)\n",
    "    if target == 0:\n",
    "        return True\n",
    "    # Base case 2: If no numbers are left but target is not met, return False\n",
    "    if not numbers:\n",
    "        return False\n",
    "    \n",
    "    # Recursive case: Exclude the last element\n",
    "    exclude_last = subset_sum(numbers[:-1], target)\n",
    "    \n",
    "    # Recursive case: Include the last element (only if it's not larger than the target)\n",
    "    include_last = False\n",
    "    if numbers[-1] <= target:\n",
    "        include_last = subset_sum(numbers[:-1], target - numbers[-1])\n",
    "    \n",
    "    return exclude_last or include_last\n",
    "\n",
    "# Example usage:\n",
    "result = subset_sum([3, 34, 4, 12, 5, 2], 9)\n",
    "print(result)  # Output: True\n"
   ]
  },
  {
   "cell_type": "code",
   "execution_count": null,
   "id": "2af24d42-d3d5-46b3-8709-64d5eacff6a2",
   "metadata": {},
   "outputs": [],
   "source": [
    "Problem 9: Word Break\n",
    "Given a non-empty string and a dictionary of words, write a recursive function to determine if the string can be\n",
    "segmented into a space-separated sequence of dictionary words.\n",
    "word_break( leetcode , [ leet , code ]) -> True"
   ]
  },
  {
   "cell_type": "code",
   "execution_count": null,
   "id": "20d52968-8185-42e2-8f6f-22805f2bdfdc",
   "metadata": {},
   "outputs": [],
   "source": [
    "def word_break(s, word_dict):\n",
    "    # Base case: If the string is empty, it's considered segmented successfully\n",
    "    if not s:\n",
    "        return True\n",
    "    \n",
    "    # Check all possible prefixes of the string\n",
    "    for i in range(1, len(s) + 1):\n",
    "        prefix = s[:i]\n",
    "        # If the prefix is a valid word and the remaining part can be segmented, return True\n",
    "        if prefix in word_dict and word_break(s[i:], word_dict):\n",
    "            return True\n",
    "    \n",
    "    # If no valid segmentation is found, return False\n",
    "    return False\n",
    "\n",
    "# Example usage:\n",
    "result = word_break(\"leetcode\", [\"leet\", \"code\"])\n",
    "print(result)  # Output: True\n"
   ]
  },
  {
   "cell_type": "code",
   "execution_count": null,
   "id": "f1b16e0f-9456-4aad-b70a-96b652557d92",
   "metadata": {},
   "outputs": [],
   "source": [
    "Problem 10 : N-Queens\n",
    "Implement a recursive function to solve the N Queens problem, where you have to place N queens on an N×N\n",
    "chessboard in such a way that no two queens threaten each other.\n",
    "n_queens(4)\n",
    "[\n",
    "[\".Q..\",\n",
    "\"...Q\",\n",
    "\"Q...\",\n",
    "\"..Q.\"],\n",
    "[\"..Q.\",\n",
    "\"Q...\",\n",
    "\"...Q\",\n",
    "\".Q..\"]\n",
    "]"
   ]
  },
  {
   "cell_type": "code",
   "execution_count": 5,
   "id": "cda38040-e898-4522-9113-6fa36c6306ec",
   "metadata": {},
   "outputs": [
    {
     "name": "stdout",
     "output_type": "stream",
     "text": [
      ".Q..\n",
      "...Q\n",
      "Q...\n",
      "..Q.\n",
      "\n",
      "..Q.\n",
      "Q...\n",
      "...Q\n",
      ".Q..\n",
      "\n"
     ]
    }
   ],
   "source": [
    "def is_safe(board, row, col, n):\n",
    "    # Check column for another queen\n",
    "    for i in range(row):\n",
    "        if board[i][col] == 'Q':\n",
    "            return False\n",
    "    \n",
    "    # Check upper left diagonal\n",
    "    for i, j in zip(range(row, -1, -1), range(col, -1, -1)):\n",
    "        if board[i][j] == 'Q':\n",
    "            return False\n",
    "    \n",
    "    # Check upper right diagonal\n",
    "    for i, j in zip(range(row, -1, -1), range(col, n)):\n",
    "        if board[i][j] == 'Q':\n",
    "            return False\n",
    "    \n",
    "    return True\n",
    "\n",
    "def solve_n_queens(n):\n",
    "    def solve(board, row):\n",
    "        if row == n:\n",
    "            # Convert the board to a list of strings and store the solution\n",
    "            solutions.append([''.join(row) for row in board])\n",
    "            return\n",
    "        \n",
    "        for col in range(n):\n",
    "            if is_safe(board, row, col, n):\n",
    "                board[row][col] = 'Q'  # Place the queen\n",
    "                solve(board, row + 1)  # Move to the next row\n",
    "                board[row][col] = '.'  # Backtrack\n",
    "    \n",
    "    solutions = []\n",
    "    board = [['.' for _ in range(n)] for _ in range(n)]  # Initialize the chessboard\n",
    "    solve(board, 0)  # Start solving from the first row\n",
    "    return solutions\n",
    "\n",
    "# Example usage:\n",
    "result = solve_n_queens(4)\n",
    "for solution in result:\n",
    "    for line in solution:\n",
    "        print(line)\n",
    "    print()\n"
   ]
  }
 ],
 "metadata": {
  "kernelspec": {
   "display_name": "Python 3 (ipykernel)",
   "language": "python",
   "name": "python3"
  },
  "language_info": {
   "codemirror_mode": {
    "name": "ipython",
    "version": 3
   },
   "file_extension": ".py",
   "mimetype": "text/x-python",
   "name": "python",
   "nbconvert_exporter": "python",
   "pygments_lexer": "ipython3",
   "version": "3.10.7"
  }
 },
 "nbformat": 4,
 "nbformat_minor": 5
}
