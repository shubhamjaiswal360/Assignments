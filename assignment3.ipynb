{
 "cells": [
  {
   "cell_type": "markdown",
   "id": "b890e56b-fd71-4899-ba53-528a676d27b2",
   "metadata": {},
   "source": [
    "# For loop"
   ]
  },
  {
   "cell_type": "markdown",
   "id": "ca5d5127-1261-439d-afa2-91e9bea427be",
   "metadata": {},
   "source": [
    "Basic level:"
   ]
  },
  {
   "cell_type": "markdown",
   "id": "079ab5f8-a04d-4042-b99b-466b67b70645",
   "metadata": {},
   "source": [
    "Q-1 create a program to print numbers from 1 to 10 using a for loop"
   ]
  },
  {
   "cell_type": "code",
   "execution_count": 1,
   "id": "435082ea-56de-46b2-b1eb-e1ed2827dbeb",
   "metadata": {},
   "outputs": [
    {
     "name": "stdout",
     "output_type": "stream",
     "text": [
      "numbers from 1 to 10 \n",
      "1 2 3 4 5 6 7 8 9 10 "
     ]
    }
   ],
   "source": [
    "#print number from 1 to 10\n",
    "print('numbers from 1 to 10 ')\n",
    "for i in range(1,11):\n",
    "     print(i,end=' ')"
   ]
  },
  {
   "cell_type": "markdown",
   "id": "805c477b-315c-4069-9867-6d19a97c6d25",
   "metadata": {},
   "source": [
    "Q-2 create a program that calculates the sum of all numbers in a list "
   ]
  },
  {
   "cell_type": "code",
   "execution_count": 8,
   "id": "7d642598-8f90-4e11-a032-ef0e655d8f0f",
   "metadata": {},
   "outputs": [
    {
     "name": "stdout",
     "output_type": "stream",
     "text": [
      "sum of all numbers:  36\n"
     ]
    }
   ],
   "source": [
    "# create a list\n",
    "li=[2,4,6,7,8,9]\n",
    "\n",
    "# variable to store the sum \n",
    "sum=0\n",
    "# sum of all numbers\n",
    "for i in li:\n",
    "        sum+=i\n",
    "print('sum of all numbers: ',sum)        "
   ]
  },
  {
   "cell_type": "markdown",
   "id": "82c9c764-fec9-4725-afa2-4cb2634bb38b",
   "metadata": {},
   "source": [
    "Q-3 write a program to print the characters of a string in reverse order"
   ]
  },
  {
   "cell_type": "code",
   "execution_count": 23,
   "id": "f6e300aa-469e-4d1d-829f-d8a946b697a4",
   "metadata": {},
   "outputs": [
    {
     "name": "stdout",
     "output_type": "stream",
     "text": [
      "Reverse order string :\n",
      "llikswp"
     ]
    }
   ],
   "source": [
    "str1='pwskill'\n",
    "\n",
    "len1=len(str1)-1\n",
    "\n",
    "print('Reverse order string :')\n",
    "# reverse the string\n",
    "for i in range(len1+1):\n",
    "          index=len1-i\n",
    "          print(str1[index],end='')\n",
    "    "
   ]
  },
  {
   "cell_type": "markdown",
   "id": "f17b45d8-8e97-435b-9bc8-292851856c4c",
   "metadata": {},
   "source": [
    "Q-4 Develop a program that finds the factorial of a given number"
   ]
  },
  {
   "cell_type": "code",
   "execution_count": 28,
   "id": "717b0094-82d9-44d9-9546-0a0cd0648537",
   "metadata": {},
   "outputs": [
    {
     "name": "stdin",
     "output_type": "stream",
     "text": [
      " 4\n"
     ]
    },
    {
     "name": "stdout",
     "output_type": "stream",
     "text": [
      "factorial of 4 is 24\n"
     ]
    }
   ],
   "source": [
    "# input the number\n",
    "num=int(input())\n",
    "fact=1\n",
    "# calculate the factorial\n",
    "for i in range(1,num+1):\n",
    "          fact*=i\n",
    "        \n",
    "print('factorial of',num,'is',fact)        "
   ]
  },
  {
   "cell_type": "markdown",
   "id": "9fa70101-1ea9-419b-b49d-47293f4a096b",
   "metadata": {},
   "source": [
    "Q-5 create a program to print the multiplication table of a given number"
   ]
  },
  {
   "cell_type": "code",
   "execution_count": 31,
   "id": "7a344483-064a-4b3a-a5da-a552d2a14318",
   "metadata": {},
   "outputs": [
    {
     "name": "stdin",
     "output_type": "stream",
     "text": [
      " 6\n"
     ]
    },
    {
     "name": "stdout",
     "output_type": "stream",
     "text": [
      "6 * 1 = 6\n",
      "6 * 2 = 12\n",
      "6 * 3 = 18\n",
      "6 * 4 = 24\n",
      "6 * 5 = 30\n",
      "6 * 6 = 36\n",
      "6 * 7 = 42\n",
      "6 * 8 = 48\n",
      "6 * 9 = 54\n",
      "6 * 10 = 60\n"
     ]
    }
   ],
   "source": [
    "# input the number\n",
    "num=int(input('enter a number'))\n",
    "\n",
    "# print the multiplication table\n",
    "for i in range(1,11):\n",
    "         print(num,'*',i,'=',num*i)"
   ]
  },
  {
   "cell_type": "markdown",
   "id": "421f072a-eb3d-4f48-a49b-8c6b942df251",
   "metadata": {},
   "source": [
    "Q-6 write a program that counts the number of even and odd numbers in a list"
   ]
  },
  {
   "cell_type": "code",
   "execution_count": 36,
   "id": "893904a3-718f-4dd1-9827-03c6051c1605",
   "metadata": {},
   "outputs": [
    {
     "name": "stdout",
     "output_type": "stream",
     "text": [
      "number of odd number: 4\n",
      "number of even number: 3\n"
     ]
    }
   ],
   "source": [
    "# create a list\n",
    "li=[1,2,3,4,7,8,9]\n",
    "\n",
    "odd=0\n",
    "even=0\n",
    "#count the odd and even number\n",
    "for i in li:\n",
    "            if i%2==0:\n",
    "                   even+=1\n",
    "            if  i%2!=0:\n",
    "                   odd+=1\n",
    "#print the result                    \n",
    "print('number of odd number:',odd)\n",
    "print('number of even number:',even)\n",
    "         "
   ]
  },
  {
   "cell_type": "markdown",
   "id": "07b9a924-9b6a-4661-b912-f5188e62daf0",
   "metadata": {},
   "source": [
    "Q-7 Develop a program that prints the squares of numbers from 1 to 5"
   ]
  },
  {
   "cell_type": "code",
   "execution_count": 37,
   "id": "71c79454-5a97-4523-9a3f-7d3d568987c7",
   "metadata": {},
   "outputs": [
    {
     "name": "stdout",
     "output_type": "stream",
     "text": [
      "1 4 9 16 25 "
     ]
    }
   ],
   "source": [
    "\n",
    " #prints the squares of numbers from 1 to 5\n",
    "for i in range(1,6):\n",
    "         print(i*i,end=' ')"
   ]
  },
  {
   "cell_type": "markdown",
   "id": "38d66035-a84a-4fcc-86ca-99415a99dd8a",
   "metadata": {},
   "source": [
    "Q-8 create a program to find the length of a string without using len()"
   ]
  },
  {
   "cell_type": "code",
   "execution_count": 39,
   "id": "a5d1f416-03dc-4340-9336-146c6a91bbab",
   "metadata": {},
   "outputs": [
    {
     "name": "stdout",
     "output_type": "stream",
     "text": [
      "the length of string : 7\n"
     ]
    }
   ],
   "source": [
    "str1='pwskill'\n",
    "len1=0\n",
    "# find the length of a string\n",
    "for i in range(len(str1)):\n",
    "                  len1+=1\n",
    "        \n",
    "print('the length of string :',len1)        "
   ]
  },
  {
   "cell_type": "markdown",
   "id": "2992523b-dc00-413c-a540-12f64439266c",
   "metadata": {},
   "source": [
    "Q-9  create a program to calculates the average of a list of numbers "
   ]
  },
  {
   "cell_type": "code",
   "execution_count": 43,
   "id": "5e60fd4f-7e6c-4b71-aaee-7be8d4515238",
   "metadata": {},
   "outputs": [
    {
     "name": "stdout",
     "output_type": "stream",
     "text": [
      "avarage of list is : 4.857142857142857\n"
     ]
    }
   ],
   "source": [
    "li=[1,2,3,4,7,8,9]\n",
    "len1=0\n",
    "sum1=0\n",
    "\n",
    "# find the length of list\n",
    "for i in li:\n",
    "     len1+=1\n",
    "        \n",
    "# find the sum of list        \n",
    "for i in li:\n",
    "      sum1+=i\n",
    "# calculate the average        \n",
    "avg=sum1/len1 \n",
    "print('avarage of list is :',avg)"
   ]
  },
  {
   "cell_type": "markdown",
   "id": "5b2cb58e-d429-42f0-a079-c47e4b7591d1",
   "metadata": {},
   "source": [
    "Q-10 Develop a program that prints the first 'n' fibonacci numbers "
   ]
  },
  {
   "cell_type": "code",
   "execution_count": 43,
   "id": "c324fdc0-6420-4163-a101-98edfad93892",
   "metadata": {},
   "outputs": [
    {
     "name": "stdin",
     "output_type": "stream",
     "text": [
      "enter the number 6\n"
     ]
    },
    {
     "data": {
      "text/plain": [
       "[0, 1, 1, 2, 3, 5]"
      ]
     },
     "execution_count": 43,
     "metadata": {},
     "output_type": "execute_result"
    }
   ],
   "source": [
    "#create a empty list\n",
    "li=[]\n",
    "n=int(input('enter the number'))\n",
    "\n",
    "# find fibonacci num\n",
    "for i in range(n):\n",
    "    if i==0 or i==1:\n",
    "         li.append(i)\n",
    "    else:\n",
    "        li.append(li[i-1]+li[i-2])\n",
    "li        "
   ]
  },
  {
   "cell_type": "markdown",
   "id": "0bb731ca-0151-4d14-a4de-e730fe96ae0d",
   "metadata": {},
   "source": [
    "Intermediate level"
   ]
  },
  {
   "cell_type": "markdown",
   "id": "305a2ed2-715f-469b-ba83-c00de3526e15",
   "metadata": {},
   "source": [
    "Q-11 write a program to check if a given list contains any duplicates"
   ]
  },
  {
   "cell_type": "code",
   "execution_count": 22,
   "id": "bf603666-2d47-455d-b6ad-33f4a2617372",
   "metadata": {},
   "outputs": [
    {
     "name": "stdout",
     "output_type": "stream",
     "text": [
      "it contains duplicates\n"
     ]
    }
   ],
   "source": [
    "def isduplicates(list1):\n",
    "    for i in li:\n",
    "        count=0\n",
    "        for j in li:\n",
    "            if i==j:\n",
    "                count+=1\n",
    "                \n",
    "        if count>=2:\n",
    "            return True\n",
    "    return False            \n",
    "\n",
    "# create a list\n",
    "li=[1,2,3,4,6,2,4]\n",
    "\n",
    "if isduplicates(li):\n",
    "         print('it contains duplicates')\n",
    "else:\n",
    "        print('it does not contains duplicates')"
   ]
  },
  {
   "cell_type": "markdown",
   "id": "d1a94d98-e597-414c-bdb7-6a23b4694f8f",
   "metadata": {},
   "source": [
    "Q-12 create a program that prints the prime no in given range   "
   ]
  },
  {
   "cell_type": "code",
   "execution_count": 9,
   "id": "9bc391a8-5ced-4f60-a79d-e3b21db60bb4",
   "metadata": {},
   "outputs": [
    {
     "name": "stdin",
     "output_type": "stream",
     "text": [
      "enter the first no in range 10\n",
      "enter the last no in range 30\n"
     ]
    },
    {
     "name": "stdout",
     "output_type": "stream",
     "text": [
      "11 13 17 19 23 29 "
     ]
    }
   ],
   "source": [
    "num1=int(input('enter the first no in range'))\n",
    "num2=int(input('enter the last no in range'))\n",
    "\n",
    "for i in range(num1,num2):\n",
    "        n=0\n",
    "        for j in range(2,int(i**.5)+1):\n",
    "                  if i%j==0:\n",
    "                      n=1\n",
    "        if n==0:\n",
    "            print(i,end=' ')\n",
    "                "
   ]
  },
  {
   "cell_type": "markdown",
   "id": "c14e7536-9610-444e-896b-1d6d813f18b3",
   "metadata": {},
   "source": [
    "Q-13 Develop a program that counts the number of vowel in a string  "
   ]
  },
  {
   "cell_type": "code",
   "execution_count": 17,
   "id": "8fc0ad34-cdd7-485c-810d-0ac9960b00db",
   "metadata": {},
   "outputs": [
    {
     "name": "stdout",
     "output_type": "stream",
     "text": [
      "no of vowels in string : 3\n"
     ]
    }
   ],
   "source": [
    "str1='pwskill Ao'\n",
    "count=0\n",
    "vowel='aieouAEIOU'\n",
    "for i in str1:\n",
    "    if i in vowel:\n",
    "            count+=1\n",
    "            \n",
    "print('no of vowels in string :',count)            "
   ]
  },
  {
   "cell_type": "markdown",
   "id": "4ccb3711-4824-4daa-9b3d-1f2d64a72766",
   "metadata": {},
   "source": [
    "Q-14 write a program to find the maximum element in a 2D list"
   ]
  },
  {
   "cell_type": "code",
   "execution_count": 53,
   "id": "45d0f47b-f6ae-4c10-8906-6f081e212fb2",
   "metadata": {},
   "outputs": [
    {
     "name": "stdout",
     "output_type": "stream",
     "text": [
      "maximum elment: 12\n"
     ]
    }
   ],
   "source": [
    "# create a 2d list\n",
    "list_2D=[[1,2,3,7],[9,3,2,6],[12,6,7,8]]\n",
    "\n",
    "max_elm=0\n",
    "row_no=len(list_2D)\n",
    "col_no=len(list_2D[0])\n",
    "\n",
    "# find maximum element in 2d list\n",
    "for i in range(row_no):\n",
    "         for j in range(col_no):\n",
    "                  if list_2D[i][j]>max_elm:\n",
    "                       max_elm=list_2D[i][j]  \n",
    "                    \n",
    "print('maximum elment:',max_elm)                    "
   ]
  },
  {
   "cell_type": "markdown",
   "id": "2067fe75-7ec1-4916-9d97-15cd5ec3f91e",
   "metadata": {},
   "source": [
    "Q-15 create a program that removes all occurances of a specific element"
   ]
  },
  {
   "cell_type": "code",
   "execution_count": 68,
   "id": "31846e31-7fc2-4deb-b84c-35f71a680370",
   "metadata": {},
   "outputs": [
    {
     "name": "stdout",
     "output_type": "stream",
     "text": [
      "[1, 4, 7, 6, 9, 2, 2, 4]\n"
     ]
    }
   ],
   "source": [
    "# remove all occurance of specific element\n",
    "def remove_item(l1,item):\n",
    "        c=l1.count(item)\n",
    "        for i in range(c):\n",
    "            l1.remove(item)\n",
    "        return l1\n",
    "\n",
    "#create a list    \n",
    "l1=[1,4,3,7,6,9,3,2,2,4]\n",
    "\n",
    "#print the result\n",
    "print(remove_item(l1,3))\n"
   ]
  },
  {
   "cell_type": "markdown",
   "id": "bd6561fe-9c81-474f-ae89-2334f90086fa",
   "metadata": {},
   "source": [
    "Q-16 Develop a program that generates a multiplication table for number 1 to 5"
   ]
  },
  {
   "cell_type": "code",
   "execution_count": 39,
   "id": "2b70f1d1-56c6-4baa-bdeb-b97ed540a436",
   "metadata": {},
   "outputs": [
    {
     "name": "stdout",
     "output_type": "stream",
     "text": [
      "1 2 3 4 5 6 7 8 9 10 \n",
      "2 4 6 8 10 12 14 16 18 20 \n",
      "3 6 9 12 15 18 21 24 27 30 \n",
      "4 8 12 16 20 24 28 32 36 40 \n",
      "5 10 15 20 25 30 35 40 45 50 \n"
     ]
    }
   ],
   "source": [
    "for i in range(1,6):\n",
    "        for j in range(1,11):\n",
    "              print(i*j,end=' ')\n",
    "        print()         "
   ]
  },
  {
   "cell_type": "markdown",
   "id": "3a9a6b89-a4ff-4d6b-8dfc-a5cfdd2f901f",
   "metadata": {},
   "source": [
    "Q-17 write a program that converts a list of fahrenheit temp to celcius"
   ]
  },
  {
   "cell_type": "code",
   "execution_count": 3,
   "id": "133448bd-da0c-4226-86a4-be00b7bae23f",
   "metadata": {},
   "outputs": [
    {
     "name": "stdout",
     "output_type": "stream",
     "text": [
      "list of celcius temp:\n",
      "[-12.222222222222221, -6.666666666666667, -1.1111111111111112, 4.444444444444445]\n"
     ]
    }
   ],
   "source": [
    "#list of fahrenheit temp\n",
    "fah_li=[10,20,30,40]\n",
    "\n",
    "#empty list to store celcius temp\n",
    "cal_li=[]\n",
    "\n",
    "#converts a list of fahrenheit temp to celcius\n",
    "for f in fah_li:\n",
    "         c=(f-32)*5/9\n",
    "         cal_li.append(c)\n",
    "            \n",
    "#print the result            \n",
    "print('list of celcius temp:')            \n",
    "print(cal_li)    "
   ]
  },
  {
   "cell_type": "markdown",
   "id": "e421d1ee-db35-413c-8395-b04fe631537b",
   "metadata": {},
   "source": [
    "Q-18 create a program that prints the common elements from two list"
   ]
  },
  {
   "cell_type": "code",
   "execution_count": 5,
   "id": "54663001-2eb3-427b-903f-3e3a33b4d9eb",
   "metadata": {},
   "outputs": [
    {
     "name": "stdout",
     "output_type": "stream",
     "text": [
      "common elements :\n",
      "4 8 "
     ]
    }
   ],
   "source": [
    "#create two list\n",
    "l1=[2,4,6,8]\n",
    "l2=[3,4,7,8]\n",
    "\n",
    "#print the common element\n",
    "print('common elements :')\n",
    "for i in l1:\n",
    "      if i in l2:\n",
    "            print(i,end=' ')"
   ]
  },
  {
   "cell_type": "markdown",
   "id": "dd0588df-1544-461b-a200-a3caae26eda2",
   "metadata": {},
   "source": [
    "Q-19 Develop a program that prints the pattern of right angled trangles"
   ]
  },
  {
   "cell_type": "code",
   "execution_count": 9,
   "id": "d4879fa4-64d9-4999-9989-b8cb882475cd",
   "metadata": {},
   "outputs": [
    {
     "name": "stdout",
     "output_type": "stream",
     "text": [
      "* \n",
      "* * \n",
      "* * * \n",
      "* * * * \n",
      "* * * * * \n",
      "* * * * * * \n",
      "* * * * * * * \n",
      "* * * * * * * * \n",
      "* * * * * * * * * \n"
     ]
    }
   ],
   "source": [
    "for i in range(1,10):\n",
    "            for j in range(i):\n",
    "                  print('*',end=' ')\n",
    "            print()      "
   ]
  },
  {
   "cell_type": "markdown",
   "id": "9a3b9b76-d339-477f-8699-73c7d612562b",
   "metadata": {},
   "source": [
    "Q-20 write a program to find the GCD of two numbers"
   ]
  },
  {
   "cell_type": "code",
   "execution_count": 28,
   "id": "f25ca835-6f71-419a-b8a0-92cbed961fa8",
   "metadata": {},
   "outputs": [
    {
     "name": "stdout",
     "output_type": "stream",
     "text": [
      "GCD of 36 and 60 is 12\n"
     ]
    }
   ],
   "source": [
    "num1=36\n",
    "num2=60\n",
    "gcd=1\n",
    "\n",
    "# GCD of two numbers\n",
    "for i in range(1,min(num1,num2)):\n",
    "                    if num1%i==0 and num2%i==0:\n",
    "                              gcd=i\n",
    "print('GCD of',num1,'and',num2,'is',gcd)"
   ]
  },
  {
   "cell_type": "markdown",
   "id": "65abe38d-27c9-4039-9bb6-4eff8ebe5786",
   "metadata": {},
   "source": [
    "Advanced level"
   ]
  },
  {
   "cell_type": "markdown",
   "id": "f857d22b-d4e0-479b-ab6e-cde07b169a3e",
   "metadata": {},
   "source": [
    "Q-21 create a program that calculates the sum of the digits of numbers in a list"
   ]
  },
  {
   "cell_type": "code",
   "execution_count": 51,
   "id": "3f1e7ee1-3d61-4b75-8d22-3b86a4750ec5",
   "metadata": {},
   "outputs": [
    {
     "name": "stdout",
     "output_type": "stream",
     "text": [
      "sum of list element:  23\n"
     ]
    }
   ],
   "source": [
    "li=[1,2,3,4,6,7]\n",
    "\n",
    "#sum of the digits of numbers in a list\n",
    "a=sum([i for i in li])\n",
    "print('sum of list element: ',a)"
   ]
  },
  {
   "cell_type": "markdown",
   "id": "12b13fb1-c1c0-4bf4-933f-91107209c7a4",
   "metadata": {},
   "source": [
    "Q-22"
   ]
  },
  {
   "cell_type": "code",
   "execution_count": 74,
   "id": "f3f6e380-95f0-4e7e-b2b2-ca069af933a7",
   "metadata": {},
   "outputs": [
    {
     "name": "stdin",
     "output_type": "stream",
     "text": [
      "enter any number 78\n"
     ]
    },
    {
     "name": "stdout",
     "output_type": "stream",
     "text": [
      "prime factors of num:\n",
      "1\n",
      "2\n",
      "3\n",
      "13\n"
     ]
    }
   ],
   "source": [
    "def isprime(n):\n",
    "        num1=0\n",
    "        for i in range(2,int(n/2)+1):\n",
    "               if n%i==0:\n",
    "                    num1=1 \n",
    "        if num1==0:\n",
    "             return True\n",
    "        else:\n",
    "             return False\n",
    "            \n",
    "num=int(input('enter any number'))  \n",
    "print('prime factors of num:')\n",
    "for i in range(1,int(num/2)+1):\n",
    "                if num%i==0:\n",
    "                     if isprime(i):\n",
    "                            print(i)"
   ]
  },
  {
   "cell_type": "markdown",
   "id": "81308d52-ad2d-4eb6-9462-3a91de49204d",
   "metadata": {},
   "source": [
    "Q-23 develop a program that extracts unique elements from a list and store them \n",
    "     in a new list"
   ]
  },
  {
   "cell_type": "code",
   "execution_count": 69,
   "id": "a8af8ad5-fb70-457f-a244-91364161846a",
   "metadata": {},
   "outputs": [
    {
     "name": "stdout",
     "output_type": "stream",
     "text": [
      "unique elements : [1, 2, 3, 4, 6, 7]\n"
     ]
    }
   ],
   "source": [
    "li=[1,2,3,4,6,3,7,7]\n",
    "\n",
    "s=set(li)\n",
    "\n",
    "uni_elm=[i for i in s]\n",
    "print('unique elements :',uni_elm)    "
   ]
  },
  {
   "cell_type": "markdown",
   "id": "4137404f-726e-49c6-9a08-f3360b050c9e",
   "metadata": {},
   "source": [
    "Q-24"
   ]
  },
  {
   "cell_type": "code",
   "execution_count": 71,
   "id": "ca259feb-5635-4ef0-b499-b03c4e0992a1",
   "metadata": {},
   "outputs": [
    {
     "name": "stdout",
     "output_type": "stream",
     "text": [
      "palindromic no : [1, 2, 3, 4, 5, 6, 7, 8, 9, 11, 22, 33, 44, 55, 66, 77, 88, 99, 101, 111, 121, 131, 141, 151, 161, 171, 181, 191]\n"
     ]
    }
   ],
   "source": [
    "def ispalindrom(n):\n",
    "        if str(n)==str(n)[::-1]:\n",
    "            return True\n",
    "        else:\n",
    "            return False \n",
    "        \n",
    "#create a empty list        \n",
    "li=[]  \n",
    "\n",
    "# add palindromic no in list\n",
    "for i in range(1,200):\n",
    "         if ispalindrom(i):\n",
    "                  li.append(i)\n",
    "                \n",
    "#print the result                \n",
    "print('palindromic no :',li)                "
   ]
  },
  {
   "cell_type": "markdown",
   "id": "10cac6f8-cacf-4832-bda1-4509bc18324e",
   "metadata": {},
   "source": [
    "Q-25"
   ]
  },
  {
   "cell_type": "code",
   "execution_count": 72,
   "id": "11fa82ae-3a86-42ba-b5de-0e1787ace11a",
   "metadata": {},
   "outputs": [
    {
     "name": "stdout",
     "output_type": "stream",
     "text": [
      "Flattened list: [1, 2, 3, 4, 5, 6, 7, 8, 9]\n"
     ]
    }
   ],
   "source": [
    "# Example nested list\n",
    "nested_list = [[1, 2, 3], [4, 5], [6, 7, 8, 9]]\n",
    "\n",
    "# Function to flatten a nested list\n",
    "def flatten_list(nested):\n",
    "    flattened = []\n",
    "    for sublist in nested:\n",
    "        if isinstance(sublist, list):\n",
    "            flattened.extend(flatten_list(sublist))\n",
    "        else:\n",
    "            flattened.append(sublist)\n",
    "    return flattened\n",
    "\n",
    "# Flatten the nested list\n",
    "flattened_list = flatten_list(nested_list)\n",
    "\n",
    "# Print the flattened list\n",
    "print(\"Flattened list:\", flattened_list)"
   ]
  },
  {
   "cell_type": "markdown",
   "id": "78a5cd43-a6fd-4fd0-9a13-d66635cb7e87",
   "metadata": {},
   "source": [
    "Q-26"
   ]
  },
  {
   "cell_type": "code",
   "execution_count": 61,
   "id": "353b17da-2a6e-45f3-81b1-709a8acb6c56",
   "metadata": {},
   "outputs": [
    {
     "name": "stdout",
     "output_type": "stream",
     "text": [
      "list of even numbers: [2, 4, 6, 8]\n",
      "list of odd numbers: [1, 3, 7]\n"
     ]
    }
   ],
   "source": [
    "li=[1,2,3,4,6,7,8]\n",
    "\n",
    "even_li=[i for i in li if i%2==0]\n",
    "print('list of even numbers:',even_li)\n",
    "\n",
    "odd_li=[i for i in li if i%2!=0]\n",
    "print('list of odd numbers:',odd_li)"
   ]
  },
  {
   "cell_type": "markdown",
   "id": "c04e381f-676c-4ceb-ba25-dbf8b072181f",
   "metadata": {},
   "source": [
    "Q-27 "
   ]
  },
  {
   "cell_type": "code",
   "execution_count": 64,
   "id": "56f115e7-5f74-42e5-9033-05e6275a4ac4",
   "metadata": {},
   "outputs": [
    {
     "name": "stdout",
     "output_type": "stream",
     "text": [
      "list of squrae of odd num : [1, 9, 25, 49, 81]\n"
     ]
    }
   ],
   "source": [
    "li=[1,2,3,4,5,6,7,8,9,10]\n",
    "\n",
    "# square of odd numbers\n",
    "squ_li=[i*i for i in li if i%2!=0]\n",
    "\n",
    "#print the result\n",
    "print('list of squrae of odd num :',squ_li)"
   ]
  },
  {
   "cell_type": "markdown",
   "id": "3a1e86b2-c79a-432b-b001-29e98fe42611",
   "metadata": {},
   "source": [
    "Q-28 "
   ]
  },
  {
   "cell_type": "code",
   "execution_count": 72,
   "id": "06ef5df7-12f2-4a64-86db-69aeb8d7f1eb",
   "metadata": {},
   "outputs": [
    {
     "data": {
      "text/plain": [
       "{'a': 1, 'b': 2, 'c': 3}"
      ]
     },
     "execution_count": 72,
     "metadata": {},
     "output_type": "execute_result"
    }
   ],
   "source": [
    "#create list\n",
    "test_keys=['a','b','c']\n",
    "test_values=[1,2,3]\n",
    "\n",
    "#combine two list into a dictionary\n",
    "{test_keys[i]: test_values[i] for i in range(len(test_keys))}"
   ]
  },
  {
   "cell_type": "markdown",
   "id": "e32f6dc1-6dfa-4836-9e19-ec14e1d791b7",
   "metadata": {},
   "source": [
    "Q-29"
   ]
  },
  {
   "cell_type": "code",
   "execution_count": 66,
   "id": "bd0dc550-dff0-474e-b31a-dda4abad1f5a",
   "metadata": {},
   "outputs": [
    {
     "data": {
      "text/plain": [
       "['i', 'a', 'e']"
      ]
     },
     "execution_count": 66,
     "metadata": {},
     "output_type": "execute_result"
    }
   ],
   "source": [
    "str1='pwskill apple'\n",
    "vowel='aeiouAEIOU'\n",
    "\n",
    "[ i for i in str1 if i in vowel]"
   ]
  },
  {
   "cell_type": "markdown",
   "id": "befe8515-c17c-4ef1-9515-46215cf7f0f4",
   "metadata": {},
   "source": [
    "Q-30 "
   ]
  },
  {
   "cell_type": "code",
   "execution_count": 69,
   "id": "e93d920b-6e44-4b46-83b8-030d9e7b8f31",
   "metadata": {},
   "outputs": [
    {
     "data": {
      "text/plain": [
       "[1, 2, 8, 9]"
      ]
     },
     "execution_count": 69,
     "metadata": {},
     "output_type": "execute_result"
    }
   ],
   "source": [
    "str1='pw12ll89'\n",
    "\n",
    "# add only numeric charcter\n",
    "[int(i) for i in str1 if i.isnumeric()]           \n"
   ]
  },
  {
   "cell_type": "markdown",
   "id": "05005860-035b-4e11-b5ec-7e51b9417057",
   "metadata": {},
   "source": [
    "challenge level"
   ]
  },
  {
   "cell_type": "markdown",
   "id": "8d9b2c47-49ac-48cd-a981-48f691e96604",
   "metadata": {},
   "source": [
    "Q-31 "
   ]
  },
  {
   "cell_type": "code",
   "execution_count": 19,
   "id": "25acbc06-7a2c-4350-bc35-012f671d09e2",
   "metadata": {},
   "outputs": [
    {
     "name": "stdout",
     "output_type": "stream",
     "text": [
      "2,3,5,7,11,13,17,19,23,29,31,37,41,43,47,53,59,61,67,71,73,79,83,89,97,None\n"
     ]
    }
   ],
   "source": [
    "def prime_eratosthenes(n):\n",
    "        prime_list=[]\n",
    "        for i in range(2, n+1):\n",
    "            if i not in prime_list:\n",
    "                print (i,end=',')\n",
    "                for j in range(i*i,n+1,i):\n",
    "                            prime_list.append(j)\n",
    "        \n",
    "print(prime_eratosthenes(100))        "
   ]
  },
  {
   "cell_type": "markdown",
   "id": "27f10d1a-298c-40c5-8e57-5e5ea8132af9",
   "metadata": {},
   "source": [
    "Q-32"
   ]
  },
  {
   "cell_type": "code",
   "execution_count": 3,
   "id": "1f5a23e3-9940-484d-852a-7a7343bbd7b9",
   "metadata": {},
   "outputs": [
    {
     "name": "stdout",
     "output_type": "stream",
     "text": [
      "pythagorean Triplets:\n",
      "3 4 5\n",
      "8 6 10\n",
      "5 12 13\n",
      "15 8 17\n",
      "12 16 20\n"
     ]
    }
   ],
   "source": [
    "def pythagrotriplet(limits):\n",
    "        c,m=0,2\n",
    "        \n",
    "        while c<limits:\n",
    "                for n in range(1,m):\n",
    "                    a=m*m - n*n\n",
    "                    b=2*n*m\n",
    "                    c=m*m+n*n\n",
    "                    \n",
    "                    if c>limits:\n",
    "                        break\n",
    "                    print(a,b,c)   \n",
    "                m+=1          \n",
    "limit=20\n",
    "print('pythagorean Triplets:')\n",
    "pythagrotriplet(limit)"
   ]
  },
  {
   "cell_type": "markdown",
   "id": "40815c23-b119-4e76-93ef-3534cda1b66e",
   "metadata": {},
   "source": [
    "Q-33"
   ]
  },
  {
   "cell_type": "code",
   "execution_count": 5,
   "id": "cf8193b7-bfbd-405c-b51c-0a969f12046a",
   "metadata": {},
   "outputs": [
    {
     "name": "stdout",
     "output_type": "stream",
     "text": [
      "[('a', 1), ('a', 4), ('a', 6), ('b', 1), ('b', 4), ('b', 6), ('d', 1), ('d', 4), ('d', 6)]\n"
     ]
    }
   ],
   "source": [
    "list1=['a','b','d']\n",
    "list2=[1,4,6]\n",
    "\n",
    "# all possible combination of list1 and list2\n",
    "unique_combination=[]\n",
    "for i in range(len(list1)):\n",
    "         for j in range(len(list2)):\n",
    "                   unique_combination.append((list1[i],list2[j]))\n",
    "print(unique_combination)                "
   ]
  },
  {
   "cell_type": "markdown",
   "id": "cf47b667-555a-43a2-8252-9fc379838955",
   "metadata": {},
   "source": [
    "Q-34"
   ]
  },
  {
   "cell_type": "code",
   "execution_count": 8,
   "id": "66d85fb7-b2cf-42b9-a37b-eb2bac2323fd",
   "metadata": {},
   "outputs": [
    {
     "name": "stdout",
     "output_type": "stream",
     "text": [
      "mean of list 5.428571428571429\n",
      "median of list 6\n",
      "mode of list 8\n"
     ]
    }
   ],
   "source": [
    "import statistics\n",
    "li=[2,3,4,6,7,8,8]\n",
    "l=len(li)\n",
    "mean_li=statistics.mean([i for i in li])\n",
    "print('mean of list',mean_li)\n",
    "\n",
    "median_li=statistics.median([i for i in li])\n",
    "print('median of list',median_li)\n",
    "\n",
    "mode_li=statistics.mode([i for i in li])\n",
    "print('mode of list',mode_li)"
   ]
  },
  {
   "cell_type": "markdown",
   "id": "c3fa4c1e-f8e6-4068-8c98-a263952718c0",
   "metadata": {},
   "source": [
    "Q-35"
   ]
  },
  {
   "cell_type": "code",
   "execution_count": 76,
   "id": "b2ca9046-37a7-443a-a312-ddaecb132960",
   "metadata": {},
   "outputs": [
    {
     "name": "stdin",
     "output_type": "stream",
     "text": [
      "enter the no of rows 6\n"
     ]
    },
    {
     "name": "stdout",
     "output_type": "stream",
     "text": [
      "       1 \n",
      "      1 1 \n",
      "     1 2 1 \n",
      "    1 3 3 1 \n",
      "   1 4 6 4 1 \n",
      "  1 5 10 10 5 1 \n"
     ]
    }
   ],
   "source": [
    "def fact(n):\n",
    "            fact=1\n",
    "            for j in range(1,n+1):\n",
    "                 fact*=j  \n",
    "            return fact\n",
    "\n",
    "\n",
    "no=int(input('enter the no of rows'))\n",
    "\n",
    "for i in range(no):\n",
    "        for j in range(no-i+1):\n",
    "             #for left spacing\n",
    "                print(end=' ')\n",
    "        for j in range(i+1):\n",
    "                 print(fact(i)//(fact(j)*fact(i-j)),end=' ')\n",
    "        print()      "
   ]
  },
  {
   "cell_type": "markdown",
   "id": "12fa96c0-eb93-479a-b29e-13b89dcb8613",
   "metadata": {},
   "source": [
    "Q-36"
   ]
  },
  {
   "cell_type": "code",
   "execution_count": 8,
   "id": "85d7e916-e120-4ff3-8b03-591b3d4c767f",
   "metadata": {},
   "outputs": [
    {
     "data": {
      "text/plain": [
       "18"
      ]
     },
     "execution_count": 8,
     "metadata": {},
     "output_type": "execute_result"
    }
   ],
   "source": [
    "# create a empty list\n",
    "li=[]\n",
    "\n",
    "# store the factorial in a list\n",
    "for i in range(1,6):\n",
    "            fact=1\n",
    "            for j in range(1,i+1):\n",
    "                 fact*=j  \n",
    "            li.append(fact)       \n",
    "            \n",
    "# find sum of digit of factorial            \n",
    "sum1= sum([int(j) for i in li for j in str(i)])\n",
    "              \n",
    "print(sum1)                "
   ]
  },
  {
   "cell_type": "markdown",
   "id": "f00c168b-1735-4170-980c-879b182ad38f",
   "metadata": {},
   "source": [
    "Q-37"
   ]
  },
  {
   "cell_type": "code",
   "execution_count": 38,
   "id": "4ebc57a1-183d-4eff-9a4f-2e511702be2b",
   "metadata": {},
   "outputs": [
    {
     "name": "stdout",
     "output_type": "stream",
     "text": [
      "longest string in sentence : srishti\n"
     ]
    }
   ],
   "source": [
    "#create a sentence\n",
    "sen='my name is srishti'\n",
    "\n",
    "# convert string to list\n",
    "li=list(sen.split(' '))\n",
    "\n",
    "#find the longest in list\n",
    "longest=li[0]\n",
    "for i in li:\n",
    "        if len(i)>len(longest):\n",
    "            longest=i\n",
    "print('longest string in sentence :',longest) \n"
   ]
  },
  {
   "cell_type": "markdown",
   "id": "2eb751eb-334f-4b25-9c72-510162ba8599",
   "metadata": {},
   "source": [
    "Q-38 "
   ]
  },
  {
   "cell_type": "code",
   "execution_count": 4,
   "id": "ac225f50-080a-4586-90ae-6d5baeec704f",
   "metadata": {},
   "outputs": [
    {
     "name": "stdout",
     "output_type": "stream",
     "text": [
      "Original list of strings: ['hello', 'saicharan', 'python', 'programming', 'aardvark']\n",
      "Filtered list with more than three vowels: ['saicharan']\n"
     ]
    }
   ],
   "source": [
    "# Input list of strings\n",
    "strings = [\"hello\", \"saicharan\", \"python\", \"programming\", \"aardvark\"]\n",
    "\n",
    "# Function to count vowels in a string\n",
    "def count_vowels(string):\n",
    "    vowels = \"AEIOUaeiou\"\n",
    "    return sum(1 for char in string if char in vowels)\n",
    "\n",
    "# Use list comprehension to filter strings with more than three vowels\n",
    "filtered_strings = [string for string in strings if count_vowels(string) > 3]\n",
    "\n",
    "# Print the filtered list of strings\n",
    "print(\"Original list of strings:\", strings)\n",
    "print(\"Filtered list with more than three vowels:\", filtered_strings)"
   ]
  },
  {
   "cell_type": "markdown",
   "id": "76fa36ed-1c6c-4f24-bb1d-eaa0d071a20f",
   "metadata": {},
   "source": [
    "Q-39"
   ]
  },
  {
   "cell_type": "code",
   "execution_count": 1,
   "id": "36110496-d512-497d-a05e-1785847ec9e2",
   "metadata": {},
   "outputs": [
    {
     "name": "stdout",
     "output_type": "stream",
     "text": [
      "sum of digit: 500500\n"
     ]
    }
   ],
   "source": [
    "#sum of digit of a numbers\n",
    "list_sum=sum([i for i in range(1,1001)])\n",
    "\n",
    "#print the result\n",
    "print('sum of digit:',list_sum)"
   ]
  },
  {
   "cell_type": "markdown",
   "id": "2e4a66c2-b850-4f8c-86f3-e67be3e4d0fc",
   "metadata": {},
   "source": [
    "Q-40"
   ]
  },
  {
   "cell_type": "code",
   "execution_count": 14,
   "id": "4ff72637-4013-4774-a4b8-c78468b2bfe7",
   "metadata": {},
   "outputs": [
    {
     "name": "stdout",
     "output_type": "stream",
     "text": [
      "list of prime palindronic number  [1, 2, 3, 5, 7, 11, 101, 131, 151, 181, 191, 313, 353, 373, 383, 727, 757, 787, 797, 919, 929]\n"
     ]
    }
   ],
   "source": [
    "def ispalindrom(num):\n",
    "        if str(num)==str(num)[::-1]:\n",
    "                   return True\n",
    "        else:\n",
    "                  return False\n",
    "li=[]           \n",
    "for i in range(1,1000):\n",
    "            n=0\n",
    "            for j in range(2,int(i/2)+1):\n",
    "                  if i%j==0:\n",
    "                    n=1 \n",
    "            if n==0:\n",
    "                 if ispalindrom(i):\n",
    "                         li.append(i)    \n",
    "print('list of prime palindronic number ',li)                "
   ]
  }
 ],
 "metadata": {
  "kernelspec": {
   "display_name": "Python 3 (ipykernel)",
   "language": "python",
   "name": "python3"
  },
  "language_info": {
   "codemirror_mode": {
    "name": "ipython",
    "version": 3
   },
   "file_extension": ".py",
   "mimetype": "text/x-python",
   "name": "python",
   "nbconvert_exporter": "python",
   "pygments_lexer": "ipython3",
   "version": "3.10.8"
  }
 },
 "nbformat": 4,
 "nbformat_minor": 5
}
