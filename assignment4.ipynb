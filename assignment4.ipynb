{
 "cells": [
  {
   "cell_type": "markdown",
   "id": "e7a50ee7-bb13-48a9-913a-0bb4815cd56f",
   "metadata": {},
   "source": [
    "# control flow"
   ]
  },
  {
   "cell_type": "markdown",
   "id": "c3b6f9a4-fe8f-4190-9f3a-62762da53e97",
   "metadata": {},
   "source": [
    "Basic if-else statements:"
   ]
  },
  {
   "cell_type": "markdown",
   "id": "a6fb5cfc-bfe7-423e-84ef-0c7d2861a169",
   "metadata": {},
   "source": [
    "Q-1 "
   ]
  },
  {
   "cell_type": "code",
   "execution_count": 1,
   "id": "f4134a14-c7c3-483a-a338-4c42b13a3f3d",
   "metadata": {
    "tags": []
   },
   "outputs": [
    {
     "name": "stdin",
     "output_type": "stream",
     "text": [
      "enter a number 6\n"
     ]
    },
    {
     "name": "stdout",
     "output_type": "stream",
     "text": [
      "number is positive\n"
     ]
    }
   ],
   "source": [
    "# input a number\n",
    "num=int(input('enter a number'))\n",
    "\n",
    "#check it is positive or negative\n",
    "if num>0:\n",
    "      print('number is positive')\n",
    "else:\n",
    "      print('number is negative')"
   ]
  },
  {
   "cell_type": "markdown",
   "id": "4d4d7320-7035-4b79-b640-dda0a4e22051",
   "metadata": {},
   "source": [
    "Q-2"
   ]
  },
  {
   "cell_type": "code",
   "execution_count": 3,
   "id": "4404b27d-1ff8-4c6b-9531-83a612348ee7",
   "metadata": {},
   "outputs": [
    {
     "name": "stdin",
     "output_type": "stream",
     "text": [
      "enter your age 67\n"
     ]
    },
    {
     "name": "stdout",
     "output_type": "stream",
     "text": [
      "eligible for vote\n"
     ]
    }
   ],
   "source": [
    "# input a age\n",
    "age=int(input('enter your age'))\n",
    "\n",
    "if age>=18:\n",
    "      print('eligible for vote')\n",
    "else:\n",
    "     print('not eligible for vote')"
   ]
  },
  {
   "cell_type": "markdown",
   "id": "a70987b1-4db9-4e42-bded-7deaab91c200",
   "metadata": {},
   "source": [
    "Q-3"
   ]
  },
  {
   "cell_type": "code",
   "execution_count": 4,
   "id": "752a5778-8839-4765-9093-9d9695673a74",
   "metadata": {},
   "outputs": [
    {
     "name": "stdout",
     "output_type": "stream",
     "text": [
      "34 is greater\n"
     ]
    }
   ],
   "source": [
    "num1=34\n",
    "num2=20\n",
    "\n",
    "if num1>num2:\n",
    "       print(num1,'is greater')\n",
    "else:\n",
    "       print(num2,'is greater')\n",
    "        "
   ]
  },
  {
   "cell_type": "markdown",
   "id": "99e7c263-d586-4952-afe1-fae68d3f1b3e",
   "metadata": {},
   "source": [
    "Q-4"
   ]
  },
  {
   "cell_type": "code",
   "execution_count": 5,
   "id": "ea765fbd-917d-43e3-a1f0-6f8721eeebe6",
   "metadata": {},
   "outputs": [
    {
     "name": "stdin",
     "output_type": "stream",
     "text": [
      "enter a year 2000\n"
     ]
    },
    {
     "name": "stdout",
     "output_type": "stream",
     "text": [
      "leap year\n"
     ]
    }
   ],
   "source": [
    "year=int(input('enter a year'))\n",
    "\n",
    "if year%4==0:\n",
    "     print('leap year')\n",
    "else:\n",
    "     print('not a leap year')\n",
    "        "
   ]
  },
  {
   "cell_type": "markdown",
   "id": "a2e4481a-7ec4-45d9-99d9-5aa782b1f790",
   "metadata": {},
   "source": [
    "Q-5"
   ]
  },
  {
   "cell_type": "code",
   "execution_count": 8,
   "id": "635fb79c-86c9-4db6-b4f3-8994a2dab2cf",
   "metadata": {},
   "outputs": [
    {
     "name": "stdin",
     "output_type": "stream",
     "text": [
      "input any character p\n"
     ]
    },
    {
     "name": "stdout",
     "output_type": "stream",
     "text": [
      "it is consonants\n"
     ]
    }
   ],
   "source": [
    "char=input('input any character')\n",
    "\n",
    "vowel='aeiouAEIOU'\n",
    "if char in vowel:\n",
    "         print('it is vowel')\n",
    "else:\n",
    "         print('it is consonants')\n",
    "        "
   ]
  },
  {
   "cell_type": "markdown",
   "id": "ff2a8cdc-0dd7-4507-911e-79b6123c95f4",
   "metadata": {},
   "source": [
    "Q-6"
   ]
  },
  {
   "cell_type": "code",
   "execution_count": 11,
   "id": "c30d1953-d110-47f5-a8e7-bf4eb556c3fa",
   "metadata": {},
   "outputs": [
    {
     "name": "stdin",
     "output_type": "stream",
     "text": [
      "enter any number 68\n"
     ]
    },
    {
     "name": "stdout",
     "output_type": "stream",
     "text": [
      "even number\n"
     ]
    }
   ],
   "source": [
    "num=int(input('enter any number'))\n",
    "\n",
    "# check num is odd and even\n",
    "if num%2==0:\n",
    "        print('even number')\n",
    "else:\n",
    "        print('odd number')"
   ]
  },
  {
   "cell_type": "markdown",
   "id": "5a1f94d6-e35e-4e28-a4a5-36a703023f0c",
   "metadata": {},
   "source": [
    "Q-7"
   ]
  },
  {
   "cell_type": "code",
   "execution_count": 2,
   "id": "68bce0ee-b81a-4cf0-b82d-506e4efe3538",
   "metadata": {},
   "outputs": [
    {
     "name": "stdin",
     "output_type": "stream",
     "text": [
      "enter any number -2\n"
     ]
    },
    {
     "name": "stdout",
     "output_type": "stream",
     "text": [
      "2\n"
     ]
    }
   ],
   "source": [
    "num=int(input('enter any number'))\n",
    "\n",
    "# absolute number\n",
    "if num>=0:\n",
    "    print(num)\n",
    "else:\n",
    "    print(-num)"
   ]
  },
  {
   "cell_type": "markdown",
   "id": "716b4407-7045-44db-b8a6-a03acc1f84b4",
   "metadata": {},
   "source": [
    "Q-8"
   ]
  },
  {
   "cell_type": "code",
   "execution_count": 18,
   "id": "111979ba-505c-4c79-8185-dcce354f1ad6",
   "metadata": {},
   "outputs": [
    {
     "name": "stdin",
     "output_type": "stream",
     "text": [
      "enter 1 number 3\n",
      "enter 2 number 9\n",
      "enter 3 number 4\n"
     ]
    },
    {
     "name": "stdout",
     "output_type": "stream",
     "text": [
      "9  is greater\n"
     ]
    }
   ],
   "source": [
    "num1=int(input('enter 1 number'))\n",
    "num2=int(input('enter 2 number'))\n",
    "num3=int(input('enter 3 number'))\n",
    "\n",
    "if num1>num2:\n",
    "        if num1>num3:\n",
    "             print(num1,' is greater')\n",
    "        else:\n",
    "            print(num3,' is greater')\n",
    "            \n",
    "else:\n",
    "      if num2>num3:\n",
    "              print(num2,' is greater')"
   ]
  },
  {
   "cell_type": "markdown",
   "id": "881adeef-582c-40db-862d-b6533ddedba1",
   "metadata": {},
   "source": [
    "Q-9"
   ]
  },
  {
   "cell_type": "code",
   "execution_count": null,
   "id": "881953f4-9002-4a3f-9e33-470c8853cdc8",
   "metadata": {},
   "outputs": [],
   "source": [
    "str1='madam'\n",
    "rev=str1[::-1]\n",
    "\n",
    "if str1==rev:\n",
    "         print('string is palindrom')\n",
    "else:\n",
    "         print('string is not palindrom')"
   ]
  },
  {
   "cell_type": "markdown",
   "id": "c1e3f0f5-daa2-4c29-bedf-b08646e2dd67",
   "metadata": {},
   "source": [
    "Q-10"
   ]
  },
  {
   "cell_type": "code",
   "execution_count": 2,
   "id": "021f12f5-8936-4b9e-882d-6df974e21bc1",
   "metadata": {},
   "outputs": [
    {
     "name": "stdin",
     "output_type": "stream",
     "text": [
      "enter your marks 72\n"
     ]
    },
    {
     "name": "stdout",
     "output_type": "stream",
     "text": [
      "grade A\n"
     ]
    }
   ],
   "source": [
    "marks=int(input('enter your marks'))\n",
    "\n",
    "if marks>60 & marks<=100:\n",
    "            print('grade A')\n",
    "else:\n",
    "          print('grade B')"
   ]
  },
  {
   "cell_type": "markdown",
   "id": "0cf5c535-509f-4c29-9885-d5610f533391",
   "metadata": {},
   "source": [
    "Nested if-else statements:"
   ]
  },
  {
   "cell_type": "markdown",
   "id": "98477efd-1bd4-4893-8b2c-220f718c3eb8",
   "metadata": {},
   "source": [
    "Q-11"
   ]
  },
  {
   "cell_type": "code",
   "execution_count": 3,
   "id": "f7243975-c1bc-43e1-ad97-9d919786d127",
   "metadata": {},
   "outputs": [
    {
     "name": "stdin",
     "output_type": "stream",
     "text": [
      "enter 1 number 7\n",
      "enter 2 number 9\n",
      "enter 3 number 2\n"
     ]
    },
    {
     "name": "stdout",
     "output_type": "stream",
     "text": [
      "9  is greater\n"
     ]
    }
   ],
   "source": [
    "num1=int(input('enter 1 number'))\n",
    "num2=int(input('enter 2 number'))\n",
    "num3=int(input('enter 3 number'))\n",
    "\n",
    "if num1>num2:\n",
    "        if num1>num3:\n",
    "             print(num1,' is greater')\n",
    "        else:\n",
    "            print(num3,' is greater')\n",
    "            \n",
    "else:\n",
    "      if num2>num3:\n",
    "              print(num2,' is greater')"
   ]
  },
  {
   "cell_type": "markdown",
   "id": "1b51285f-7ac9-4416-a827-05fa04e39ff1",
   "metadata": {},
   "source": [
    "Q-12 "
   ]
  },
  {
   "cell_type": "code",
   "execution_count": 9,
   "id": "579165d8-17a6-4270-baf7-f03a89fd7b35",
   "metadata": {},
   "outputs": [
    {
     "name": "stdin",
     "output_type": "stream",
     "text": [
      "enter 1st angle 30\n",
      "enter 2nd angle 30\n",
      "enter 3rd angle 30\n"
     ]
    },
    {
     "name": "stdout",
     "output_type": "stream",
     "text": [
      "Equilateral Triangle\n"
     ]
    }
   ],
   "source": [
    "angle1=int(input('enter 1st angle'))\n",
    "angle2=int(input('enter 2nd angle'))\n",
    "angle3=int(input('enter 3rd angle'))\n",
    "\n",
    "\n",
    "#check if triangle is Equilateral,Isosceles,Scalene\n",
    "if  angle1==angle2 and angle2==angle3:\n",
    "                    print('Equilateral Triangle')\n",
    "elif  angle1==angle2 or angle2==angle3 or angle1==angle3:\n",
    "                    print('Isosceles Triangle')\n",
    "else:\n",
    "         print('Scalene Triangle')\n",
    "        "
   ]
  },
  {
   "cell_type": "markdown",
   "id": "59e32724-953f-4d1c-ba9f-cf0b87b2fd37",
   "metadata": {},
   "source": [
    "Q-13"
   ]
  },
  {
   "cell_type": "code",
   "execution_count": 11,
   "id": "8da32346-0eed-44ac-a5c7-671ecfde296d",
   "metadata": {},
   "outputs": [
    {
     "name": "stdin",
     "output_type": "stream",
     "text": [
      "enter year 2000\n"
     ]
    },
    {
     "name": "stdout",
     "output_type": "stream",
     "text": [
      "it is leap and century year\n"
     ]
    }
   ],
   "source": [
    "year=int(input('enter year'))\n",
    "\n",
    "if year%4==0:\n",
    "        if year%100==0:\n",
    "                    print('it is leap and century year')\n",
    "        else:  \n",
    "                    print('it is leap year')        \n",
    "else:\n",
    "       print('not a leap year')"
   ]
  },
  {
   "cell_type": "markdown",
   "id": "084253c9-9930-4250-a83d-fc13998f8201",
   "metadata": {},
   "source": [
    "Q-14"
   ]
  },
  {
   "cell_type": "code",
   "execution_count": 7,
   "id": "5a4a9373-9166-4bfb-968f-6a600eaebcbc",
   "metadata": {},
   "outputs": [
    {
     "name": "stdin",
     "output_type": "stream",
     "text": [
      "enter a numer -8\n"
     ]
    },
    {
     "name": "stdout",
     "output_type": "stream",
     "text": [
      "num is negative\n"
     ]
    }
   ],
   "source": [
    "num=int(input('enter a numer'))\n",
    "\n",
    "if num<=0:\n",
    "        if num==0:\n",
    "            print('num is zero')\n",
    "        else:  \n",
    "            print('num is negative')\n",
    "else:\n",
    "       print('num is positive')"
   ]
  },
  {
   "cell_type": "markdown",
   "id": "dd76e7ed-3fba-4689-961c-a63319e625af",
   "metadata": {},
   "source": [
    "Q-15 "
   ]
  },
  {
   "cell_type": "code",
   "execution_count": 13,
   "id": "10f9cd40-06f3-49b2-aaa9-89f5b400308f",
   "metadata": {},
   "outputs": [
    {
     "name": "stdin",
     "output_type": "stream",
     "text": [
      "enter your age 17\n"
     ]
    },
    {
     "name": "stdout",
     "output_type": "stream",
     "text": [
      "person is teenager\n"
     ]
    }
   ],
   "source": [
    "age=int(input('enter your age'))\n",
    "\n",
    "if age>=13:\n",
    "        if age<=19:\n",
    "              print('person is teenager')\n",
    "        else:  \n",
    "              print('not teenager')"
   ]
  },
  {
   "cell_type": "markdown",
   "id": "8d7b3fe0-3c8a-4d9a-8725-00aabf0abcb7",
   "metadata": {},
   "source": [
    "Q-16"
   ]
  },
  {
   "cell_type": "code",
   "execution_count": 18,
   "id": "dc2d37ce-8be6-4749-a621-ed1b4e178be0",
   "metadata": {},
   "outputs": [
    {
     "name": "stdin",
     "output_type": "stream",
     "text": [
      "enter any angel 40\n"
     ]
    },
    {
     "name": "stdout",
     "output_type": "stream",
     "text": [
      "acute angle\n"
     ]
    }
   ],
   "source": [
    "angle=int(input('enter any angel'))\n",
    "\n",
    "if angle>90 and angle<180:\n",
    "         print('obtuse angle')\n",
    "if angle==90:\n",
    "         print('right angle')\n",
    "if angle<90:\n",
    "          print('acute angle')\n",
    "        "
   ]
  },
  {
   "cell_type": "markdown",
   "id": "875068d2-9f9a-49a7-9d44-00b2cc550725",
   "metadata": {},
   "source": [
    "Q-17"
   ]
  },
  {
   "cell_type": "code",
   "execution_count": 21,
   "id": "a8ab999f-ded5-432f-a6cf-1a7d93b63361",
   "metadata": {},
   "outputs": [
    {
     "name": "stdin",
     "output_type": "stream",
     "text": [
      "Enter a: 2\n",
      "Enter b: 4\n",
      "Enter c: 7\n"
     ]
    },
    {
     "name": "stdout",
     "output_type": "stream",
     "text": [
      "Complex Roots\n",
      "-1.0  + i 6.324555320336759\n",
      "-1.0  - i 6.324555320336759\n"
     ]
    }
   ],
   "source": [
    "import math\n",
    "\n",
    "# function for finding roots  \n",
    "def findRoots(a, b, c):  \n",
    "  \n",
    "    dis_form = b * b - 4 * a * c  \n",
    "    sqrt_val = math.sqrt(abs(dis_form))  \n",
    "  \n",
    "  \n",
    "    if dis_form > 0:  \n",
    "        print(\" real and different roots \")  \n",
    "        print((-b + sqrt_val) / (2 * a))  \n",
    "        print((-b - sqrt_val) / (2 * a))  \n",
    "  \n",
    "    elif dis_form == 0:  \n",
    "        print(\" real and same roots\")  \n",
    "        print(-b / (2 * a))  \n",
    "  \n",
    "  \n",
    "    else:  \n",
    "        print(\"Complex Roots\")  \n",
    "        print(- b / (2 * a), \" + i\", sqrt_val)  \n",
    "        print(- b / (2 * a), \" - i\", sqrt_val)  \n",
    "  \n",
    "  \n",
    "a = int(input('Enter a:'))  \n",
    "b = int(input('Enter b:'))  \n",
    "c = int(input('Enter c:'))  \n",
    "  \n",
    "# If a is 0, then incorrect equation  \n",
    "if a == 0:  \n",
    "    print(\"Input correct quadratic equation\")  \n",
    "else:  \n",
    "           findRoots(a, b, c)  "
   ]
  },
  {
   "cell_type": "markdown",
   "id": "3259fe15-46b7-4063-a61a-9b7357442f05",
   "metadata": {},
   "source": [
    "Q-18"
   ]
  },
  {
   "cell_type": "code",
   "execution_count": 16,
   "id": "727044c2-03b2-4eb0-a96f-d30c8ea423c7",
   "metadata": {},
   "outputs": [
    {
     "name": "stdin",
     "output_type": "stream",
     "text": [
      "enter the day wednessday\n"
     ]
    },
    {
     "name": "stdout",
     "output_type": "stream",
     "text": [
      "3\n"
     ]
    }
   ],
   "source": [
    "day=input('enter the day')\n",
    "\n",
    "if day=='monday':\n",
    "          print('1')\n",
    "if day=='tuesday':\n",
    "          print('2')\n",
    "if day=='wednessday':\n",
    "          print('3')\n",
    "if day=='thrusday':\n",
    "          print('4')\n",
    "if day=='friday':\n",
    "          print('5')\n",
    "if day=='saturday':\n",
    "          print('6')     \n",
    "if day=='sunday':\n",
    "          print('7')        "
   ]
  },
  {
   "cell_type": "markdown",
   "id": "4cb35b0e-1f0a-4604-8981-f47ef7d38650",
   "metadata": {},
   "source": [
    "Q-19"
   ]
  },
  {
   "cell_type": "code",
   "execution_count": 24,
   "id": "61d4ade3-99ad-46cf-a498-a1568b4cde15",
   "metadata": {},
   "outputs": [
    {
     "name": "stdin",
     "output_type": "stream",
     "text": [
      "enter a year 2024\n"
     ]
    },
    {
     "name": "stdout",
     "output_type": "stream",
     "text": [
      "leap year\n"
     ]
    }
   ],
   "source": [
    "year=int(input('enter a year'))\n",
    "\n",
    "if year%4==0:\n",
    "\n",
    "    if year%400==0:\n",
    "             print('leap year and divisble by 400')           \n",
    "    else:\n",
    "           print('leap year')\n",
    "else:\n",
    "       print('not a leap year')"
   ]
  },
  {
   "cell_type": "markdown",
   "id": "a1d06826-71d4-425a-8f44-4c5682b33df6",
   "metadata": {},
   "source": [
    "Q-20"
   ]
  },
  {
   "cell_type": "code",
   "execution_count": 26,
   "id": "89883bfe-813c-4ce3-92ba-dce296500bdd",
   "metadata": {},
   "outputs": [
    {
     "name": "stdin",
     "output_type": "stream",
     "text": [
      " 7\n"
     ]
    },
    {
     "name": "stdout",
     "output_type": "stream",
     "text": [
      "7 is prime\n"
     ]
    }
   ],
   "source": [
    "def isprime(num):\n",
    "            for i in range(2,int(num/2)+1):\n",
    "                         if num%i==0:\n",
    "                               return False\n",
    "            return True\n",
    "                              \n",
    "num=int(input())\n",
    "\n",
    "if isprime(num):\n",
    "       print(num,'is prime')\n",
    "else:\n",
    "       print(num,'is not prime')"
   ]
  },
  {
   "cell_type": "markdown",
   "id": "f8cd8994-4e4a-4131-8e5e-2f7a9ed03030",
   "metadata": {},
   "source": [
    "Elif statements:"
   ]
  },
  {
   "cell_type": "markdown",
   "id": "0af66ea8-14ee-4978-9864-b09508cd3052",
   "metadata": {},
   "source": [
    "Q-21"
   ]
  },
  {
   "cell_type": "code",
   "execution_count": 26,
   "id": "7405fc65-da75-4f88-a974-6a4f93eb6ce3",
   "metadata": {},
   "outputs": [
    {
     "name": "stdin",
     "output_type": "stream",
     "text": [
      "enter your score 64\n"
     ]
    },
    {
     "name": "stdout",
     "output_type": "stream",
     "text": [
      "grade B\n"
     ]
    }
   ],
   "source": [
    "score=int(input('enter your score'))\n",
    "\n",
    "if score>=90:\n",
    "      print('grade A+')\n",
    "elif score<90 and score>80:\n",
    "      print('grade A')\n",
    "elif  score<80 and score>70:\n",
    "      print('grade B+')       \n",
    "elif  score<70 and score>60:\n",
    "       print('grade B')\n",
    "elif  score<60 and score>40:\n",
    "       print('grade c')\n",
    "else:\n",
    "      print('grade D')"
   ]
  },
  {
   "cell_type": "markdown",
   "id": "e6ffaf73-ebe5-405e-8b9a-d02143c5ff3b",
   "metadata": {},
   "source": [
    "Q-22"
   ]
  },
  {
   "cell_type": "code",
   "execution_count": 10,
   "id": "d7a0061c-3efd-4c73-a9b1-632c8edf787f",
   "metadata": {},
   "outputs": [
    {
     "name": "stdin",
     "output_type": "stream",
     "text": [
      "enter 1st angle 40\n",
      "enter 2nd angle 30\n",
      "enter 3rd angle 60\n"
     ]
    },
    {
     "name": "stdout",
     "output_type": "stream",
     "text": [
      "Scalene Triangle\n"
     ]
    }
   ],
   "source": [
    "angle1=int(input('enter 1st angle'))\n",
    "angle2=int(input('enter 2nd angle'))\n",
    "angle3=int(input('enter 3rd angle'))\n",
    "\n",
    "\n",
    "#check if triangle is Equilateral,Isosceles,Scalene\n",
    "if  angle1==angle2 and angle2==angle3:\n",
    "                    print('Equilateral Triangle')\n",
    "elif  angle1==angle2 or angle2==angle3 or angle1==angle3:\n",
    "                    print('Isosceles Triangle')\n",
    "else:\n",
    "         print('Scalene Triangle')\n",
    "        "
   ]
  },
  {
   "cell_type": "markdown",
   "id": "6d819b31-d4a8-4967-8473-f5d9577b3f8e",
   "metadata": {},
   "source": [
    "Q-23"
   ]
  },
  {
   "cell_type": "code",
   "execution_count": 5,
   "id": "35f02834-9f78-43cb-bc08-c22b2ff1aba5",
   "metadata": {},
   "outputs": [
    {
     "name": "stdin",
     "output_type": "stream",
     "text": [
      "enter a height 1.58\n",
      "enter a weight 40\n"
     ]
    },
    {
     "name": "stdout",
     "output_type": "stream",
     "text": [
      "bmi= 16.023073225444637 underweight\n"
     ]
    }
   ],
   "source": [
    "#weight = weight of the body in Kg, height = height of body in meter\n",
    "\n",
    "height=float(input('enter a height'))\n",
    "weight=float(input('enter a weight'))\n",
    "\n",
    "bmi=weight/height**2\n",
    "\n",
    "if bmi<18.5:\n",
    "       print('bmi=',bmi,'underweight')\n",
    "elif bmi>=18.5 and bmi<=24.9:\n",
    "       print('bmi=',bmi,'normal and healthy weight')\n",
    "elif bmi>=25.0 and bmi<=29.9:\n",
    "      print('bmi=',bmi,'overweight')\n",
    "else:\n",
    "      print('bmi=',bmi,'obese')"
   ]
  },
  {
   "cell_type": "markdown",
   "id": "378d037a-8b22-4449-aee3-ceceac040bac",
   "metadata": {},
   "source": [
    "Q-24"
   ]
  },
  {
   "cell_type": "code",
   "execution_count": 29,
   "id": "3448e048-0c59-408c-b49c-daaea1b9398a",
   "metadata": {},
   "outputs": [
    {
     "name": "stdin",
     "output_type": "stream",
     "text": [
      "enter any number 4\n"
     ]
    },
    {
     "name": "stdout",
     "output_type": "stream",
     "text": [
      "num is positive\n"
     ]
    }
   ],
   "source": [
    "num=int(input('enter any number'))\n",
    "\n",
    "if num>0:\n",
    "    print('num is positive')\n",
    "elif num==0:\n",
    "    print('num is zero')\n",
    "else:\n",
    "    print('num is negative')"
   ]
  },
  {
   "cell_type": "markdown",
   "id": "49b76133-e66c-4c89-98c3-fc3c75cf887e",
   "metadata": {},
   "source": [
    "Q-25"
   ]
  },
  {
   "cell_type": "code",
   "execution_count": 15,
   "id": "5a906cee-dc24-4623-8681-43f34907209a",
   "metadata": {},
   "outputs": [
    {
     "name": "stdin",
     "output_type": "stream",
     "text": [
      "enter a letter A\n"
     ]
    },
    {
     "name": "stdout",
     "output_type": "stream",
     "text": [
      "uppercase character\n"
     ]
    }
   ],
   "source": [
    "char=input('enter a letter')\n",
    "\n",
    "if char>='a' and char<='z':\n",
    "     print('lowercase character')\n",
    "elif  char>='A' and char<='Z':\n",
    "     print('uppercase character')\n",
    "else:\n",
    "     print('special character')"
   ]
  },
  {
   "cell_type": "markdown",
   "id": "b2329dd9-89cd-41f1-959a-5b64f803b755",
   "metadata": {},
   "source": [
    "Q-26"
   ]
  },
  {
   "cell_type": "code",
   "execution_count": null,
   "id": "405fec2d-9638-4a83-b5db-69c0fff47f97",
   "metadata": {},
   "outputs": [],
   "source": [
    "amount=int(input('enter a amount of product'))\n",
    "\n",
    "if amount>600:\n",
    "        print('you get 40% discount prize=')\n",
    "elif amount>400:\n",
    "        print('you get 30% discount')\n",
    "elif amount>200:\n",
    "          print('you get 20% discount')\n",
    "else: \n",
    "        print('no discount')"
   ]
  },
  {
   "cell_type": "markdown",
   "id": "c2c05f9c-b57d-4749-8ddb-cdbb58bed508",
   "metadata": {},
   "source": [
    "Q-27"
   ]
  },
  {
   "cell_type": "code",
   "execution_count": null,
   "id": "a1f6df17-d1bd-419c-b52c-5f830f1ca1f2",
   "metadata": {},
   "outputs": [],
   "source": []
  },
  {
   "cell_type": "code",
   "execution_count": null,
   "id": "ab102eb0-19d6-4be6-bc1b-b6719633e41f",
   "metadata": {},
   "outputs": [],
   "source": []
  },
  {
   "cell_type": "markdown",
   "id": "759a78c8-2fac-440f-99ec-98ab9236207c",
   "metadata": {},
   "source": [
    "Basic level:"
   ]
  },
  {
   "cell_type": "markdown",
   "id": "79bae628-093e-4dd1-ae5b-5484b1fee1a1",
   "metadata": {},
   "source": [
    "Q-1"
   ]
  },
  {
   "cell_type": "code",
   "execution_count": 27,
   "id": "89daa84c-3790-40b3-a7b6-899bfc4ec1fb",
   "metadata": {},
   "outputs": [
    {
     "name": "stdin",
     "output_type": "stream",
     "text": [
      "enter a number 27\n"
     ]
    },
    {
     "name": "stdout",
     "output_type": "stream",
     "text": [
      "number is positive\n"
     ]
    }
   ],
   "source": [
    "# input a number\n",
    "num=int(input('enter a number'))\n",
    "\n",
    "#check it is positive or negative\n",
    "if num>0:\n",
    "      print('number is positive')\n",
    "elif num==0:\n",
    "      print('number is zero')\n",
    "else:\n",
    "     print('number is negative')"
   ]
  },
  {
   "cell_type": "markdown",
   "id": "59c14518-308b-444a-a8f6-afc4af20bb37",
   "metadata": {},
   "source": [
    "Q-2"
   ]
  },
  {
   "cell_type": "code",
   "execution_count": 28,
   "id": "f477e25e-0c9c-4714-8e7a-b5948f2b0d6a",
   "metadata": {},
   "outputs": [
    {
     "name": "stdin",
     "output_type": "stream",
     "text": [
      "enter your age 42\n"
     ]
    },
    {
     "name": "stdout",
     "output_type": "stream",
     "text": [
      "eligible for vote\n"
     ]
    }
   ],
   "source": [
    "# input a age\n",
    "age=int(input('enter your age'))\n",
    "\n",
    "if age>=18:\n",
    "      print('eligible for vote')\n",
    "else:\n",
    "     print('not eligible for vote')"
   ]
  },
  {
   "cell_type": "markdown",
   "id": "923faeeb-54e3-44d8-9d20-607c9c3fb87d",
   "metadata": {},
   "source": [
    "Q-3"
   ]
  },
  {
   "cell_type": "code",
   "execution_count": 29,
   "id": "260f9435-c26b-4ea2-b85f-367fdb18e804",
   "metadata": {},
   "outputs": [
    {
     "name": "stdout",
     "output_type": "stream",
     "text": [
      "34 is greater\n"
     ]
    }
   ],
   "source": [
    "num1=34\n",
    "num2=20\n",
    "\n",
    "if num1>num2:\n",
    "       print(num1,'is greater')\n",
    "else:\n",
    "       print(num2,'is greater')\n",
    "        "
   ]
  },
  {
   "cell_type": "markdown",
   "id": "2e7881ef-73ca-48f3-97f6-b74e21e9e829",
   "metadata": {},
   "source": [
    "Q-4"
   ]
  },
  {
   "cell_type": "code",
   "execution_count": 30,
   "id": "bce87299-f87c-44da-adb9-2cab7af0eff9",
   "metadata": {},
   "outputs": [
    {
     "name": "stdin",
     "output_type": "stream",
     "text": [
      "enter your score 82\n"
     ]
    },
    {
     "name": "stdout",
     "output_type": "stream",
     "text": [
      "grade A\n"
     ]
    }
   ],
   "source": [
    "score=int(input('enter your score'))\n",
    "\n",
    "if score>=90:\n",
    "      print('grade A+')\n",
    "elif score<90 and score>80:\n",
    "      print('grade A')\n",
    "elif  score<80 and score>70:\n",
    "      print('grade B+')       \n",
    "elif  score<70 and score>60:\n",
    "       print('grade B')\n",
    "elif  score<60 and score>40:\n",
    "       print('grade c')\n",
    "else:\n",
    "      print('grade D')"
   ]
  },
  {
   "cell_type": "markdown",
   "id": "6b5c0699-b2db-45c8-8de4-4d9f6d3b0bfb",
   "metadata": {},
   "source": [
    "Q-5"
   ]
  },
  {
   "cell_type": "code",
   "execution_count": 31,
   "id": "0383b312-35a5-4c30-847e-704573356bcc",
   "metadata": {},
   "outputs": [
    {
     "name": "stdin",
     "output_type": "stream",
     "text": [
      "enter a year 2006\n"
     ]
    },
    {
     "name": "stdout",
     "output_type": "stream",
     "text": [
      "not a leap year\n"
     ]
    }
   ],
   "source": [
    "year=int(input('enter a year'))\n",
    "\n",
    "if year%4==0:\n",
    "     print('leap year')\n",
    "else:\n",
    "     print('not a leap year')\n",
    "        "
   ]
  },
  {
   "cell_type": "markdown",
   "id": "4f87b9e9-d7c7-49f0-a4f4-6d28b62e67b1",
   "metadata": {},
   "source": [
    "Q-6"
   ]
  },
  {
   "cell_type": "code",
   "execution_count": null,
   "id": "b6b606f4-f311-4d82-81b6-1abed62d70d7",
   "metadata": {},
   "outputs": [],
   "source": [
    "side1=int(input('enter 1st side'))\n",
    "side2=int(input('enter 2nd side'))\n",
    "side3=int(input('enter 3rd side'))\n",
    "\n",
    "\n",
    "#check if triangle is Equilateral,Isosceles,Scalene\n",
    "if  side1==side2 and side2==side3:\n",
    "                    print('Equilateral Triangle')\n",
    "elif  side1==side2 or side2==side3 or side1==side3:\n",
    "                    print('Isosceles Triangle')\n",
    "else:\n",
    "         print('Scalene Triangle')\n",
    "        "
   ]
  },
  {
   "cell_type": "markdown",
   "id": "527cb14a-63ed-41e4-81ae-cb0822160316",
   "metadata": {},
   "source": [
    "Q-7"
   ]
  },
  {
   "cell_type": "code",
   "execution_count": 32,
   "id": "7a4ec18e-d338-44d3-8a39-7c2c3f2a3be1",
   "metadata": {},
   "outputs": [
    {
     "name": "stdin",
     "output_type": "stream",
     "text": [
      "enter 1 number 30\n",
      "enter 2 number 20\n",
      "enter 3 number 70\n"
     ]
    },
    {
     "name": "stdout",
     "output_type": "stream",
     "text": [
      "70  is greater\n"
     ]
    }
   ],
   "source": [
    "num1=int(input('enter 1 number'))\n",
    "num2=int(input('enter 2 number'))\n",
    "num3=int(input('enter 3 number'))\n",
    "\n",
    "if num1>num2:\n",
    "        if num1>num3:\n",
    "             print(num1,' is greater')\n",
    "        else:\n",
    "            print(num3,' is greater')\n",
    "            \n",
    "else:\n",
    "      if num2>num3:\n",
    "              print(num2,' is greater')"
   ]
  },
  {
   "cell_type": "markdown",
   "id": "e2de5fa7-91d7-443d-b5cc-0a1d6fd7e1d8",
   "metadata": {},
   "source": [
    "Q-8"
   ]
  },
  {
   "cell_type": "code",
   "execution_count": 34,
   "id": "0235220f-1b0f-4d92-a7dc-f9241efda451",
   "metadata": {},
   "outputs": [
    {
     "name": "stdin",
     "output_type": "stream",
     "text": [
      "enter a char u\n"
     ]
    },
    {
     "name": "stdout",
     "output_type": "stream",
     "text": [
      "vowel\n"
     ]
    }
   ],
   "source": [
    "char=input('enter a char')\n",
    "\n",
    "vowel='aeiouAEIOU'\n",
    "\n",
    "if char in vowel:\n",
    "     print('vowel')\n",
    "else:\n",
    "    print('consonants')"
   ]
  },
  {
   "cell_type": "markdown",
   "id": "679e7280-7564-4da9-9aa3-a4ed0e691cf2",
   "metadata": {},
   "source": [
    "Q-9"
   ]
  },
  {
   "cell_type": "markdown",
   "id": "47497258-619e-46eb-8988-ec94bccfcff6",
   "metadata": {},
   "source": [
    "Q-10"
   ]
  },
  {
   "cell_type": "code",
   "execution_count": 1,
   "id": "7e04e965-b2a1-4272-a9c5-1ccadba622f4",
   "metadata": {},
   "outputs": [
    {
     "name": "stdin",
     "output_type": "stream",
     "text": [
      "enter a number 26\n"
     ]
    },
    {
     "name": "stdout",
     "output_type": "stream",
     "text": [
      "even no\n"
     ]
    }
   ],
   "source": [
    "num=int(input('enter a number'))\n",
    "\n",
    "if num%2==0:\n",
    "      print('even no')\n",
    "else:\n",
    "     print('odd no')"
   ]
  },
  {
   "cell_type": "markdown",
   "id": "6269824d-0ac9-493b-b829-265033fd15b4",
   "metadata": {},
   "source": [
    "Q-12"
   ]
  },
  {
   "cell_type": "code",
   "execution_count": 3,
   "id": "7282df33-ba97-4a2e-a89f-72f0491866af",
   "metadata": {},
   "outputs": [
    {
     "name": "stdin",
     "output_type": "stream",
     "text": [
      "Enter a: 2\n",
      "Enter b: 4\n",
      "Enter c: 6\n"
     ]
    },
    {
     "name": "stdout",
     "output_type": "stream",
     "text": [
      "the solution are (-1-1.4142135623730951j) and (-1+1.4142135623730951j)\n"
     ]
    }
   ],
   "source": [
    "import cmath\n",
    "a=float(input('Enter a:'))\n",
    "b=float(input('Enter b:'))\n",
    "c=float(input('Enter c:'))\n",
    "\n",
    "# calculate the discriminant\n",
    "d=(b**2)-4*a*c\n",
    "\n",
    "# find two solutions\n",
    "s1=(-b-cmath.sqrt(d))/(2*a)\n",
    "s2=(-b+cmath.sqrt(d))/(2*a)\n",
    "print('the solution are',s1,'and',s2)"
   ]
  },
  {
   "cell_type": "markdown",
   "id": "81c909cf-4b60-4a1a-99c8-f36388ec2e31",
   "metadata": {},
   "source": [
    "Q-13"
   ]
  },
  {
   "cell_type": "code",
   "execution_count": 1,
   "id": "f28054cc-6dfc-49c0-adcd-8bcce0dd4c0b",
   "metadata": {},
   "outputs": [
    {
     "data": {
      "text/plain": [
       "24"
      ]
     },
     "execution_count": 1,
     "metadata": {},
     "output_type": "execute_result"
    }
   ],
   "source": [
    "def fact_no(n):\n",
    "        if n==1:\n",
    "              return 1\n",
    "        \n",
    "        return n*fact_no(n-1)  \n",
    "\n",
    "fact_no(4)    "
   ]
  },
  {
   "cell_type": "markdown",
   "id": "37abd0b6-fb6b-480e-b19e-2980e20fa4f6",
   "metadata": {},
   "source": [
    "Q-14"
   ]
  },
  {
   "cell_type": "code",
   "execution_count": 4,
   "id": "896026ba-52e1-411b-8426-33531295b60c",
   "metadata": {},
   "outputs": [
    {
     "name": "stdin",
     "output_type": "stream",
     "text": [
      "enter 1 number 2\n",
      "enter 2 number 8\n",
      "enter 3 number 7\n"
     ]
    },
    {
     "name": "stdout",
     "output_type": "stream",
     "text": [
      "8  is greater\n"
     ]
    }
   ],
   "source": [
    "num1=int(input('enter 1 number'))\n",
    "num2=int(input('enter 2 number'))\n",
    "num3=int(input('enter 3 number'))\n",
    "\n",
    "if num1>num2:\n",
    "        if num1>num3:\n",
    "             print(num1,' is greater')\n",
    "        else:\n",
    "            print(num3,' is greater')\n",
    "            \n",
    "else:\n",
    "      if num2>num3:\n",
    "              print(num2,' is greater')"
   ]
  },
  {
   "cell_type": "markdown",
   "id": "12b851bd-9f16-40f9-ae87-951219b808d6",
   "metadata": {},
   "source": [
    "Q-17"
   ]
  },
  {
   "cell_type": "code",
   "execution_count": 8,
   "id": "5188f5a3-1392-4744-aa90-c529aa49c519",
   "metadata": {},
   "outputs": [
    {
     "name": "stdout",
     "output_type": "stream",
     "text": [
      "avarage of the list: 4.6\n"
     ]
    }
   ],
   "source": [
    "li=[1,8,2,3,4,6,9]\n",
    "\n",
    "li.sort()\n",
    "sum1=0\n",
    "l=len(li)-2\n",
    "for i in range(1,6):\n",
    "      sum1=sum1+li[i]\n",
    "        \n",
    "avg=sum1/l \n",
    "print('avarage of the list:',avg)\n"
   ]
  },
  {
   "cell_type": "markdown",
   "id": "7f3b2b39-21ed-4291-ba14-959a81e2280d",
   "metadata": {},
   "source": [
    "Q-18"
   ]
  },
  {
   "cell_type": "code",
   "execution_count": 9,
   "id": "819136ad-7462-43e5-86bd-1c4239a2761b",
   "metadata": {},
   "outputs": [
    {
     "name": "stdin",
     "output_type": "stream",
     "text": [
      "enter the temp in celcious 40\n"
     ]
    },
    {
     "name": "stdout",
     "output_type": "stream",
     "text": [
      "temp in farehnheit 104.0\n"
     ]
    }
   ],
   "source": [
    "cel=int(input('enter the temp in celcious'))\n",
    "\n",
    "far=cel*9/5+32\n",
    "print('temp in farehnheit',far)"
   ]
  },
  {
   "cell_type": "markdown",
   "id": "ba819b4f-ead1-466a-9578-59a49c44eb2c",
   "metadata": {},
   "source": [
    "Q-19"
   ]
  },
  {
   "cell_type": "code",
   "execution_count": 10,
   "id": "cb70050a-7354-488e-8291-7627160bfb05",
   "metadata": {},
   "outputs": [
    {
     "name": "stdin",
     "output_type": "stream",
     "text": [
      "enter 1 value 2\n",
      "enter 2 value 4\n",
      "enter the operator: +,-,*,/ +\n"
     ]
    },
    {
     "name": "stdout",
     "output_type": "stream",
     "text": [
      "6\n"
     ]
    }
   ],
   "source": [
    "a=int(input('enter 1 value'))\n",
    "b=int(input('enter 2 value'))\n",
    "op=input('enter the operator: +,-,*,/')\n",
    "\n",
    "if op=='+':\n",
    "    print(a+b)\n",
    "elif op=='-':\n",
    "    print(a-b)\n",
    "elif op=='*':\n",
    "    print(a*b)\n",
    "else:\n",
    "    print(a/b)"
   ]
  },
  {
   "cell_type": "markdown",
   "id": "94d9fbc4-0e58-40a6-8c97-9ef473ca734c",
   "metadata": {},
   "source": [
    "Advance level"
   ]
  },
  {
   "cell_type": "markdown",
   "id": "d1e2ba6f-ccbb-4ca5-bde7-9d9adbb8d1d5",
   "metadata": {},
   "source": [
    "Q-22"
   ]
  },
  {
   "cell_type": "code",
   "execution_count": 1,
   "id": "4e162018-f421-407a-b7ed-1d6d87650866",
   "metadata": {},
   "outputs": [
    {
     "name": "stdout",
     "output_type": "stream",
     "text": [
      "winning rules of the game ROCK SCISSORS are: \n",
      "Rock vs paper -> paper wins\n",
      "Rock vs scissors -> rock wins\n",
      "paper vs scissors ->scissors wins\n",
      "\n",
      "enter your choice \n",
      " 1 - Rock \n",
      " 2-paper \n",
      " 3- scissors \n",
      "\n"
     ]
    },
    {
     "name": "stdin",
     "output_type": "stream",
     "text": [
      "enter your choice 1\n"
     ]
    },
    {
     "name": "stdout",
     "output_type": "stream",
     "text": [
      "user choice is \n",
      " Rock\n",
      "now it is computer turn\n",
      "computer choice is \n",
      " Rock\n",
      "its draw its a tie\n",
      "computer wins\n",
      "do you want to play again y or n\n"
     ]
    },
    {
     "name": "stdin",
     "output_type": "stream",
     "text": [
      " n\n"
     ]
    },
    {
     "name": "stdout",
     "output_type": "stream",
     "text": [
      "enter your choice \n",
      " 1 - Rock \n",
      " 2-paper \n",
      " 3- scissors \n",
      "\n"
     ]
    },
    {
     "name": "stdin",
     "output_type": "stream",
     "text": [
      "enter your choice y\n"
     ]
    },
    {
     "ename": "ValueError",
     "evalue": "invalid literal for int() with base 10: 'y'",
     "output_type": "error",
     "traceback": [
      "\u001b[0;31m---------------------------------------------------------------------------\u001b[0m",
      "\u001b[0;31mValueError\u001b[0m                                Traceback (most recent call last)",
      "Cell \u001b[0;32mIn[1], line 12\u001b[0m\n\u001b[1;32m      9\u001b[0m \u001b[38;5;28mprint\u001b[39m(\u001b[38;5;124m'\u001b[39m\u001b[38;5;124menter your choice \u001b[39m\u001b[38;5;130;01m\\n\u001b[39;00m\u001b[38;5;124m 1 - Rock \u001b[39m\u001b[38;5;130;01m\\n\u001b[39;00m\u001b[38;5;124m 2-paper \u001b[39m\u001b[38;5;130;01m\\n\u001b[39;00m\u001b[38;5;124m 3- scissors \u001b[39m\u001b[38;5;130;01m\\n\u001b[39;00m\u001b[38;5;124m'\u001b[39m)\n\u001b[1;32m     11\u001b[0m \u001b[38;5;66;03m# take the input from user\u001b[39;00m\n\u001b[0;32m---> 12\u001b[0m choice\u001b[38;5;241m=\u001b[39m\u001b[38;5;28;43mint\u001b[39;49m\u001b[43m(\u001b[49m\u001b[38;5;28;43minput\u001b[39;49m\u001b[43m(\u001b[49m\u001b[38;5;124;43m'\u001b[39;49m\u001b[38;5;124;43menter your choice\u001b[39;49m\u001b[38;5;124;43m'\u001b[39;49m\u001b[43m)\u001b[49m\u001b[43m)\u001b[49m\n\u001b[1;32m     13\u001b[0m \u001b[38;5;28;01mwhile\u001b[39;00m choice\u001b[38;5;241m>\u001b[39m\u001b[38;5;241m3\u001b[39m \u001b[38;5;129;01mor\u001b[39;00m choice \u001b[38;5;241m<\u001b[39m\u001b[38;5;241m1\u001b[39m:\n\u001b[1;32m     14\u001b[0m     choice\u001b[38;5;241m=\u001b[39m\u001b[38;5;28mint\u001b[39m(\u001b[38;5;28minput\u001b[39m(\u001b[38;5;124m'\u001b[39m\u001b[38;5;124menter a valid choice please\u001b[39m\u001b[38;5;124m'\u001b[39m))\n",
      "\u001b[0;31mValueError\u001b[0m: invalid literal for int() with base 10: 'y'"
     ]
    }
   ],
   "source": [
    "import random\n",
    "\n",
    "print('winning rules of the game ROCK SCISSORS are: \\n'\n",
    "        + 'Rock vs paper -> paper wins\\n'\n",
    "        + 'Rock vs scissors -> rock wins\\n'\n",
    "        + 'paper vs scissors ->scissors wins\\n')\n",
    "\n",
    "while True:\n",
    "    print('enter your choice \\n 1 - Rock \\n 2-paper \\n 3- scissors \\n')\n",
    "    \n",
    "    # take the input from user\n",
    "    choice=int(input('enter your choice'))\n",
    "    while choice>3 or choice <1:\n",
    "        choice=int(input('enter a valid choice please'))\n",
    "    if choice==1:\n",
    "        choice_name='Rock'\n",
    "    elif choice==2:\n",
    "        choice_name='Paper'\n",
    "    else:\n",
    "        choice_name='Scissors'\n",
    "        \n",
    "    # print user choice\n",
    "    print('user choice is \\n' ,choice_name)\n",
    "    print('now it is computer turn')\n",
    "      \n",
    "    comp_choice=random.randint(1,3)      \n",
    "    if comp_choice==1:\n",
    "          comp_choice_name='Rock'\n",
    "    elif comp_choice==2:\n",
    "          comp_choice_name='Paper'\n",
    "    else:\n",
    "          comp_choice_name='Scissors' \n",
    "    print('computer choice is \\n',comp_choice_name)\n",
    "          \n",
    "    # we need to check of a draw\n",
    "    if comp_choice==choice:\n",
    "            print('its draw',end=' ')\n",
    "            result='Draw'\n",
    "    if choice==1 and comp_choice==2:\n",
    "            print('paper wins =>',end=' ')\n",
    "            result='Paper'\n",
    "    elif choice==2 and comp_choice==1:\n",
    "            print('paper wins =>' ,end=' ')\n",
    "            result='Paper'\n",
    "          \n",
    "    if choice==1 and comp_choice==3:\n",
    "            print('rock wins =>',end=' ')\n",
    "            result='Rock'\n",
    "    elif choice==3 and comp_choice==1:\n",
    "            print('rock wins =>' ,end=' ')\n",
    "            result='Rock'\n",
    "      \n",
    "          \n",
    "    if choice==2 and comp_choice==3:\n",
    "            print('scissors wins =>',end=' ')\n",
    "            result='Scissors'\n",
    "    elif choice==3 and comp_choice==2:\n",
    "            print('scissors  =>' ,end=' ')\n",
    "            result='Scissors'\n",
    "          \n",
    "      # printing either user or computer win or draw\n",
    "    if result=='Draw':\n",
    "          print('its a tie')\n",
    "    if result==choice_name:\n",
    "          print('user wins')\n",
    "    else:\n",
    "          print('computer wins')\n",
    "      \n",
    "    print('do you want to play again y or n')     \n",
    "    ans=input().lower \n",
    "    if ans=='n':\n",
    "          break\n",
    "print('thanks for playing')"
   ]
  },
  {
   "cell_type": "markdown",
   "id": "94482ec9-6586-4f43-ba9a-65d3715c986b",
   "metadata": {},
   "source": [
    "Q-23 Generate a random password"
   ]
  },
  {
   "cell_type": "code",
   "execution_count": 2,
   "id": "a332d137-9751-49fe-b4e2-beab179c07e7",
   "metadata": {},
   "outputs": [
    {
     "name": "stdin",
     "output_type": "stream",
     "text": [
      "enter password length:  6\n"
     ]
    },
    {
     "name": "stdout",
     "output_type": "stream",
     "text": [
      "choose character set for password from these:\n",
      "       1.Digits\n",
      "       2.Letters\n",
      "       3.Special characters\n",
      "       4.Exit\n"
     ]
    },
    {
     "name": "stdin",
     "output_type": "stream",
     "text": [
      "pick a number 2\n",
      "pick a number 3\n",
      "pick a number 1\n",
      "pick a number 2\n",
      "pick a number 3\n",
      "pick a number 7\n"
     ]
    },
    {
     "name": "stdout",
     "output_type": "stream",
     "text": [
      "please pick a valid option!\n"
     ]
    },
    {
     "name": "stdin",
     "output_type": "stream",
     "text": [
      "pick a number 1\n",
      "pick a number 4\n"
     ]
    },
    {
     "name": "stdout",
     "output_type": "stream",
     "text": [
      "the random password is nJbmN8\n"
     ]
    }
   ],
   "source": [
    "import string\n",
    "import random\n",
    "\n",
    "# getting password length\n",
    "length=int(input('enter password length: '))\n",
    "\n",
    "print('''choose character set for password from these:\n",
    "       1.Digits\n",
    "       2.Letters\n",
    "       3.Special characters\n",
    "       4.Exit''')\n",
    "\n",
    "characterList=''\n",
    "\n",
    "# getting charcter set for password\n",
    "\n",
    "while(True):\n",
    "    choice=int(input('pick a number'))\n",
    "    \n",
    "    if (choice==1):\n",
    "           characterList+= string.ascii_letters\n",
    "    elif(choice==2):\n",
    "           characterList+= string.digits\n",
    "    elif(choice==3):\n",
    "           characterList+= string.punctuation\n",
    "    elif(choice==4):\n",
    "          break\n",
    "    else:\n",
    "        print('please pick a valid option!')\n",
    "password=[]\n",
    "\n",
    "for i in range(length):\n",
    "        randomchar=random.choice(characterList)\n",
    "        \n",
    "        password.append(randomchar) \n",
    "print('the random password is '+ ''.join(password))        \n",
    "        "
   ]
  },
  {
   "cell_type": "markdown",
   "id": "2e990ab3-2b69-4b95-9155-eaae600defb6",
   "metadata": {},
   "source": [
    "Q-26"
   ]
  },
  {
   "cell_type": "code",
   "execution_count": 20,
   "id": "af8b0631-f535-45bb-a58a-699490d57f8a",
   "metadata": {},
   "outputs": [
    {
     "name": "stdout",
     "output_type": "stream",
     "text": [
      "1.what is color of apple?\n",
      "     a) blue\n",
      "     b) red\n",
      "     c) yellow\n",
      "     d) black\n",
      "2.who is national animal?\n",
      "     a) cat\n",
      "     b) dog\n",
      "     c) lion\n",
      "     d) tiger\n",
      "3.how many types of vowel in alphabets?\n",
      "     a) 2\n",
      "     b) 4\n",
      "     c) 5\n",
      "     d) 9\n",
      "Enter ans 1 =\n"
     ]
    },
    {
     "name": "stdin",
     "output_type": "stream",
     "text": [
      " b\n"
     ]
    },
    {
     "name": "stdout",
     "output_type": "stream",
     "text": [
      "Enter ans 2 =\n"
     ]
    },
    {
     "name": "stdin",
     "output_type": "stream",
     "text": [
      " d\n"
     ]
    },
    {
     "name": "stdout",
     "output_type": "stream",
     "text": [
      "Enter ans 3 =\n"
     ]
    },
    {
     "name": "stdin",
     "output_type": "stream",
     "text": [
      " c\n"
     ]
    },
    {
     "name": "stdout",
     "output_type": "stream",
     "text": [
      "your marks: 3\n"
     ]
    }
   ],
   "source": [
    "print('''1.what is color of apple?\n",
    "     a) blue\n",
    "     b) red\n",
    "     c) yellow\n",
    "     d) black\n",
    "2.who is national animal?\n",
    "     a) cat\n",
    "     b) dog\n",
    "     c) lion\n",
    "     d) tiger\n",
    "3.how many types of vowel in alphabets?\n",
    "     a) 2\n",
    "     b) 4\n",
    "     c) 5\n",
    "     d) 9''')\n",
    "\n",
    "# store the ans in list\n",
    "ans_li=['b','d','c']\n",
    "score=0\n",
    "stu_li=[]\n",
    "n=1\n",
    "\n",
    "# take the input\n",
    "while n<=3:\n",
    "        print('Enter ans',n,'=')\n",
    "        a=input()\n",
    "        stu_li.append(a) \n",
    "        n=n+1\n",
    "        \n",
    "# check how many ans is right        \n",
    "for i in range(len(ans_li)):\n",
    "       if stu_li[i]==ans_li[i]:\n",
    "            score+=1\n",
    "            \n",
    "# print the result            \n",
    "print('your marks:',score)       \n"
   ]
  },
  {
   "cell_type": "markdown",
   "id": "2aa78395-7d56-4b0a-921b-6454cdaef3de",
   "metadata": {},
   "source": [
    "Q-27 Develop a program that determines whether a given year is prime number or not"
   ]
  },
  {
   "cell_type": "code",
   "execution_count": 10,
   "id": "53889925-6806-4cdd-a74d-817741cd5d7a",
   "metadata": {},
   "outputs": [
    {
     "name": "stdin",
     "output_type": "stream",
     "text": [
      "enter any year 1783\n"
     ]
    },
    {
     "name": "stdout",
     "output_type": "stream",
     "text": [
      "year is prime number\n"
     ]
    }
   ],
   "source": [
    "year=int(input('enter any year'))\n",
    "num=0\n",
    "for i in range(2,int(year**.5)+1):\n",
    "            if year%i==0:\n",
    "                 num=1\n",
    "if num==0:            \n",
    "       print('year is prime number')\n",
    "else:\n",
    "       print('not prime number')"
   ]
  },
  {
   "cell_type": "markdown",
   "id": "1d91a0e7-6bf2-4617-9d25-bbdc91088bf9",
   "metadata": {},
   "source": [
    "Q-28 sort the three numbers in asscending order by using conditional statements"
   ]
  },
  {
   "cell_type": "code",
   "execution_count": 5,
   "id": "8a0a8cbd-456e-4e02-8e1f-4df8b54daa6e",
   "metadata": {},
   "outputs": [
    {
     "name": "stdout",
     "output_type": "stream",
     "text": [
      "sorted list : [1, 2, 3]\n"
     ]
    }
   ],
   "source": [
    "l1=[2,3,1]\n",
    "l2=[]\n",
    "\n",
    "if l1[0]>l1[1] and l1[0]>l1[2]:\n",
    "        if l1[1]>l1[2]:\n",
    "                l2.append(l1[2])\n",
    "                l2.append(l1[1])\n",
    "                l2.append(l1[0])\n",
    "        else:\n",
    "                l2.append(l1[1])\n",
    "                l2.append(l1[2])\n",
    "                l2.append(l1[0])\n",
    "elif  l1[1]>l1[0] and l1[1]>l1[2]: \n",
    "        if l1[0]>l1[2]:\n",
    "                l2.append(l1[2])\n",
    "                l2.append(l1[0])\n",
    "                l2.append(l1[1])\n",
    "        else:\n",
    "                l2.append(l1[0])\n",
    "                l2.append(l1[2])\n",
    "                l2.append(l1[1])\n",
    "elif  l1[2]>l1[0] and l1[2]>l1[1]: \n",
    "        if l1[0]>l1[1]:\n",
    "                l2.append(l1[1])\n",
    "                l2.append(l1[0])\n",
    "                l2.append(l1[2])\n",
    "        else:\n",
    "                l2.append(l1[0])\n",
    "                l2.append(l1[1])\n",
    "                l2.append(l1[2])         \n",
    "else:\n",
    "     print('no element')\n",
    "print('sorted list :',l2)        "
   ]
  },
  {
   "cell_type": "markdown",
   "id": "76c1ffcf-02be-4236-b0c5-5ab3ca992855",
   "metadata": {},
   "source": [
    "challenge level"
   ]
  },
  {
   "cell_type": "markdown",
   "id": "25c68de1-3000-4aee-bcd5-c06aa69a4139",
   "metadata": {},
   "source": [
    "Q-31 write a program that validates a password based on complexity rule"
   ]
  },
  {
   "cell_type": "code",
   "execution_count": 9,
   "id": "fcc61fb4-5a12-4e8c-838a-9cc16b645451",
   "metadata": {},
   "outputs": [
    {
     "name": "stdin",
     "output_type": "stream",
     "text": [
      "enter the password As127i7p@2&^\n"
     ]
    },
    {
     "name": "stdout",
     "output_type": "stream",
     "text": [
      "password is valid\n"
     ]
    }
   ],
   "source": [
    "password=input('enter the password')\n",
    "\n",
    "# password valid if=>\n",
    "# it have more than 3 char,3 num,2 special char\n",
    "\n",
    "lst=list(password)\n",
    "char_count=0\n",
    "num_count=0\n",
    "special_count=0\n",
    "\n",
    "for i in lst:\n",
    "    if i>='a' and i<='z':\n",
    "                  char_count+=1\n",
    "    elif i>='A' and i<='Z':\n",
    "                  char_count+=1        \n",
    "    elif i>='0' and i<='9':\n",
    "                  num_count+=1\n",
    "    else:      \n",
    "         special_count+=1\n",
    "            \n",
    "if  char_count>3 and num_count>3:\n",
    "        if special_count>2:\n",
    "               print('password is valid')\n",
    "        else:\n",
    "               print('password is not valid')\n",
    "else:\n",
    "      print('password is not valid')"
   ]
  },
  {
   "cell_type": "markdown",
   "id": "547932b2-e441-4e38-8293-42028424d73c",
   "metadata": {},
   "source": [
    "Q-32 Develop a program that performs matrix addition and substraction based on user input"
   ]
  },
  {
   "cell_type": "code",
   "execution_count": 24,
   "id": "19449692-30e8-4861-998f-2c83720d2055",
   "metadata": {},
   "outputs": [
    {
     "name": "stdin",
     "output_type": "stream",
     "text": [
      "Enter the operation *\n"
     ]
    },
    {
     "name": "stdout",
     "output_type": "stream",
     "text": [
      "[[114, 160, 60], [74, 97, 73], [119, 157, 112]]\n"
     ]
    }
   ],
   "source": [
    "# Program to multiply two matrices using nested loops\n",
    "\n",
    "# 3x3 matrix\n",
    "X = [[12,7,3],\n",
    "    [4 ,5,6],\n",
    "    [7 ,8,9]]\n",
    "# 3x4 matrix\n",
    "Y = [[5,8,1],\n",
    "    [6,7,3],\n",
    "    [4,5,9]]\n",
    "# result is 3x3\n",
    "\n",
    "sum_result= [[0,0,0],\n",
    "         [0,0,0],\n",
    "         [0,0,0]]\n",
    "mul_result = [[0,0,0],\n",
    "         [0,0,0],\n",
    "         [0,0,0]]\n",
    "op=input('Enter the operation')\n",
    "if op=='*':\n",
    "# iterate through rows of X\n",
    "  for i in range(len(X)):\n",
    "   # iterate through columns of Y\n",
    "     for j in range(len(Y[0])):\n",
    "       # iterate through rows of Y\n",
    "         for k in range(len(Y)):\n",
    "               mul_result[i][j] += X[i][k] * Y[k][j]\n",
    "    \n",
    "if op=='+':\n",
    "       for i in range(len(X)):\n",
    "                for j in range(len(X[0])):\n",
    "                        add=X[i][j] + Y[i][j]\n",
    "                        sum_result[i][j]=add\n",
    "if op=='+':\n",
    "      print(sum_result)\n",
    "else:\n",
    "     print(mul_result)"
   ]
  },
  {
   "cell_type": "markdown",
   "id": "99b46a9d-8b41-461c-bb33-bf29c3fc88c1",
   "metadata": {},
   "source": [
    "Q-33 write a program that calculates the GCD of two numbers using the Euclidean\n",
    "     algorithm"
   ]
  },
  {
   "cell_type": "code",
   "execution_count": 8,
   "id": "521ff70d-fbf1-48d7-a093-c110788f1fab",
   "metadata": {},
   "outputs": [
    {
     "name": "stdout",
     "output_type": "stream",
     "text": [
      "20\n"
     ]
    }
   ],
   "source": [
    "# find the gcd\n",
    "def gcd(a, b):\n",
    "    if a == 0:\n",
    "        return b\n",
    " \n",
    "    return gcd(b % a, a)\n",
    "\n",
    "# two numbers\n",
    "a=40\n",
    "b=60\n",
    "\n",
    "#print the result\n",
    "print(gcd(a,b))"
   ]
  },
  {
   "cell_type": "markdown",
   "id": "609f82e8-177d-457c-aae0-567802b2170f",
   "metadata": {},
   "source": [
    "Q-34 Build a program matrix multiplication using netsed loops and conditional \n",
    "     statements"
   ]
  },
  {
   "cell_type": "code",
   "execution_count": 11,
   "id": "9b7f581c-6bd1-4b98-b394-8c3f1d19edf1",
   "metadata": {},
   "outputs": [
    {
     "name": "stdout",
     "output_type": "stream",
     "text": [
      "multiplication result: [[114, 160, 60], [74, 97, 73], [119, 157, 112]]\n"
     ]
    }
   ],
   "source": [
    "# Program to multiply two matrices using nested loops\n",
    "\n",
    "# 3x3 matrix\n",
    "X = [[12,7,3],\n",
    "    [4 ,5,6],\n",
    "    [7 ,8,9]]\n",
    "# 3x4 matrix\n",
    "Y = [[5,8,1],\n",
    "    [6,7,3],\n",
    "    [4,5,9]]\n",
    "\n",
    "mul_result = [[0,0,0],\n",
    "         [0,0,0],\n",
    "         [0,0,0]]\n",
    "\n",
    "# iterate through rows of X\n",
    "for i in range(len(X)):\n",
    "   # iterate through columns of Y\n",
    "     for j in range(len(Y[0])):\n",
    "       # iterate through rows of Y\n",
    "         for k in range(len(Y)):\n",
    "                 mul_result[i][j] += X[i][k] * Y[k][j]\n",
    "\n",
    "print('multiplication result:',mul_result)                \n",
    "                "
   ]
  },
  {
   "cell_type": "markdown",
   "id": "84a47b19-377c-42a3-9197-f885f78125ef",
   "metadata": {},
   "source": [
    "Q-35 create a program that simulates a basic text-based tic-toe game "
   ]
  },
  {
   "cell_type": "code",
   "execution_count": null,
   "id": "3080391d-4470-4bd2-bb71-e2fa845a77dd",
   "metadata": {},
   "outputs": [],
   "source": []
  },
  {
   "cell_type": "markdown",
   "id": "3ea068f7-bac7-4516-808f-47578ec0daea",
   "metadata": {},
   "source": [
    "Q-36 write a program that generates fibonacci number upto specified term using \n",
    "     iterative method"
   ]
  },
  {
   "cell_type": "code",
   "execution_count": 3,
   "id": "371ef374-6f7b-47a7-b614-b80a3553fd70",
   "metadata": {},
   "outputs": [
    {
     "name": "stdin",
     "output_type": "stream",
     "text": [
      "Enter the range of fibonacci number 6\n"
     ]
    },
    {
     "name": "stdout",
     "output_type": "stream",
     "text": [
      "0\n",
      "1\n",
      "1\n",
      "2\n",
      "3\n",
      "5\n"
     ]
    }
   ],
   "source": [
    "n=int(input('Enter the range of fibonacci number'))\n",
    "first=0\n",
    "second=1\n",
    "result=0\n",
    "\n",
    "for i in range(n):\n",
    "        if i<2:\n",
    "            result=i \n",
    "        else:\n",
    "            result=first+second\n",
    "            first=second\n",
    "            second=result\n",
    "        print(result)     "
   ]
  },
  {
   "cell_type": "markdown",
   "id": "cb9eda10-21d8-4c24-99dd-bbe3be9971a1",
   "metadata": {},
   "source": [
    "Q-37 Develop a program that calculates the nth term of the fibonacci sequence using\n",
    "     memoization"
   ]
  },
  {
   "cell_type": "code",
   "execution_count": 6,
   "id": "f9f90b94-dc0b-433d-abac-a027bf7fa95b",
   "metadata": {},
   "outputs": [
    {
     "name": "stdin",
     "output_type": "stream",
     "text": [
      "Enter the nth term of fibonacci number 7\n"
     ]
    },
    {
     "name": "stdout",
     "output_type": "stream",
     "text": [
      "8\n"
     ]
    }
   ],
   "source": [
    "n=int(input('Enter the nth term of fibonacci number'))\n",
    "first=0\n",
    "second=1\n",
    "result=0\n",
    "\n",
    "for i in range(n):\n",
    "        if i<2:\n",
    "            result=i \n",
    "        else:\n",
    "            result=first+second\n",
    "            first=second\n",
    "            second=result\n",
    "print(result)  "
   ]
  },
  {
   "cell_type": "markdown",
   "id": "334ada0a-2856-4101-b48d-bfac04993c0a",
   "metadata": {},
   "source": [
    "Q-38 create a program that generates a calender for a given month and a year"
   ]
  },
  {
   "cell_type": "code",
   "execution_count": null,
   "id": "676ef070-babf-4b53-8a00-d4b5975cd342",
   "metadata": {},
   "outputs": [],
   "source": []
  },
  {
   "cell_type": "markdown",
   "id": "ff6762b8-01c0-4229-a434-d24880bebbb1",
   "metadata": {},
   "source": [
    "Q-40 write a program that generates the prime factors of a given number trial division"
   ]
  },
  {
   "cell_type": "code",
   "execution_count": 22,
   "id": "bec92c2e-6577-4d73-acef-af7d92858b9d",
   "metadata": {},
   "outputs": [
    {
     "name": "stdout",
     "output_type": "stream",
     "text": [
      "prime factors:\n",
      "2\n",
      "3\n"
     ]
    }
   ],
   "source": [
    "def isprime(a):\n",
    "        for i in range(2,int(a**.5)+1):\n",
    "             if a%i==0:\n",
    "                    return False\n",
    "        return True        \n",
    "\n",
    "\n",
    "n=24\n",
    "print('prime factors:')\n",
    "for i in range(2,int(n**.5)+1):\n",
    "                        if n%i==0:\n",
    "                             if isprime(i):\n",
    "                                      print(i)\n",
    "                        "
   ]
  },
  {
   "cell_type": "code",
   "execution_count": null,
   "id": "583b19bb-8833-4a19-a696-91fdf526fdeb",
   "metadata": {},
   "outputs": [],
   "source": []
  }
 ],
 "metadata": {
  "kernelspec": {
   "display_name": "Python 3 (ipykernel)",
   "language": "python",
   "name": "python3"
  },
  "language_info": {
   "codemirror_mode": {
    "name": "ipython",
    "version": 3
   },
   "file_extension": ".py",
   "mimetype": "text/x-python",
   "name": "python",
   "nbconvert_exporter": "python",
   "pygments_lexer": "ipython3",
   "version": "3.10.8"
  }
 },
 "nbformat": 4,
 "nbformat_minor": 5
}
