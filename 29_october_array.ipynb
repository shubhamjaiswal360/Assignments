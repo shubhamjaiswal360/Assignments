{
 "cells": [
  {
   "cell_type": "markdown",
   "id": "25a5ed8e",
   "metadata": {},
   "source": [
    "# Arrays\n",
    "# Assignment Questions"
   ]
  },
  {
   "cell_type": "markdown",
   "id": "368d2701",
   "metadata": {},
   "source": [
    "# 1. Given an array, check if it contains any duplicates or not.  \n",
    "# arr = [1, 2, 4, 2, 5, 9] \n",
    "# Output = True\n",
    "\n",
    "\n"
   ]
  },
  {
   "cell_type": "code",
   "execution_count": 12,
   "id": "bbedfe9e",
   "metadata": {},
   "outputs": [
    {
     "name": "stdout",
     "output_type": "stream",
     "text": [
      "True\n"
     ]
    }
   ],
   "source": [
    "def check_duplicate(arr):\n",
    "    seen = set()\n",
    "    for num in arr:\n",
    "        if num in seen:\n",
    "            return True\n",
    "        seen.add(num)\n",
    "    return False\n",
    "\n",
    "arr = [1, 2, 4, 2, 5, 9]\n",
    "result = check_duplicate(arr)\n",
    "\n",
    "if result:\n",
    "    print(\"True\")\n",
    "else:\n",
    "    print(\"False\")"
   ]
  },
  {
   "cell_type": "markdown",
   "id": "91f9f6be",
   "metadata": {},
   "source": [
    "# 2. Given an array and an integer k, rotate the array to the right by k steps. \n",
    "\n",
    "arr = [1, 2, 3, 4, 5, 6, 7] k = 3 \n",
    "\n",
    "Output = [5, 6, 7, 1, 2, 3, 4]"
   ]
  },
  {
   "cell_type": "code",
   "execution_count": 15,
   "id": "e4815b5f",
   "metadata": {},
   "outputs": [
    {
     "name": "stdout",
     "output_type": "stream",
     "text": [
      "[5, 6, 7, 1, 2, 3, 4]\n"
     ]
    }
   ],
   "source": [
    "def reverse(arr,start,end):\n",
    "    while start<end:\n",
    "        arr[start],arr[end]=arr[end],arr[start]\n",
    "        start+=1\n",
    "        end-=1\n",
    "\n",
    "def rotate(arr,k):\n",
    "    n = len(arr)\n",
    "    if k > n:\n",
    "        k = k % n\n",
    "    #reversing the enrite array\n",
    "    reverse(arr,0,n-1)\n",
    "    \n",
    "    #reversing the first k elements\n",
    "    reverse(arr,0,k-1)\n",
    "    \n",
    "    #reversing the remaing elements\n",
    "    reverse(arr,k,n-1)\n",
    "    \n",
    "#driver code\n",
    "arr = [1,2,3,4,5,6,7]\n",
    "k = 3\n",
    "rotate(arr,k)\n",
    "print(arr)"
   ]
  },
  {
   "cell_type": "markdown",
   "id": "f0216bc2",
   "metadata": {},
   "source": [
    "# 3. Reverse the given array in-place, means without using any extra data structure. \n",
    "\n",
    "arr = [2, 4, 5, 7, 9, 12] \n",
    "\n",
    "Output = [12, 9, 7, 5, 4, 2]"
   ]
  },
  {
   "cell_type": "code",
   "execution_count": 17,
   "id": "31c3980e",
   "metadata": {},
   "outputs": [
    {
     "name": "stdout",
     "output_type": "stream",
     "text": [
      "[12, 9, 7, 5, 4, 2]\n"
     ]
    }
   ],
   "source": [
    "def reverse(arr):\n",
    "    start = 0\n",
    "    end = len(arr)-1\n",
    "    while start < end:\n",
    "        arr[start],arr[end]=arr[end],arr[start]\n",
    "        start+=1\n",
    "        end-=1\n",
    "\n",
    "#driver code\n",
    "arr = [2, 4, 5, 7, 9, 12]\n",
    "reverse(arr)\n",
    "print(arr)"
   ]
  },
  {
   "cell_type": "markdown",
   "id": "03514c75",
   "metadata": {},
   "source": [
    "# 4. Given an array of integers, find the maximum element in an array\n",
    "\n",
    " arr = [10, 5, 20, 8, 15]\n",
    "\n",
    " Output = 20"
   ]
  },
  {
   "cell_type": "code",
   "execution_count": 18,
   "id": "7e6803f3",
   "metadata": {},
   "outputs": [
    {
     "name": "stdout",
     "output_type": "stream",
     "text": [
      "Maximum element in the array is: 20\n"
     ]
    }
   ],
   "source": [
    "def find_max(arr):\n",
    "    max_ele = arr[0]\n",
    "    for i in arr:\n",
    "        if i > max_ele:\n",
    "            max_ele = i\n",
    "    return max_ele\n",
    "\n",
    "#driver code\n",
    "arr = [10, 5, 20, 8, 15]\n",
    "result = find_max(arr)\n",
    "print(\"Maximum element in the array is:\",result)"
   ]
  },
  {
   "cell_type": "markdown",
   "id": "5f9ce96f",
   "metadata": {},
   "source": [
    "# 5. Given a sorted array, remove the duplicate element without using any extra data structure. \n",
    "\n",
    "arr = [1, 1, 2, 2, 2, 3, 3, 4, 4, 4, 5, 5] \n",
    "\n",
    "Output = [1, 2, 3, 4, 5]"
   ]
  },
  {
   "cell_type": "code",
   "execution_count": 26,
   "id": "01250bc3",
   "metadata": {},
   "outputs": [
    {
     "name": "stdout",
     "output_type": "stream",
     "text": [
      "output= [1, 2, 3, 4, 5]\n"
     ]
    }
   ],
   "source": [
    "def remove_duplicates(arr):\n",
    "    if not arr:\n",
    "        return arr\n",
    "    unique_ptr = 0\n",
    "    for i in range(1,len(arr)):\n",
    "        if arr[i] != arr[unique_ptr]:\n",
    "            unique_ptr += 1\n",
    "            arr[unique_ptr] = arr[i]\n",
    "    arr = arr[:unique_ptr+1]\n",
    "    return arr\n",
    "\n",
    "#driver code\n",
    "arr = [1, 1, 2, 2, 2, 3, 3, 4, 4, 4, 5, 5]\n",
    "result = remove_duplicates(arr)\n",
    "print(\"output=\",result)"
   ]
  }
 ],
 "metadata": {
  "kernelspec": {
   "display_name": "Python 3 (ipykernel)",
   "language": "python",
   "name": "python3"
  },
  "language_info": {
   "codemirror_mode": {
    "name": "ipython",
    "version": 3
   },
   "file_extension": ".py",
   "mimetype": "text/x-python",
   "name": "python",
   "nbconvert_exporter": "python",
   "pygments_lexer": "ipython3",
   "version": "3.9.13"
  }
 },
 "nbformat": 4,
 "nbformat_minor": 5
}
