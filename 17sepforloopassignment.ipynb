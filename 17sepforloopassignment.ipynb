{
 "cells": [
  {
   "cell_type": "markdown",
   "id": "b330c8df-5e43-42ce-bbfe-d2d825de7ef9",
   "metadata": {},
   "source": [
    "# For loop"
   ]
  },
  {
   "cell_type": "markdown",
   "id": "fdf568b7-e312-4ba6-94c0-22a1eadeb31e",
   "metadata": {},
   "source": [
    "Q-1. Write a Python program to print numbers from 1 to 10 using a for loop"
   ]
  },
  {
   "cell_type": "code",
   "execution_count": 1,
   "id": "565abda5-699e-4442-82a8-16f940286738",
   "metadata": {},
   "outputs": [
    {
     "name": "stdout",
     "output_type": "stream",
     "text": [
      "1 2 3 4 5 6 7 8 9 10 "
     ]
    }
   ],
   "source": [
    "# print numbers from 1 to 10\n",
    "for i in range(1,11):\n",
    "      print(i,end=' ')\n"
   ]
  },
  {
   "cell_type": "markdown",
   "id": "87834ea7-8e54-451e-8565-12f95a9becac",
   "metadata": {},
   "source": [
    "Q-2 explain the difference between for loop and while loop"
   ]
  },
  {
   "cell_type": "code",
   "execution_count": null,
   "id": "c1181cca-8bdc-4646-b7de-72c8811595fa",
   "metadata": {},
   "outputs": [],
   "source": [
    "'''\n",
    "\n",
    "1.For loop is used when the number of iterations is already known\n",
    "while loop is used when the number of iterations is unknown\n",
    "\n",
    "2.for loop is used to iterate over a sequence of items.\n",
    "while conditionis used to repeatedly execute a block of statements while a condition is true\n",
    "\n",
    "3.For loops are designed for iterating over a sequence of items. Eg. list, tuple, etc.\n",
    "While loop is used when the number of iterations is not known in advance or when we want to repeat a\n",
    "block of code until a certain condition is met.\n",
    "'''"
   ]
  },
  {
   "cell_type": "markdown",
   "id": "2daeb3c3-54aa-462f-b71b-90acaaf397f1",
   "metadata": {},
   "source": [
    "Q-3. Write a Python program to calculate the sum of all numbers from 1 to 100 using a for loop"
   ]
  },
  {
   "cell_type": "code",
   "execution_count": 2,
   "id": "986726a1-220b-43bb-afaf-8815fffcd6f6",
   "metadata": {},
   "outputs": [
    {
     "name": "stdout",
     "output_type": "stream",
     "text": [
      "5050\n"
     ]
    }
   ],
   "source": [
    "\n",
    "sum_no=0\n",
    "#sum 1 to 100\n",
    "for i in range(1,101):\n",
    "             sum_no=sum_no+i\n",
    "#print the result        \n",
    "print(sum_no)"
   ]
  },
  {
   "cell_type": "markdown",
   "id": "71a9510e-8afc-4fbe-8f63-43eaa73ac6ee",
   "metadata": {},
   "source": [
    "Q-4. How do you iterate through a list using a for loop in Python?"
   ]
  },
  {
   "cell_type": "code",
   "execution_count": 1,
   "id": "e1c334d0-8373-4b1c-80ac-81c920ac15d1",
   "metadata": {},
   "outputs": [
    {
     "name": "stdout",
     "output_type": "stream",
     "text": [
      "1 2 3 4 6 7 "
     ]
    }
   ],
   "source": [
    "li=[1,2,3,4,6,7]\n",
    "\n",
    "for i in li:\n",
    "     print(i,end=' ')"
   ]
  },
  {
   "cell_type": "markdown",
   "id": "8cce3075-cbba-498e-94c7-b19272d8281e",
   "metadata": {},
   "source": [
    "Q-5. Write a Python program to find the product of all elements in a list using a for loop."
   ]
  },
  {
   "cell_type": "code",
   "execution_count": 1,
   "id": "ed503ebf-e849-40c7-a50c-5d980d485379",
   "metadata": {},
   "outputs": [
    {
     "name": "stdout",
     "output_type": "stream",
     "text": [
      "product of all elemnet: 8064\n"
     ]
    }
   ],
   "source": [
    "\n",
    "l=[2,3,4,6,7,8]\n",
    "prod=1\n",
    "for i in l:\n",
    "    prod=prod*i\n",
    "    \n",
    "print('product of all elemnet:',prod)    "
   ]
  },
  {
   "cell_type": "markdown",
   "id": "6687cb15-db63-4d7a-9828-3bf9d3b28e56",
   "metadata": {},
   "source": [
    "Q-6. Create a Python program that prints all even numbers from 1 to 20 using a for loop"
   ]
  },
  {
   "cell_type": "code",
   "execution_count": 2,
   "id": "43c431cc-359b-4455-b20c-ffc20e6b518c",
   "metadata": {},
   "outputs": [
    {
     "name": "stdout",
     "output_type": "stream",
     "text": [
      "2 4 6 8 10 12 14 16 18 20 "
     ]
    }
   ],
   "source": [
    "\n",
    "# prints all even numbers from 1 to 20\n",
    "for i in range(1,21):\n",
    "    if i%2==0:\n",
    "        print(i,end=' ')"
   ]
  },
  {
   "cell_type": "markdown",
   "id": "a100a3a6-78a3-4f6d-b61f-bbc782f6fc05",
   "metadata": {},
   "source": [
    "Q-7. Write a Python program that calculates the factorial of a number using a for loop."
   ]
  },
  {
   "cell_type": "code",
   "execution_count": 3,
   "id": "86ba8c1d-27b0-4724-8a2b-7456e7295f6e",
   "metadata": {},
   "outputs": [
    {
     "name": "stdin",
     "output_type": "stream",
     "text": [
      "enter any number 4\n"
     ]
    },
    {
     "name": "stdout",
     "output_type": "stream",
     "text": [
      "factorial of a number: 24\n"
     ]
    }
   ],
   "source": [
    "\n",
    "n=int(input('enter any number'))\n",
    "fact=1\n",
    "for i in range(1,n+1):\n",
    "           fact=fact*i\n",
    "print('factorial of a number:',fact)        "
   ]
  },
  {
   "cell_type": "markdown",
   "id": "639ca58a-04dd-4030-ad79-18d1be6f2c25",
   "metadata": {},
   "source": [
    "Q-8. How can you iterate through the characters of a string using a for loop in Python?"
   ]
  },
  {
   "cell_type": "code",
   "execution_count": 3,
   "id": "4aed57d8-0a68-4dc4-ab34-d42b208bef8b",
   "metadata": {},
   "outputs": [
    {
     "name": "stdout",
     "output_type": "stream",
     "text": [
      "p w s k i l l "
     ]
    }
   ],
   "source": [
    "str1='pwskill'\n",
    "\n",
    "for i in str1:\n",
    "       print(i,end=' ')"
   ]
  },
  {
   "cell_type": "markdown",
   "id": "25c7deb2-cc35-4090-a142-7f3cb8c8baac",
   "metadata": {},
   "source": [
    "Q-9. Write a Python program to find the largest number in a list using a for loop."
   ]
  },
  {
   "cell_type": "code",
   "execution_count": 4,
   "id": "b09c9489-852d-481b-bcc0-950065f8ce31",
   "metadata": {},
   "outputs": [
    {
     "name": "stdout",
     "output_type": "stream",
     "text": [
      "largest no: 8\n"
     ]
    }
   ],
   "source": [
    "\n",
    "l=[6,7,8,2,3,4]\n",
    "maxi=0\n",
    "for i in l:\n",
    "       if i>maxi:\n",
    "            maxi=i\n",
    "print('largest no:',maxi)            "
   ]
  },
  {
   "cell_type": "markdown",
   "id": "eb190b80-b419-4e24-84ba-864ca06dace9",
   "metadata": {},
   "source": [
    "Q-10. Create a Python program that prints the Fibonacci sequence up to a specified limit using a for\n",
    "loop."
   ]
  },
  {
   "cell_type": "code",
   "execution_count": 7,
   "id": "7bc3a424-83ba-4343-9646-47b721c83d34",
   "metadata": {},
   "outputs": [
    {
     "name": "stdin",
     "output_type": "stream",
     "text": [
      "enter a range 6\n"
     ]
    },
    {
     "name": "stdout",
     "output_type": "stream",
     "text": [
      "0 1 1 2 3 5 8 "
     ]
    }
   ],
   "source": [
    "\n",
    "n=int(input('enter a range'))\n",
    "first=0\n",
    "second=1\n",
    "for i in range(n+1):\n",
    "        if i<=1:\n",
    "            result=i\n",
    "            \n",
    "        else:       \n",
    "            result=first+second\n",
    "            first=second\n",
    "            second=result\n",
    "        print(result,end=' ')    "
   ]
  },
  {
   "cell_type": "markdown",
   "id": "fe1359d2-b7ea-4c32-8ae3-a5a3a8ec753a",
   "metadata": {},
   "source": [
    "Q-11. Write a Python program to count the number of vowels in a given string using a for loop"
   ]
  },
  {
   "cell_type": "code",
   "execution_count": 9,
   "id": "0962aceb-ad05-4e8f-a3c8-d613d53bbd43",
   "metadata": {},
   "outputs": [
    {
     "name": "stdout",
     "output_type": "stream",
     "text": [
      "no of vowel in string: 2\n"
     ]
    }
   ],
   "source": [
    "\n",
    "str1='pwskillu'\n",
    "vowel='aeiouAEIOU'\n",
    "count=0\n",
    "for i in str1:\n",
    "    if i in vowel:\n",
    "           count+=1\n",
    "print('no of vowel in string:',count)            "
   ]
  },
  {
   "cell_type": "markdown",
   "id": "10c0a1b1-dbbb-4f2d-842d-9654427c846d",
   "metadata": {},
   "source": [
    "Q-12. Create a Python program that generates a multiplication table for a given number using a for\n",
    "loop."
   ]
  },
  {
   "cell_type": "code",
   "execution_count": 21,
   "id": "c6b5b888-0732-4b8a-a0e1-0cb38ae11b78",
   "metadata": {},
   "outputs": [
    {
     "name": "stdin",
     "output_type": "stream",
     "text": [
      "enter any number 8\n"
     ]
    },
    {
     "name": "stdout",
     "output_type": "stream",
     "text": [
      "8 16 24 32 40 48 56 64 72 80 "
     ]
    }
   ],
   "source": [
    "n=int(input('enter any number'))\n",
    "\n",
    "for i in range(1,11):\n",
    "       print(i*n,end=' ')"
   ]
  },
  {
   "cell_type": "markdown",
   "id": "736ba7fb-e4d1-408e-951f-bdb8b20a4f32",
   "metadata": {},
   "source": [
    "Q-13. Write a Python program to reverse a list using a for loop."
   ]
  },
  {
   "cell_type": "code",
   "execution_count": 31,
   "id": "b8ec3631-0551-4453-bd5b-77d50367ff58",
   "metadata": {},
   "outputs": [
    {
     "name": "stdout",
     "output_type": "stream",
     "text": [
      "[9, 8, 4, 3, 2, 6]\n"
     ]
    }
   ],
   "source": [
    "li=[6,2,3,4,8,9]\n",
    "l=len(li)\n",
    "l2=[]\n",
    "\n",
    "#reverse the list\n",
    "for i in range(1,l+1):\n",
    "    l2.append(li[l-i])\n",
    "    \n",
    "# print the list    \n",
    "print(l2) "
   ]
  },
  {
   "cell_type": "markdown",
   "id": "8fa2926a-e928-4f09-8d27-6d115a2bcb7b",
   "metadata": {},
   "source": [
    "Q-14 Write a Python program to find the common elements between two lists using a for loop"
   ]
  },
  {
   "cell_type": "code",
   "execution_count": 2,
   "id": "cf49cfb9-3f65-4577-aeb6-c4f95893c966",
   "metadata": {},
   "outputs": [
    {
     "name": "stdout",
     "output_type": "stream",
     "text": [
      "common element:\n",
      "6 2 "
     ]
    }
   ],
   "source": [
    "l1=[1,2,6,8]\n",
    "l2=[3,6,2,9]\n",
    "print('common element:')\n",
    "for i in l2:\n",
    "    if i in l1:\n",
    "        print(i,end=' ')"
   ]
  },
  {
   "cell_type": "markdown",
   "id": "517b207a-17d0-4c6a-a42c-16516cb8aded",
   "metadata": {},
   "source": [
    "Q-15. Explain how to use a for loop to iterate through the keys and values of a dictionary in Python"
   ]
  },
  {
   "cell_type": "code",
   "execution_count": 10,
   "id": "f21e73f5-8880-4bd9-a2f1-b73617ef25dd",
   "metadata": {},
   "outputs": [
    {
     "name": "stdout",
     "output_type": "stream",
     "text": [
      "1 mango\n",
      "2 banana\n",
      "3 apple\n"
     ]
    }
   ],
   "source": [
    "#create a dictionary\n",
    "d1={1:'mango',2:'banana',3:'apple'}\n",
    "\n",
    "\n",
    "for k,v in d1.items():\n",
    "        print(k,v)"
   ]
  },
  {
   "cell_type": "markdown",
   "id": "a5f63dfb-d8be-4ac4-9aec-7b36175c3216",
   "metadata": {},
   "source": [
    "Q-16. Write a Python program to find the GCD (Greatest Common Divisor) of two numbers using a for\n",
    "loop."
   ]
  },
  {
   "cell_type": "code",
   "execution_count": 9,
   "id": "88fd014c-5e78-4ab0-8184-bccf003c5304",
   "metadata": {},
   "outputs": [
    {
     "name": "stdout",
     "output_type": "stream",
     "text": [
      "gcd of 60 and 48 is  12\n"
     ]
    }
   ],
   "source": [
    "a=60\n",
    "b=48\n",
    "\n",
    "#find gcd of two number\n",
    "for i in range(1,int(max(a,b)/2)+1):\n",
    "                 if a%i==0 and b%i==0:\n",
    "                         gcd=i\n",
    "                \n",
    "print('gcd of',a,'and',b,'is ',gcd)                      "
   ]
  },
  {
   "cell_type": "markdown",
   "id": "6f69215b-ab08-4adf-93da-d1fd53c002ca",
   "metadata": {},
   "source": [
    "Q-17. Create a Python program that checks if a string is a palindrome using a for loop"
   ]
  },
  {
   "cell_type": "code",
   "execution_count": 16,
   "id": "221687a5-1975-41b4-b082-1bef851729b3",
   "metadata": {},
   "outputs": [
    {
     "name": "stdout",
     "output_type": "stream",
     "text": [
      "string is palindrom\n"
     ]
    }
   ],
   "source": [
    "def ispalindrom(l1,l):\n",
    "            for i in range(int(l/2)+1):\n",
    "                  if  l1[i]!=li[l-i]:\n",
    "                            return False\n",
    "            return True\n",
    "str1='geeg'  \n",
    "#convert into list\n",
    "li=list(str1)   \n",
    "l=len(li)-1\n",
    "if(ispalindrom(li,l)):\n",
    "            print('string is palindrom')\n",
    "else:\n",
    "            print('string is not palindrom')"
   ]
  },
  {
   "cell_type": "markdown",
   "id": "fb6d963d-80bd-4955-b6ea-124ca8efecdf",
   "metadata": {},
   "source": [
    "Q-18. Write a Python program to remove duplicates from a list using a for loop"
   ]
  },
  {
   "cell_type": "code",
   "execution_count": 18,
   "id": "cfaff6a8-d46c-46ca-bad9-c0b63cec9a30",
   "metadata": {},
   "outputs": [
    {
     "name": "stdout",
     "output_type": "stream",
     "text": [
      "[1, 2, 3, 4, 6, 7]\n"
     ]
    }
   ],
   "source": [
    "l1=[1,2,3,4,6,7,4,3]\n",
    "l2=[]\n",
    "\n",
    "# remove the duplicates from the list\n",
    "for i in l1:\n",
    "       if i not in l2:\n",
    "            l2.append(i)\n",
    "\n",
    "# print the list            \n",
    "print(l2)            "
   ]
  },
  {
   "cell_type": "markdown",
   "id": "6791dec6-74f8-4bb7-96f4-451332f9c0d6",
   "metadata": {},
   "source": [
    "Q-19. Create a Python program that counts the number of words in a sentence using a for loop."
   ]
  },
  {
   "cell_type": "code",
   "execution_count": 25,
   "id": "bb5b2571-a5a0-48c6-bcf7-fdea15200123",
   "metadata": {},
   "outputs": [
    {
     "name": "stdout",
     "output_type": "stream",
     "text": [
      "no of words: 15\n"
     ]
    }
   ],
   "source": [
    "sen='my name is srishti'\n",
    "li=list(sen)\n",
    "\n",
    "count=0\n",
    "for i in li:\n",
    "     if i!=' ':\n",
    "        count+=1\n",
    "print('no of words:',count)        "
   ]
  },
  {
   "cell_type": "markdown",
   "id": "c168822b-3bf8-4635-ab57-838a6cc5727b",
   "metadata": {},
   "source": [
    "Q-20. Write a Python program to find the sum of all odd numbers from 1 to 50 using a for loop"
   ]
  },
  {
   "cell_type": "code",
   "execution_count": 26,
   "id": "c22bc1b1-0f59-4fb9-ba34-ba10592d14d0",
   "metadata": {},
   "outputs": [
    {
     "name": "stdout",
     "output_type": "stream",
     "text": [
      "odd no: 25\n"
     ]
    }
   ],
   "source": [
    "count=0\n",
    "\n",
    "# count the odd number\n",
    "for i in range(1,51):\n",
    "         if i%2!=0:\n",
    "              count+=1\n",
    "print('odd no:',count)                "
   ]
  },
  {
   "cell_type": "markdown",
   "id": "1e7493f1-1801-4b81-a741-6517e3b8b059",
   "metadata": {},
   "source": [
    "Q-21. Write a Python program that checks if a given year is a leap year using a for loop"
   ]
  },
  {
   "cell_type": "code",
   "execution_count": 29,
   "id": "05a7f91a-43df-4be9-b0d1-40d28293c4d5",
   "metadata": {},
   "outputs": [
    {
     "name": "stdin",
     "output_type": "stream",
     "text": [
      "enter any year 2008\n"
     ]
    },
    {
     "name": "stdout",
     "output_type": "stream",
     "text": [
      "leap year\n"
     ]
    }
   ],
   "source": [
    "year=int(input('enter any year'))\n",
    "\n",
    "if year%4==0:\n",
    "      print('leap year')\n",
    "else:\n",
    "      print('not a leap year')"
   ]
  },
  {
   "cell_type": "markdown",
   "id": "0b849c94-8be8-404d-925d-90c399ca0f16",
   "metadata": {},
   "source": [
    "Q-22. Create a Python program that calculates the square root of a number using a for loop"
   ]
  },
  {
   "cell_type": "code",
   "execution_count": 35,
   "id": "6907ec49-ea59-4fac-9b75-31c631608ab8",
   "metadata": {},
   "outputs": [
    {
     "name": "stdin",
     "output_type": "stream",
     "text": [
      "enter the num 36\n"
     ]
    },
    {
     "name": "stdout",
     "output_type": "stream",
     "text": [
      "6\n"
     ]
    }
   ],
   "source": [
    "n=int(input('enter the num'))\n",
    "\n",
    "for i in range(int(n/2)):\n",
    "         if i*i==n:\n",
    "              print(i)"
   ]
  },
  {
   "cell_type": "markdown",
   "id": "e49a15b7-6bfd-4624-b395-2f6d6e9eaa59",
   "metadata": {},
   "source": [
    "Q-23. Write a Python program to find the LCM (Least Common Multiple) of two numbers using a for\n",
    "loop."
   ]
  },
  {
   "cell_type": "code",
   "execution_count": 38,
   "id": "a26584d6-910e-4b79-91d4-41d315fed309",
   "metadata": {},
   "outputs": [
    {
     "name": "stdout",
     "output_type": "stream",
     "text": [
      "lcm of 12 and 14 is 84\n"
     ]
    }
   ],
   "source": [
    "num1=12\n",
    "num2=14\n",
    "\n",
    "for i in range(max(num1,num2),1+(num1*num2)):\n",
    "            if i%num1==0 and i%num2==0:\n",
    "                             lcm=i\n",
    "                             break\n",
    "print('lcm of',num1,'and',num2,'is',lcm)                   "
   ]
  },
  {
   "cell_type": "markdown",
   "id": "924d07ab-6bbb-4d9d-adbb-ced9f97bb66a",
   "metadata": {},
   "source": [
    "# If- else statements"
   ]
  },
  {
   "cell_type": "markdown",
   "id": "191882d4-7103-4108-99fc-0003a7c382a0",
   "metadata": {},
   "source": [
    "Q-1. Write a Python program to check if a number is positive, negative, or zero using an if-else\n",
    "statement."
   ]
  },
  {
   "cell_type": "code",
   "execution_count": 8,
   "id": "8307acbf-698b-48ea-b882-c9e61222535e",
   "metadata": {},
   "outputs": [
    {
     "name": "stdin",
     "output_type": "stream",
     "text": [
      "enter the number 8\n"
     ]
    },
    {
     "name": "stdout",
     "output_type": "stream",
     "text": [
      "num is positive\n"
     ]
    }
   ],
   "source": [
    "num=int(input('enter the number'))\n",
    "\n",
    "if num>0:\n",
    "      print('num is positive')\n",
    "elif(num==0):\n",
    "      print('num is zero')\n",
    "else:\n",
    "      print('num is negative')\n",
    "       \n",
    "    "
   ]
  },
  {
   "cell_type": "markdown",
   "id": "811a15ad-51c1-4e41-b42d-ff2e9f38534c",
   "metadata": {},
   "source": [
    "Q-2. Create a Python program that checks if a given number is even or odd using an if-else statemen"
   ]
  },
  {
   "cell_type": "code",
   "execution_count": 9,
   "id": "caaab33c-a8ed-4686-83a9-b72a26ae57c9",
   "metadata": {},
   "outputs": [
    {
     "name": "stdin",
     "output_type": "stream",
     "text": [
      "enter the number 7\n"
     ]
    },
    {
     "name": "stdout",
     "output_type": "stream",
     "text": [
      "num id odd\n"
     ]
    }
   ],
   "source": [
    "num=int(input('enter the number'))\n",
    "\n",
    "if num%2==0:\n",
    "    print('num is even')\n",
    "else:\n",
    "    print('num id odd')"
   ]
  },
  {
   "cell_type": "markdown",
   "id": "0860887e-9075-4f55-9bde-291e83d02346",
   "metadata": {},
   "source": [
    "Q-3. How can you use nested if-else statements in Python, and provide an example?"
   ]
  },
  {
   "cell_type": "code",
   "execution_count": null,
   "id": "66433dd1-d435-4282-9f04-d3dcb6134ee5",
   "metadata": {},
   "outputs": [],
   "source": [
    "'''\n",
    "nested if-else->\n",
    "--------------\n",
    "nested if-else is used when we have to check multiple conditon one after another.\n",
    "\n",
    "for example->\n",
    "-----------\n",
    "a,b,c=10,30,60\n",
    "\n",
    "if a>b:\n",
    "    if a>c:\n",
    "        print('greatest no:',a)\n",
    "    else:\n",
    "        print('greatest no:',c)\n",
    "else:\n",
    "        if b>c:\n",
    "              print('greatest no:',b)\n",
    "        else:\n",
    "              print('greatest no:',c)\n",
    "      \n",
    "\n",
    "\n",
    "'''"
   ]
  },
  {
   "cell_type": "markdown",
   "id": "f2b84cb6-0a85-4584-9b98-c6e706dfaef2",
   "metadata": {},
   "source": [
    "Q-4. Write a Python program to determine the largest of three numbers using if-els"
   ]
  },
  {
   "cell_type": "code",
   "execution_count": 6,
   "id": "2fabcdf1-da77-444a-ac24-8cbbf510a5b0",
   "metadata": {},
   "outputs": [
    {
     "name": "stdout",
     "output_type": "stream",
     "text": [
      "greatest no: 60\n"
     ]
    }
   ],
   "source": [
    "a,b,c=10,30,60\n",
    "\n",
    "if a>b:\n",
    "    if a>c:\n",
    "        print('greatest no:',a)\n",
    "    else:\n",
    "        print('greatest no:',c)\n",
    "else:\n",
    "        if b>c:\n",
    "              print('greatest no:',b)\n",
    "        else:\n",
    "              print('greatest no:',c)"
   ]
  },
  {
   "cell_type": "markdown",
   "id": "66ca1899-e5e2-492d-a516-97604987d5c3",
   "metadata": {},
   "source": [
    "Q-5. Write a Python program that calculates the absolute value of a number using if-els"
   ]
  },
  {
   "cell_type": "code",
   "execution_count": 9,
   "id": "66d20bcc-b75d-4c39-814e-b1a89bcec833",
   "metadata": {},
   "outputs": [
    {
     "name": "stdin",
     "output_type": "stream",
     "text": [
      "enter a num -8\n"
     ]
    },
    {
     "name": "stdout",
     "output_type": "stream",
     "text": [
      "absolute value\n",
      "8\n"
     ]
    }
   ],
   "source": [
    "n=int(input('enter a num'))\n",
    "print('absolute value')\n",
    "if n>0:\n",
    "    print(n)\n",
    "else:\n",
    "    print(-n)"
   ]
  },
  {
   "cell_type": "markdown",
   "id": "adac17d0-ba2e-4177-aeca-5ee0cbe19fee",
   "metadata": {},
   "source": [
    "Q-6. Create a Python program that checks if a given character is a vowel or consonant using if-els"
   ]
  },
  {
   "cell_type": "code",
   "execution_count": 11,
   "id": "8d6fdbc8-1ff9-4151-8089-67e111962aa6",
   "metadata": {},
   "outputs": [
    {
     "name": "stdin",
     "output_type": "stream",
     "text": [
      "enter a char o\n"
     ]
    },
    {
     "name": "stdout",
     "output_type": "stream",
     "text": [
      "it is vowel\n"
     ]
    }
   ],
   "source": [
    "n=input('enter a char')\n",
    "\n",
    "vowel='aeiouAEIOU'\n",
    "\n",
    "if n in vowel:\n",
    "    print('it is vowel')\n",
    "else:\n",
    "    print('it is consonant')"
   ]
  },
  {
   "cell_type": "markdown",
   "id": "9402e899-66ae-415f-93de-319db348e6b3",
   "metadata": {},
   "source": [
    "Q-7. Write a Python program to determine if a user is eligible to vote based on their age using if-else."
   ]
  },
  {
   "cell_type": "code",
   "execution_count": 13,
   "id": "951fc5b4-1b99-4271-8035-c983deb586d0",
   "metadata": {},
   "outputs": [
    {
     "name": "stdin",
     "output_type": "stream",
     "text": [
      "enter your age 28\n"
     ]
    },
    {
     "name": "stdout",
     "output_type": "stream",
     "text": [
      "you are eligible for vote\n"
     ]
    }
   ],
   "source": [
    "age=int(input('enter your age'))\n",
    "\n",
    "if age>=18:\n",
    "    print('you are eligible for vote')\n",
    "else:\n",
    "    print('you are not eligible for vote')\n",
    "    "
   ]
  },
  {
   "cell_type": "markdown",
   "id": "725cfac4-f0bc-40a5-8ad0-ea60558c6572",
   "metadata": {},
   "source": [
    "Q-8. Create a Python program that calculates the discount amount based on the purchase amount\n",
    "using if-else."
   ]
  },
  {
   "cell_type": "code",
   "execution_count": 10,
   "id": "e0d9fc1c-94e9-4cd8-8bd5-755f4d1da6df",
   "metadata": {},
   "outputs": [
    {
     "name": "stdin",
     "output_type": "stream",
     "text": [
      "enter the amount of purchase 600\n"
     ]
    },
    {
     "name": "stdout",
     "output_type": "stream",
     "text": [
      "your discount is: 120.0\n"
     ]
    }
   ],
   "source": [
    "amount=int(input('enter the amount of purchase'))\n",
    "\n",
    "if amount>1000:\n",
    "        discount=amount*40/100\n",
    "        print('your discount is:',discount)\n",
    "elif(amount>600):\n",
    "        discount=amount*30/100\n",
    "        print('your discount is:',discount)\n",
    "elif(amount>400):\n",
    "         discount=amount*20/100\n",
    "         print('your discount is:',discount)      \n",
    "else:\n",
    "        discount=amount*10/100\n",
    "        print('your discount is:',discount) \n",
    "  "
   ]
  },
  {
   "cell_type": "markdown",
   "id": "3d0aa87e-3aa8-48a7-aa6d-5dc043b43b7d",
   "metadata": {},
   "source": [
    "Q-9. Write a Python program to check if a number is within a specified range using if-else"
   ]
  },
  {
   "cell_type": "code",
   "execution_count": 17,
   "id": "f32ab2c8-bb9b-4458-b191-95e37d8b8d4d",
   "metadata": {},
   "outputs": [
    {
     "name": "stdin",
     "output_type": "stream",
     "text": [
      "enter a num 17\n"
     ]
    },
    {
     "name": "stdout",
     "output_type": "stream",
     "text": [
      "num is within range\n"
     ]
    }
   ],
   "source": [
    "n=int(input('enter a num'))\n",
    "\n",
    "if n in range(1,20):\n",
    "         print('num is within range')\n",
    "else:\n",
    "        print('num is out of range')"
   ]
  },
  {
   "cell_type": "markdown",
   "id": "239b2599-4711-4d05-9acb-be4dcda29bc8",
   "metadata": {},
   "source": [
    "Q-10. Create a Python program that determines the grade of a student based on their score using\n",
    "if-else."
   ]
  },
  {
   "cell_type": "code",
   "execution_count": null,
   "id": "1e3fefdd-f32a-4a89-a886-5d61b0b67610",
   "metadata": {},
   "outputs": [],
   "source": [
    "score=int(input('enter your marks'))\n",
    "\n",
    "if score>90:\n",
    "      print('grade A+')\n",
    "elif(score>80):\n",
    "      print('grade A')\n",
    "elif(score>70):\n",
    "      print('grade B+')\n",
    "else:\n",
    "      print('grade B')\n",
    "        "
   ]
  },
  {
   "cell_type": "markdown",
   "id": "32bd3586-4068-46c8-bbf0-192d441ea59b",
   "metadata": {},
   "source": [
    "Q-11. Write a Python program to check if a string is empty or not using if-else."
   ]
  },
  {
   "cell_type": "code",
   "execution_count": 18,
   "id": "86bb3665-98b7-4ebd-8528-fe46fe61e997",
   "metadata": {},
   "outputs": [
    {
     "name": "stdin",
     "output_type": "stream",
     "text": [
      "enter a string \n"
     ]
    },
    {
     "name": "stdout",
     "output_type": "stream",
     "text": [
      "string is empty\n"
     ]
    }
   ],
   "source": [
    "str1=input('enter a string')\n",
    "\n",
    "if len(str1)==0:\n",
    "       print('string is empty')\n",
    "else:\n",
    "      print('string is not empty')"
   ]
  },
  {
   "cell_type": "markdown",
   "id": "9dc3e400-d805-4684-a0dc-4fabd8795f4d",
   "metadata": {},
   "source": [
    "Q-12. Create a Python program that identifies the type of a triangle (e.g., equilateral, isosceles, or\n",
    "scalene) based on input values using if-else"
   ]
  },
  {
   "cell_type": "code",
   "execution_count": 11,
   "id": "419278d9-4f24-4dfa-82ca-f22e57d79d23",
   "metadata": {},
   "outputs": [
    {
     "name": "stdin",
     "output_type": "stream",
     "text": [
      "enter the angle1  10\n",
      "enter the angle2  30\n",
      "enter the angle3  10\n"
     ]
    },
    {
     "name": "stdout",
     "output_type": "stream",
     "text": [
      "triangle is isosceles\n"
     ]
    }
   ],
   "source": [
    "a=int(input('enter the angle1 '))\n",
    "b=int(input('enter the angle2 '))\n",
    "c=int(input('enter the angle3 '))\n",
    "\n",
    "if a==b and b==c:\n",
    "        print('triangle is  equilateral')\n",
    "elif a==b or b==c or a==c:\n",
    "        print('triangle is isosceles')\n",
    "        \n",
    "else:\n",
    "        print('triangle is scalene')"
   ]
  },
  {
   "cell_type": "markdown",
   "id": "25c62cd0-6d59-43bf-a160-7442fedfcf8c",
   "metadata": {},
   "source": [
    "Q-13. Write a Python program to determine the day of the week based on a user-provided number\n",
    "using if-else."
   ]
  },
  {
   "cell_type": "code",
   "execution_count": 13,
   "id": "99b39a2e-770e-4e83-83ee-ef77846912e7",
   "metadata": {},
   "outputs": [
    {
     "name": "stdin",
     "output_type": "stream",
     "text": [
      "enter the day in no 2\n"
     ]
    },
    {
     "name": "stdout",
     "output_type": "stream",
     "text": [
      "monday\n"
     ]
    }
   ],
   "source": [
    "n=int(input('enter the day in no'))\n",
    "\n",
    "if n==1:\n",
    "    print('sunday')\n",
    "elif(n==2):\n",
    "     print('monday')\n",
    "elif(n==3):\n",
    "     print('Tuesday')\n",
    "elif(n==4):\n",
    "     print('wednessday')\n",
    "elif(n==5):\n",
    "     print('Thrusday')                   \n",
    "elif(n==6):\n",
    "     print('friday')\n",
    "else:\n",
    "     print('saturday')  "
   ]
  },
  {
   "cell_type": "markdown",
   "id": "06823570-f483-49d6-8104-aed489a26f0f",
   "metadata": {},
   "source": [
    "Q-14. Create a Python program that checks if a given year is a leap year using both if-else and a\n",
    "function."
   ]
  },
  {
   "cell_type": "code",
   "execution_count": 12,
   "id": "ca8b43bc-5b71-46a3-915b-1530a0821e59",
   "metadata": {},
   "outputs": [
    {
     "name": "stdin",
     "output_type": "stream",
     "text": [
      "enter a year 2006\n"
     ]
    },
    {
     "name": "stdout",
     "output_type": "stream",
     "text": [
      "not a leap year\n"
     ]
    }
   ],
   "source": [
    "def leap(n):\n",
    "        if n%4==0:\n",
    "             print('it is leap year')\n",
    "        else:\n",
    "             print('not a leap year')\n",
    "n=int(input('enter a year'))\n",
    "leap(n)"
   ]
  },
  {
   "cell_type": "markdown",
   "id": "b984b81c-ba7d-4442-b932-4a70b06a5aa3",
   "metadata": {},
   "source": [
    "Q-15. How do you use the \"assert\" statement in Python to add debugging checks within if-else blocks?"
   ]
  },
  {
   "cell_type": "code",
   "execution_count": null,
   "id": "2c1a0e9f-2b2f-4769-adb1-75264d900bc3",
   "metadata": {},
   "outputs": [],
   "source": [
    "'''\n",
    "Assertion isa boolean expression that checks whether the condition returns true or false.\n",
    "if the condition returns true then,the further program will be excecutd i.e. the assertion will not\n",
    "affect the program and it moves to the next line of code of the program\n",
    "\n",
    "for example->\n",
    "-----------\n",
    "a=40\n",
    "b=30\n",
    "if a>b:\n",
    "     assert a!=17  \n",
    "     print(a)\n",
    "    \n",
    "else:    \n",
    "     print(b)\n",
    "'''"
   ]
  },
  {
   "cell_type": "markdown",
   "id": "5bdd9e05-3aa0-40d5-8b4f-6bd19f467c45",
   "metadata": {},
   "source": [
    "Q-16. Create a Python program that determines the eligibility of a person for a senior citizen discount\n",
    "based on age using if-else."
   ]
  },
  {
   "cell_type": "code",
   "execution_count": 27,
   "id": "d23034e5-634c-4bad-9a6b-6297c1b6c58e",
   "metadata": {},
   "outputs": [
    {
     "name": "stdin",
     "output_type": "stream",
     "text": [
      "enter your age 76\n"
     ]
    },
    {
     "name": "stdout",
     "output_type": "stream",
     "text": [
      "your discount is: 20\n"
     ]
    }
   ],
   "source": [
    "age=int(input('enter your age'))\n",
    "\n",
    "if age>90:\n",
    "        discount=40\n",
    "        print('your discount is:',discount)\n",
    "elif(age>80):\n",
    "        discount=30\n",
    "        print('your discount is:',discount)\n",
    "elif(age>70):\n",
    "         discount=20\n",
    "         print('your discount is:',discount)      \n",
    "else:\n",
    "        discount=10\n",
    "        print('your discount is:',discount) \n",
    "  "
   ]
  },
  {
   "cell_type": "markdown",
   "id": "3ee1fde2-d4d2-4c36-9f50-ce46a04b01ca",
   "metadata": {},
   "source": [
    "Q-19. Create a Python program that checks if a given year is a century year or not using if-else"
   ]
  },
  {
   "cell_type": "code",
   "execution_count": 30,
   "id": "9b9c630a-b82d-4bca-a0d0-d9a58eebb014",
   "metadata": {},
   "outputs": [
    {
     "name": "stdin",
     "output_type": "stream",
     "text": [
      "enter any year 2000\n"
     ]
    },
    {
     "name": "stdout",
     "output_type": "stream",
     "text": [
      "it is a century year\n"
     ]
    }
   ],
   "source": [
    "year=int(input('enter any year'))\n",
    "\n",
    "if year%100==0:\n",
    "        print('it is a century year')\n",
    "else:\n",
    "        print('not a century year')"
   ]
  },
  {
   "cell_type": "markdown",
   "id": "2296a147-5c8a-4d94-bafa-d0ceb44c15d8",
   "metadata": {},
   "source": [
    "Q-17. Write a Python program to categorize a given character as uppercase, lowercase, or neither\n",
    "using if-else."
   ]
  },
  {
   "cell_type": "code",
   "execution_count": 22,
   "id": "dc537a6d-d164-41c2-89b3-c17563e3b7c6",
   "metadata": {},
   "outputs": [
    {
     "name": "stdin",
     "output_type": "stream",
     "text": [
      "enter a char p\n"
     ]
    },
    {
     "name": "stdout",
     "output_type": "stream",
     "text": [
      "letter is in lowercase\n"
     ]
    }
   ],
   "source": [
    "n=input('enter a char')\n",
    "\n",
    "if n>='A' and n<='Z':\n",
    "         print('letter is in uppercase')\n",
    "elif  n>='a' and n<='z':      \n",
    "         print('letter is in lowercase')\n",
    "else:\n",
    "        print('neither uppercase or lowercase')"
   ]
  },
  {
   "cell_type": "markdown",
   "id": "23c199cc-5370-4cae-85b7-a319e9466e73",
   "metadata": {},
   "source": [
    "Q-18. Write a Python program to determine the roots of a quadratic equation using if-else."
   ]
  },
  {
   "cell_type": "code",
   "execution_count": 49,
   "id": "09832546-618f-4a89-9c5a-92d3c26a20e8",
   "metadata": {},
   "outputs": [
    {
     "name": "stdout",
     "output_type": "stream",
     "text": [
      "real and different roots\n",
      "2.0\n",
      "-12.0\n"
     ]
    }
   ],
   "source": [
    "import math\n",
    "\n",
    "# function for finding roots\n",
    "def equation(a,b,c):\n",
    "    \n",
    "        # calculate discriminant\n",
    "        dis=b*b-4*a*c\n",
    "        sqrt_val=math.sqrt(abs(dis))\n",
    "        \n",
    "        #checking condition for discriminant\n",
    "        if dis>0:\n",
    "            print('real and different roots')\n",
    "            print((-b+ sqrt_val)/2*a)\n",
    "            print((-b-sqrt_val)/2*a)\n",
    "        elif dis==0:\n",
    "                print('real and same roots')\n",
    "                print(-b/(2*a)) \n",
    "        else:\n",
    "                print('complex roots')\n",
    "                print(-b/(2*a),+i, sqrt_val)\n",
    "                print(-b/(2*a),-i, sqrt_val)\n",
    "\n",
    "a=1\n",
    "b=10\n",
    "c=-24\n",
    "\n",
    "if a==0:\n",
    "    print('input correct quardatic equation')\n",
    "else:\n",
    "    equation(a,b,c)"
   ]
  },
  {
   "cell_type": "markdown",
   "id": "3141e323-0a2b-41be-8314-f6883dc96e28",
   "metadata": {},
   "source": [
    "Q-20. Write a Python program to determine if a given number is a perfect square using if-else"
   ]
  },
  {
   "cell_type": "code",
   "execution_count": 36,
   "id": "ad1df351-afd8-4917-b86f-3bcc7cb44a0a",
   "metadata": {},
   "outputs": [
    {
     "name": "stdin",
     "output_type": "stream",
     "text": [
      "enter a number 36\n"
     ]
    },
    {
     "name": "stdout",
     "output_type": "stream",
     "text": [
      "yes\n"
     ]
    }
   ],
   "source": [
    "import math\n",
    "\n",
    "def isPerfectSquare(x):\n",
    "                if x>=0:\n",
    "                     sr=int(math.sqrt(x)) \n",
    "                     return ((sr*sr)==x)\n",
    "                return False \n",
    "x=int(input('enter a number'))\n",
    "\n",
    "if (isPerfectSquare(x)):\n",
    "           print('yes')\n",
    "else:\n",
    "           print('no')"
   ]
  },
  {
   "cell_type": "markdown",
   "id": "34b88d52-0b3e-4cef-a45f-bd90028fe5d7",
   "metadata": {},
   "source": [
    "Q-21. Explain the purpose of the \"continue\" and \"break\" statements within if-else loops"
   ]
  },
  {
   "cell_type": "code",
   "execution_count": null,
   "id": "0d2096ce-2e1a-4755-8dc4-cea977eb4652",
   "metadata": {},
   "outputs": [],
   "source": [
    "'''\n",
    "contunue->\n",
    "---------\n",
    "The continue statements in python returns the control to the beginning of the while loop.\n",
    "The continue statement rejects all the remaining statements in the current iteration of the loop\n",
    "and moves the control back to the top of the loop.\n",
    "\n",
    "Break->\n",
    "-------\n",
    "Break allows you to exits a loop when an external condition is met.Normal program execution resume at the \n",
    "next statement.\n",
    "\n",
    "\n",
    "'''"
   ]
  },
  {
   "cell_type": "markdown",
   "id": "22fb47e1-4a05-432c-a01b-566ebf861f34",
   "metadata": {},
   "source": [
    "Q-22. Create a Python program that calculates the BMI (Body Mass Index) of a person based on their\n",
    "weight and height using if-else."
   ]
  },
  {
   "cell_type": "code",
   "execution_count": 9,
   "id": "28c58b9d-6cca-4984-ac2c-823ec73e7278",
   "metadata": {},
   "outputs": [
    {
     "name": "stdin",
     "output_type": "stream",
     "text": [
      "enter a height 1.58496\n",
      "enter a weight 40\n"
     ]
    },
    {
     "name": "stdout",
     "output_type": "stream",
     "text": [
      "bmi= 15.92294440341675 underweight\n"
     ]
    }
   ],
   "source": [
    "#weight = weight of the body in Kg, height = height of body in meter\n",
    "\n",
    "height=float(input('enter a height'))\n",
    "weight=float(input('enter a weight'))\n",
    "\n",
    "bmi=weight/height**2\n",
    "\n",
    "if bmi<18.5:\n",
    "       print('bmi=',bmi,'underweight')\n",
    "elif bmi>=18.5 and bmi<=24.9:\n",
    "       print('bmi=',bmi,'normal and healthy weight')\n",
    "elif bmi>=25.0 and bmi<=29.9:\n",
    "      print('bmi=',bmi,'overweight')\n",
    "else:\n",
    "      print('bmi=',bmi,'obese')\n",
    "    "
   ]
  },
  {
   "cell_type": "markdown",
   "id": "27fc2c40-ce19-4281-9309-18b1c8c7bfde",
   "metadata": {},
   "source": [
    "Q-23. How can you use the \"filter()\" function with if-else statements to filter elements from a list?"
   ]
  },
  {
   "cell_type": "code",
   "execution_count": null,
   "id": "10f42fc5-d666-4eff-8021-febdad3f6920",
   "metadata": {},
   "outputs": [],
   "source": [
    "'''\n",
    "filter() is a built-in function in python.The filter function can be applied to an iterable such as list\n",
    "or a dictionary and create a new iterator.\n",
    "The new iterator can filter out certain specific elements based on the condition that you provide very \n",
    "efficiently.\n",
    "\n",
    "age=[4,12,17,18,24,32]\n",
    "\n",
    "def myfunc(x):\n",
    "        if x<18:\n",
    "           return False\n",
    "        else:\n",
    "           return True\n",
    "adults=filter(myfunc,age)\n",
    "for i in adults:\n",
    "       print(i)\n",
    "'''"
   ]
  },
  {
   "cell_type": "markdown",
   "id": "e7a097b3-8c94-4c47-bb39-334d1d5b395c",
   "metadata": {},
   "source": [
    "Q-24. Write a Python program to determine if a given number is prime or not using if-else."
   ]
  },
  {
   "cell_type": "code",
   "execution_count": 48,
   "id": "8b45f926-4cfb-4edc-9d0e-b32948bedbb6",
   "metadata": {},
   "outputs": [
    {
     "name": "stdin",
     "output_type": "stream",
     "text": [
      "enter any num 7\n"
     ]
    },
    {
     "name": "stdout",
     "output_type": "stream",
     "text": [
      "prime no\n"
     ]
    }
   ],
   "source": [
    "num=int(input('enter any num'))\n",
    "n=0\n",
    "for i in range(2,int(num/2)+1):\n",
    "                if num%i==0:\n",
    "                     print('not a prime no')\n",
    "                     n=1\n",
    "                     break\n",
    "                        \n",
    "if n==0:                        \n",
    "     print('prime no')                "
   ]
  },
  {
   "cell_type": "markdown",
   "id": "03c64d48-f75b-4913-8af7-02aa8f952822",
   "metadata": {},
   "source": [
    "# map"
   ]
  },
  {
   "cell_type": "markdown",
   "id": "f412cc37-a5ec-4ec2-bef3-56f551eaf49f",
   "metadata": {},
   "source": [
    "Q-1. Explain the purpose of the `map()` function in Python and provide an example of how it can be\n",
    "used to apply a function to each element of an iterable"
   ]
  },
  {
   "cell_type": "code",
   "execution_count": null,
   "id": "a34712dd-efee-4125-830d-02d28ac62afe",
   "metadata": {},
   "outputs": [],
   "source": [
    "'''\n",
    "map function->\n",
    "------------\n",
    "map in python is a function that works as an iterator to return a result after applying a function to every\n",
    "element of an iterable(tuple,list,etc.).it is used when you want to apply a single transformation fuction\n",
    "to all the iterable elements.\n",
    "the iterable and function are passed as arguments to the map in python.\n",
    "\n",
    "for example->\n",
    "------------\n",
    "\n",
    "# creating a list\n",
    "l=[2,4,3,6]\n",
    "\n",
    "#square of all element of the list\n",
    "a=list(map(lambda a:a*a,l))\n",
    "\n",
    "#print the result\n",
    "print(a)\n",
    "'''"
   ]
  },
  {
   "cell_type": "markdown",
   "id": "abe00fdb-2bd9-451f-b4ce-52d8cd9eda02",
   "metadata": {},
   "source": [
    "Q-2. Write a Python program that uses the `map()` function to square each element of a list of\n",
    "numbers."
   ]
  },
  {
   "cell_type": "code",
   "execution_count": 10,
   "id": "606b56ac-9a6c-4259-b47b-c3b13103646d",
   "metadata": {},
   "outputs": [
    {
     "data": {
      "text/plain": [
       "[4, 16, 9, 36]"
      ]
     },
     "execution_count": 10,
     "metadata": {},
     "output_type": "execute_result"
    }
   ],
   "source": [
    "\n",
    "# creating a list\n",
    "l=[2,4,3,6]\n",
    "\n",
    "#square of all element of the list\n",
    "a=list(map(lambda a:a*a,l))\n",
    "\n",
    "#print the result\n",
    "print(a)"
   ]
  },
  {
   "cell_type": "markdown",
   "id": "6258f2c9-5555-4da9-a27e-027dc50cc00d",
   "metadata": {},
   "source": [
    "Q-3. How does the `map()` function differ from a list comprehension in Python, and when would you\n",
    "choose one over the other?"
   ]
  },
  {
   "cell_type": "code",
   "execution_count": null,
   "id": "b1b0cd63-17c6-4c8f-b5d2-7bf4e8a8424a",
   "metadata": {},
   "outputs": [],
   "source": [
    "'''\n",
    "list comprehension returns a list,whereas the map function returns an object of iterable.\n",
    "list comprehension execution is faster than that of map function when the formula expression is \n",
    "huge and complex.\n",
    "\n",
    "when would you choose one over the other?\n",
    " \n",
    "list comprehension is faster than map when we need to evaluate expression that are too long or complicated\n",
    "to express\n",
    " \n",
    "map is faster in case of calling an already defined function(as no lambda is required) \n",
    " \n",
    "'''"
   ]
  },
  {
   "cell_type": "markdown",
   "id": "349e901f-aabc-4a94-b4cb-49f769a4c3b8",
   "metadata": {},
   "source": [
    "Q-4. Create a Python program that uses the `map()` function to convert a list of names to uppercase."
   ]
  },
  {
   "cell_type": "code",
   "execution_count": 13,
   "id": "91763a3b-1d4a-4d85-8c23-c6152e54ef38",
   "metadata": {},
   "outputs": [
    {
     "data": {
      "text/plain": [
       "['PW', 'SUDH', 'KRISH']"
      ]
     },
     "execution_count": 13,
     "metadata": {},
     "output_type": "execute_result"
    }
   ],
   "source": [
    "\n",
    "l=['pw','sudh','krish']\n",
    "\n",
    "#convert the list of element into uppercase\n",
    "up_case=list(map(lambda a:a.upper(),l))\n",
    "\n",
    "#print the result\n",
    "print(up_case)"
   ]
  },
  {
   "cell_type": "markdown",
   "id": "b56e42eb-6d19-4237-baa5-80d189f793de",
   "metadata": {},
   "source": [
    "Q-5. Write a Python program that uses the `map()` function to calculate the length of each word in a\n",
    "list of strings"
   ]
  },
  {
   "cell_type": "code",
   "execution_count": null,
   "id": "2531ccaf-a37f-4c4e-8096-8a81d0e98a73",
   "metadata": {},
   "outputs": [],
   "source": [
    " \n",
    "l=['pw','sudh','krish','pwskill']\n",
    "\n",
    "#length of string in list\n",
    "len_l=list(map(lambda a:len(a),l))\n",
    "\n",
    "#print the result\n",
    "print(len_l)"
   ]
  },
  {
   "cell_type": "markdown",
   "id": "edf17e21-0e6a-49c3-bcfd-d2cae2833b6f",
   "metadata": {},
   "source": [
    "Q-6. How can you use the `map()` function to apply a custom function to elements of multiple lists\n",
    "simultaneously in Python?"
   ]
  },
  {
   "cell_type": "code",
   "execution_count": 5,
   "id": "806d600e-cabd-4c02-be1d-202ce3363e03",
   "metadata": {},
   "outputs": [
    {
     "name": "stdout",
     "output_type": "stream",
     "text": [
      "[7, 10, 12, 15]\n"
     ]
    }
   ],
   "source": [
    "# list1\n",
    "l1=[1,3,4,6]\n",
    "\n",
    "# list2\n",
    "l2=[6,7,8,9]\n",
    "\n",
    "# apply a custom function to elements of multiple lists simultaneously \n",
    "result=list(map(lambda a,b:a+b,l1,l2))\n",
    "print(result)"
   ]
  },
  {
   "cell_type": "markdown",
   "id": "c3c98952-a04a-498a-bd12-845fb47f15ec",
   "metadata": {},
   "source": [
    "Q-7. Create a Python program that uses `map()` to convert a list of temperatures from Celsius to\n",
    "Fahrenheit."
   ]
  },
  {
   "cell_type": "code",
   "execution_count": 19,
   "id": "2de5d504-8048-44e9-8515-228c668d82fa",
   "metadata": {},
   "outputs": [
    {
     "data": {
      "text/plain": [
       "[68.0, 86.0, 104.0, 140.0]"
      ]
     },
     "execution_count": 19,
     "metadata": {},
     "output_type": "execute_result"
    }
   ],
   "source": [
    "#create a list\n",
    "l=[20,30,40,60]\n",
    "\n",
    "# convert a list of temperatures from Celsius to Fahrenheit.\n",
    "a=list(map(lambda a:(a*9/5)+32,l)) \n",
    "\n",
    "#print the result\n",
    "print(a)"
   ]
  },
  {
   "cell_type": "markdown",
   "id": "16fdcb47-de3b-4082-bac4-33d06ecd5915",
   "metadata": {},
   "source": [
    "Q-8. Write a Python program that uses the `map()` function to round each element of a list of\n",
    "floating-point numbers to the nearest integer."
   ]
  },
  {
   "cell_type": "code",
   "execution_count": 11,
   "id": "ffd17f0b-2ce4-4304-acf0-e9e98f0cdb87",
   "metadata": {},
   "outputs": [
    {
     "data": {
      "text/plain": [
       "[3, 6, 8, 2]"
      ]
     },
     "execution_count": 11,
     "metadata": {},
     "output_type": "execute_result"
    }
   ],
   "source": [
    "def round_no(n):\n",
    "        if n>int(n)+.5:\n",
    "               return int(n)+1\n",
    "        else:\n",
    "              return int(n)\n",
    "\n",
    "#create a list            \n",
    "l1=[2.8,6.1,7.6,1.8]\n",
    "\n",
    "#round each element of a list\n",
    "round_list=list(map(round_no ,l1))\n",
    "\n",
    "#print the result\n",
    "print(round_list)"
   ]
  },
  {
   "cell_type": "markdown",
   "id": "c4a057ba-537d-4d3b-aca3-e5b8aa073f8e",
   "metadata": {},
   "source": [
    "# Reduce"
   ]
  },
  {
   "cell_type": "markdown",
   "id": "b4eb403d-61b6-4db8-81b9-509ed685a15b",
   "metadata": {},
   "source": [
    "Q-1.What is the `reduce()` function in Python, and what module should you import to use it? Provide\n",
    "an example of its basic usage"
   ]
  },
  {
   "cell_type": "code",
   "execution_count": null,
   "id": "bb140d3e-e782-48f3-9894-6b32ceef3b38",
   "metadata": {},
   "outputs": [],
   "source": [
    "'''\n",
    "Reduce->\n",
    "------\n",
    "The reduce (fun,seq) function is used to apply a particular function passed in its agruments to all list\n",
    "elements mentioned in the sequence passed along.\n",
    "\n",
    "The function is defined in 'functools' module\n",
    "\n",
    "synatx-\n",
    "import functools\n",
    "\n",
    "for example-\n",
    "-----------\n",
    "\n",
    "#create a list\n",
    "l=[2,3,4,1]\n",
    "\n",
    "# product of all element of a list\n",
    "reduce(lambda a,b:a*b,l)\n",
    "\n",
    "'''"
   ]
  },
  {
   "cell_type": "markdown",
   "id": "a5cf5485-4c42-45d8-8c51-c213940823d5",
   "metadata": {},
   "source": [
    "Q-2 using reduce find the product of all element of a list"
   ]
  },
  {
   "cell_type": "code",
   "execution_count": 6,
   "id": "bbbffbca-2f78-4b2f-b3e6-c7ca661b0cb2",
   "metadata": {},
   "outputs": [
    {
     "data": {
      "text/plain": [
       "24"
      ]
     },
     "execution_count": 6,
     "metadata": {},
     "output_type": "execute_result"
    }
   ],
   "source": [
    "\n",
    "#import the package\n",
    "from functools import reduce\n",
    "\n",
    "#create a list\n",
    "l=[2,3,4,1]\n",
    "\n",
    "# product of all element of a list\n",
    "reduce(lambda a,b:a*b,l)"
   ]
  },
  {
   "cell_type": "markdown",
   "id": "7ad64767-77dc-4560-9495-2691e111bc12",
   "metadata": {},
   "source": [
    "Q-3 using reduce find the maximum of the list"
   ]
  },
  {
   "cell_type": "code",
   "execution_count": 7,
   "id": "c50dc0c6-6604-4a50-a4d8-c1f952486d44",
   "metadata": {},
   "outputs": [
    {
     "name": "stdout",
     "output_type": "stream",
     "text": [
      "maximum element : 8\n"
     ]
    }
   ],
   "source": [
    "\n",
    "from functools import reduce\n",
    "#create a list\n",
    "l=[2,3,4,6,7,8]\n",
    "\n",
    "#find the maximum element of list\n",
    "print('maximum element :',reduce(lambda a,b:a if a>b else b,l))"
   ]
  },
  {
   "cell_type": "markdown",
   "id": "ec562529-aa0a-416c-ba0a-d9cc6cc5855f",
   "metadata": {},
   "source": [
    "Q-4 How can you use the `reduce()` function to concatenate a list of strings into a single string?"
   ]
  },
  {
   "cell_type": "code",
   "execution_count": 13,
   "id": "ef9639d6-6e0b-436f-8c9f-47f736615c04",
   "metadata": {},
   "outputs": [
    {
     "data": {
      "text/plain": [
       "'pw sudh krish pwskill'"
      ]
     },
     "execution_count": 13,
     "metadata": {},
     "output_type": "execute_result"
    }
   ],
   "source": [
    "\n",
    "from functools import reduce\n",
    "\n",
    "li=['pw','sudh','krish','pwskill']\n",
    "str1=''\n",
    "\n",
    "def add(str1,a):\n",
    "          str1+=' '+a\n",
    "          return str1   \n",
    "\n",
    "        \n",
    "a=reduce(add,li)\n",
    "print(a)"
   ]
  },
  {
   "cell_type": "markdown",
   "id": "ea1f60c2-a239-4d1a-a32f-1ce5b3d2dee8",
   "metadata": {},
   "source": [
    "Q-5 using reduce find factorial of a number"
   ]
  },
  {
   "cell_type": "code",
   "execution_count": 8,
   "id": "aec40d78-c011-4c74-9763-6af7ce5fdabc",
   "metadata": {},
   "outputs": [
    {
     "data": {
      "text/plain": [
       "24"
      ]
     },
     "execution_count": 8,
     "metadata": {},
     "output_type": "execute_result"
    }
   ],
   "source": [
    "\n",
    "from functools import reduce\n",
    "n=4\n",
    "\n",
    "# calculate the factorial of a number\n",
    "reduce(lambda a,b:a*b,range(1,n+1))"
   ]
  },
  {
   "cell_type": "markdown",
   "id": "e092136e-de9a-45b3-a954-51a7bd0b3e30",
   "metadata": {},
   "source": [
    "Q-6. Create a Python program that uses `reduce()` to find the GCD (Greatest Common Divisor) of a list \n",
    "  of numbers."
   ]
  },
  {
   "cell_type": "code",
   "execution_count": 6,
   "id": "f9d4dac2-18b2-498b-adc1-09633f8bfc24",
   "metadata": {},
   "outputs": [
    {
     "name": "stdout",
     "output_type": "stream",
     "text": [
      "gcd of nums: 8\n"
     ]
    }
   ],
   "source": [
    "\n",
    "import math\n",
    "from functools import reduce\n",
    "def gcd(a,b):\n",
    "      return math.gcd(a,b)\n",
    "\n",
    "num=[32,40,24,56,16]\n",
    "\n",
    "g=reduce(gcd,num)\n",
    "print('gcd of nums:',g)\n",
    "    "
   ]
  },
  {
   "cell_type": "markdown",
   "id": "d4aed319-27a0-4121-9b57-4a2df5acb72c",
   "metadata": {},
   "source": [
    " Q-7 using reduce find the sum of digits of number"
   ]
  },
  {
   "cell_type": "code",
   "execution_count": 14,
   "id": "22664a8d-a64b-464a-819f-ff5eda1815b5",
   "metadata": {},
   "outputs": [
    {
     "data": {
      "text/plain": [
       "8"
      ]
     },
     "execution_count": 14,
     "metadata": {},
     "output_type": "execute_result"
    }
   ],
   "source": [
    "\n",
    "from functools import reduce\n",
    "l1=[]\n",
    "n=314\n",
    "#list to store the digit of number\n",
    "while n!=0:\n",
    "    a=n%10\n",
    "    l1.append(a)\n",
    "    n=n/10\n",
    "# sum of all the digits    \n",
    "int(reduce(lambda a,b:a+b,l1))"
   ]
  },
  {
   "cell_type": "markdown",
   "id": "efc144a6-0906-4726-bec2-ebd14eb5dc73",
   "metadata": {},
   "source": [
    "# Filter"
   ]
  },
  {
   "cell_type": "markdown",
   "id": "e00a1700-2c53-49f5-80e6-46189bf8d151",
   "metadata": {},
   "source": [
    "Q-1. Explain the purpose of the `filter()` function in Python and provide an example of how it can be\n",
    "used to filter elements from an iterable."
   ]
  },
  {
   "cell_type": "code",
   "execution_count": null,
   "id": "1639d6be-d9f8-4b4b-be67-073fd8ceb9bb",
   "metadata": {},
   "outputs": [],
   "source": [
    "'''\n",
    "filter() is a built-in function in python.The filter function can be applied to an iterable such as list\n",
    "or a dictionary and create a new iterator.\n",
    "The new iterator can filter out certain specific elements based on the condition that you provide very \n",
    "efficiently.\n",
    "\n",
    "age=[4,12,17,18,24,32]\n",
    "\n",
    "def myfunc(x):\n",
    "        if x<18:\n",
    "           return False\n",
    "        else:\n",
    "           return True\n",
    "adults=filter(myfunc,age)\n",
    "for i in adults:\n",
    "       print(i)\n",
    "\n",
    "'''"
   ]
  },
  {
   "cell_type": "markdown",
   "id": "cfb2db9c-106f-4f4b-84c9-1647284bbb6e",
   "metadata": {},
   "source": [
    "Q-2. Write a Python program that uses the `filter()` function to select even numbers from a list of\n",
    "integers."
   ]
  },
  {
   "cell_type": "code",
   "execution_count": 16,
   "id": "e929be4c-89b6-4835-8d23-359dca26699b",
   "metadata": {},
   "outputs": [
    {
     "name": "stdout",
     "output_type": "stream",
     "text": [
      "2 4 8 "
     ]
    }
   ],
   "source": [
    "li=[1,2,3,4,7,8,9]\n",
    "\n",
    "def checknum(n):\n",
    "        if n%2==0:\n",
    "            return True\n",
    "        else:\n",
    "            return False\n",
    "        \n",
    "even=filter(checknum,li)\n",
    "for i in even:\n",
    "      print(i,end=' ')"
   ]
  },
  {
   "cell_type": "markdown",
   "id": "26ad627b-f115-4789-b52c-8862e8a30d39",
   "metadata": {},
   "source": [
    "Q-3. Create a Python program that uses the `filter()` function to select names that start with a specific\n",
    "letter from a list of strings."
   ]
  },
  {
   "cell_type": "code",
   "execution_count": 24,
   "id": "e0705284-ca37-4e33-8ae5-739832154516",
   "metadata": {},
   "outputs": [
    {
     "name": "stdout",
     "output_type": "stream",
     "text": [
      "sudh\n",
      "suman\n"
     ]
    }
   ],
   "source": [
    "#create a list\n",
    "li=['pw','sudh','pwskill','suman']\n",
    "\n",
    "# check string is start with 's'\n",
    "def checkl(n):\n",
    "        if n[0]=='s':\n",
    "              return True\n",
    "        else:\n",
    "             return False\n",
    "start_s=filter(checkl,li) \n",
    "# print the result\n",
    "for i in start_s:\n",
    "         print(i)"
   ]
  },
  {
   "cell_type": "markdown",
   "id": "013922a6-bd09-46bb-93bb-bcd5974293ac",
   "metadata": {},
   "source": [
    "Q-4. Write a Python program that uses the `filter()` function to select prime numbers from a list of\n",
    "integers."
   ]
  },
  {
   "cell_type": "code",
   "execution_count": 32,
   "id": "812f6ece-6de3-4fd6-aa6c-fbd72c8b7529",
   "metadata": {},
   "outputs": [
    {
     "name": "stdout",
     "output_type": "stream",
     "text": [
      "3 7 11 "
     ]
    }
   ],
   "source": [
    "# check number is prime\n",
    "def ispalindrom(n):\n",
    "        for i in range(2,int(n/2)+1):\n",
    "               if n%i==0:\n",
    "                    return False\n",
    "        return True  \n",
    "    \n",
    "#create a list\n",
    "li=[3,4,6,7,8,9,11,15]\n",
    "# filter the list\n",
    "prime_no=filter(ispalindrom,li)  \n",
    "\n",
    "#print the result\n",
    "for i in prime_no:\n",
    "         print(i,end=' ')"
   ]
  },
  {
   "cell_type": "markdown",
   "id": "28c6696a-4af9-4cbe-938b-dd3c1cce0138",
   "metadata": {},
   "source": [
    "Q-5. How can you use the `filter()` function to remove None values from a list in Python?"
   ]
  },
  {
   "cell_type": "code",
   "execution_count": 37,
   "id": "c4bea164-cfb5-4800-b8b4-2ba2d7a81042",
   "metadata": {},
   "outputs": [
    {
     "name": "stdout",
     "output_type": "stream",
     "text": [
      "[1, 2, 3, 6]\n"
     ]
    }
   ],
   "source": [
    "mylist=[1,2,None,3,None,6]\n",
    "\n",
    "new_list=list(filter(lambda x:x is not None,mylist))\n",
    "\n",
    "print(new_list)"
   ]
  },
  {
   "cell_type": "markdown",
   "id": "03891424-36b4-40a8-9174-d3265dc56868",
   "metadata": {},
   "source": [
    "Q-6. Create a Python program that uses `filter()` to select words longer than a certain length from a\n",
    "list of strings."
   ]
  },
  {
   "cell_type": "code",
   "execution_count": 33,
   "id": "29820dc1-964d-460d-a5bd-1ee00ae60a70",
   "metadata": {},
   "outputs": [
    {
     "name": "stdout",
     "output_type": "stream",
     "text": [
      "pwskill banana "
     ]
    }
   ],
   "source": [
    "li=['pw','pwskill','man','banana']\n",
    "\n",
    "def check_n(n):\n",
    "        if len(n)>4:\n",
    "             return True\n",
    "        else: \n",
    "             return False\n",
    "\n",
    "li=['pw','pwskill','man','banana']            \n",
    "# filter the list\n",
    "str1=filter(check_n,li)  \n",
    "\n",
    "#print the result\n",
    "for i in str1:\n",
    "         print(i,end=' ')            "
   ]
  },
  {
   "cell_type": "markdown",
   "id": "55134c9e-dd97-4e06-b5cf-7461b3e968d6",
   "metadata": {},
   "source": [
    "Q-7. Write a Python program that uses the `filter()` function to select elements greater than a\n",
    "specified threshold from a list of values."
   ]
  },
  {
   "cell_type": "code",
   "execution_count": 35,
   "id": "8632baea-4946-4e6b-954e-03a6bef00fd5",
   "metadata": {},
   "outputs": [
    {
     "name": "stdout",
     "output_type": "stream",
     "text": [
      "26 60 30 "
     ]
    }
   ],
   "source": [
    "def check_n(n):\n",
    "        t_value=20\n",
    "        if n>t_value:\n",
    "              return True\n",
    "        else:\n",
    "              return False\n",
    "li=[2,3,6,9,26,60,30]\n",
    "         \n",
    "num=filter(check_n,li)\n",
    "\n",
    "#print the result\n",
    "for i in num:\n",
    "         print(i,end=' ') \n"
   ]
  },
  {
   "cell_type": "markdown",
   "id": "ffae0797-dff6-40d9-b264-788e6a827a76",
   "metadata": {},
   "source": [
    "# Recursion"
   ]
  },
  {
   "cell_type": "markdown",
   "id": "f6b979a6-f425-450b-9417-581cbe603b45",
   "metadata": {},
   "source": [
    "Q-1. Explain the concept of recursion in Python. How does it differ from iteration?"
   ]
  },
  {
   "cell_type": "code",
   "execution_count": null,
   "id": "0d49fae0-5659-4c16-b662-5a2d9dafd1b3",
   "metadata": {},
   "outputs": [],
   "source": [
    "'''\n",
    "Recursion->\n",
    "---------\n",
    "A process in which a function calls itself is called recursion.\n",
    "This method is used when a certain problem is defined in terms of itself.\n",
    "\n",
    "How does it differ from iteration-->\n",
    "---------------------------------\n",
    "Recursion and iteration are both different ways to execute a set of instruction repeatedly.\n",
    "In recursion ,we use function to calls to execute the statements repeatedly inside the function body,while \n",
    "in teration ,we use loop like 'for' and 'while' to do the same.\n",
    "\n",
    "\n",
    "'''"
   ]
  },
  {
   "cell_type": "markdown",
   "id": "ac007779-e56c-4e96-bd53-b61499ad67c9",
   "metadata": {},
   "source": [
    "Q-2 using recursion find the factorial of a number"
   ]
  },
  {
   "cell_type": "code",
   "execution_count": 18,
   "id": "7cdf8b09-60cb-47b2-9acb-0a44026fba93",
   "metadata": {},
   "outputs": [
    {
     "data": {
      "text/plain": [
       "24"
      ]
     },
     "execution_count": 18,
     "metadata": {},
     "output_type": "execute_result"
    }
   ],
   "source": [
    "\n",
    "def fact_no(n):\n",
    "    if n<=1:\n",
    "        return 1\n",
    "    return n*fact_no(n-1)\n",
    "\n",
    "#call the function\n",
    "fact_no(4)"
   ]
  },
  {
   "cell_type": "markdown",
   "id": "89df76aa-54a7-4680-bdca-012fb82a67ec",
   "metadata": {},
   "source": [
    "Q-3 using recursion find the nth fibonacci number"
   ]
  },
  {
   "cell_type": "code",
   "execution_count": 17,
   "id": "e5d16b16-3417-44ff-a36d-0ef4d466fe6a",
   "metadata": {},
   "outputs": [
    {
     "data": {
      "text/plain": [
       "8"
      ]
     },
     "execution_count": 17,
     "metadata": {},
     "output_type": "execute_result"
    }
   ],
   "source": [
    "\n",
    "def fib_no(n):\n",
    "    if n<=1:\n",
    "        return n\n",
    "    return fib_no(n-1)+fib_no(n-2)\n",
    "\n",
    "#call the function\n",
    "fib_no(6)"
   ]
  },
  {
   "cell_type": "markdown",
   "id": "6a739391-1964-4929-9e7e-7ae3440292c4",
   "metadata": {},
   "source": [
    "Q-4 using recursion calculate the sum of all elements in a list"
   ]
  },
  {
   "cell_type": "code",
   "execution_count": 11,
   "id": "2562dc5b-c236-4e4b-bbc7-8da6cea6c541",
   "metadata": {},
   "outputs": [
    {
     "name": "stdout",
     "output_type": "stream",
     "text": [
      "10\n"
     ]
    }
   ],
   "source": [
    "\n",
    "def sum_list(l,n):\n",
    "        if n==0:\n",
    "            return 0\n",
    "        else:\n",
    "            return l[n-1]+sum_list(l,n-1)\n",
    "            \n",
    "l1=[1,2,3,4]\n",
    "l=len(l1)\n",
    "print(sum_list(l1,l))"
   ]
  },
  {
   "cell_type": "markdown",
   "id": "3ad932a3-9191-4330-a8b1-787c1e4014cd",
   "metadata": {},
   "source": [
    "Q-5. How can you prevent a recursive function from running indefinitely, causing a stack overflow\n",
    "error?"
   ]
  },
  {
   "cell_type": "code",
   "execution_count": null,
   "id": "9834b496-e231-408d-a98f-4a7a717f5b01",
   "metadata": {},
   "outputs": [],
   "source": [
    "'''\n",
    "By using a valid base conditon we prevent a recursive function from running indefinitely\n",
    "\n",
    "set the maximum depth of the python interpreter stack to limit.The limits prevents infinte recursion\n",
    "from causing an overflow of the c stack and crashing python.The highest possible limit is platfrom-dependent\n",
    "'''"
   ]
  },
  {
   "cell_type": "markdown",
   "id": "b79d7990-8104-4eea-93ec-76939c7ae48e",
   "metadata": {},
   "source": [
    "Q-6. Create a recursive Python function to find the greatest common divisor (GCD) of two numbers\n",
    "using the Euclidean algorithm."
   ]
  },
  {
   "cell_type": "code",
   "execution_count": 4,
   "id": "572db847-6a3a-4c21-8c9f-35a6194060b9",
   "metadata": {},
   "outputs": [
    {
     "name": "stdout",
     "output_type": "stream",
     "text": [
      "The gcd of 60 and 40 is:\n",
      "12\n"
     ]
    }
   ],
   "source": [
    "def gcd(a,b):\n",
    "        if (b==0):\n",
    "            return a\n",
    "        else:\n",
    "            return gcd(b,a%b)\n",
    "        \n",
    "a=60\n",
    "b=48\n",
    "\n",
    "print('The gcd of 60 and 40 is:')\n",
    "print(gcd(a,b))"
   ]
  },
  {
   "cell_type": "markdown",
   "id": "b1a91a0e-1b0c-4361-ac4e-5cde88270076",
   "metadata": {},
   "source": [
    "Q-7. Write a recursive Python function to reverse a string."
   ]
  },
  {
   "cell_type": "code",
   "execution_count": 10,
   "id": "e0395fbd-3b24-4760-84fc-ab778547a7d9",
   "metadata": {},
   "outputs": [
    {
     "data": {
      "text/plain": [
       "'llikswp'"
      ]
     },
     "execution_count": 10,
     "metadata": {},
     "output_type": "execute_result"
    }
   ],
   "source": [
    "def rev_s(str1,str2,l):\n",
    "        if l==1:\n",
    "                n=str2+str1[0]\n",
    "                return n\n",
    "        else:\n",
    "             return str1[l-1] + rev_s(str1,str2,l-1)\n",
    "        \n",
    "str1='pwskill'  \n",
    "str2=''\n",
    "\n",
    "rev_s(str1,str2,7)"
   ]
  },
  {
   "cell_type": "markdown",
   "id": "d4d737eb-4773-4042-8648-fbbb01f3d5e9",
   "metadata": {},
   "source": [
    "Q-8. Create a recursive Python function to calculate the power of a number (x^n)."
   ]
  },
  {
   "cell_type": "code",
   "execution_count": 5,
   "id": "31e85bfa-6d51-43ec-bf1c-7667b6f8aa7a",
   "metadata": {},
   "outputs": [
    {
     "name": "stdin",
     "output_type": "stream",
     "text": [
      "enter the number 4\n",
      "enter the power of num 6\n"
     ]
    },
    {
     "data": {
      "text/plain": [
       "4096"
      ]
     },
     "execution_count": 5,
     "metadata": {},
     "output_type": "execute_result"
    }
   ],
   "source": [
    "def pow(x,n):\n",
    "        if n==1:\n",
    "            return x\n",
    "        else: \n",
    "            return x*pow(x,n-1)\n",
    "n=int(input('enter the number'))\n",
    "l=int(input('enter the power of num'))        \n",
    "pow(n,l)        "
   ]
  },
  {
   "cell_type": "markdown",
   "id": "8c4cbd38-41af-4cd4-ac1b-1048dbe69547",
   "metadata": {},
   "source": [
    "Q-9. Write a recursive Python function to find all permutations of a given string."
   ]
  },
  {
   "cell_type": "code",
   "execution_count": 3,
   "id": "6c2096f5-c7f3-4bcc-9f75-054e70dd89fb",
   "metadata": {},
   "outputs": [
    {
     "name": "stdout",
     "output_type": "stream",
     "text": [
      " abc\n",
      " acb\n",
      " bac\n",
      " bca\n",
      " cab\n",
      " cba\n"
     ]
    }
   ],
   "source": [
    "\n",
    "def permutations(remaining,ans=' '):\n",
    "            if len(remaining)==0:\n",
    "                       print(ans)\n",
    "            for i in range(len(remaining)):\n",
    "                        newans=ans+remaining[i]\n",
    "                        newRemaining=remaining[0:i]+remaining[i+1:]\n",
    "                        \n",
    "                        permutations(newRemaining,newans)\n",
    "str1='abc'\n",
    "permutations(str1)"
   ]
  },
  {
   "cell_type": "markdown",
   "id": "71436069-11cb-4ae4-be6d-53f85b741743",
   "metadata": {},
   "source": [
    "Q-10. Write a recursive Python function to check if a string is a palindrome."
   ]
  },
  {
   "cell_type": "code",
   "execution_count": 3,
   "id": "42dbd2de-8f9f-4bae-9542-580f3f877433",
   "metadata": {},
   "outputs": [
    {
     "name": "stdout",
     "output_type": "stream",
     "text": [
      "string is palindrom\n"
     ]
    }
   ],
   "source": [
    "def rev_s(str1,str2,l):\n",
    "        if l==1:\n",
    "                n=str2+str1[0]\n",
    "                return n\n",
    "        else:\n",
    "             return str1[l-1] + rev_s(str1,str2,l-1)\n",
    "        \n",
    "str1='geeg'  \n",
    "str2=''\n",
    "l=len(str1)\n",
    "if (rev_s(str1,str2,l))==str1:\n",
    "                print('string is palindrom')\n",
    "else:\n",
    "           print('string is not palindrom')"
   ]
  },
  {
   "cell_type": "markdown",
   "id": "d9222d98-c405-41c0-ae5e-a0ebe623877e",
   "metadata": {},
   "source": [
    "Q-11. Create a recursive Python function to generate all possible combinations of a list of element"
   ]
  },
  {
   "cell_type": "code",
   "execution_count": 24,
   "id": "0676148c-cc13-4d40-866e-d34f5830e3a6",
   "metadata": {},
   "outputs": [
    {
     "name": "stdout",
     "output_type": "stream",
     "text": [
      "[[], [1], [2], [1, 2], [3], [1, 3], [2, 3], [1, 2, 3]]\n"
     ]
    }
   ],
   "source": [
    "def generate_combinations_recursive(nums):\n",
    "    result = []\n",
    "    if not nums:\n",
    "        return [[]]\n",
    "    for i in generate_combinations_recursive(nums[1:]):\n",
    "        result.append(i)\n",
    "        result.append([nums[0]] + i)\n",
    "    return result\n",
    "\n",
    "test_list = [1,2,3]\n",
    "print(generate_combinations_recursive(test_list))"
   ]
  },
  {
   "cell_type": "markdown",
   "id": "80591c9e-1a5b-4939-8032-ef3909c0cf76",
   "metadata": {},
   "source": [
    "# Basic of function"
   ]
  },
  {
   "cell_type": "markdown",
   "id": "2a676b0b-b03d-4407-94cb-fb85db0ec088",
   "metadata": {},
   "source": [
    "Q-1 what is function in python and why it is used?"
   ]
  },
  {
   "cell_type": "code",
   "execution_count": null,
   "id": "9a627dfb-0575-4f9f-907e-dff14851e542",
   "metadata": {},
   "outputs": [],
   "source": [
    "\n",
    "'''\n",
    "function-->\n",
    "--------\n",
    "\n",
    "A function is a block of code which only runs when it is called.you can pass data,as parameter into a \n",
    "function.A fuction can return data as a result\n",
    "      \n",
    "why it's used-->\n",
    "--------------\n",
    "Functions provide a couple of benefits:\n",
    "\n",
    "1.Functions allow the same piece of code to run multiple times\n",
    "2.Functions break long programs up into smaller components\n",
    "3.Functions can be shared and used by other programmers\n",
    "\n",
    "'''"
   ]
  },
  {
   "cell_type": "markdown",
   "id": "e97c7332-1c43-4953-a070-77bfa040b4b3",
   "metadata": {},
   "source": [
    "Q-2 how do you define a function in python?"
   ]
  },
  {
   "cell_type": "code",
   "execution_count": null,
   "id": "b45fac39-0e23-476a-bf8d-003f139c4413",
   "metadata": {},
   "outputs": [],
   "source": [
    "'''\n",
    "In python,you define a function with the 'def' keyword,then function identifier(name)\n",
    "followed by parentheses and a colon\n",
    "\n",
    "for example:\n",
    "       def functionname():\n",
    "                  print('hello world')\n",
    "'''"
   ]
  },
  {
   "cell_type": "markdown",
   "id": "55aef9ba-08b2-4013-997c-1639823e6de5",
   "metadata": {},
   "source": [
    "Q-3 Explain the difference between function defination and call"
   ]
  },
  {
   "cell_type": "code",
   "execution_count": null,
   "id": "43a20aa6-10e5-40bf-b8d1-9cd13c722b6a",
   "metadata": {},
   "outputs": [],
   "source": [
    "'''\n",
    "\n",
    "In function defination we define the function that what the function task to do\n",
    "when we call the function when it is needed then it is called function call\n",
    "\n",
    "for example-->\n",
    "\n",
    "def greetings():// function defination\n",
    "           print('hello world')\n",
    "greetings()   //  function call  \n",
    "\n",
    "'''"
   ]
  },
  {
   "cell_type": "markdown",
   "id": "c9016e81-deff-44b0-bec8-534e8e42d610",
   "metadata": {},
   "source": [
    "Q-4. Write a Python program that defines a function to calculate the sum of two numbers and then\n",
    "calls the function."
   ]
  },
  {
   "cell_type": "code",
   "execution_count": 12,
   "id": "17ce34b8-079f-430a-806c-defdfa2aa3aa",
   "metadata": {},
   "outputs": [
    {
     "name": "stdin",
     "output_type": "stream",
     "text": [
      "enter 1 num 6\n",
      "enter 2 num 2\n"
     ]
    },
    {
     "data": {
      "text/plain": [
       "8"
      ]
     },
     "execution_count": 12,
     "metadata": {},
     "output_type": "execute_result"
    }
   ],
   "source": [
    "\n",
    "def sum_no(no1,no2):\n",
    "        sum1=no1+no2\n",
    "        return sum1 \n",
    "n1=int(input('enter 1 num'))\n",
    "n2=int(input('enter 2 num'))\n",
    "\n",
    "#call the function\n",
    "sum_no(n1,n2)    "
   ]
  },
  {
   "cell_type": "markdown",
   "id": "d91f1e48-1bb3-4485-9d4b-53f947b3d3f7",
   "metadata": {},
   "source": [
    "Q-5. What is a function signature, and what information does it typically include"
   ]
  },
  {
   "cell_type": "code",
   "execution_count": null,
   "id": "25b1281f-2889-42c5-85e8-b9480ed00311",
   "metadata": {},
   "outputs": [],
   "source": [
    "\n",
    "'''\n",
    "A function signature (or type signature, or method signature) defines input and output of functions or \n",
    "methods.A function signature includes the function name, its arguments, and in some languages, the \n",
    "return type\n",
    "\n",
    "A signature can include:\n",
    "\n",
    "1.parameters and their types\n",
    "2.a return value and type\n",
    "3.exceptions that might be thrown or passed back\n",
    "4.information about the availability of the method in an object-oriented program (such as the keywords\n",
    "public, static, or prototype).\n",
    "\n",
    "'''"
   ]
  },
  {
   "cell_type": "markdown",
   "id": "2497bdb7-3ba5-4f50-a80b-ff4bb70e4330",
   "metadata": {},
   "source": [
    "Q-6. Create a Python function that takes two arguments and returns their product."
   ]
  },
  {
   "cell_type": "code",
   "execution_count": 4,
   "id": "3619fda9-3d0a-417c-8e82-678972eb22b5",
   "metadata": {},
   "outputs": [
    {
     "data": {
      "text/plain": [
       "6"
      ]
     },
     "execution_count": 4,
     "metadata": {},
     "output_type": "execute_result"
    }
   ],
   "source": [
    "# function to product of two num\n",
    "def prod(n1,n2):\n",
    "         n=n1*n2\n",
    "         return n\n",
    "\n",
    "n1=2\n",
    "n2=3\n",
    "prod(n1,n2)        \n",
    "        "
   ]
  },
  {
   "cell_type": "markdown",
   "id": "84f6c081-c90b-46ed-b35d-5421f1be6b4f",
   "metadata": {},
   "source": [
    "# Function Parameters and Arguments"
   ]
  },
  {
   "cell_type": "markdown",
   "id": "8fc127bd-8e06-4c5f-ad8f-6fb56bdd3305",
   "metadata": {},
   "source": [
    "Q-1 Explain the concepts of formal parameters and actual arguments"
   ]
  },
  {
   "cell_type": "code",
   "execution_count": null,
   "id": "304d8e44-e91a-46d5-9c6f-59db24d3ce24",
   "metadata": {},
   "outputs": [],
   "source": [
    "'''When a function is defined, it may have some parameters. These parameters are \n",
    "useful to receive values from outside of the function. They are called 'formal arguments'.\n",
    "\n",
    "When we call the function, we should pass data or values to the function. These values are called\n",
    "'actual arguments'.\n",
    "In the following code, 'a' and 'b' are formal arguments and 'x' and 'y' are actual arguments.\n",
    "\n",
    "\n",
    "def sum(a, b): #a, b are formal arguments \n",
    "   c = a+b\n",
    "   print(c) \n",
    "x=10 \n",
    "y=15 \n",
    "sum(x, y) # actual arguments'''"
   ]
  },
  {
   "cell_type": "markdown",
   "id": "70ba68d9-7725-4643-9387-ea2556181896",
   "metadata": {},
   "source": [
    "Q-2 write a program that defines a function with default argument values"
   ]
  },
  {
   "cell_type": "code",
   "execution_count": 1,
   "id": "38f08211-bf60-4cca-a77a-bbe20a8b760b",
   "metadata": {},
   "outputs": [
    {
     "data": {
      "text/plain": [
       "60"
      ]
     },
     "execution_count": 1,
     "metadata": {},
     "output_type": "execute_result"
    }
   ],
   "source": [
    "def add(a,b=20,c=30):# here b and c are default arguments\n",
    "    sum1=a+b+c\n",
    "    return sum1\n",
    "\n",
    "add(10)"
   ]
  },
  {
   "cell_type": "markdown",
   "id": "9360fc9c-0350-47f0-9697-1cf71e896ee1",
   "metadata": {},
   "source": [
    "Q-3 How do you use keyword arguments in Python function calls? Provide an example"
   ]
  },
  {
   "cell_type": "code",
   "execution_count": 2,
   "id": "3560b70a-aee1-4dd4-a273-83f09eee1c09",
   "metadata": {},
   "outputs": [
    {
     "name": "stdout",
     "output_type": "stream",
     "text": [
      "i am  sudh\n",
      "my age is  20\n",
      "i am  sudh\n",
      "my age is  20\n"
     ]
    }
   ],
   "source": [
    "def name(name,age):\n",
    "        print('i am ',name)\n",
    "        print('my age is ',age)\n",
    "        \n",
    "name(name='sudh',age=20)# keyword aruments\n",
    "name(age=20,name='sudh')"
   ]
  },
  {
   "cell_type": "markdown",
   "id": "09ffb1bc-06c4-4ce2-9461-a333551b2e89",
   "metadata": {},
   "source": [
    "Q-4. Create a Python function that accepts a variable number of arguments and \n",
    "     calculates their sum"
   ]
  },
  {
   "cell_type": "code",
   "execution_count": 7,
   "id": "d01ebda6-54bc-4d95-9067-c5d4e0e92374",
   "metadata": {},
   "outputs": [
    {
     "name": "stdout",
     "output_type": "stream",
     "text": [
      "31\n",
      "7\n"
     ]
    }
   ],
   "source": [
    "# by using *args we can give any no of arguments to the function\n",
    "\n",
    "def add(*args):\n",
    "    add=0\n",
    "    for i in args:\n",
    "        add=add+i\n",
    "    return add    \n",
    "\n",
    "print(add(1,2,3,4,6,7,8))# giving any no of variable\n",
    "print(add(3,4))\n"
   ]
  },
  {
   "cell_type": "markdown",
   "id": "17867eb1-658c-4699-b34d-2a8c9a9b5490",
   "metadata": {},
   "source": [
    "Q-5. What is the purpose of the `*args` and `**kwargs` syntax in function \n",
    "     parameter lists?"
   ]
  },
  {
   "cell_type": "code",
   "execution_count": null,
   "id": "e8377baa-baa0-4b58-ab15-c5769f957a32",
   "metadata": {},
   "outputs": [],
   "source": [
    "'''\n",
    "*args  =>\n",
    "------\n",
    "\n",
    "Python has *args which allow us to pass the variable number of non keyword arguments to function.\n",
    "\n",
    "In the function, we should use an asterisk * before the parameter name to pass variable length arguments.\n",
    "The arguments are passed as a tuple and these passed arguments make tuple inside the function with\n",
    "same name as the parameter excluding asterisk *.\n",
    "\n",
    "for example=>\n",
    "def adder(*num):\n",
    "    sum = 0\n",
    "    \n",
    "    for n in num:\n",
    "        sum = sum + n\n",
    "\n",
    "    print(\"Sum:\",sum)\n",
    "\n",
    "adder(3,5)\n",
    "\n",
    "**kwargs-->\n",
    "---------\n",
    "\n",
    "Python passes variable length non keyword argument to function using *args but we cannot use this to \n",
    "pass keyword argument. For this problem Python has got a solution called **kwargs, it allows\n",
    "us to pass the variable length of keyword arguments to the function.\n",
    "\n",
    "In the function, we use the double asterisk ** before the parameter name to denote this type of argument.\n",
    "The arguments are passed as a dictionary and these arguments make a dictionary inside function \n",
    "with name same as the parameter excluding double asterisk **.\n",
    "\n",
    "for example=>\n",
    "\n",
    "def intro(**data):\n",
    "    print(\"\\nData type of argument:\",type(data))\n",
    "\n",
    "    for key, value in data.items():\n",
    "        print(\"{} is {}\".format(key,value))\n",
    "\n",
    "intro(Firstname=\"Sita\", Lastname=\"Sharma\", Age=22, Phone=1234567890)\n",
    "'''"
   ]
  },
  {
   "cell_type": "markdown",
   "id": "41f50604-8824-4291-92b7-abc8fa4a26b8",
   "metadata": {},
   "source": [
    "# Return Values and Scoping:"
   ]
  },
  {
   "cell_type": "markdown",
   "id": "8dc97be9-ccfb-4001-b64d-aa13ca84088a",
   "metadata": {},
   "source": [
    "Q-1 Describe the role of the `return` statement in Python functions and provide\n",
    "examples"
   ]
  },
  {
   "cell_type": "code",
   "execution_count": null,
   "id": "d4dc3d03-cfe8-4b32-94af-2e6f93425682",
   "metadata": {},
   "outputs": [],
   "source": [
    "'''A return statement is used to end the execution of the function call and “returns” the result\n",
    "(value of the expression following the return keyword) to the caller. The statements after the return \n",
    "statements are not executed. If the return statement is without any expression, then the special value \n",
    "None is returned.\n",
    "A return statement is overall used to invoke a function so that the passed statements can be executed.\n",
    "\n",
    "for example-->\n",
    "\n",
    "def add(*args):\n",
    "    add=0\n",
    "    for i in args:\n",
    "        add=add+i\n",
    "    return add   # returns the additon of given numbers \n",
    "\n",
    "print(add(1,2,3,4,6,7,8))\n",
    "\n",
    "\n",
    "'''"
   ]
  },
  {
   "cell_type": "markdown",
   "id": "2f0c8c5f-4911-4e0d-90da-d2065b4f393c",
   "metadata": {},
   "source": [
    "Q-2. Explain the concept of variable scope in Python, including local and global variables."
   ]
  },
  {
   "cell_type": "code",
   "execution_count": null,
   "id": "9cc11079-9ecd-4bfe-83b7-6c63bc8f0504",
   "metadata": {},
   "outputs": [],
   "source": [
    "'''\n",
    "variable scope-->\n",
    "---------------\n",
    " The scope of a variable can be defined as the accessibility of a variable in the program. \n",
    " It means whenever a variable is defined in a program, it is not accessible in every portion of it.\n",
    " It might be accessed in some portion or in all portion of it. Another name for scope is visibility. \n",
    " So scope of a variable is actually the part of a program where it is visible. \n",
    "\n",
    "Local Variables-->\n",
    "-----------------\n",
    "When we declare variables inside a function, these variables will have a local scope (within the function).\n",
    "We cannot access them outside the function.\n",
    "\n",
    "These types of variables are called local variables. For example,\n",
    "\n",
    "def greet():\n",
    "\n",
    "    # local variable\n",
    "    message = 'Hello'\n",
    "    \n",
    "    print('Local', message)\n",
    "\n",
    "greet()\n",
    "\n",
    "# try to access message variable \n",
    "# outside greet() function\n",
    "print(message) # This will through error\n",
    "\n",
    "\n",
    "Global Variables==>\n",
    "------------------\n",
    "In Python, a variable declared outside of the function or in global scope is known as a global variable.\n",
    "This means that a global variable can be accessed inside or outside of the function.\n",
    "\n",
    "Let's see an example of how a global variable is created in Python.\n",
    "\n",
    "# declare global variable\n",
    "message = 'Hello'\n",
    "\n",
    "def greet():\n",
    "    # declare local variable\n",
    "    print('Local', message)\n",
    "\n",
    "greet()\n",
    "print('Global', message)"
   ]
  },
  {
   "cell_type": "markdown",
   "id": "12ac2207-40dd-4b34-80e2-4cf8cd3f7d10",
   "metadata": {},
   "source": [
    "Q-3. Write a Python program that demonstrates the use of global variables within functions"
   ]
  },
  {
   "cell_type": "code",
   "execution_count": 11,
   "id": "251ec41b-f7c4-44f2-98fa-366c41734c1b",
   "metadata": {},
   "outputs": [
    {
     "name": "stdout",
     "output_type": "stream",
     "text": [
      "Local Hello\n",
      "Global Hello\n"
     ]
    }
   ],
   "source": [
    "# declare global variable\n",
    "message = 'Hello'\n",
    "\n",
    "def greet():\n",
    "    # declare local variable\n",
    "    print('Local', message)\n",
    "    \n",
    "greet()\n",
    "print('Global', message)"
   ]
  },
  {
   "cell_type": "markdown",
   "id": "3325c6cc-9263-49d9-8277-5a664b890579",
   "metadata": {},
   "source": [
    "Q-4. Create a Python function that calculates the factorial of a number and returns it."
   ]
  },
  {
   "cell_type": "code",
   "execution_count": 14,
   "id": "b2da06e3-d121-4ae1-b736-c19d4fb0fd53",
   "metadata": {},
   "outputs": [
    {
     "data": {
      "text/plain": [
       "24"
      ]
     },
     "execution_count": 14,
     "metadata": {},
     "output_type": "execute_result"
    }
   ],
   "source": [
    "# function to calculate the factorial of a number \n",
    "def fact(n):\n",
    "    fact_num=1\n",
    "    for i in range(1,n+1):\n",
    "            fact_num=fact_num*i\n",
    "    return fact_num\n",
    "\n",
    "#call the function\n",
    "fact(4)        "
   ]
  },
  {
   "cell_type": "markdown",
   "id": "0cf78ed4-0fd5-45de-b575-d5239656be3c",
   "metadata": {},
   "source": [
    "Q-5. How can you access variables defined outside a function from within the function?"
   ]
  },
  {
   "cell_type": "code",
   "execution_count": 5,
   "id": "979e5562-ca12-4617-9476-a154300a710e",
   "metadata": {},
   "outputs": [
    {
     "name": "stdout",
     "output_type": "stream",
     "text": [
      "Local Hello\n",
      "Global Hello\n"
     ]
    }
   ],
   "source": [
    "# declare global variable\n",
    "message = 'Hello'\n",
    "\n",
    "def greet():\n",
    "    # declare local variable\n",
    "    print('Local', message)\n",
    "    \n",
    "greet()\n",
    "print('Global', message)"
   ]
  },
  {
   "cell_type": "markdown",
   "id": "831ed31b-46bc-41a6-826f-5e6de51cc7d4",
   "metadata": {},
   "source": [
    "# Lambda Functions and Higher-Order Functions:"
   ]
  },
  {
   "cell_type": "markdown",
   "id": "3e2e5d51-e7fb-4c96-a72a-4ab45ec6c235",
   "metadata": {},
   "source": [
    "Q-1. What are lambda functions in Python, and when are they typically used?"
   ]
  },
  {
   "cell_type": "code",
   "execution_count": null,
   "id": "d9f31590-949f-4a2b-96a3-c90e2b7f5914",
   "metadata": {},
   "outputs": [],
   "source": [
    "'''\n",
    "lambda function-->\n",
    "-----------------\n",
    "A lambda function is a small anonymous function.\n",
    "\n",
    "A lambda function can take any number of arguments, but can only have one expression.\n",
    "\n",
    "Python Lambda Functions are anonymous function means that the function is without a name. As we already \n",
    "know that the def keyword is used to define a normal function in Python.\n",
    "Similarly, the lambda keyword is used to define an anonymous function in Python. \n",
    "Syntax-\n",
    "lambda arguments : expression\n",
    "\n",
    "when are they typically used-->\n",
    "-----------------------------\n",
    "The power of lambda is better shown when you use them as an anonymous function inside another function.\n",
    "when we need to write small function we use lambda function\n",
    "'''"
   ]
  },
  {
   "cell_type": "markdown",
   "id": "1d7659e1-12cb-453a-84f8-8b84ea8f56e0",
   "metadata": {},
   "source": [
    "Q-2. Write a Python program that uses lambda functions to sort a list of tuples based on the second\n",
    "element."
   ]
  },
  {
   "cell_type": "code",
   "execution_count": 8,
   "id": "b72aeed5-a4c6-4572-9ef5-680aa5b46caa",
   "metadata": {},
   "outputs": [
    {
     "name": "stdout",
     "output_type": "stream",
     "text": [
      "[('sudh', 10), ('pwskill', 20), ('mango', 30)]\n"
     ]
    }
   ],
   "source": [
    "# function to sort the list by second item of tuple\n",
    "def sort_tuple(tup):\n",
    "      \n",
    "        tup.sort(key=lambda x:x[1])\n",
    "        return tup\n",
    "\n",
    "#create a tuple inside list    \n",
    "tup=[('pwskill',20),('sudh',10),('mango',30)]\n",
    "\n",
    "#print the result\n",
    "print(sort_tuple(tup))"
   ]
  },
  {
   "cell_type": "markdown",
   "id": "20cda2eb-2eef-4268-8f02-9aada7d1bc7d",
   "metadata": {},
   "source": [
    "Q-3. Explain the concept of higher-order functions in Python, and provide an exampl"
   ]
  },
  {
   "cell_type": "code",
   "execution_count": null,
   "id": "12385952-a9b5-4799-b203-143b858ad18f",
   "metadata": {},
   "outputs": [],
   "source": [
    "'''A function is called Higher Order Function if it contains other functions as a\n",
    "parameter or returns a \n",
    "function as an output i.e, the functions that operate with another function are known as Higher order \n",
    "Functions. It is worth knowing that this higher order function is applicable for functions and methods \n",
    "as well that takes functions as a parameter or returns a function as a result. Python too supports the\n",
    "concepts of higher order functions.\n",
    "\n",
    "Properties of higher-order functions:\n",
    "\n",
    "A function is an instance of the Object type.\n",
    ".You can store the function in a variable.\n",
    ".You can pass the function as a parameter to another function.\n",
    ".You can return the function from a function.\n",
    ".You can store them in data structures such as hash tables, lists, …\n",
    "\n",
    "for example->\n",
    "-----------\n",
    "\n",
    "def fun1(n):\n",
    "        return n.upper()\n",
    "        \n",
    "print(fun1('hello'))        \n",
    "\n",
    "a=fun1\n",
    "print(a('hello'))\n",
    "\n",
    "'''"
   ]
  },
  {
   "cell_type": "markdown",
   "id": "91829f8a-959d-477f-9975-c0e0ca051012",
   "metadata": {},
   "source": [
    "Q-4. Create a Python function that takes a list of numbers and a function as arguments, applying the\n",
    "function to each element in the list."
   ]
  },
  {
   "cell_type": "code",
   "execution_count": 19,
   "id": "f7f2ec5a-4866-4910-9319-5eb95b0baa78",
   "metadata": {},
   "outputs": [
    {
     "name": "stdout",
     "output_type": "stream",
     "text": [
      "1 4 9 16 "
     ]
    }
   ],
   "source": [
    "#function takes list and function as argument\n",
    "def fun2(fun1,li):\n",
    "     for i in li:\n",
    "        print(fun1(i),end=' ')\n",
    "        \n",
    "        \n",
    "def fun1(a):\n",
    "    sqr=a**2\n",
    "    return sqr\n",
    "\n",
    "#create a list\n",
    "li=[1,2,3,4]\n",
    "#call the function\n",
    "fun2(fun1,li)\n"
   ]
  },
  {
   "cell_type": "markdown",
   "id": "95febee5-3a46-4a2f-97b9-19a50f871c1b",
   "metadata": {},
   "source": [
    "# Built-in Functions:"
   ]
  },
  {
   "cell_type": "markdown",
   "id": "434f23cf-eec6-445a-9bc1-8920320d058b",
   "metadata": {},
   "source": [
    "Q-1. Describe the role of built-in functions like `len()`, `max()`, and `min()` in Python"
   ]
  },
  {
   "cell_type": "code",
   "execution_count": null,
   "id": "ec2a2ac1-5662-456d-a7cf-8c033d9ece6f",
   "metadata": {},
   "outputs": [],
   "source": [
    "'''\n",
    "len()->\n",
    "------\n",
    " The len() function returns the number of items in a object. when the object is a string,the\n",
    " len() function returns the number of character in the string\n",
    " \n",
    "str1='pwskill'\n",
    "len(str1)\n",
    "7\n",
    "\n",
    "max()->\n",
    "-----\n",
    "The max() function returns the item with the highest value,or the item with the highest value in an\n",
    "iterable.\n",
    "\n",
    "li=[2,3,4,9,8,7]\n",
    "max(li)\n",
    "9\n",
    "\n",
    "min()->\n",
    "-----\n",
    "The max() function returns the item with the highest value,or the item with the highest value in an\n",
    "iterable.\n",
    "\n",
    "li=[2,3,4,9,8,7]\n",
    "min(li)\n",
    "2\n",
    "\n",
    "'''"
   ]
  },
  {
   "cell_type": "markdown",
   "id": "bdf71c59-d990-4f3e-a22a-d3f541a086da",
   "metadata": {},
   "source": [
    "Q-2. Write a Python program that uses the `map()` function to apply a function to each element of a\n",
    "list."
   ]
  },
  {
   "cell_type": "code",
   "execution_count": 2,
   "id": "bdd61e78-da7a-4964-9511-9689d7f1b29f",
   "metadata": {},
   "outputs": [
    {
     "name": "stdout",
     "output_type": "stream",
     "text": [
      "[3, 6, 8, 2]\n"
     ]
    }
   ],
   "source": [
    "def round_no(n):\n",
    "        if n>int(n)+.5:\n",
    "               return int(n)+1\n",
    "        else:\n",
    "              return int(n)\n",
    "\n",
    "#create a list            \n",
    "l1=[2.8,6.1,7.6,1.8]\n",
    "\n",
    "#round each element of a list\n",
    "round_list=list(map(round_no ,l1))\n",
    "\n",
    "#print the result\n",
    "print(round_list)"
   ]
  },
  {
   "cell_type": "markdown",
   "id": "f2316758-421d-400a-acea-31ac6a74607e",
   "metadata": {},
   "source": [
    "Q-3. How does the `filter()` function work in Python, and when would you use it?"
   ]
  },
  {
   "cell_type": "code",
   "execution_count": null,
   "id": "e0ba9a65-b2f9-4db4-8318-98c6fa093b41",
   "metadata": {},
   "outputs": [],
   "source": [
    "'''\n",
    "filter() is a built-in function in python.The filter function can be applied to an iterable such as list\n",
    "or a dictionary and create a new iterator.\n",
    "The new iterator can filter out certain specific elements based on the condition that you provide very \n",
    "efficiently.\n",
    "\n",
    "age=[4,12,17,18,24,32]\n",
    "\n",
    "def myfunc(x):\n",
    "        if x<18:\n",
    "           return False\n",
    "        else:\n",
    "           return True\n",
    "adults=filter(myfunc,age)\n",
    "for i in adults:\n",
    "       print(i)\n",
    "       \n",
    "'''       "
   ]
  },
  {
   "cell_type": "markdown",
   "id": "3d93c67e-924d-4827-896d-87fb9f91a898",
   "metadata": {},
   "source": [
    "Q-4. Create a Python program that uses the `reduce()` function to find the product of all elements in\n",
    "a list."
   ]
  },
  {
   "cell_type": "code",
   "execution_count": 1,
   "id": "f0d04aa2-708b-4ffe-adef-8127ffcc6b8a",
   "metadata": {},
   "outputs": [
    {
     "data": {
      "text/plain": [
       "24"
      ]
     },
     "execution_count": 1,
     "metadata": {},
     "output_type": "execute_result"
    }
   ],
   "source": [
    "#import the package\n",
    "from functools import reduce\n",
    "\n",
    "#create a list\n",
    "l=[2,3,4,1]\n",
    "\n",
    "# product of all element of a list\n",
    "reduce(lambda a,b:a*b,l)"
   ]
  },
  {
   "cell_type": "markdown",
   "id": "0b2f515f-ed10-4ce8-89c5-cd03d36b9781",
   "metadata": {},
   "source": [
    "# Function Documentation and Best Practices:"
   ]
  },
  {
   "cell_type": "markdown",
   "id": "7fcdd179-8705-42fe-b20a-9f0ddb767f8d",
   "metadata": {},
   "source": [
    "Q-1. Explain the purpose of docstrings in Python functions and how to write them"
   ]
  },
  {
   "cell_type": "code",
   "execution_count": null,
   "id": "1bf1e551-fc2d-4339-8801-a927ed1130bb",
   "metadata": {},
   "outputs": [],
   "source": [
    "'''\n",
    "Python documentation strings (or docstrings) provide a convenient way of associating documentation with \n",
    "Python modules, functions, classes, and methods. \n",
    "It’s specified in source code that is used, like a comment, to document a specific segment of code. \n",
    "Unlike conventional source code comments, the docstring should describe what the function does, not how.\n",
    "\n",
    "Declaring Docstrings: The docstrings are declared using ”’triple single quotes”’ or “”” triple double\n",
    "quotes “”” just below the class, method, or function declaration. All functions should have a docstring.\n",
    "\n",
    "Accessing Docstrings: The docstrings can be accessed using the __doc__ method of the object or using the\n",
    "help function. The below examples demonstrate how to declare and access a docstring.\n",
    "\n",
    "for example->\n",
    "-----------\n",
    "\n",
    "def my_function():\n",
    "    '''Demonstrates triple double quotes\n",
    "    docstrings and does nothing really.'''\n",
    "  \n",
    "    return None\n",
    " \n",
    "print(\"Using __doc__:\")\n",
    "print(my_function.__doc__)\n",
    " \n",
    "print(\"Using help:\")\n",
    "help(my_function)\n",
    "'''"
   ]
  },
  {
   "cell_type": "markdown",
   "id": "ff0d4f3d-e9f5-4bf7-8683-8974cbb31e9f",
   "metadata": {},
   "source": [
    "Q-2.Decribe some best practices for naming functions and variables in python\n",
    "including naming conventions and guideline."
   ]
  },
  {
   "cell_type": "code",
   "execution_count": null,
   "id": "80123474-6671-496f-b261-89f757d765c4",
   "metadata": {},
   "outputs": [],
   "source": [
    "'''\n",
    "\n",
    "Best practice for function and variable name->\n",
    "--------------------------------------------\n",
    "\n",
    "When naming a function,variable and class you should keep the following things in mind:\n",
    "choose a word with meaning(provide some context)\n",
    "Avoid generic names(like tmp)\n",
    "Attach additional information to a name(use suffix or prefix)\n",
    "name should be discriptive and The function name should clearly describe the purpose of the\n",
    "function\n",
    "\n",
    "python variable name guidlines->\n",
    "-------------------------------\n",
    "\n",
    "> A variable name must start with a letter or the underscore character.\n",
    "> A variable name cannot start with a number.\n",
    "> A variable name can only contain alpha-numeric character and underscores.\n",
    "> Variable names are case-sensitive.\n",
    "\n",
    "fuction name guidlines-\n",
    "----------------------\n",
    "> Function names should be in lower case\n",
    "> Use an underscore to join words in function name\n",
    "\n",
    "\n",
    "'''"
   ]
  }
 ],
 "metadata": {
  "kernelspec": {
   "display_name": "Python 3 (ipykernel)",
   "language": "python",
   "name": "python3"
  },
  "language_info": {
   "codemirror_mode": {
    "name": "ipython",
    "version": 3
   },
   "file_extension": ".py",
   "mimetype": "text/x-python",
   "name": "python",
   "nbconvert_exporter": "python",
   "pygments_lexer": "ipython3",
   "version": "3.10.8"
  }
 },
 "nbformat": 4,
 "nbformat_minor": 5
}
