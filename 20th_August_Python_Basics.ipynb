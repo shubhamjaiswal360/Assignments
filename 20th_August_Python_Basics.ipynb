{
 "cells": [
  {
   "cell_type": "code",
   "execution_count": 36,
   "id": "e24da260-5ae3-4415-b2a2-879444c6cced",
   "metadata": {},
   "outputs": [
    {
     "name": "stdout",
     "output_type": "stream",
     "text": [
      "Program to swap variables\n",
      "Value of x before swap:  7\n",
      "Value of y before swap:  9\n",
      "Value of x after swap:  9\n",
      "Value of y after swap:  7\n"
     ]
    }
   ],
   "source": [
    "'''1. Declare two variables, `x` and `y`, and assign them integer values.\n",
    "Swap the values of these variables without using any temporary\n",
    "variable.'''\n",
    "print('Program to swap variables')\n",
    "# Varibale declaration\n",
    "x, y = 7, 9\n",
    "# printing value of x and y before swap\n",
    "print('Value of x before swap: ', x)\n",
    "print('Value of y before swap: ', y)\n",
    "# Swaping logic - Value of x assign to y and vise-versa\n",
    "x, y = y, x\n",
    "# printing value of x and y before swap\n",
    "print('Value of x after swap: ', x)\n",
    "print('Value of y after swap: ', y)"
   ]
  },
  {
   "cell_type": "code",
   "execution_count": 40,
   "id": "8dbda313-d72c-41b5-8d4c-0a27c23426b1",
   "metadata": {},
   "outputs": [
    {
     "name": "stdout",
     "output_type": "stream",
     "text": [
      "Program to calculate an area of rectangle\n"
     ]
    },
    {
     "name": "stdin",
     "output_type": "stream",
     "text": [
      "Enter lenght 11.2\n",
      "Enter width 22.2\n"
     ]
    },
    {
     "name": "stdout",
     "output_type": "stream",
     "text": [
      "Area of the rectangle having lenght 11.2 and width 22.2 is:  248.64\n"
     ]
    }
   ],
   "source": [
    "'''2. Create a program that calculates the area of a rectangle. Take the\n",
    "length and width as inputs from the user and store them in variables.\n",
    "Calculate and display the area.'''\n",
    "print('Program to calculate an area of rectangle')\n",
    "# taking input from user for length and width and convert into integer\n",
    "length = float(input('Enter lenght'))\n",
    "width = float(input('Enter width'))\n",
    "# calculating area and round of\n",
    "area = round(length*width,2)\n",
    "# print calculated area\n",
    "print('Area of the rectangle having lenght', length, 'and width', width, 'is: ', area)"
   ]
  },
  {
   "cell_type": "code",
   "execution_count": 41,
   "id": "0e65068a-91e3-420b-9b2f-ccd18501ea5a",
   "metadata": {},
   "outputs": [
    {
     "name": "stdout",
     "output_type": "stream",
     "text": [
      "Program to convert temperature from Celsius to Fahrenheit\n"
     ]
    },
    {
     "name": "stdin",
     "output_type": "stream",
     "text": [
      "Enter temperature in celsius 40.2\n"
     ]
    },
    {
     "name": "stdout",
     "output_type": "stream",
     "text": [
      "Temperature in celsius is:  40.2 and temperature in fahrenheit is:  104.36\n"
     ]
    }
   ],
   "source": [
    "'''3. Write a Python program that converts temperature from Celsius to\n",
    "Fahrenheit. Take the temperature in Celsius as input, store it in a\n",
    "variable, convert it to Fahrenheit, and display the result.'''\n",
    "print('Program to convert temperature from Celsius to Fahrenheit')\n",
    "# taking input from user for temperature in censius\n",
    "Cels = float(input('Enter temperature in celsius'))\n",
    "# Calculate Temperature in fahrenheit and round off\n",
    "far=round(Cels*1.8+32,2)\n",
    "print('Temperature in celsius is: ', Cels, 'and temperature in fahrenheit is: ', far)"
   ]
  },
  {
   "cell_type": "code",
   "execution_count": 44,
   "id": "31b65a8d-3271-4cf5-875d-a1552d1ed506",
   "metadata": {},
   "outputs": [
    {
     "name": "stdout",
     "output_type": "stream",
     "text": [
      "Program to print string length\n"
     ]
    },
    {
     "name": "stdin",
     "output_type": "stream",
     "text": [
      "Enter the string shubham jaiswal\n"
     ]
    },
    {
     "name": "stdout",
     "output_type": "stream",
     "text": [
      "Length of string ' shubham jaiswal ' is:  15\n"
     ]
    }
   ],
   "source": [
    "'''1. Write a Python program that takes a string as input and prints the\n",
    "length of the string.'''\n",
    "print('Program to print string length')\n",
    "# Taking input from user\n",
    "string1 = input('Enter the string')\n",
    "# calculate and print lenght of string\n",
    "print('Length of string \\'',string1, '\\' is: ',len(string1))"
   ]
  },
  {
   "cell_type": "code",
   "execution_count": 18,
   "id": "82fc4a54-da25-42e2-acdf-c04cd5370c8d",
   "metadata": {},
   "outputs": [
    {
     "name": "stdout",
     "output_type": "stream",
     "text": [
      "Program to count number of vovels in sentence\n"
     ]
    },
    {
     "name": "stdin",
     "output_type": "stream",
     "text": [
      "Enter the sentence: shubham jaiswal done the program to find vovels\n"
     ]
    },
    {
     "name": "stdout",
     "output_type": "stream",
     "text": [
      "Total vowels are :14\n"
     ]
    }
   ],
   "source": [
    "'''2. Create a program that takes a sentence from the user and counts the\n",
    "number of vowels (a, e, i, o, u) in the string'''\n",
    "print('Program to count number of vovels in sentence')\n",
    "# Taking input from user\n",
    "sentence = input('Enter the sentence:')\n",
    "count = 0\n",
    "#make sentence in lowercase\n",
    "sentence = sentence.lower()\n",
    "# iterate char by char to match with (a,e,i,o,u)\n",
    "for i in sentence:\n",
    "    if i == 'a' or i == 'e' or i == 'i' or i == 'o' or i == 'u':\n",
    "        #if match\n",
    "        count+=1\n",
    "#check for vowels\n",
    "if count == 0:\n",
    "    print('No vowels found in sentence')\n",
    "else:\n",
    "    print('Total vowels are :' + str(count))"
   ]
  },
  {
   "cell_type": "code",
   "execution_count": 27,
   "id": "8a225e5c-0304-4e0c-bd05-9fa3238b53d1",
   "metadata": {},
   "outputs": [
    {
     "name": "stdout",
     "output_type": "stream",
     "text": [
      "Program to reverse string by string slicing\n",
      "Reverse of string shubham is  mahbuhs\n"
     ]
    }
   ],
   "source": [
    "'''3. Given a string, reverse the order of characters using string slicing and\n",
    "print the reversed string'''\n",
    "print('Program to reverse string by string slicing')\n",
    "# declaring string\n",
    "string1 = 'shubham'\n",
    "# reverse using string slicing\n",
    "# string[start index:upper index+1:jump]\n",
    "print('Reverse of string', string1,'is ',string1[::-1])"
   ]
  },
  {
   "cell_type": "code",
   "execution_count": 45,
   "id": "9a8b7ab6-0a9c-4535-998a-efc82bbbed1d",
   "metadata": {},
   "outputs": [
    {
     "name": "stdout",
     "output_type": "stream",
     "text": [
      "Program to check palindrome\n"
     ]
    },
    {
     "name": "stdin",
     "output_type": "stream",
     "text": [
      "Enter the string: madam\n"
     ]
    },
    {
     "name": "stdout",
     "output_type": "stream",
     "text": [
      "Given string is palindrome\n"
     ]
    }
   ],
   "source": [
    "'''4. Write a program that takes a string as input and checks if it is a\n",
    "palindrome (reads the same forwards and backwards)'''\n",
    "print('Program to check palindrome')\n",
    "# Taking input from user\n",
    "string1 = input('Enter the string:')\n",
    "#make string in lowercase\n",
    "string1 = string1.lower() \n",
    "if string1 == string1[::-1]:\n",
    "    print('Given string is palindrome')\n",
    "else:\n",
    "    print('Given string is not palindrome')"
   ]
  },
  {
   "cell_type": "code",
   "execution_count": 35,
   "id": "b6a8d20b-0594-4a6e-96be-0a5898d33eda",
   "metadata": {},
   "outputs": [
    {
     "name": "stdout",
     "output_type": "stream",
     "text": [
      "Program to remove all the spaces from string\n"
     ]
    },
    {
     "name": "stdin",
     "output_type": "stream",
     "text": [
      "Enter the string: s h u b h  a    m\n"
     ]
    },
    {
     "name": "stdout",
     "output_type": "stream",
     "text": [
      "String without spaces is:  shubham\n"
     ]
    }
   ],
   "source": [
    "'''5. Create a program that takes a string as input and removes all the\n",
    "spaces from it. Print the modified string without spaces'''\n",
    "print('Program to remove all the spaces from string')\n",
    "# Taking input from user\n",
    "string1 = input('Enter the string:')\n",
    "print('String without spaces is: ',string1.replace(' ',''))"
   ]
  },
  {
   "cell_type": "code",
   "execution_count": null,
   "id": "8af62b05-887a-43f3-8340-8aa8ac85634c",
   "metadata": {},
   "outputs": [],
   "source": []
  }
 ],
 "metadata": {
  "kernelspec": {
   "display_name": "Python 3 (ipykernel)",
   "language": "python",
   "name": "python3"
  },
  "language_info": {
   "codemirror_mode": {
    "name": "ipython",
    "version": 3
   },
   "file_extension": ".py",
   "mimetype": "text/x-python",
   "name": "python",
   "nbconvert_exporter": "python",
   "pygments_lexer": "ipython3",
   "version": "3.10.8"
  }
 },
 "nbformat": 4,
 "nbformat_minor": 5
}
